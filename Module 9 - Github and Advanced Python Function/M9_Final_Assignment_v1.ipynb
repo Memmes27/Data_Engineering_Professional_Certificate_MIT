{
 "cells": [
  {
   "cell_type": "code",
   "execution_count": 1,
   "metadata": {},
   "outputs": [
    {
     "name": "stdout",
     "output_type": "stream",
     "text": [
      "<class 'type'>\n",
      "__main__\n"
     ]
    }
   ],
   "source": [
    "class Student:\n",
    "    pass\n",
    "ans1a = type(Student)\n",
    "ans1b = Student.__module__\n",
    "\n",
    "print(ans1a)\n",
    "print(ans1b)"
   ]
  },
  {
   "cell_type": "code",
   "execution_count": 2,
   "metadata": {},
   "outputs": [
    {
     "name": "stdout",
     "output_type": "stream",
     "text": [
      "John Smith\n"
     ]
    }
   ],
   "source": [
    "class Student:\n",
    "    student_name = 'John Smith'\n",
    "    grade = 86\n",
    "\n",
    "ans2a = Student.student_name\n",
    "\n",
    "print(ans2a)"
   ]
  },
  {
   "cell_type": "code",
   "execution_count": 3,
   "metadata": {},
   "outputs": [
    {
     "name": "stdout",
     "output_type": "stream",
     "text": [
      "John Smith\n",
      "86\n",
      "Angela Brooks\n",
      "87\n"
     ]
    }
   ],
   "source": [
    "class Student:\n",
    "    student_name = 'John Smith'\n",
    "    grade = 86\n",
    "\n",
    "print(f\"{Student.student_name}\\n{Student.grade}\")\n",
    "\n",
    "ans3a = setattr(Student, 'student_name', 'Angela Brooks')\n",
    "ans3b = setattr(Student, 'grade', 87)\n",
    "\n",
    "print(f\"{Student.student_name}\\n{Student.grade}\")"
   ]
  },
  {
   "cell_type": "code",
   "execution_count": 4,
   "metadata": {},
   "outputs": [
    {
     "name": "stdout",
     "output_type": "stream",
     "text": [
      "Francis Green\n",
      "475895\n",
      "56\n",
      "francisgreen@mit.edu\n"
     ]
    }
   ],
   "source": [
    "class Student:\n",
    "    def __init__(self, student_name, student_id,grade, email):\n",
    "        self.student_name = student_name\n",
    "        self.student_id = student_id\n",
    "        self.grade = grade\n",
    "        self.email = email\n",
    "        \n",
    "ans4 = Student('Francis Green', 475895, 56, 'francisgreen@mit.edu')\n",
    "print(f\"{ans4.student_name}\\n{ans4.student_id}\\n{ans4.grade}\\n{ans4.email}\")"
   ]
  },
  {
   "cell_type": "code",
   "execution_count": 5,
   "metadata": {},
   "outputs": [
    {
     "name": "stdout",
     "output_type": "stream",
     "text": [
      "67.2\n"
     ]
    }
   ],
   "source": [
    "class Student:\n",
    "    def __init__(self, student_name, student_id,grade, email):\n",
    "        self.student_name = student_name\n",
    "        self.student_id = student_id\n",
    "        self.grade = grade\n",
    "        self.email = email\n",
    "    \n",
    "    def curved_average(self):\n",
    "        updated_grade = self.grade * 1.2\n",
    "        return updated_grade\n",
    "    \n",
    "ans4 = Student('Francis Green', 475895, 56, 'francisgreen@mit.edu')\n",
    "ans5 = ans4.curved_average()\n",
    "\n",
    "print(ans5)"
   ]
  },
  {
   "cell_type": "code",
   "execution_count": 6,
   "metadata": {},
   "outputs": [
    {
     "name": "stdout",
     "output_type": "stream",
     "text": [
      "25\n",
      "22\n"
     ]
    }
   ],
   "source": [
    "def my_sum(*args):\n",
    "    result = 0\n",
    "    for x in args:\n",
    "        result += x\n",
    "    return result\n",
    "\n",
    "ans6a = my_sum(1,3,5,6,10)\n",
    "ans6b = my_sum(10,4,6,2)\n",
    "\n",
    "print(f\"{ans6a}\\n{ans6b}\")"
   ]
  },
  {
   "cell_type": "code",
   "execution_count": 7,
   "metadata": {},
   "outputs": [
    {
     "name": "stdout",
     "output_type": "stream",
     "text": [
      "79.25\n",
      "80.25\n"
     ]
    }
   ],
   "source": [
    "def my_average(*args):\n",
    "    count = 0\n",
    "    total = 0\n",
    "    for x in args:\n",
    "        count += 1\n",
    "        total += x\n",
    "    result = total/count\n",
    "    return result\n",
    "\n",
    "#def my_average(*args):\n",
    "#    return sum(args)/len(args)\n",
    "\n",
    "ans7a = my_average(78,82,91,66)\n",
    "ans7b = my_average(56,89, 76, 100)\n",
    "\n",
    "print(f\"{ans7a}\\n{ans7b}\")"
   ]
  },
  {
   "cell_type": "code",
   "execution_count": 16,
   "metadata": {},
   "outputs": [
    {
     "name": "stdout",
     "output_type": "stream",
     "text": [
      "Profession is Data Scientist\n",
      "Phone_Number is 4659874982\n"
     ]
    }
   ],
   "source": [
    "def print_last_info(**data):\n",
    "\n",
    "    for key, value in data.items():\n",
    "        string = (\"{} is {}\".format(key,value))\n",
    "    return string\n",
    "\n",
    "ans8a = print_last_info(Name= \"Rosie\", Age= 33, Profession= \"Data Scientist\")\n",
    "ans8b = print_last_info(Name= \"Kyle\", Age= 28, Profession= \"Data Engineer\", Phone_Number=4659874982)\n",
    "print(f\"{ans8a}\\n{ans8b}\")\n"
   ]
  },
  {
   "cell_type": "code",
   "execution_count": 9,
   "metadata": {},
   "outputs": [
    {
     "name": "stdout",
     "output_type": "stream",
     "text": [
      "Title: Inception\n",
      "Title: Inception\n"
     ]
    }
   ],
   "source": [
    "movie = {'Title':'Inception',\n",
    "       'Director':'Nolan',\n",
    "       'Year': 2010}\n",
    "\n",
    "def print_movie(**kwargs):\n",
    "    return f\"Title: {kwargs['Title']}\"\n",
    "\n",
    "ans9a = print_movie(**movie)\n",
    "ans9b = print_movie(**movie, Music='Zimmer')\n",
    "print(f\"{ans9a}\\n{ans9b}\")"
   ]
  },
  {
   "cell_type": "code",
   "execution_count": 10,
   "metadata": {},
   "outputs": [
    {
     "name": "stdout",
     "output_type": "stream",
     "text": [
      "8\n"
     ]
    }
   ],
   "source": [
    "def plus_one(x):\n",
    "    if not isinstance(x, int):\n",
    "        raise TypeError(\"Input must be an integer\")\n",
    "    def add_one(x):\n",
    "        return x+1\n",
    "    return add_one(x)\n",
    "\n",
    "ans10 = plus_one(7)\n",
    "\n",
    "print(ans10)"
   ]
  },
  {
   "cell_type": "code",
   "execution_count": 13,
   "metadata": {},
   "outputs": [
    {
     "name": "stdout",
     "output_type": "stream",
     "text": [
      "HELLO THERE!\n"
     ]
    }
   ],
   "source": [
    "def uppercase_decorator(f):\n",
    "    def wrapper():\n",
    "        original_result = f()\n",
    "        return original_result.upper()\n",
    "    return wrapper\n",
    "    \n",
    "@uppercase_decorator\n",
    "def say_hello():\n",
    "    return 'hello there!'\n",
    "\n",
    "ans11 = say_hello()\n",
    "print(ans11)"
   ]
  },
  {
   "cell_type": "code",
   "execution_count": 14,
   "metadata": {},
   "outputs": [
    {
     "name": "stdout",
     "output_type": "stream",
     "text": [
      "My arguments are: Paris, New York\n",
      "Cities I love are Paris and New York\n"
     ]
    }
   ],
   "source": [
    "def decorator_with_arguments(f):\n",
    "    def wrapper_accepting_arguments(arg1, arg2):\n",
    "        print(\"My arguments are: {0}, {1}\".format(arg1, arg2))\n",
    "        return f(arg1, arg2)\n",
    "    return wrapper_accepting_arguments\n",
    "\n",
    "@decorator_with_arguments\n",
    "def cities(city_one, city_two):\n",
    "    print(\"Cities I love are {0} and {1}\".format(city_one, city_two))\n",
    "\n",
    "ans12 = cities('Paris', 'New York')"
   ]
  },
  {
   "cell_type": "code",
   "execution_count": 18,
   "metadata": {},
   "outputs": [
    {
     "name": "stdout",
     "output_type": "stream",
     "text": [
      "The positional arguments are (1, 2, 3)\n"
     ]
    }
   ],
   "source": [
    "def decorator_passing_arbitrary_arguments(f):\n",
    "    def wrapper_accepting_arbitrary_arguments(*args):\n",
    "        print('The positional arguments are', args)\n",
    "        f(*args)\n",
    "    return wrapper_accepting_arbitrary_arguments\n",
    "\n",
    "@decorator_passing_arbitrary_arguments\n",
    "def function_with_arguments(a, b, c):\n",
    "    return a, b, c\n",
    "\n",
    "ans13 = function_with_arguments(1,2,3)"
   ]
  },
  {
   "cell_type": "code",
   "execution_count": null,
   "metadata": {},
   "outputs": [],
   "source": []
  }
 ],
 "metadata": {
  "kernelspec": {
   "display_name": "base",
   "language": "python",
   "name": "python3"
  },
  "language_info": {
   "codemirror_mode": {
    "name": "ipython",
    "version": 3
   },
   "file_extension": ".py",
   "mimetype": "text/x-python",
   "name": "python",
   "nbconvert_exporter": "python",
   "pygments_lexer": "ipython3",
   "version": "3.8.20"
  }
 },
 "nbformat": 4,
 "nbformat_minor": 2
}
