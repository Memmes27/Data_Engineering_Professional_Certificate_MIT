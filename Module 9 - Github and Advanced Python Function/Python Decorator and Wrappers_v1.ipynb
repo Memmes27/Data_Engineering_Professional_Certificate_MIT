{
 "cells": [
  {
   "cell_type": "code",
   "execution_count": 13,
   "metadata": {},
   "outputs": [
    {
     "name": "stdout",
     "output_type": "stream",
     "text": [
      "<function assignFunctionToVariableExample at 0x000002BFA2DCFB80>\n"
     ]
    }
   ],
   "source": [
    "def assignFunctionToVariableExample():\n",
    "    return 'FunctionToVariable'\n",
    "\n",
    "ans1 = assignFunctionToVariableExample\n",
    "print(ans1)"
   ]
  },
  {
   "cell_type": "code",
   "execution_count": 14,
   "metadata": {},
   "outputs": [
    {
     "name": "stdout",
     "output_type": "stream",
     "text": [
      "4.0\n",
      "64\n"
     ]
    }
   ],
   "source": [
    "def sqrt(num):\n",
    "    return num**0.5\n",
    "\n",
    "def square(num):\n",
    "    return num**2\n",
    "\n",
    "def do_math(num, func):\n",
    "    return func(num)\n",
    "\n",
    "ans2a = do_math(16,sqrt)\n",
    "print(ans2a)\n",
    "ans2b = do_math(8, square)\n",
    "print(ans2b)"
   ]
  },
  {
   "cell_type": "code",
   "execution_count": 15,
   "metadata": {},
   "outputs": [
    {
     "name": "stdout",
     "output_type": "stream",
     "text": [
      "hello world!\n"
     ]
    }
   ],
   "source": [
    "def shout_hello():\n",
    "    greeting = \"hello world!\"\n",
    "    return greeting.upper()\n",
    "\n",
    "def whisper_hello(f):\n",
    "    return f().lower()\n",
    "\n",
    "ans2a = whisper_hello(shout_hello)\n",
    "print(ans2a)"
   ]
  },
  {
   "cell_type": "code",
   "execution_count": 16,
   "metadata": {},
   "outputs": [
    {
     "name": "stdout",
     "output_type": "stream",
     "text": [
      "hello general grievous!\n",
      "hello count dooku!\n"
     ]
    }
   ],
   "source": [
    "def shout_hello(name):\n",
    "   greeting = \"hello \" + name + \"!\"\n",
    "   return greeting.upper()\n",
    "\n",
    "\n",
    "def whisper_hello(func,name):\n",
    "    return func(name).lower()\n",
    "\n",
    "ans4a = whisper_hello(shout_hello,'General Grievous')\n",
    "print(ans4a)\n",
    "ans4b = whisper_hello(shout_hello, 'Count Dooku')\n",
    "print(ans4b)"
   ]
  },
  {
   "cell_type": "code",
   "execution_count": 18,
   "metadata": {},
   "outputs": [
    {
     "name": "stdout",
     "output_type": "stream",
     "text": [
      "Added decoration:55\n",
      "Added decoration:270\n"
     ]
    }
   ],
   "source": [
    "def add_values(*args):\n",
    "    result = 0\n",
    "    for val in args:\n",
    "        result = result + val\n",
    "    return result\n",
    "\n",
    "def my_add_values(func):\n",
    "    result = \"Added decoration:\" + str(func)\n",
    "    return result\n",
    "\n",
    "ans5a = my_add_values(add_values(1,2,3,4,5,6,7,8,9,10))\n",
    "ans5b = my_add_values(add_values(40,60,70,100))\n",
    "print(f\"{ans5a}\\n{ans5b}\")"
   ]
  },
  {
   "cell_type": "code",
   "execution_count": 19,
   "metadata": {},
   "outputs": [
    {
     "name": "stdout",
     "output_type": "stream",
     "text": [
      "25.0\n",
      "50.0\n"
     ]
    }
   ],
   "source": [
    "def calculate_percentage(num, *args):\n",
    "    total = 0\n",
    "    for num in args:\n",
    "        total += num\n",
    "    return num/total\n",
    "\n",
    "def format_percentage(func):\n",
    "    result = func * 100\n",
    "    return result\n",
    "\n",
    "\n",
    "args1 = 100,200,100\n",
    "num1 = 100\n",
    "ans6a = format_percentage(calculate_percentage(num1, *args1))\n",
    "args2 = 10,10,10,10,10,50\n",
    "num2 = 60\n",
    "ans6b = format_percentage(calculate_percentage(num2, *args2))\n",
    "print(f\"{ans6a}\\n{ans6b}\")"
   ]
  },
  {
   "cell_type": "code",
   "execution_count": 21,
   "metadata": {},
   "outputs": [
    {
     "name": "stdout",
     "output_type": "stream",
     "text": [
      "Added decoration - function defined inside function: 61\n",
      "Added decoration - function defined inside function: 284\n"
     ]
    }
   ],
   "source": [
    "def add_values(*args,**kwargs):\n",
    "    result = 0\n",
    "    for v in args:\n",
    "        result += v\n",
    "    for k, v in kwargs.items():\n",
    "        result += v\n",
    "    return result\n",
    "\n",
    "def my_deco(func):\n",
    "    def wrapper(*args, **kwargs):\n",
    "        result = func(*args, **kwargs)\n",
    "        return f'Added decoration - function defined inside function: {result}'\n",
    "    return wrapper\n",
    "\n",
    "add = my_deco(add_values)\n",
    "\n",
    "args1 = (1,2,3,4,5,6,7,8,9,10)\n",
    "kwargs1 = {\"arg1\":1, \"arg2\":2, \"arg3\":3}\n",
    "ans7a = add(*args1, **kwargs1)\n",
    "args2 = (40,60,70,100)\n",
    "kwargs2 = {\"arg1\":4, \"arg2\":10}\n",
    "ans7b = add(*args2, **kwargs2)\n",
    "print(f\"{ans7a}\\n{ans7b}\")"
   ]
  },
  {
   "cell_type": "code",
   "execution_count": 22,
   "metadata": {},
   "outputs": [
    {
     "name": "stdout",
     "output_type": "stream",
     "text": [
      "48000\n",
      "18100\n"
     ]
    }
   ],
   "source": [
    "def add_values(*args,**kwargs):\n",
    "    result = 0\n",
    "    for v in args:\n",
    "        result += v\n",
    "    for k, v in kwargs.items():\n",
    "        result += v\n",
    "    return result\n",
    "\n",
    "def my_new_add(func):\n",
    "    def wrapper(*args, **kwargs):\n",
    "        if 'Federal' in kwargs:\n",
    "            federal_value = kwargs.pop('Federal')\n",
    "        return func(*args, **kwargs)\n",
    "    return wrapper\n",
    "\n",
    "add = my_new_add(add_values)\n",
    "\n",
    "# YOUR CODE HERE\n",
    "ans8a = add(1000,35000,5000, Housing=5000, Allowances=2000, Federal=3500)\n",
    "print(ans8a)\n",
    "ans8b = add(4000,6000,7000,1000,Housing=100)\n",
    "print(ans8b)"
   ]
  },
  {
   "cell_type": "code",
   "execution_count": 23,
   "metadata": {},
   "outputs": [
    {
     "name": "stdout",
     "output_type": "stream",
     "text": [
      "4 + 10 = 14\n",
      "200 + 500 = 700\n"
     ]
    }
   ],
   "source": [
    "def verbose_sum(func):\n",
    "    def inner(a,b):\n",
    "        return str(a) + \" + \" + str(b) + \" = \" + str(func(a,b))\n",
    "    return inner\n",
    "\n",
    "@verbose_sum\n",
    "def sum(a,b):\n",
    "    return a + b\n",
    "\n",
    "ans9a = sum(4,10)\n",
    "ans9b = sum(200,500)\n",
    "print(ans9a)\n",
    "print(ans9b)"
   ]
  },
  {
   "cell_type": "code",
   "execution_count": 25,
   "metadata": {},
   "outputs": [
    {
     "name": "stdout",
     "output_type": "stream",
     "text": [
      "Added decoration: 61\n",
      "Added decoration: 284\n"
     ]
    }
   ],
   "source": [
    "def my_add_values(func):\n",
    "    def wrapper(*args, **kwargs):\n",
    "        result = func(*args, **kwargs)\n",
    "        return f'Added decoration: {result}'\n",
    "    return wrapper\n",
    "\n",
    "@my_add_values\n",
    "def add_values(*args,**kwargs):\n",
    "    result = 0\n",
    "    for v in args:\n",
    "        result += v\n",
    "    for k, v in kwargs.items():\n",
    "        result += v\n",
    "    return result\n",
    "\n",
    "\n",
    "#add = my_new_add(add_values)\n",
    "\n",
    "args1 = (1,2,3,4,5,6,7,8,9,10)\n",
    "kwargs1 = {\"arg1\":1, \"arg2\":2, \"arg3\":3}\n",
    "ans10a = add_values(*args1, **kwargs1)\n",
    "args2 = (40,60,70,100)\n",
    "kwargs2 = {\"arg1\":4, \"arg2\":10}\n",
    "ans10b = add_values(*args2, **kwargs2)\n",
    "print(ans10a)\n",
    "print(ans10b)\n"
   ]
  },
  {
   "cell_type": "code",
   "execution_count": null,
   "metadata": {},
   "outputs": [],
   "source": []
  }
 ],
 "metadata": {
  "kernelspec": {
   "display_name": "base",
   "language": "python",
   "name": "python3"
  },
  "language_info": {
   "codemirror_mode": {
    "name": "ipython",
    "version": 3
   },
   "file_extension": ".py",
   "mimetype": "text/x-python",
   "name": "python",
   "nbconvert_exporter": "python",
   "pygments_lexer": "ipython3",
   "version": "3.8.20"
  }
 },
 "nbformat": 4,
 "nbformat_minor": 2
}
