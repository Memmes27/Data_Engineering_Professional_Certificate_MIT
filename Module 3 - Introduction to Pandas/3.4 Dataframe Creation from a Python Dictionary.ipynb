{
 "cells": [
  {
   "cell_type": "code",
   "execution_count": 1,
   "metadata": {},
   "outputs": [],
   "source": [
    "import pandas as pd"
   ]
  },
  {
   "cell_type": "code",
   "execution_count": 2,
   "metadata": {},
   "outputs": [
    {
     "data": {
      "text/plain": [
       "'john@mit.edu'"
      ]
     },
     "execution_count": 2,
     "metadata": {},
     "output_type": "execute_result"
    }
   ],
   "source": [
    "contact = {'Name':'john', 'Email':'john@mit.edu', 'Course':1}\n",
    "contact['Email']"
   ]
  },
  {
   "cell_type": "code",
   "execution_count": 5,
   "metadata": {},
   "outputs": [
    {
     "data": {
      "text/plain": [
       "['john@mit.edu', 'anne@mit.edu', 'marry@mit.edu']"
      ]
     },
     "execution_count": 5,
     "metadata": {},
     "output_type": "execute_result"
    }
   ],
   "source": [
    "contacts = {'Name':['john', 'anne', 'mary'],\n",
    "            'Email':['john@mit.edu', 'anne@mit.edu', 'marry@mit.edu'],\n",
    "            'Course':[1,3,6]}\n",
    "contacts['Email']"
   ]
  },
  {
   "cell_type": "code",
   "execution_count": 9,
   "metadata": {},
   "outputs": [
    {
     "data": {
      "text/plain": [
       "0     john@mit.edu\n",
       "1     anne@mit.edu\n",
       "2    marry@mit.edu\n",
       "Name: Email, dtype: object"
      ]
     },
     "execution_count": 9,
     "metadata": {},
     "output_type": "execute_result"
    }
   ],
   "source": [
    "df = pd.DataFrame(data = contacts)\n",
    "df['Email']"
   ]
  },
  {
   "cell_type": "code",
   "execution_count": 12,
   "metadata": {},
   "outputs": [
    {
     "name": "stdout",
     "output_type": "stream",
     "text": [
      "<class 'pandas.core.frame.DataFrame'>\n",
      "   Name          Email  Course\n",
      "0  john   john@mit.edu       1\n",
      "1  anne   anne@mit.edu       3\n",
      "2  mary  marry@mit.edu       6\n"
     ]
    }
   ],
   "source": [
    "names = ['john', 'anne', 'mary']\n",
    "emails = ['john@mit.edu', 'anne@mit.edu', 'marry@mit.edu']\n",
    "courses = [1,3,6]\n",
    "contacts = {'Name': names, 'Email':emails, 'Course': courses}\n",
    "df = pd.DataFrame(data = contacts)\n",
    "print(type(df))\n",
    "print(df)"
   ]
  },
  {
   "cell_type": "code",
   "execution_count": 14,
   "metadata": {},
   "outputs": [
    {
     "name": "stdout",
     "output_type": "stream",
     "text": [
      "<class 'pandas.core.frame.DataFrame'>\n",
      "   Name          Email  Course\n",
      "1  john   john@mit.edu       1\n",
      "2  anne   anne@mit.edu       3\n",
      "3  mary  marry@mit.edu       6\n"
     ]
    }
   ],
   "source": [
    "df = pd.DataFrame(index = range(1,4))\n",
    "df['Name'] = names\n",
    "df['Email'] = emails\n",
    "df['Course'] = courses\n",
    "print(type(df))\n",
    "print(df)"
   ]
  },
  {
   "cell_type": "code",
   "execution_count": null,
   "metadata": {},
   "outputs": [],
   "source": []
  }
 ],
 "metadata": {
  "kernelspec": {
   "display_name": "Python 3",
   "language": "python",
   "name": "python3"
  },
  "language_info": {
   "codemirror_mode": {
    "name": "ipython",
    "version": 3
   },
   "file_extension": ".py",
   "mimetype": "text/x-python",
   "name": "python",
   "nbconvert_exporter": "python",
   "pygments_lexer": "ipython3",
   "version": "3.8.5"
  }
 },
 "nbformat": 4,
 "nbformat_minor": 4
}
