{
 "cells": [
  {
   "cell_type": "markdown",
   "metadata": {
    "deletable": false,
    "editable": false,
    "nbgrader": {
     "checksum": "d1850f9277439cfc990fadac99df0efa",
     "grade": false,
     "grade_id": "cell-89f0444fd8e26a8a",
     "locked": true,
     "schema_version": 1,
     "solution": false
    }
   },
   "source": [
    "# Codio Coding Activity 3.3: Time and Date Functionality in Pandas\n",
    "\n",
    "### Learning Outcome Addressed\n",
    "\n",
    "- 6. Explain time and date functionality in pandas.\n",
    "\n",
    "\n",
    "## Index:\n",
    "\n",
    "- [Question 1](#Question-1)\n",
    "- [Question 2](#Question-2)\n",
    "- [Question 3](#Question-3)\n",
    "- [Question 4](#Question-4)\n",
    "- [Question 5](#Question-5)"
   ]
  },
  {
   "cell_type": "markdown",
   "metadata": {
    "deletable": false,
    "editable": false,
    "nbgrader": {
     "checksum": "389eb81ce235a0fddc47cff32fa44437",
     "grade": false,
     "grade_id": "cell-523f2fa056368a84",
     "locked": true,
     "schema_version": 1,
     "solution": false
    }
   },
   "source": [
    "### Importing Pandas\n",
    "\n",
    "Before you begin this activity, you need to import the *pandas library*.\n",
    "\n",
    "Run the code cell below:"
   ]
  },
  {
   "cell_type": "code",
   "execution_count": 2,
   "metadata": {},
   "outputs": [],
   "source": [
    "import pandas as pd"
   ]
  },
  {
   "cell_type": "markdown",
   "metadata": {
    "deletable": false,
    "editable": false,
    "nbgrader": {
     "checksum": "42673e50d732a4880513ae757742a29c",
     "grade": false,
     "grade_id": "cell-c992a7fba50ed1a6",
     "locked": true,
     "schema_version": 1,
     "solution": false
    }
   },
   "source": [
    "### Question 1\n",
    "*3 points*\n",
    "\n",
    "Define a *series, `ans1a,`* with elements *`first`, `second`, `third`,* and *`fourth`*.\n",
    "\n",
    "Modify the *index* of the *series* so that each element contains a date, starting from October 31, 1990."
   ]
  },
  {
   "cell_type": "code",
   "execution_count": 3,
   "metadata": {
    "deletable": false,
    "nbgrader": {
     "checksum": "8b4adbb125375f55581909c714210c3b",
     "grade": false,
     "grade_id": "cell-c0b724d614efa76e",
     "locked": false,
     "schema_version": 1,
     "solution": true
    }
   },
   "outputs": [
    {
     "data": {
      "text/plain": [
       "1990-10-31     first\n",
       "1990-11-01    second\n",
       "1990-11-02     third\n",
       "1990-11-03    fourth\n",
       "Freq: D, dtype: object"
      ]
     },
     "execution_count": 3,
     "metadata": {},
     "output_type": "execute_result"
    }
   ],
   "source": [
    "### GRADED\n",
    "\n",
    "\n",
    "### YOUR SOLUTION HERE\n",
    "ans1a = pd.Series(['first', 'second', 'third', 'fourth'])\n",
    "ans1a.index = pd.date_range(start= '10/31/1990', periods=4)\n",
    "# YOUR CODE HERE\n",
    "ans1a"
   ]
  },
  {
   "cell_type": "code",
   "execution_count": null,
   "metadata": {
    "deletable": false,
    "editable": false,
    "nbgrader": {
     "checksum": "956bd003fe3c496bca8d1fbce1711884",
     "grade": true,
     "grade_id": "cell-71f66605eda1b6de",
     "locked": true,
     "points": 3,
     "schema_version": 1,
     "solution": false
    }
   },
   "outputs": [],
   "source": []
  },
  {
   "cell_type": "markdown",
   "metadata": {
    "deletable": false,
    "editable": false,
    "nbgrader": {
     "checksum": "ad75a11d0243ad0914bd4d0445d0911e",
     "grade": false,
     "grade_id": "cell-6500150d724cde17",
     "locked": true,
     "schema_version": 1,
     "solution": false
    }
   },
   "source": [
    "### Question 2\n",
    "*3 points*\n",
    "\n",
    "Define a *series, `ans2a,`* with elements *`fifth`* and *`sixth`*.\n",
    "\n",
    "Use the *function* [append](https://pandas.pydata.org/docs/reference/api/pandas.Series.append.html) to concatenate *`ans1a`* and *`ans2a.`* Assign this new *series* to *`ans2b`*.\n"
   ]
  },
  {
   "cell_type": "code",
   "execution_count": 4,
   "metadata": {
    "deletable": false,
    "nbgrader": {
     "checksum": "b01006cae4a46078cb9aebc9c1336308",
     "grade": false,
     "grade_id": "cell-a5558a923407e4b2",
     "locked": false,
     "schema_version": 1,
     "solution": true
    }
   },
   "outputs": [
    {
     "data": {
      "text/plain": [
       "1990-10-31 00:00:00     first\n",
       "1990-11-01 00:00:00    second\n",
       "1990-11-02 00:00:00     third\n",
       "1990-11-03 00:00:00    fourth\n",
       "0                       fifth\n",
       "1                       sixth\n",
       "dtype: object"
      ]
     },
     "execution_count": 4,
     "metadata": {},
     "output_type": "execute_result"
    }
   ],
   "source": [
    "### GRADED\n",
    "\n",
    "\n",
    "### YOUR SOLUTION HERE\n",
    "ans2a = pd.Series(['fifth', 'sixth'])\n",
    "ans2b = ans1a.append(ans2a)\n",
    "\n",
    "# YOUR CODE HERE\n",
    "ans2b"
   ]
  },
  {
   "cell_type": "code",
   "execution_count": null,
   "metadata": {
    "deletable": false,
    "editable": false,
    "nbgrader": {
     "checksum": "c19158bb1ae524d1d81816d45096e80f",
     "grade": true,
     "grade_id": "cell-e3350d2f352b8e97",
     "locked": true,
     "points": 3,
     "schema_version": 1,
     "solution": false
    }
   },
   "outputs": [],
   "source": []
  },
  {
   "cell_type": "markdown",
   "metadata": {
    "deletable": false,
    "editable": false,
    "nbgrader": {
     "checksum": "166b8bdcf2b1511d6c68dee94c9aca96",
     "grade": false,
     "grade_id": "cell-b95549b001b59d35",
     "locked": true,
     "schema_version": 1,
     "solution": false
    }
   },
   "source": [
    "### Question 3\n",
    "*3 points*\n",
    "\n",
    "Modify the *index* of the *series `ans2b`* so that each element contains a date, spaced monthly, starting from December 31, 2000. Assign the new *series* to *`ans3a.`*\n",
    "\n",
    "**HINT:** The monthly frequency can be set using the argument *`freq`* equal to `M`."
   ]
  },
  {
   "cell_type": "code",
   "execution_count": 5,
   "metadata": {
    "deletable": false,
    "nbgrader": {
     "checksum": "7247ad32bf92d97a757081896f097d9b",
     "grade": false,
     "grade_id": "cell-7e077a3d5428404e",
     "locked": false,
     "schema_version": 1,
     "solution": true
    }
   },
   "outputs": [
    {
     "data": {
      "text/plain": [
       "2000-12-31     first\n",
       "2001-01-31    second\n",
       "2001-02-28     third\n",
       "2001-03-31    fourth\n",
       "2001-04-30     fifth\n",
       "2001-05-31     sixth\n",
       "Freq: M, dtype: object"
      ]
     },
     "execution_count": 5,
     "metadata": {},
     "output_type": "execute_result"
    }
   ],
   "source": [
    "### GRADED\n",
    "\n",
    "\n",
    "### YOUR SOLUTION HERE\n",
    "ans3a = ans2b\n",
    "ans3a.index = pd.date_range(start = '12/31/2000', periods=6, freq='M')\n",
    "\n",
    "# YOUR CODE HERE\n",
    "ans3a"
   ]
  },
  {
   "cell_type": "code",
   "execution_count": null,
   "metadata": {
    "deletable": false,
    "editable": false,
    "nbgrader": {
     "checksum": "2678d1b938b5ba7e24ca10c1df0f6681",
     "grade": true,
     "grade_id": "cell-324cf8920be31b4f",
     "locked": true,
     "points": 3,
     "schema_version": 1,
     "solution": false
    }
   },
   "outputs": [],
   "source": []
  },
  {
   "cell_type": "markdown",
   "metadata": {
    "deletable": false,
    "editable": false,
    "nbgrader": {
     "checksum": "4e9ebb173e7d7b39556441a39ecd3aad",
     "grade": false,
     "grade_id": "cell-587e283615dcf8bb",
     "locked": true,
     "schema_version": 1,
     "solution": false
    }
   },
   "source": [
    "### Question 4\n",
    "*5 points*\n",
    "\n",
    "What day of the week was December 15, 1989? Assign your answer as a *string* to *`ans4b`*.\n",
    "\n",
    "**HINT:** Begin by defining a *pandas series* with integer elements from 1 to 7. For testing purposes, define this list as *`ans4a`*. The variable *`ans4b`* should contain the answer as weekday name, not a number."
   ]
  },
  {
   "cell_type": "code",
   "execution_count": 6,
   "metadata": {
    "deletable": false,
    "nbgrader": {
     "checksum": "9e3ff11bfa3ba2f84e2599effc19869a",
     "grade": false,
     "grade_id": "cell-184e7ec3357e5c06",
     "locked": false,
     "schema_version": 1,
     "solution": true
    }
   },
   "outputs": [],
   "source": [
    "### GRADED\n",
    "\n",
    "\n",
    "### YOUR SOLUTION HERE\n",
    "ans4a = pd.Series([1,2,3,4,5,6,7])\n",
    "ans4a.index = pd.date_range(start='12/15/1989', periods=7)\n",
    "ans4a.index.dayofweek\n",
    "ans4b = 'Friday'\n",
    "\n",
    "# YOUR CODE HERE\n"
   ]
  },
  {
   "cell_type": "code",
   "execution_count": null,
   "metadata": {
    "deletable": false,
    "editable": false,
    "nbgrader": {
     "checksum": "dad03eb056bb09df563623b4dab980e5",
     "grade": true,
     "grade_id": "cell-67e191d9d23a23c6",
     "locked": true,
     "points": 5,
     "schema_version": 1,
     "solution": false
    }
   },
   "outputs": [],
   "source": []
  },
  {
   "cell_type": "markdown",
   "metadata": {
    "deletable": false,
    "editable": false,
    "nbgrader": {
     "checksum": "1ef62d6ac8f38a7ace716dc4cfd8f290",
     "grade": false,
     "grade_id": "cell-ff1f2b624c825016",
     "locked": true,
     "schema_version": 1,
     "solution": false
    }
   },
   "source": [
    "### Question 5\n",
    "*6 points*\n",
    "\n",
    "Use the *method* [is_leap_year](https://pandas.pydata.org/docs/reference/api/pandas.DatetimeIndex.is_leap_year.html) to check whether 1994 was a leap year. Assign your answer to *`ans5b.`*\n",
    "\n",
    "**HINT:** Begin by defining a *pandas* datetime *index* with date elements from January 1, 1993 to December 31, 1994, included. Make sure the elements are spaced yearly by setting the argument *`freq`* equal to *`Y`*. For testing purposes, define this list as *`ans5a`*."
   ]
  },
  {
   "cell_type": "code",
   "execution_count": 8,
   "metadata": {
    "deletable": false,
    "nbgrader": {
     "checksum": "ca207725fc955fa05115d16aeb4797c8",
     "grade": false,
     "grade_id": "cell-3f87159e10994166",
     "locked": false,
     "schema_version": 1,
     "solution": true
    }
   },
   "outputs": [
    {
     "data": {
      "text/plain": [
       "False"
      ]
     },
     "execution_count": 8,
     "metadata": {},
     "output_type": "execute_result"
    }
   ],
   "source": [
    "### GRADED\n",
    "\n",
    "\n",
    "### YOUR SOLUTION HERE\n",
    "ans5a = pd.date_range(start='1993-01-01', end='1995-01-01', freq='Y')\n",
    "\n",
    "# Check if the years in the datetime index are leap years\n",
    "ans5b = ans5a.is_leap_year[1]\n",
    "\n",
    "# YOUR CODE HERE\n",
    "ans5b"
   ]
  },
  {
   "cell_type": "code",
   "execution_count": null,
   "metadata": {
    "deletable": false,
    "editable": false,
    "nbgrader": {
     "checksum": "3962c488585bb758a82549033e46de1f",
     "grade": true,
     "grade_id": "cell-296e832952c592a6",
     "locked": true,
     "points": 6,
     "schema_version": 1,
     "solution": false
    }
   },
   "outputs": [],
   "source": []
  },
  {
   "cell_type": "code",
   "execution_count": null,
   "metadata": {},
   "outputs": [],
   "source": []
  }
 ],
 "metadata": {
  "kernelspec": {
   "display_name": "Python 3",
   "language": "python",
   "name": "python3"
  },
  "language_info": {
   "codemirror_mode": {
    "name": "ipython",
    "version": 3
   },
   "file_extension": ".py",
   "mimetype": "text/x-python",
   "name": "python",
   "nbconvert_exporter": "python",
   "pygments_lexer": "ipython3",
   "version": "3.6.9"
  }
 },
 "nbformat": 4,
 "nbformat_minor": 4
}
