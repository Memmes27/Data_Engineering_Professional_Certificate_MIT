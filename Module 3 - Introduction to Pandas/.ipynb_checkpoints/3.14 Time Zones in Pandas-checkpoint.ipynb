{
 "cells": [
  {
   "cell_type": "code",
   "execution_count": 2,
   "metadata": {},
   "outputs": [],
   "source": [
    "import numpy as np\n",
    "import pandas as pd\n",
    "import datetime as datetime\n",
    "import time"
   ]
  },
  {
   "cell_type": "code",
   "execution_count": 8,
   "metadata": {},
   "outputs": [
    {
     "name": "stdout",
     "output_type": "stream",
     "text": [
      "unix time now: 1726669676.3749685\n"
     ]
    }
   ],
   "source": [
    "#Unix time is independent of Time Zones\n",
    "unixtime = time.time()  #Unix, Epoch time from 1970/1/1\n",
    "print(f\"unix time now: {unixtime}\")"
   ]
  },
  {
   "cell_type": "code",
   "execution_count": 9,
   "metadata": {},
   "outputs": [
    {
     "name": "stdout",
     "output_type": "stream",
     "text": [
      "Local datetime now : 2024-09-18 07:27:58.621675\n"
     ]
    }
   ],
   "source": [
    "#Create a datetime now or from unixtime\n",
    "#Notice that datetime knows about your machines \"local time zone\"\n",
    "dt_now = datetime.datetime.now()\n",
    "print(\"Local datetime now :\", dt_now)"
   ]
  },
  {
   "cell_type": "code",
   "execution_count": 10,
   "metadata": {},
   "outputs": [
    {
     "name": "stdout",
     "output_type": "stream",
     "text": [
      "Local date_time from unix: 2024-09-18 07:27:56.374969\n"
     ]
    }
   ],
   "source": [
    "#notice slight difference in Epoch time due to calculation time\n",
    "dt_obj = datetime.datetime.fromtimestamp(unixtime)\n",
    "print(\"Local date_time from unix:\", dt_obj)"
   ]
  },
  {
   "cell_type": "code",
   "execution_count": 11,
   "metadata": {},
   "outputs": [
    {
     "name": "stdout",
     "output_type": "stream",
     "text": [
      "UTC datetime now 2024-09-18 14:32:20.184669\n"
     ]
    }
   ],
   "source": [
    "utcNow = datetime.datetime.utcnow() #UTC time now\n",
    "print(f\"UTC datetime now {utcNow}\")"
   ]
  },
  {
   "cell_type": "code",
   "execution_count": 12,
   "metadata": {},
   "outputs": [
    {
     "ename": "ModuleNotFoundError",
     "evalue": "No module named 'tzlocal'",
     "output_type": "error",
     "traceback": [
      "\u001b[1;31m---------------------------------------------------------------------------\u001b[0m",
      "\u001b[1;31mModuleNotFoundError\u001b[0m                       Traceback (most recent call last)",
      "\u001b[1;32m<ipython-input-12-dcff541e17a7>\u001b[0m in \u001b[0;36m<module>\u001b[1;34m\u001b[0m\n\u001b[1;32m----> 1\u001b[1;33m \u001b[1;32mfrom\u001b[0m \u001b[0mtzlocal\u001b[0m \u001b[1;32mimport\u001b[0m \u001b[0mget_localzone\u001b[0m\u001b[1;33m\u001b[0m\u001b[1;33m\u001b[0m\u001b[0m\n\u001b[0m",
      "\u001b[1;31mModuleNotFoundError\u001b[0m: No module named 'tzlocal'"
     ]
    }
   ],
   "source": [
    "from tzlocal import get_localzone"
   ]
  },
  {
   "cell_type": "code",
   "execution_count": null,
   "metadata": {},
   "outputs": [],
   "source": []
  }
 ],
 "metadata": {
  "kernelspec": {
   "display_name": "Python 3",
   "language": "python",
   "name": "python3"
  },
  "language_info": {
   "codemirror_mode": {
    "name": "ipython",
    "version": 3
   },
   "file_extension": ".py",
   "mimetype": "text/x-python",
   "name": "python",
   "nbconvert_exporter": "python",
   "pygments_lexer": "ipython3",
   "version": "3.8.5"
  }
 },
 "nbformat": 4,
 "nbformat_minor": 4
}
