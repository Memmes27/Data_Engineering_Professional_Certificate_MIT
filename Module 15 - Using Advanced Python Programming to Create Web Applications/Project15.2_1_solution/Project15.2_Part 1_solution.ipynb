{
 "cells": [
  {
   "cell_type": "markdown",
   "id": "2ecb033f",
   "metadata": {},
   "source": [
    "# Project 15.2: Project 2 Part 1: Creating a Student Grades Database\n",
    "\n",
    "\n",
    "### Learning Outcome Addressed\n",
    "\n",
    "- 5. Create a relational database using Python.\n",
    "\n",
    "\n",
    "## Index:\n",
    "\n",
    "- [Question 1](#Question-1)\n",
    "- [Question 2](#Question-2)\n",
    "- [Question 3](#Question-3)\n",
    "- [Question 4](#Question-4)\n",
    "- [Question 5](#Question-5)\n",
    "- [Question 6](#Question-6)\n",
    "- [Question 7](#Question-7)\n",
    "- [Question 8](#Question-8)\n",
    "- [Question 9](#Question-9)\n",
    "- [Question 10](#Question-10)\n",
    "- [Question 11](#Question-11)\n",
    "- [Question 12](#Question-12)\n",
    "- [Question 13](#Question-13)\n",
    "- [Question 14](#Question-14)\n",
    "- [Question 15](#Question-15)\n",
    "- [Question 16](#Question-16)\n",
    "- [Question 17](#Question-17)\n",
    "- [Question 18](#Question-18)\n",
    "- [Question 19](#Question-19)\n",
    "- [Question 20](#Question-20)\n"
   ]
  },
  {
   "cell_type": "markdown",
   "id": "0a9d1a75",
   "metadata": {},
   "source": [
    "\n",
    "\n",
    "## Question 1\n",
    "\n",
    "*5 points*\n",
    "\n",
    "Write a Python *dictionary*, *`s1`*, with *keys, `id`* and `name`, and corresponding values, *`1`* and `Alice`.\n",
    "\n",
    "Write a Python *dictionary*, *`s2`*, with *keys, `id`* and `name`, and corresponding values, *`2`* and `Bob`.\n",
    "\n",
    "Write a Python *dictionary*, *`s3`*, with *keys, `id`* and `name`, and corresponding values, *`3`* and `Fred`."
   ]
  },
  {
   "cell_type": "code",
   "execution_count": 1,
   "id": "25c2f4b8",
   "metadata": {},
   "outputs": [],
   "source": [
    "### GRADED\n",
    "\n",
    "### YOUR SOLUTION HERE\n",
    "s1 = None\n",
    "s2 = None\n",
    "s3 = None\n",
    "\n",
    "### BEGIN SOLUTION\n",
    "s1 = {'id': 1, 'name': 'Alice'}\n",
    "s2 = {'id': 2, 'name': 'Bob'}\n",
    "s3 = {'id': 3, 'name': 'Fred'}\n",
    "\n",
    "### END SOLUTION"
   ]
  },
  {
   "cell_type": "markdown",
   "id": "ef92f28a",
   "metadata": {},
   "source": [
    "\n",
    "\n",
    "## Question 2\n",
    "\n",
    "*5 points*\n",
    "\n",
    "Define a Python *dictionary*, *`student`*, with *key, `students`*, and corresponding values in a *list* containing the *dictionaries `s1`*, *`s2`*, and *`s3`* as defined in Question 1.\n"
   ]
  },
  {
   "cell_type": "code",
   "execution_count": 2,
   "id": "98315422",
   "metadata": {},
   "outputs": [],
   "source": [
    "### GRADED\n",
    "\n",
    "### YOUR SOLUTION HERE\n",
    "student = None\n",
    "\n",
    "### BEGIN SOLUTION\n",
    "student = {'students': [s1, s2, s3]}\n",
    "\n",
    "### END SOLUTION"
   ]
  },
  {
   "cell_type": "markdown",
   "id": "44553ecf",
   "metadata": {},
   "source": [
    "## Question 3\n",
    "\n",
    "*5 points*\n",
    "\n",
    "Write a Python *dictionary*, *`p1`*, *key, `id`*, `MaxScore`, and corresponding values *`1`* and `100`.\n",
    "\n",
    "Write a Python *dictionary*, *`p2`*, *key, `id`*, `MaxScore`, and corresponding values *`2`* and `80`.\n",
    "\n",
    "Write a Python *dictionary*, *`p3`*, *key, `id`*, `MaxScore`, and corresponding values *`3`* and `90`."
   ]
  },
  {
   "cell_type": "code",
   "execution_count": 3,
   "id": "01f8343c",
   "metadata": {},
   "outputs": [],
   "source": [
    "### GRADED\n",
    "\n",
    "### YOUR SOLUTION HERE\n",
    "p1 = None\n",
    "p2 = None\n",
    "p3 = None\n",
    "\n",
    "### BEGIN SOLUTION\n",
    "p1 = {'id': 1, 'MaxScore':100}\n",
    "p2 = {'id': 2, 'MaxScore':80}\n",
    "p3 = {'id': 3, 'MaxScore':90}\n",
    "\n",
    "### END SOLUTION"
   ]
  },
  {
   "cell_type": "markdown",
   "id": "30734a9d",
   "metadata": {},
   "source": [
    "## Question 4\n",
    "\n",
    "*5 points*\n",
    "\n",
    "Define a Python *dictionary*, *`psets`*, with *key, `psets`*, and corresponding values in a *list* containing the *dictionaries `p1`*, *`p2`*, and *`p3`* as defined in Question 3."
   ]
  },
  {
   "cell_type": "code",
   "execution_count": 4,
   "id": "1934245c",
   "metadata": {},
   "outputs": [],
   "source": [
    "### GRADED\n",
    "\n",
    "### YOUR SOLUTION HERE\n",
    "psets = None\n",
    "\n",
    "### BEGIN SOLUTION\n",
    "psets = {'psets': [p1, p2, p3]}\n",
    "\n",
    "### END SOLUTION"
   ]
  },
  {
   "cell_type": "markdown",
   "id": "e6ff6e37",
   "metadata": {},
   "source": [
    "## Question 5\n",
    "\n",
    "*5 points*\n",
    "\n",
    "Write a Python *dictionary*, *`g1`*, *key, `sid`*, *`pid`*, `score` and corresponding values *`1`* and `1`, and `90`.\n",
    "\n",
    "Write a Python *dictionary*, *`g3`*, *key, `sid`*, *`pid`*, `score` and corresponding values *`2`* and `1`, and `95`.\n",
    "\n",
    "Write a Python *dictionary*, *`g3`*, *key, `sid`*, *`pid`*, `score` and corresponding values *`1`* and `2`, and `50`."
   ]
  },
  {
   "cell_type": "code",
   "execution_count": 5,
   "id": "53947cb1",
   "metadata": {},
   "outputs": [],
   "source": [
    "### GRADED\n",
    "\n",
    "### YOUR SOLUTION HERE\n",
    "g1 = None\n",
    "g2 = None\n",
    "g3 = None\n",
    "\n",
    "### BEGIN SOLUTION\n",
    "g1 = {'sid': 1, 'pid':1, 'score':90}\n",
    "g2 = {'sid': 2, 'pid':1, 'score':95}\n",
    "g3 = {'sid': 1, 'pid':2, 'score':50}\n",
    "\n",
    "### END SOLUTION"
   ]
  },
  {
   "cell_type": "markdown",
   "id": "3b4f2ae0",
   "metadata": {},
   "source": [
    "## Question 6\n",
    "\n",
    "*5 points*\n",
    "\n",
    "Define a Python *dictionary*, *`grades`*, with *key, `grades`*, and corresponding values in a *list* containing the *dictionaries `g1`*, *`g2`*, and *`g3`* as defined in Question 5."
   ]
  },
  {
   "cell_type": "code",
   "execution_count": 6,
   "id": "e015c0fd",
   "metadata": {},
   "outputs": [],
   "source": [
    "### GRADED\n",
    "\n",
    "### YOUR SOLUTION HERE\n",
    "grades = None\n",
    "\n",
    "### BEGIN SOLUTION\n",
    "grades = {'grades': [g1, g2, g3]}\n",
    "\n",
    "### END SOLUTION"
   ]
  },
  {
   "cell_type": "markdown",
   "id": "c570043d",
   "metadata": {},
   "source": [
    "## Question 7\n",
    "\n",
    "*5 points*\n",
    "\n",
    "Define a Python *dictionary*, *`grades`*, with *key, `students`*, *`psets`*, *`grades`*, and corresponding values equal to empty *lists*."
   ]
  },
  {
   "cell_type": "code",
   "execution_count": 7,
   "id": "98a17dd3",
   "metadata": {},
   "outputs": [],
   "source": [
    "### GRADED\n",
    "\n",
    "### YOUR SOLUTION HERE\n",
    "db = None\n",
    "\n",
    "### BEGIN SOLUTION\n",
    "db = {'students': [], 'psets': [], 'grades': []}\n",
    "\n",
    "### END SOLUTION"
   ]
  },
  {
   "cell_type": "markdown",
   "id": "6ef98649",
   "metadata": {},
   "source": [
    "## Question 8\n",
    "\n",
    "*5 points*\n",
    "\n",
    "Define a Python *function*, *`addStudent`*, that takes, as inputs, the database, *`db`*, that was created in Question 7, *`studentID`*, and *`studentName`*.\n",
    "\n",
    "Your *function* should add a *dictionary* to the database with *keys, `id`* and *`name`*, and corresponding values *`studentId`* and *`studentName`*.\n",
    "\n"
   ]
  },
  {
   "cell_type": "code",
   "execution_count": 8,
   "id": "4f427182",
   "metadata": {},
   "outputs": [],
   "source": [
    "### GRADED\n",
    "\n",
    "### YOUR SOLUTION HERE\n",
    "def addStudent():\n",
    "    pass\n",
    "\n",
    "### BEGIN SOLUTION\n",
    "def addStudent(db, studentId, studentName):\n",
    "    db['students'].append({'id':studentId, 'name':studentName})\n",
    "\n",
    "### END SOLUTION"
   ]
  },
  {
   "cell_type": "markdown",
   "id": "f754a798",
   "metadata": {},
   "source": [
    "Below, you will add information to the *`db`* database about *`s1`*, *`s2`*, and *`s3`* by using the *`addStudent` function* as defined in Question 8."
   ]
  },
  {
   "cell_type": "code",
   "execution_count": 9,
   "id": "6fd8efea",
   "metadata": {},
   "outputs": [
    {
     "data": {
      "text/plain": [
       "{'students': [{'id': 1, 'name': 'Alice'},\n",
       "  {'id': 2, 'name': 'Bob'},\n",
       "  {'id': 3, 'name': 'Fred'}],\n",
       " 'psets': [],\n",
       " 'grades': []}"
      ]
     },
     "execution_count": 9,
     "metadata": {},
     "output_type": "execute_result"
    }
   ],
   "source": [
    "\n",
    "addStudent(db, 1, 'Alice')\n",
    "addStudent(db, 2, 'Bob')\n",
    "addStudent(db, 3, 'Fred')\n",
    "db"
   ]
  },
  {
   "cell_type": "markdown",
   "id": "de02dc20",
   "metadata": {},
   "source": [
    "## Question 9\n",
    "\n",
    "*5 points*\n",
    "\n",
    "Define a Python *function*, *`addPset`*, that takes, as inputs, the *`db`* database that was created in Question 7, *`pset_id`*, and *`pset_total_points`*.\n",
    "\n",
    "Your *function* should add to the database a *dictionary* with *keys, `id`* and *`points`*, and corresponding values *`pset_id`* and *`pset_total_points`*."
   ]
  },
  {
   "cell_type": "code",
   "execution_count": 10,
   "id": "fcdf1dc2",
   "metadata": {},
   "outputs": [],
   "source": [
    "### GRADED\n",
    "\n",
    "### YOUR SOLUTION HERE\n",
    "def addPset():\n",
    "    pass\n",
    "\n",
    "### BEGIN SOLUTION\n",
    "def addPset(db, pset_id, pset_total_points):\n",
    "    db['psets'].append({'id':pset_id, 'points':pset_total_points})\n",
    "\n",
    "### END SOLUTION"
   ]
  },
  {
   "cell_type": "markdown",
   "id": "5c14622d",
   "metadata": {},
   "source": [
    "Below, you will add information to the *`db`* database about *`p1`*, *`p2`*, and *`p3`* by using the *`addPset` function* that was defined in Question 9."
   ]
  },
  {
   "cell_type": "code",
   "execution_count": 11,
   "id": "4cd0b477",
   "metadata": {},
   "outputs": [
    {
     "data": {
      "text/plain": [
       "{'students': [{'id': 1, 'name': 'Alice'},\n",
       "  {'id': 2, 'name': 'Bob'},\n",
       "  {'id': 3, 'name': 'Fred'}],\n",
       " 'psets': [{'id': 1, 'points': 100},\n",
       "  {'id': 2, 'points': 90},\n",
       "  {'id': 3, 'points': 95}],\n",
       " 'grades': []}"
      ]
     },
     "execution_count": 11,
     "metadata": {},
     "output_type": "execute_result"
    }
   ],
   "source": [
    "addPset(db, 1, 100)\n",
    "addPset(db, 2, 90)\n",
    "addPset(db, 3, 95)\n",
    "db"
   ]
  },
  {
   "cell_type": "markdown",
   "id": "9b4d8d82",
   "metadata": {},
   "source": [
    "## Question 10\n",
    "\n",
    "*5 points*\n",
    "\n",
    "Define a Python *function*, *`addGrade`*, that takes, as inputs, the *`db`* database that was created in Question 7, *`student_id`, `pset_id`*, and *`points`*.\n",
    "\n",
    "Your *function* should add a *dictionary* to the database with *keys, `student`*, *`pset`*, and *`points`*, and corresponding values *`student_id`*, *`pset_id`*, and *`points`*."
   ]
  },
  {
   "cell_type": "code",
   "execution_count": 12,
   "id": "ae3ea27f",
   "metadata": {},
   "outputs": [],
   "source": [
    "### GRADED\n",
    "\n",
    "### YOUR SOLUTION HERE\n",
    "def addGrade():\n",
    "    pass\n",
    "\n",
    "### BEGIN SOLUTION\n",
    "# Record a student's grade on a pset.\n",
    "def addGrade(db, student_id, pset_id, points):\n",
    "    db[\"grades\"].append({\"student\": student_id,\n",
    "                         \"pset\": pset_id,\n",
    "                         \"points\": points})\n",
    "\n",
    "### END SOLUTION"
   ]
  },
  {
   "cell_type": "markdown",
   "id": "13bb4654",
   "metadata": {},
   "source": [
    "Below, you will add information to the *`db`* database about *`g1`*, *`g2`*, and *`g3`* by using the *`addGrade` function* that was defined in Question 10."
   ]
  },
  {
   "cell_type": "code",
   "execution_count": 13,
   "id": "41a466c8",
   "metadata": {},
   "outputs": [
    {
     "data": {
      "text/plain": [
       "{'students': [{'id': 1, 'name': 'Alice'},\n",
       "  {'id': 2, 'name': 'Bob'},\n",
       "  {'id': 3, 'name': 'Fred'}],\n",
       " 'psets': [{'id': 1, 'points': 100},\n",
       "  {'id': 2, 'points': 90},\n",
       "  {'id': 3, 'points': 95}],\n",
       " 'grades': [{'student': 1, 'pset': 1, 'points': 80},\n",
       "  {'student': 1, 'pset': 2, 'points': 35},\n",
       "  {'student': 1, 'pset': 3, 'points': 95},\n",
       "  {'student': 2, 'pset': 3, 'points': 89},\n",
       "  {'student': 3, 'pset': 3, 'points': 100}]}"
      ]
     },
     "execution_count": 13,
     "metadata": {},
     "output_type": "execute_result"
    }
   ],
   "source": [
    "addGrade(db, 1, 1, 80)\n",
    "addGrade(db, 1, 2, 35)\n",
    "addGrade(db, 1, 3, 95)\n",
    "addGrade(db, 2, 3, 89)\n",
    "addGrade(db, 3, 3, 100)\n",
    "\n",
    "\n",
    "db"
   ]
  },
  {
   "cell_type": "markdown",
   "id": "c4f9ff72",
   "metadata": {},
   "source": [
    "## Question 11\n",
    "\n",
    "*5 points*\n",
    "\n",
    "Define a Python *function*, *`getGrade`*, that takes, as inputs, the *`db`* database that was created in Question 7, *`student_id`, and `pset_id`*.\n",
    "\n",
    " Your *function* should return the grade of the corresponding student id and problem set id.\n",
    " \n",
    "**NOTE:** Use a *list comprehension*."
   ]
  },
  {
   "cell_type": "code",
   "execution_count": 14,
   "id": "8e76ea62",
   "metadata": {},
   "outputs": [],
   "source": [
    "### GRADED\n",
    "\n",
    "### YOUR SOLUTION HERE\n",
    "def getGrade():\n",
    "    pass\n",
    "\n",
    "### BEGIN SOLUTION\n",
    "# Record a student's grade on a pset.\n",
    "def getGrade(db, student_id, pset_id):\n",
    "    return [row['points'] for row in db['grades']\n",
    "           if row['student'] ==student_id and row['pset'] ==pset_id]\n",
    "\n",
    "### END SOLUTION"
   ]
  },
  {
   "cell_type": "markdown",
   "id": "ad05beaa",
   "metadata": {},
   "source": [
    "Now, verify that the *`getGrade` function* works as expected for the student with student id equal to 1 and problem set id equal to 1."
   ]
  },
  {
   "cell_type": "code",
   "execution_count": 15,
   "id": "cc1b0ca0",
   "metadata": {},
   "outputs": [
    {
     "data": {
      "text/plain": [
       "[80]"
      ]
     },
     "execution_count": 15,
     "metadata": {},
     "output_type": "execute_result"
    }
   ],
   "source": [
    "getGrade(db,1,1)"
   ]
  },
  {
   "cell_type": "markdown",
   "id": "197938b5",
   "metadata": {},
   "source": [
    "## Question 12\n",
    "\n",
    "*5 points*\n",
    "\n",
    "Define a Python *function*, *`getGradeDict`*, that takes, as inputs, *`student_id`*, and *`pset_id`*.\n",
    "\n",
    "Your *function* should return the grade of the corresponding student id and problem set id.\n",
    " \n",
    "**NOTE:** Use a *dictionary comprehension*."
   ]
  },
  {
   "cell_type": "code",
   "execution_count": 16,
   "id": "d8acb417",
   "metadata": {},
   "outputs": [],
   "source": [
    "### GRADED\n",
    "\n",
    "### YOUR SOLUTION HERE\n",
    "def getGradeDict():\n",
    "    pass\n",
    "\n",
    "### BEGIN SOLUTION\n",
    "def getGradeDict(student_id, pset_id):\n",
    "    return {\"grade\": row[\"points\"] for row in db[\"grades\"] \n",
    "            if row[\"student\"] == student_id and row[\"pset\"] == pset_id}\n",
    "\n",
    "### END SOLUTION"
   ]
  },
  {
   "cell_type": "markdown",
   "id": "0dbce74c",
   "metadata": {},
   "source": [
    "Now, verify that the *`getGradeDict` function* works as expected for the student with id equal to 2 and problem set id equal to 3."
   ]
  },
  {
   "cell_type": "code",
   "execution_count": 17,
   "id": "060f40bf",
   "metadata": {},
   "outputs": [
    {
     "name": "stdout",
     "output_type": "stream",
     "text": [
      "{'grade': 89}\n"
     ]
    }
   ],
   "source": [
    "print(getGradeDict(2, 3))"
   ]
  },
  {
   "cell_type": "markdown",
   "id": "9d840693",
   "metadata": {},
   "source": [
    "## Question 13\n",
    "\n",
    "*5 points*\n",
    "\n",
    "Define a Python *function*, *`empty`*, that takes zero arguments as inputs.\n",
    "\n",
    "Your *function* should return a *dictionary* with *keys, `students`*, *`psets`*, and *`grades`*, and corresponding values equal to empty *dictionaries*."
   ]
  },
  {
   "cell_type": "code",
   "execution_count": 18,
   "id": "09388f1a",
   "metadata": {},
   "outputs": [],
   "source": [
    "### GRADED\n",
    "\n",
    "### YOUR SOLUTION HERE\n",
    "def empty():\n",
    "    pass\n",
    "\n",
    "### BEGIN SOLUTION\n",
    "def empty():\n",
    "    return {'students':{}, 'psets':{}, 'grades':{}}\n",
    "### END SOLUTION"
   ]
  },
  {
   "cell_type": "markdown",
   "id": "9420879b",
   "metadata": {},
   "source": [
    "Below, an empty new database is defined for you."
   ]
  },
  {
   "cell_type": "code",
   "execution_count": 19,
   "id": "3da753a7",
   "metadata": {},
   "outputs": [],
   "source": [
    "db_dict = empty()"
   ]
  },
  {
   "cell_type": "markdown",
   "id": "78b11dcd",
   "metadata": {},
   "source": [
    "## Question 14\n",
    "\n",
    "*5 points*\n",
    "\n",
    "Define a Python *function*, *`addStudentDict`*, that takes, as inputs, *`db`*, *`student_id`*, and *`student_name`*.\n",
    "\n",
    "Your *function* should add as a value the *key `students`* in the *`db`* *dictionary*. This value will be a *dictionary* with *keys* equal to *`student_id`* and values equal to *`student_name`*."
   ]
  },
  {
   "cell_type": "code",
   "execution_count": 20,
   "id": "6a8ed556",
   "metadata": {},
   "outputs": [],
   "source": [
    "### GRADED\n",
    "\n",
    "### YOUR SOLUTION HERE\n",
    "def addStudentDict():\n",
    "    pass\n",
    "\n",
    "### BEGIN SOLUTION\n",
    "def addStudentDict(db, student_id, student_name):\n",
    "    db['students'][student_id] = student_name\n",
    "### END SOLUTION"
   ]
  },
  {
   "cell_type": "markdown",
   "id": "3db4b04e",
   "metadata": {},
   "source": [
    "## Question 15\n",
    "\n",
    "*5 points*\n",
    "\n",
    "Define a Python *function*, *`addPsetDict`*, that takes, as inputs, *`db`*, *`pset_id`*, and *`pset_total_points`*.\n",
    "\n",
    "Your *function* should add as a value the *key `psets`* in the *`db`* *dictionary*. This value will be a *dictionary* with *keys* equal to *`pset_id`* and values equal to *`pset_total_points`*."
   ]
  },
  {
   "cell_type": "code",
   "execution_count": 21,
   "id": "a911b1bf",
   "metadata": {},
   "outputs": [],
   "source": [
    "### GRADED\n",
    "\n",
    "### YOUR SOLUTION HERE\n",
    "def addPsetDict():\n",
    "    pass\n",
    "\n",
    "### BEGIN SOLUTION\n",
    "def addPsetDict(db, pset_id, pset_total_points):\n",
    "    db['psets'][pset_id] = pset_total_points\n",
    "### END SOLUTION"
   ]
  },
  {
   "cell_type": "markdown",
   "id": "59df2f9a",
   "metadata": {},
   "source": [
    "## Question 16\n",
    "\n",
    "*5 points*\n",
    "\n",
    "Define a Python *function*, *`addGradeDict`*, that takes, as inputs, *`db`*, *`student_id`* *`pset_id`*, and *`points`*.\n",
    "\n",
    "Your *function* should add as a value the *key `grades`* in the *`db`* *dictionary*. This value is going to be a nested *dictionary* with *keys* equal to *`student_id`* and values equal to a *dictionary* with *keys* equal to *`pset_id`* and values equal to *`points`*.\n",
    "\n",
    "If the student does not have any grades, your *function* should add an empty value to the  *dictionary* *`db_dict`*."
   ]
  },
  {
   "cell_type": "code",
   "execution_count": 22,
   "id": "09e41498",
   "metadata": {},
   "outputs": [],
   "source": [
    "### GRADED\n",
    "\n",
    "### YOUR SOLUTION HERE\n",
    "def addGradeDict():\n",
    "    pass\n",
    "\n",
    "### BEGIN SOLUTION\n",
    "def addGradeDict(db, student_id, pset_id, points):\n",
    "    if student_id not in db['grades']:\n",
    "        db['grades'][student_id] = {}\n",
    "    db['grades'][student_id][pset_id] = points\n",
    "### END SOLUTION"
   ]
  },
  {
   "cell_type": "markdown",
   "id": "f413be02",
   "metadata": {},
   "source": [
    "Now, try to reset your *`db_dict`* *dictionary* and fill it with some values:"
   ]
  },
  {
   "cell_type": "code",
   "execution_count": 23,
   "id": "83a18bb1",
   "metadata": {},
   "outputs": [
    {
     "name": "stdout",
     "output_type": "stream",
     "text": [
      "{'students': {1: 'Alice', 2: 'Bob', 3: 'Charlie'}, 'psets': {1: 100, 2: 120, 3: 130}, 'grades': {1: {1: 98, 2: 108, 3: 125}, 2: {3: 115}, 3: {3: 110}}}\n"
     ]
    }
   ],
   "source": [
    "addStudentDict(db_dict, 1, \"Alice\")\n",
    "addStudentDict(db_dict, 2, \"Bob\")\n",
    "addStudentDict(db_dict, 3, \"Charlie\")\n",
    "#          pset_id, max_score\n",
    "addPsetDict(db_dict, 1, 100)\n",
    "addPsetDict(db_dict, 2, 120)\n",
    "addPsetDict(db_dict, 3, 130)\n",
    "#          student_id, pset_id, value\n",
    "addGradeDict(db_dict, 1, 1, 98)\n",
    "addGradeDict(db_dict, 1, 2, 108)\n",
    "addGradeDict(db_dict, 1, 3, 125)\n",
    "addGradeDict(db_dict, 2, 3, 115)\n",
    "addGradeDict(db_dict, 3, 3, 110)\n",
    "\n",
    "print(db_dict)"
   ]
  },
  {
   "cell_type": "markdown",
   "id": "a2210243",
   "metadata": {},
   "source": [
    "In the code cell below, two *functions, `get()`* and *`get2()`* are defined.\n",
    "\n",
    "The *`get()` function* takes as input a *dictionary* and a *key*. The *function* returns the *key* if it's present in the *dictionary*. Otherwise, it returns `None`.\n",
    "\n",
    "\n",
    "The *`get2()` function* takes as input a *dictionary* and two *keys*. The *function* returns the *keys* if they're present in the *dictionary*. Otherwise, it returns `None`."
   ]
  },
  {
   "cell_type": "code",
   "execution_count": 24,
   "id": "8671957c",
   "metadata": {},
   "outputs": [],
   "source": [
    "def get(dict, key):\n",
    "    if key in dict:\n",
    "        return dict[key]\n",
    "    else:\n",
    "        return None\n",
    "    \n",
    "    \n",
    "    # And a helpful version for traversing nested dictionaries\n",
    "def get2(dict1, key1, key2):\n",
    "    dict2 = get(dict1, key1)\n",
    "    if dict2:\n",
    "        return get(dict2, key2)\n",
    "    else:\n",
    "        return None\n",
    "    \n"
   ]
  },
  {
   "cell_type": "markdown",
   "id": "d592d116",
   "metadata": {},
   "source": [
    "## Question 17\n",
    "\n",
    "*5 points*\n",
    "\n",
    "Define a Python *function*, *`studentGrades`*, that takes, as inputs, *`db`* and *`student_id`*.\n",
    "\n",
    "Your *function* should return a *dictionary* with *keys* equal to the problem set id and values equal to the grade that the student has gotten for each problem.\n",
    "\n",
    "For example\n",
    "\n",
    "```\n",
    "studentGrades(db_Dict,1)\n",
    "```\n",
    "\n",
    "should return\n",
    "\n",
    "```\n",
    "{1: 98, 2: 108, 3: 125}\n",
    "```\n",
    "\n",
    "**HINT:** Use the *`get()` function* that is defined for you above."
   ]
  },
  {
   "cell_type": "code",
   "execution_count": 25,
   "id": "9862145a",
   "metadata": {},
   "outputs": [],
   "source": [
    "### GRADED\n",
    "\n",
    "### YOUR SOLUTION HERE\n",
    "def studentGrades():\n",
    "    pass\n",
    "\n",
    "### BEGIN SOLUTION\n",
    "def studentGrades(db, student_id):\n",
    "    return get(db[\"grades\"], student_id)\n",
    "### END SOLUTION"
   ]
  },
  {
   "cell_type": "markdown",
   "id": "75bd41dc",
   "metadata": {},
   "source": [
    "In the code cell below, another helper *function*, the *`gradeOn()` function* is defined.\n",
    "\n",
    "This *function* takes as input a *dictionary*, the student id, and the problem set id, and it returns the corresponding grade with the help of the *`get2()` function* that is defined above.\n",
    "\n",
    "Run the code cell below to see how this *function* works."
   ]
  },
  {
   "cell_type": "code",
   "execution_count": 26,
   "id": "a8c2badc",
   "metadata": {},
   "outputs": [
    {
     "data": {
      "text/plain": [
       "98"
      ]
     },
     "execution_count": 26,
     "metadata": {},
     "output_type": "execute_result"
    }
   ],
   "source": [
    "def gradeOn(db, student_id, pset_id):\n",
    "    return get2(db[\"grades\"], student_id, pset_id)\n",
    "\n",
    "gradeOn(db_dict, 1,1)"
   ]
  },
  {
   "cell_type": "markdown",
   "id": "9aafe039",
   "metadata": {},
   "source": [
    "## Question 18\n",
    "\n",
    "*5 points*\n",
    "\n",
    "Define a Python *function*, *`gradeOnWeighted`*, that takes, as inputs, *`db`*, *`student_id`, `pset_id`*, and *`pset_points`*. \n",
    "\n",
    "Your *function* should return the weighted grade of a student based on grade and the maximum number of points available for that problem based on the formula given below:\n",
    "\n",
    "$$\\text{weighted_grade} = \\frac{\\text{grade}}{\\text{pset_points}}*100$$\n",
    "\n",
    "\n",
    "If the grade is not available, your *function* should return `None`.\n",
    "\n",
    "For example\n",
    "\n",
    "```\n",
    "gradeOnWeighted(db_dict, 1,2, 120) \n",
    "```\n",
    "\n",
    "should return\n",
    "\n",
    "```\n",
    "0.9\n",
    "```\n",
    "\n",
    "This makes sense as the student with student id equal to one (Alice) earned 108 out of 120 for the problem set with id equal to 2. Therefore, the weighted grade is equal to 0.9.\n",
    "\n",
    "\n",
    "**HINT:** Use the *`gradeOn()` function* that is defined above."
   ]
  },
  {
   "cell_type": "code",
   "execution_count": 1,
   "id": "6bf05424",
   "metadata": {},
   "outputs": [],
   "source": [
    "### GRADED\n",
    "\n",
    "### YOUR SOLUTION HERE\n",
    "def gradeOnWeighted():\n",
    "    pass\n",
    "\n",
    "### BEGIN SOLUTION\n",
    "\n",
    "def gradeOnWeighted(db, student_id, pset_id, pset_points):\n",
    "    grade = gradeOn(db, student_id, pset_id)\n",
    "    if grade == None:\n",
    "        return 0\n",
    "    else:\n",
    "        return grade / pset_points *100\n",
    "### END SOLUTION"
   ]
  },
  {
   "cell_type": "markdown",
   "id": "cd23c1ae",
   "metadata": {},
   "source": [
    "## Question 19\n",
    "\n",
    "*5 points*\n",
    "\n",
    "Define a Python *function*, *`studentGradesWeighted`*, that takes, as inputs, *`db`* and *`student_id`*.\n",
    "\n",
    "Your *function* should return a *list* with all the weighted grades of a student.\n",
    "\n",
    "For example\n",
    "\n",
    "```\n",
    "studentGradesWeighted(db_dict, 1)\n",
    "```\n",
    "\n",
    "should return\n",
    "\n",
    "```\n",
    "[98.0, 90.0, 96.15384615384616]\n",
    "```\n",
    "\n",
    "\n",
    "**HINT:** Use the *`gradeOnWeighted()` function* that you defined in the previous question to help you *loop* over all the grades of a certain student."
   ]
  },
  {
   "cell_type": "code",
   "execution_count": 28,
   "id": "0b4d0d0e",
   "metadata": {},
   "outputs": [],
   "source": [
    "### GRADED\n",
    "\n",
    "### YOUR SOLUTION HERE\n",
    "def studentGradesWeighted():\n",
    "    pass\n",
    "\n",
    "### BEGIN SOLUTION\n",
    "def studentGradesWeighted(db, student_id):\n",
    "    return [gradeOnWeighted(db, student_id, pset_id, pset_points)\n",
    "            for pset_id, pset_points in db[\"psets\"].items()]\n",
    "### END SOLUTION"
   ]
  },
  {
   "cell_type": "markdown",
   "id": "3b4a85f7",
   "metadata": {},
   "source": [
    "Finally, a *function*, *`finalGradeOf()` function*, is defined that takes, as input, a *dictionary* and a student id. This *function* will compute and return the final grade of a student."
   ]
  },
  {
   "cell_type": "code",
   "execution_count": 30,
   "id": "f7fa3738",
   "metadata": {},
   "outputs": [
    {
     "data": {
      "text/plain": [
       "94.7"
      ]
     },
     "execution_count": 30,
     "metadata": {},
     "output_type": "execute_result"
    }
   ],
   "source": [
    "def finalGradeOf(db, student_id):\n",
    "    grades = studentGradesWeighted(db, student_id)\n",
    "    return round(sum(grades) / len(grades) * 100, 1)\n",
    "\n",
    "finalGradeOf(db_dict, 1)"
   ]
  },
  {
   "cell_type": "markdown",
   "id": "473bc180",
   "metadata": {},
   "source": [
    "## Question 20\n",
    "\n",
    "*5 points*\n",
    "\n",
    "Define a Python *function*, *`finalGrades`*, that takes, as input, the *`db` dictionary*.\n",
    "\n",
    "Your *function* should return a *list* with *dictionaries* as elements. Each *dictionary* will have *keys* equal to *`id`, `name`*, and *`grade`* and corresponding values equal to the student id, the name of the student, and their final grade computed with the help of the *`finalGradeOf()` function* that is defined above.\n",
    "\n",
    "If your *function* is defined correctly, based on entries in your database,\n",
    "\n",
    "```\n",
    "print(finalGrades(db_dict))\n",
    "```\n",
    "\n",
    "should return\n",
    "\n",
    "```\n",
    "[{'id': 1, 'name': 'Alice', 'grade': 94.7}, {'id': 2, 'name': 'Bob', 'grade': 29.5}, {'id': 3, 'name': 'Charlie', 'grade': 28.2}].\n",
    "```"
   ]
  },
  {
   "cell_type": "code",
   "execution_count": 31,
   "id": "94b13f39",
   "metadata": {},
   "outputs": [],
   "source": [
    "### GRADED\n",
    "\n",
    "### YOUR SOLUTION HERE\n",
    "def finalGrades():\n",
    "    pass\n",
    "\n",
    "### BEGIN SOLUTION\n",
    "def finalGrades(db):\n",
    "    return [{\"id\": id,\n",
    "             \"name\": name,\n",
    "             \"grade\": finalGradeOf(db, id)}\n",
    "            for id, name in db[\"students\"].items()]\n",
    "### END SOLUTION\n"
   ]
  },
  {
   "cell_type": "code",
   "execution_count": null,
   "id": "bb209e81",
   "metadata": {},
   "outputs": [],
   "source": []
  }
 ],
 "metadata": {
  "kernelspec": {
   "display_name": "Python 3 (ipykernel)",
   "language": "python",
   "name": "python3"
  },
  "language_info": {
   "codemirror_mode": {
    "name": "ipython",
    "version": 3
   },
   "file_extension": ".py",
   "mimetype": "text/x-python",
   "name": "python",
   "nbconvert_exporter": "python",
   "pygments_lexer": "ipython3",
   "version": "3.9.9"
  }
 },
 "nbformat": 4,
 "nbformat_minor": 5
}
