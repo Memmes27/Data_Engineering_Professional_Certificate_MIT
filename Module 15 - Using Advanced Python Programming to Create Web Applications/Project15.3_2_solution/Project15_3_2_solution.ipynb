{
 "cells": [
  {
   "cell_type": "markdown",
   "id": "e700c274",
   "metadata": {},
   "source": [
    "# Project 15.2: Project 2 Part 2:  Redundant *Dictionaries* in Python \n",
    "\n",
    "\n",
    "### Learning Outcome Addressed\n",
    "\n",
    "- 7. Implement redundant *dictionaries* in Python.\n",
    "\n",
    "\n",
    "## Index:\n",
    "\n",
    "- [Question 1](#Question-1)\n",
    "- [Question 2](#Question-2)\n",
    "- [Question 3](#Question-3)\n",
    "- [Question 4](#Question-4)\n",
    "- [Question 5](#Question-5)\n",
    "- [Question 6](#Question-6)\n",
    "- [Question 7](#Question-7)\n",
    "- [Question 8](#Question-8)\n",
    "- [Question 9](#Question-9)"
   ]
  },
  {
   "cell_type": "markdown",
   "id": "c82b9a74",
   "metadata": {},
   "source": [
    "## Directions\n",
    "\n",
    "Throughtout this project, you will be working on an exercise similar to the one you developed in `Project 15.2 Part 1: Creating a Student Grades Database Project 2 Part 1: Creating a Student Grades Database`.\n",
    "\n",
    "The main difference between this project and the previous one is that here you will be using redundant *dictionaries* that will make your implementation of the database even more efficient.\n",
    "\n",
    "\n",
    "## Defining Some Helper *Functions*\n",
    "\n",
    "In the code cell below, some helper *functions* are defined that will guide you through the creation of the database.\n",
    "\n",
    "You are already familiar with the *`get()` function* and *`get2()` function*, so this project will focus on the new *`add2()`* *function*.\n",
    "\n",
    "This *function* takes, as inputs, the *`dict` dictionary*, two *keys*, *`key1`* and *`key2`*, that are present in the *dictionary* and a value.\n",
    "\n",
    "If *`key1`* is not present in the *dictionary*, the *function* will add an empty value to it. Otherwise, the *function* adds *`value`* to *`key1`* and *`key2`*."
   ]
  },
  {
   "cell_type": "code",
   "execution_count": 1,
   "id": "78a3d294",
   "metadata": {},
   "outputs": [],
   "source": [
    "def get(dict, key):\n",
    "    if key in dict:\n",
    "        return dict[key]\n",
    "    else:\n",
    "        return None\n",
    "\n",
    "def get2(dict1, key1, key2):\n",
    "    dict2 = get(dict1, key1)\n",
    "    if dict2:\n",
    "        return get(dict2, key2)\n",
    "    else:\n",
    "        return None\n",
    "\n",
    "# to add to a nested dictionary.\n",
    "def add2(db, key1, key2, value):\n",
    "    if key1 not in db:\n",
    "        db[key1] = {}\n",
    "\n",
    "    db[key1][key2] = value\n"
   ]
  },
  {
   "cell_type": "markdown",
   "id": "f62ba0ce",
   "metadata": {},
   "source": [
    "Additionally, you will use some *functions* that your defined in Project 15.2 Part 1 to add some entries to your database."
   ]
  },
  {
   "cell_type": "code",
   "execution_count": 2,
   "id": "c61f137f",
   "metadata": {},
   "outputs": [],
   "source": [
    "def addStudent(db, student_id, student_name):\n",
    "    db['students'][student_id] = student_name\n",
    "    \n",
    "    \n",
    "def addPset(db, pset_id, pset_total_points):\n",
    "    db['psets'][pset_id] = pset_total_points  \n",
    "    \n",
    "def addGrade(db, student_id, pset_id, points):\n",
    "    if student_id not in db['grades']:\n",
    "        db['grades'][student_id] = {}\n",
    "    db['grades'][student_id][pset_id] = points"
   ]
  },
  {
   "cell_type": "markdown",
   "id": "ac57401b",
   "metadata": {},
   "source": [
    "## Question 1\n",
    "\n",
    "*10 points*\n",
    "\n",
    "Define a Python *function*, *`empty`*, that takes zero arguments as inputs.\n",
    "\n",
    "Your *function* should return a *dictionary* with *keys, `studentsById`, `StudentsByName`, `psets`, `gradesByStudent`* and *`gradesByPset`*, and corresponding values equal to empty *dictionaries*."
   ]
  },
  {
   "cell_type": "code",
   "execution_count": 3,
   "id": "15552a71",
   "metadata": {},
   "outputs": [],
   "source": [
    "### GRADED\n",
    "\n",
    "### YOUR SOLUTION HERE\n",
    "def empty():\n",
    "    pass\n",
    "\n",
    "### BEGIN SOLUTION\n",
    "def empty():\n",
    "    return {\"studentsById\": {},\n",
    "            \"studentsByName\": {},\n",
    "            \"psets\": {},\n",
    "            \"gradesByStudent\": {},\n",
    "            \"gradesByPset\": {}}\n",
    "### END SOLUTION"
   ]
  },
  {
   "cell_type": "markdown",
   "id": "3f4a76e5",
   "metadata": {},
   "source": [
    "Now, you will define your empty *dictionary*."
   ]
  },
  {
   "cell_type": "code",
   "execution_count": 4,
   "id": "1f374006",
   "metadata": {},
   "outputs": [],
   "source": [
    "db = empty()\n",
    "\n"
   ]
  },
  {
   "cell_type": "markdown",
   "id": "4b6e1eed",
   "metadata": {},
   "source": [
    "## Question 2\n",
    "\n",
    "*10 points*\n",
    "\n",
    "Define a Python *function*, *`addStudent`*, that takes, as inputs, *`db`*, *`student_id`*, and *`student_name`*.\n",
    "\n",
    "Your *function* should add a value to the *`studentsById` key* in the *`db` dictionary*. This value is going to be a *dictionary* with *keys* equal to *`student_id`* and value equal to *`student_name`*.\n",
    "\n",
    "Your *function* should add a value to the *key `studentsByName`* in the *`db` dictionary*. This value is going to be a *dictionary* with *keys* equal to *`student_name`* and value equal to *`student_id`*."
   ]
  },
  {
   "cell_type": "code",
   "execution_count": 5,
   "id": "b5389053",
   "metadata": {},
   "outputs": [],
   "source": [
    "### GRADED\n",
    "\n",
    "### YOUR SOLUTION HERE\n",
    "def addStudent():\n",
    "    pass\n",
    "\n",
    "### BEGIN SOLUTION\n",
    "def addStudent(db, student_id, student_name):\n",
    "    db[\"studentsById\"][student_id] = student_id\n",
    "    db[\"studentsByName\"][student_name] = student_name\n",
    "### END SOLUTION"
   ]
  },
  {
   "cell_type": "markdown",
   "id": "78333f14",
   "metadata": {},
   "source": [
    "In the code cell below, the *`studentIdFromName` function* is defined that uses the helper *function*, *`get()` function*, to get the student name based on the *`studentsByName` key* from the database.\n",
    "\n",
    "Note the the *function* below will serve as a blueprint for the *functions* you will define in Questions 3 and 4."
   ]
  },
  {
   "cell_type": "code",
   "execution_count": 6,
   "id": "ef0d2a48",
   "metadata": {},
   "outputs": [],
   "source": [
    "def studentIdFromName(db, student_name):\n",
    "    return get(db[\"studentsByName\"], student_name)"
   ]
  },
  {
   "cell_type": "markdown",
   "id": "b90c6081",
   "metadata": {},
   "source": [
    "## Question 3\n",
    "\n",
    "*10 points*\n",
    "\n",
    "Define a Python *function*, *`studentNameFromId`*, that takes, as inputs, *`db`* and *`student_id`*.\n",
    "\n",
    "This *function* should use the helper *function*, *`get()` function*, to get the student id based on the *`studentsById` key* in the database.\n",
    "\n"
   ]
  },
  {
   "cell_type": "code",
   "execution_count": 7,
   "id": "93c1ce42",
   "metadata": {},
   "outputs": [],
   "source": [
    "### GRADED\n",
    "\n",
    "### YOUR SOLUTION HERE\n",
    "def studentNameFromId():\n",
    "    pass\n",
    "\n",
    "### BEGIN SOLUTION\n",
    "def studentNameFromId(db, student_id):\n",
    "    return get(db[\"studentsById\"], student_id)\n",
    "### END SOLUTION"
   ]
  },
  {
   "cell_type": "markdown",
   "id": "8eaa5dcf",
   "metadata": {},
   "source": [
    "In the code cell below, the *`addPset()` function* is defined that adds the maximum number of points assigned to a problem set to your database."
   ]
  },
  {
   "cell_type": "code",
   "execution_count": 8,
   "id": "2fa78362",
   "metadata": {},
   "outputs": [],
   "source": [
    "def addPset(db, pset_id, pset_total_points):\n",
    "    db[\"psets\"][pset_id] = pset_total_points"
   ]
  },
  {
   "cell_type": "markdown",
   "id": "c41aa80b",
   "metadata": {},
   "source": [
    "## Question 4\n",
    "\n",
    "*10 points*\n",
    "\n",
    "Define a Python *function*, the *`psetPointsFromId` function*, that takes, as inputs, *`db`* and *`pset_id`*.\n",
    "\n",
    "This *function* should use the helper *function*, *`get()` function*, to get the problem set id based on the *`psets` key* from the database."
   ]
  },
  {
   "cell_type": "code",
   "execution_count": 9,
   "id": "f7e5d412",
   "metadata": {},
   "outputs": [],
   "source": [
    "### GRADED\n",
    "\n",
    "### YOUR SOLUTION HERE\n",
    "def  psetPointsFromId():\n",
    "    pass\n",
    "\n",
    "### BEGIN SOLUTION\n",
    "def psetPointsFromId(db, pset_id):\n",
    "    return get(db[\"psets\"], pset_id)\n",
    "### END SOLUTION"
   ]
  },
  {
   "cell_type": "markdown",
   "id": "f81f981b",
   "metadata": {},
   "source": [
    "## Question 5\n",
    "\n",
    "*10 points*\n",
    "\n",
    "Define a Python *function*, *`addGrade`*, that takes, as inputs, *`db`*, *`student_id`, `pset_id`*, and *`points`*.\n",
    "\n",
    "This *function* should use the helper *function*, the *`add2()`function*, to add the student id, the problem set id, and the points based on the *`gradesByStudent` key* in the database.\n",
    "\n",
    "This *function* should also use the helper *function*, the *`add2()` function* to add the problem set id, the student id, and the points based on the *`gradesByPset` key* in the database."
   ]
  },
  {
   "cell_type": "code",
   "execution_count": 10,
   "id": "0134477b",
   "metadata": {},
   "outputs": [],
   "source": [
    "### GRADED\n",
    "\n",
    "### YOUR SOLUTION HERE\n",
    "def  addGrade():\n",
    "    pass\n",
    "\n",
    "### BEGIN SOLUTION\n",
    "def addGrade(db, student_id, pset_id, points):\n",
    "    add2(db[\"gradesByStudent\"], student_id, pset_id, points)\n",
    "    add2(db[\"gradesByPset\"], pset_id, student_id, points)\n",
    "### END SOLUTION"
   ]
  },
  {
   "cell_type": "markdown",
   "id": "9829361f",
   "metadata": {},
   "source": [
    "Now, you can add some entries to your *dictionary*."
   ]
  },
  {
   "cell_type": "code",
   "execution_count": 11,
   "id": "af706c2a",
   "metadata": {},
   "outputs": [
    {
     "data": {
      "text/plain": [
       "{'studentsById': {1: 'Alice', 2: 'Bob', 3: 'Charlie'},\n",
       " 'studentsByName': {'Alice': 1, 'Bob': 2, 'Charlie': 3},\n",
       " 'psets': {1: 10, 2: 20, 3: 30},\n",
       " 'gradesByStudent': {1: {1: 10, 2: 18, 3: 25}, 2: {3: 15}, 3: {3: 10}},\n",
       " 'gradesByPset': {1: {1: 10}, 2: {1: 18}, 3: {1: 25, 2: 15, 3: 10}}}"
      ]
     },
     "execution_count": 11,
     "metadata": {},
     "output_type": "execute_result"
    }
   ],
   "source": [
    "addStudent(db, 1, \"Alice\")\n",
    "addStudent(db, 2, \"Bob\")\n",
    "addStudent(db, 3, \"Charlie\")\n",
    "\n",
    "addPset(db, 1, 10)\n",
    "addPset(db, 2, 20)\n",
    "addPset(db, 3, 30)\n",
    "\n",
    "addGrade(db, 1, 1, 10)\n",
    "addGrade(db, 1, 2, 18)\n",
    "addGrade(db, 1, 3, 25)\n",
    "addGrade(db, 2, 3, 15)\n",
    "addGrade(db, 3, 3, 10)\n",
    "\n",
    "db"
   ]
  },
  {
   "cell_type": "markdown",
   "id": "10a3fbd9",
   "metadata": {},
   "source": [
    "## Question 6\n",
    "\n",
    "*10 points*\n",
    "\n",
    "Define a Python *function*, *`gradeOn`*, that takes, as inputs, *`db`*, *`student_id`, and `pset_id`*.\n",
    "\n",
    "This *function* should use the helper *function*, the *`get2()` function* to retrieve the student id and the problem set id from the *`gradesByStudent` key* in the database.\n"
   ]
  },
  {
   "cell_type": "code",
   "execution_count": 12,
   "id": "0df74067",
   "metadata": {},
   "outputs": [],
   "source": [
    "### GRADED\n",
    "\n",
    "### YOUR SOLUTION HERE\n",
    "def  gradeOn():\n",
    "    pass\n",
    "\n",
    "### BEGIN SOLUTION\n",
    "def gradeOn(db, student_id, pset_id):\n",
    "    return get2(db[\"gradesByStudent\"], student_id, pset_id)\n",
    "### END SOLUTION"
   ]
  },
  {
   "cell_type": "markdown",
   "id": "2d3dc978",
   "metadata": {},
   "source": [
    "In the code cell below, the *`studentGrades` function* is defined that acts in a similar way as the *`gradeOn` function* that was defined in the previous question.\n",
    "\n",
    "Note that this *function* retrieves the student id based on the *`gradesByStudent` key* in the database."
   ]
  },
  {
   "cell_type": "code",
   "execution_count": 13,
   "id": "527da3ed",
   "metadata": {},
   "outputs": [],
   "source": [
    "def studentGrades(db, student_id):\n",
    "    return get(db[\"gradesByStudent\"], student_id)"
   ]
  },
  {
   "cell_type": "markdown",
   "id": "6305a489",
   "metadata": {},
   "source": [
    "## Question 7\n",
    "\n",
    "*15 points*\n",
    "\n",
    "Define a Python *function*, *`gradesOnPset`*, that takes, as inputs, *`db`* and `pset_id`*.\n",
    "\n",
    "This *function* should use the helper *function*, the *`get()` function* to retrieve the problem set id from the *`gradesByPset` key* in the database.\n",
    "\n",
    "This *function* should use an if *statement* and a *dictionary comprehension* to return the points for each student based on the *`studentsById` key* in the database for all the students and the points in the database. Otherwise, your *function* should return an empty value for your database.\n",
    "\n",
    "The blueprint for this *function* is given below:\n",
    "\n",
    "```\n",
    "\n",
    "def gradesOnPset(db, pset_id):\n",
    "    students = get(db[\"gradesByPset\"], pset_id)\n",
    "    if students:\n",
    "        #complete the dictionary comprehension below\n",
    "        return {_______________ for student_id, points in students.items()}\n",
    "    else:\n",
    "        #return empty value\n",
    "        _____________\n",
    "        \n",
    "        \n",
    "```"
   ]
  },
  {
   "cell_type": "code",
   "execution_count": 14,
   "id": "b25644ab",
   "metadata": {},
   "outputs": [],
   "source": [
    "### GRADED\n",
    "\n",
    "### YOUR SOLUTION HERE\n",
    "def  gradeOnPset():\n",
    "    pass\n",
    "\n",
    "### BEGIN SOLUTION\n",
    "\n",
    "def gradesOnPset(db, pset_id):\n",
    "    students = get(db[\"gradesByPset\"], pset_id)\n",
    "    if students:\n",
    "        return {db[\"studentsById\"][student_id]: points\n",
    "            for student_id, points in students.items()}\n",
    "    else:\n",
    "        return {}\n",
    "### END SOLUTION"
   ]
  },
  {
   "cell_type": "markdown",
   "id": "ef72d232",
   "metadata": {},
   "source": [
    "In the code cell below, the *`gradeOnWeighted` function* is defined.\n",
    "\n",
    "This *function* is similar to the one you defined in Project 15.2 Part 1, in the sense that it computes the weighted average for the grades for each student."
   ]
  },
  {
   "cell_type": "code",
   "execution_count": 15,
   "id": "b410497c",
   "metadata": {},
   "outputs": [],
   "source": [
    "def gradeOnWeighted(db, student_id, pset_id, pset_points):\n",
    "    grade = gradeOn(db, student_id, pset_id)\n",
    "    if grade == None:\n",
    "        return 0\n",
    "    else:\n",
    "        return grade * 1.0 / pset_points"
   ]
  },
  {
   "cell_type": "markdown",
   "id": "3b251c68",
   "metadata": {},
   "source": [
    "## Question 8\n",
    "\n",
    "*15 points*\n",
    "\n",
    "Define a Python *function*, the *`studentGradesWeighted` function*, that takes, as inputs, *`db`* and `student_id`*.\n",
    "\n",
    "\n",
    "This *function* should use a *list comprehension* and the *`gradeOnWeighted()` function* that was defined for you in the previous code cell to return the problem set id and the maximum points available for each problem set for all the entries in the database corresponding to the *`psets` key*.\n",
    "\n",
    "The blueprint for this *function* is given below:\n",
    "\n",
    "```\n",
    "\n",
    "def studentGradesWeighted(db, student_id):\n",
    "    #complete list comprehension\n",
    "    return [__________________________ for pset_id, pset_points in db[\"psets\"].items()]\n",
    "        \n",
    "```"
   ]
  },
  {
   "cell_type": "code",
   "execution_count": 16,
   "id": "6ac0f6b1",
   "metadata": {},
   "outputs": [],
   "source": [
    "### GRADED\n",
    "\n",
    "### YOUR SOLUTION HERE\n",
    "def  studentGradesWeighted():\n",
    "    pass\n",
    "\n",
    "### BEGIN SOLUTION\n",
    "\n",
    "def studentGradesWeighted(db, student_id):\n",
    "    return [gradeOnWeighted(db, student_id, pset_id, pset_points)\n",
    "            for pset_id, pset_points in db[\"psets\"].items()]\n",
    "### END SOLUTION"
   ]
  },
  {
   "cell_type": "markdown",
   "id": "5b32aa79",
   "metadata": {},
   "source": [
    "In the code cell below, the *`finalGradeOf()` function* is defined that uses the *`studentGradesWeighted()` function* to compute the weighted grade for each student."
   ]
  },
  {
   "cell_type": "code",
   "execution_count": 17,
   "id": "9061701e",
   "metadata": {},
   "outputs": [],
   "source": [
    "def finalGradeOf(db, student_id):\n",
    "    grades = studentGradesWeighted(db, student_id)\n",
    "    return round(sum(grades) / len(grades) * 100, 1)"
   ]
  },
  {
   "cell_type": "markdown",
   "id": "870aa4f5",
   "metadata": {},
   "source": [
    "## Question 9\n",
    "\n",
    "*10 points*\n",
    "\n",
    "Define a Python *function*, *`finalGrades`*, that takes, as input, *`db`*.\n",
    "\n",
    "\n",
    "This *function* should use a *list comprehension* to return the student id, the student name, and the weighted grade for each student.\n",
    "\n",
    "**Hint:** This *function* will have a very similar structure to the *`finalGrades()` function* that was defined in Project 15.2 Part 1."
   ]
  },
  {
   "cell_type": "code",
   "execution_count": 18,
   "id": "9f78310b",
   "metadata": {},
   "outputs": [],
   "source": [
    "### GRADED\n",
    "\n",
    "### YOUR SOLUTION HERE\n",
    "def  finalGrades():\n",
    "    pass\n",
    "\n",
    "### BEGIN SOLUTION\n",
    "def finalGrades(db):\n",
    "    return [{\"id\": id,\n",
    "             \"name\": name,\n",
    "             \"grade\": finalGradeOf(db, id)}\n",
    "            for id, name in db[\"studentsById\"].items()]\n",
    "### END SOLUTION"
   ]
  },
  {
   "cell_type": "markdown",
   "id": "9eeb9ee7",
   "metadata": {},
   "source": [
    "Finally, you can add some entries to your *dictionary* to see if you get the correct structure for your database."
   ]
  },
  {
   "cell_type": "code",
   "execution_count": 19,
   "id": "e2276814",
   "metadata": {},
   "outputs": [
    {
     "name": "stdout",
     "output_type": "stream",
     "text": [
      "[{'id': 1, 'name': 'Alice', 'grade': 91.1}, {'id': 2, 'name': 'Bob', 'grade': 16.7}, {'id': 3, 'name': 'Charlie', 'grade': 11.1}]\n"
     ]
    }
   ],
   "source": [
    "print (finalGrades(db))"
   ]
  },
  {
   "cell_type": "markdown",
   "id": "4f47c4f3",
   "metadata": {},
   "source": [
    "Congratulations! You have created your first database using redundant *dictionaries*!"
   ]
  },
  {
   "cell_type": "code",
   "execution_count": null,
   "id": "843609c3",
   "metadata": {},
   "outputs": [],
   "source": []
  }
 ],
 "metadata": {
  "kernelspec": {
   "display_name": "Python 3 (ipykernel)",
   "language": "python",
   "name": "python3"
  },
  "language_info": {
   "codemirror_mode": {
    "name": "ipython",
    "version": 3
   },
   "file_extension": ".py",
   "mimetype": "text/x-python",
   "name": "python",
   "nbconvert_exporter": "python",
   "pygments_lexer": "ipython3",
   "version": "3.9.9"
  }
 },
 "nbformat": 4,
 "nbformat_minor": 5
}
