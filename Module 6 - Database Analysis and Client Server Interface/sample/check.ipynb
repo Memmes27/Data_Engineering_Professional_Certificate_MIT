{
 "cells": [
  {
   "cell_type": "code",
   "execution_count": 2,
   "metadata": {},
   "outputs": [],
   "source": [
    "import mysql.connector"
   ]
  },
  {
   "cell_type": "code",
   "execution_count": 3,
   "metadata": {},
   "outputs": [
    {
     "name": "stdout",
     "output_type": "stream",
     "text": [
      "(1, 'MIT', 11, 'Cambridge', 'MA', 'USA')\n",
      "(2, 'Brown', 9, 'Providence', 'RI', 'USA')\n",
      "(3, 'Dartmouth', 6, 'Hanover', 'NH', 'USA')\n",
      "(4, 'Stanford', 17, 'Stanford', 'CA', 'USA')\n",
      "(5, 'Yale', 12, 'New Haven', 'CT', 'USA')\n",
      "(6, 'Columbia', 31, 'New York', 'NY', 'USA')\n",
      "(7, 'Harvard', 23, 'Cambridge', 'MA', 'USA')\n",
      "(8, 'Princeton', 9, 'Princeton', 'NJ', 'USA')\n",
      "(9, 'Johns Hopkins', 24, 'Baltimore', 'MD', 'USA')\n",
      "(10, 'Northwestern', 21, 'Evanston', 'IL', 'USA')\n",
      "(11, 'Duke', 15, 'Durham', 'NC', 'USA')\n",
      "(12, 'Cornell', 22, 'Ithaca', 'NY', 'USA')\n",
      "(13, 'Notre Dame', 9, 'Notre Dame', 'IN', 'USA')\n",
      "(14, 'UCLA', 32, 'Los Angeles', 'CA', 'USA')\n",
      "(15, 'Berkeley', 42, 'Berkeley', 'CA', 'USA')\n",
      "(16, 'Georgetown', 5, 'Washington', 'DC', 'USA')\n",
      "(17, 'Michigan', 45, 'Ann Arbor', 'MI', 'USA')\n",
      "(18, 'USC', 44, 'Los Angeles', 'CA', 'USA')\n",
      "(19, 'Tufts', 11, 'Medford', 'MA', 'USA')\n",
      "(20, 'NYU', 51, 'New York', 'NY', 'USA')\n"
     ]
    }
   ],
   "source": [
    "import mysql.connector\n",
    "\n",
    "cnx = mysql.connector.connect(\n",
    "    user='root',\n",
    "    password = 'Egyptiancobra27!',\n",
    "    host='127.0.0.1',\n",
    "    database='education',\n",
    "    auth_plugin='mysql_native_password'\n",
    ")\n",
    "\n",
    "cursor = cnx.cursor()\n",
    "query= (\"SELECT * FROM colleges\")\n",
    "cursor.execute(query)\n",
    "\n",
    "#Print\n",
    "for row in cursor.fetchall():\n",
    "    print(row)\n",
    "\n",
    "cursor.close()\n",
    "cnx.close()"
   ]
  },
  {
   "cell_type": "code",
   "execution_count": null,
   "metadata": {},
   "outputs": [],
   "source": []
  }
 ],
 "metadata": {
  "kernelspec": {
   "display_name": "base",
   "language": "python",
   "name": "python3"
  },
  "language_info": {
   "codemirror_mode": {
    "name": "ipython",
    "version": 3
   },
   "file_extension": ".py",
   "mimetype": "text/x-python",
   "name": "python",
   "nbconvert_exporter": "python",
   "pygments_lexer": "ipython3",
   "version": "3.8.5"
  }
 },
 "nbformat": 4,
 "nbformat_minor": 2
}
