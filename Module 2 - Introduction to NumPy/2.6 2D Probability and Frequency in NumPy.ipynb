{
 "cells": [
  {
   "cell_type": "code",
   "execution_count": 1,
   "metadata": {},
   "outputs": [],
   "source": [
    "import numpy as np\n",
    "import matplotlib.pyplot as plt"
   ]
  },
  {
   "cell_type": "code",
   "execution_count": 2,
   "metadata": {},
   "outputs": [
    {
     "data": {
      "text/plain": [
       "array([4, 2, 3, 9, 8, 5, 2, 1, 7, 3, 0, 4, 1, 0, 4, 3, 5, 8, 2, 6, 3, 3,\n",
       "       2, 8, 9, 0, 3, 7, 7, 3, 9, 7, 1, 9, 7, 7, 0, 3, 6, 7, 6, 5, 3, 6,\n",
       "       7, 4, 6, 0, 3, 6, 1, 6, 4, 6, 0, 9, 6, 5, 1, 7, 5, 4, 8, 0, 4, 6,\n",
       "       7, 5, 3, 5, 4, 2, 6, 8, 6, 6, 5, 3, 2, 6, 4, 6, 7, 6, 6, 8, 9, 7,\n",
       "       5, 6, 4, 7, 6, 8, 7, 2, 2, 0, 3, 0])"
      ]
     },
     "execution_count": 2,
     "metadata": {},
     "output_type": "execute_result"
    }
   ],
   "source": [
    "# Data as sampling from an unseen population\n",
    "# Choose at random from 0 through 9\n",
    "\n",
    "a = np.random.choice(np.arange(0,10), 100)\n",
    "a"
   ]
  },
  {
   "cell_type": "code",
   "execution_count": 9,
   "metadata": {},
   "outputs": [
    {
     "data": {
      "text/plain": [
       "(array([0.09, 0.05, 0.08, 0.13, 0.1 , 0.09, 0.19, 0.14, 0.07, 0.06]),\n",
       " array([ 0,  1,  2,  3,  4,  5,  6,  7,  8,  9, 10]),\n",
       " <BarContainer object of 10 artists>)"
      ]
     },
     "execution_count": 9,
     "metadata": {},
     "output_type": "execute_result"
    },
    {
     "data": {
      "image/png": "[encoded data removed]",
      "text/plain": [
       "<Figure size 432x288 with 1 Axes>"
      ]
     },
     "metadata": {
      "needs_background": "light"
     },
     "output_type": "display_data"
    }
   ],
   "source": [
    "plt.hist(a, bins = np.arange(0,11,1), density = True)\n",
    "plt."
   ]
  },
  {
   "cell_type": "code",
   "execution_count": null,
   "metadata": {},
   "outputs": [],
   "source": []
  }
 ],
 "metadata": {
  "kernelspec": {
   "display_name": "Python 3",
   "language": "python",
   "name": "python3"
  },
  "language_info": {
   "codemirror_mode": {
    "name": "ipython",
    "version": 3
   },
   "file_extension": ".py",
   "mimetype": "text/x-python",
   "name": "python",
   "nbconvert_exporter": "python",
   "pygments_lexer": "ipython3",
   "version": "3.8.5"
  }
 },
 "nbformat": 4,
 "nbformat_minor": 4
}
