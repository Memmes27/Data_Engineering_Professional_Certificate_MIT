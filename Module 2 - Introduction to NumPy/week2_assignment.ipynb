{
 "cells": [
  {
   "cell_type": "markdown",
   "metadata": {
    "deletable": false,
    "editable": false,
    "nbgrader": {
     "cell_type": "markdown",
     "checksum": "35d34fd5ef2244b98846a8fa969aa99f",
     "grade": false,
     "grade_id": "cell-b90c92aa7552cbda",
     "locked": true,
     "schema_version": 3,
     "solution": false
    }
   },
   "source": [
    "# Codio Coding Assignment 2.1: NumPy Arrays and Functions, Distributions, and Plotting Data Using Matplotlib\n",
    "\n",
    "### Learning Outcomes Addressed\n",
    "\n",
    "- 1. Implement NumPy arrays, functions, and multidimensional arrays.\n",
    "- 8. Implement discrete and continuous distributions.\n",
    "- 9. Visualize data using Matplotlib graphs.\n",
    "- 10. Interpret data using Matplotlib graphs.\n",
    "\n",
    "\n",
    "\n",
    "\n",
    "## Index:\n",
    "\n",
    "- [Question 1](#Question-1)\n",
    "- [Question 2](#Question-2)\n",
    "- [Question 3](#Question-3)\n",
    "- [Question 4](#Question-4)\n",
    "- [Question 5](#Question-5)\n",
    "- [Question 6](#Question-6)\n",
    "- [Question 7](#Question-7)\n",
    "- [Question 8](#Question-8)\n",
    "- [Question 9](#Question-9)\n",
    "- [Question 10](#Question-10)\n",
    "- [Question 11](#Question-11)\n",
    "- [Question 12](#Question-12)\n",
    "- [Question 13](#Question-13)\n",
    "- [Question 14](#Question-14)\n",
    "- [Question 15](#Question-15)\n",
    "- [Question 16](#Question-16)\n",
    "- [Question 17](#Question-17)\n",
    "- [Question 18](#Question-18)\n",
    "- [Question 19](#Question-19)\n",
    "\n"
   ]
  },
  {
   "cell_type": "code",
   "execution_count": 1,
   "metadata": {
    "deletable": false,
    "editable": false,
    "nbgrader": {
     "cell_type": "code",
     "checksum": "a5913fcda0aa17b1c50ac7dded25d77c",
     "grade": false,
     "grade_id": "cell-22a65818612e5604",
     "locked": true,
     "schema_version": 3,
     "solution": false
    }
   },
   "outputs": [],
   "source": [
    "import numpy as np"
   ]
  },
  {
   "cell_type": "markdown",
   "metadata": {
    "deletable": false,
    "editable": false,
    "nbgrader": {
     "cell_type": "markdown",
     "checksum": "eaf307a1ddda901e16cc11ae124a0fdf",
     "grade": false,
     "grade_id": "cell-5bf49834b36cdc0d",
     "locked": true,
     "schema_version": 3,
     "solution": false
    }
   },
   "source": [
    "\n",
    "### Question 1\n",
    "\n",
    "*5 points*\n",
    "\n",
    "Create a *NumPy array, `ans1`*, with elements *`2000, 4000, 6000, 7000,`* and *`1000.`*"
   ]
  },
  {
   "cell_type": "code",
   "execution_count": 2,
   "metadata": {
    "deletable": false,
    "nbgrader": {
     "cell_type": "code",
     "checksum": "f1358100c19b329972fdcd625c699581",
     "grade": false,
     "grade_id": "cell-8aca6bb2f75a47e5",
     "locked": false,
     "schema_version": 3,
     "solution": true
    }
   },
   "outputs": [
    {
     "data": {
      "text/plain": [
       "array([2000, 4000, 6000, 7000, 1000])"
      ]
     },
     "execution_count": 2,
     "metadata": {},
     "output_type": "execute_result"
    }
   ],
   "source": [
    "### GRADED\n",
    "\n",
    "### YOUR SOLUTION HERE\n",
    "# Create a NumPy array with the specified elements\n",
    "ans1 = np.array([2000, 4000, 6000, 7000, 1000])\n",
    "\n",
    "ans1\n",
    "# YOUR CODE HERE\n"
   ]
  },
  {
   "cell_type": "code",
   "execution_count": null,
   "metadata": {
    "deletable": false,
    "editable": false,
    "nbgrader": {
     "cell_type": "code",
     "checksum": "116704083dc63a68b0a3cc5cab246826",
     "grade": true,
     "grade_id": "cell-0bd5f5903cf1297e",
     "locked": true,
     "points": 5,
     "schema_version": 3,
     "solution": false
    }
   },
   "outputs": [],
   "source": []
  },
  {
   "cell_type": "markdown",
   "metadata": {
    "deletable": false,
    "editable": false,
    "nbgrader": {
     "cell_type": "markdown",
     "checksum": "034186647397b3da5cce99ed0bc1067d",
     "grade": false,
     "grade_id": "cell-6f05aa14e9cd7db8",
     "locked": true,
     "schema_version": 3,
     "solution": false
    }
   },
   "source": [
    "### Question 2\n",
    "\n",
    "*3 points*\n",
    "\n",
    "Divide *`ans1`* by 1,000 to convert the distance to kilometers. Name this *array `ans2`*."
   ]
  },
  {
   "cell_type": "code",
   "execution_count": 3,
   "metadata": {
    "deletable": false,
    "nbgrader": {
     "cell_type": "code",
     "checksum": "e88983dc72524db2e21787da92cd68d1",
     "grade": false,
     "grade_id": "cell-6b291ab5954cd3a6",
     "locked": false,
     "schema_version": 3,
     "solution": true
    }
   },
   "outputs": [
    {
     "data": {
      "text/plain": [
       "array([2., 4., 6., 7., 1.])"
      ]
     },
     "execution_count": 3,
     "metadata": {},
     "output_type": "execute_result"
    }
   ],
   "source": [
    "### GRADED\n",
    "### YOUR SOLUTION HERE\n",
    "# Divide ans1 by 1,000 to convert the distance to kilometers\n",
    "ans2 = ans1 / 1000\n",
    "\n",
    "ans2\n",
    "# YOUR CODE HERE\n"
   ]
  },
  {
   "cell_type": "code",
   "execution_count": null,
   "metadata": {
    "deletable": false,
    "editable": false,
    "nbgrader": {
     "cell_type": "code",
     "checksum": "3aa2d400ae74187e45afb145ecc4cdda",
     "grade": true,
     "grade_id": "cell-561159d6a55442d2",
     "locked": true,
     "points": 3,
     "schema_version": 3,
     "solution": false
    }
   },
   "outputs": [],
   "source": []
  },
  {
   "cell_type": "markdown",
   "metadata": {
    "deletable": false,
    "editable": false,
    "nbgrader": {
     "cell_type": "markdown",
     "checksum": "b7a11e03e912d46d5fb4beb14549371f",
     "grade": false,
     "grade_id": "cell-ff926c52101cfe00",
     "locked": true,
     "schema_version": 3,
     "solution": false
    }
   },
   "source": [
    "### Question 3\n",
    "\n",
    "*4 points*\n",
    "\n",
    "Transform the *list `time=[0.5, 1, 1.3, 1.5, 2],`* defined below into a *NumPy array*. Name this *array `ans3a`*. \n",
    "\n",
    "Next, divide *`ans2`* by *`ans3a`*. Assign this *array* to  *`ans3b`*."
   ]
  },
  {
   "cell_type": "code",
   "execution_count": 4,
   "metadata": {
    "deletable": false,
    "nbgrader": {
     "cell_type": "code",
     "checksum": "0a28f661f9066366b10d015f964731fd",
     "grade": false,
     "grade_id": "cell-01cc3b2e9c801e5e",
     "locked": false,
     "schema_version": 3,
     "solution": true
    }
   },
   "outputs": [],
   "source": [
    "### GRADED\n",
    "time=[0.5, 1,1.3,1.5,2]\n",
    "\n",
    "### YOUR SOLUTION HERE\n",
    "# Transform the list into a NumPy array\n",
    "ans3a = np.array(time)\n",
    "\n",
    "# Divide ans2 by ans3a\n",
    "ans3b = ans2 / ans3a\n",
    "\n",
    "# YOUR CODE HERE\n"
   ]
  },
  {
   "cell_type": "code",
   "execution_count": null,
   "metadata": {
    "deletable": false,
    "editable": false,
    "nbgrader": {
     "cell_type": "code",
     "checksum": "02ef5e86ed522ad877751b677a1d0cf8",
     "grade": true,
     "grade_id": "cell-184d5dab2bc8fa14",
     "locked": true,
     "points": 4,
     "schema_version": 3,
     "solution": false
    }
   },
   "outputs": [],
   "source": []
  },
  {
   "cell_type": "markdown",
   "metadata": {
    "deletable": false,
    "editable": false,
    "nbgrader": {
     "cell_type": "markdown",
     "checksum": "2717073daa8ba7d2a8d0fc4b4859bfb5",
     "grade": false,
     "grade_id": "cell-0d4c5783718bb68c",
     "locked": true,
     "schema_version": 3,
     "solution": false
    }
   },
   "source": [
    "### Question 4\n",
    "\n",
    "*3 points*\n",
    "\n",
    "You just received some new information and want to update your data.\n",
    "\n",
    "Make a copy of *`ans3b`* and store it in a new *array* called *`ans4`*. Then, change the second to last element of this new *array* to *`1.8`*."
   ]
  },
  {
   "cell_type": "code",
   "execution_count": 5,
   "metadata": {
    "deletable": false,
    "nbgrader": {
     "cell_type": "code",
     "checksum": "f14165640d22ac31241195b456d1238a",
     "grade": false,
     "grade_id": "cell-6705db8c4ddd268a",
     "locked": false,
     "schema_version": 3,
     "solution": true
    }
   },
   "outputs": [],
   "source": [
    "### GRADED\n",
    "### YOUR SOLUTION HERE\n",
    "# Make a copy of ans3b\n",
    "ans4 = np.copy(ans3b)\n",
    "\n",
    "# Change the second to last element to 1.8\n",
    "ans4[-2] = 1.8\n",
    "\n",
    "# YOUR CODE HERE\n"
   ]
  },
  {
   "cell_type": "code",
   "execution_count": null,
   "metadata": {
    "deletable": false,
    "editable": false,
    "nbgrader": {
     "cell_type": "code",
     "checksum": "1640718ef2ee8cf91e1436ae5f74e094",
     "grade": true,
     "grade_id": "cell-6d734e81b652b70f",
     "locked": true,
     "points": 3,
     "schema_version": 3,
     "solution": false
    }
   },
   "outputs": [],
   "source": []
  },
  {
   "cell_type": "markdown",
   "metadata": {
    "deletable": false,
    "editable": false,
    "nbgrader": {
     "cell_type": "markdown",
     "checksum": "ee0c15c6dffde2fe681a0fcefce69aad",
     "grade": false,
     "grade_id": "cell-7128da58e3077ff0",
     "locked": true,
     "schema_version": 3,
     "solution": false
    }
   },
   "source": [
    "### Question 5\n",
    "\n",
    "*4 points*\n",
    "\n",
    "The *list `body_measurement,`* defined below, contains the body measurements of four students. Each of its elements is another *list* containing the height and weight in centimeters and kilograms of each of the four students.\n",
    "\n",
    "\n",
    "Convert *`body_measurement`* defined below into a 2-D *NumPy array, `np_body_measurement`*.\n"
   ]
  },
  {
   "cell_type": "code",
   "execution_count": 6,
   "metadata": {
    "deletable": false,
    "nbgrader": {
     "cell_type": "code",
     "checksum": "27414c10fa8835108e90158caadeb910",
     "grade": false,
     "grade_id": "cell-e0d1b7387743767c",
     "locked": false,
     "schema_version": 3,
     "solution": true
    }
   },
   "outputs": [],
   "source": [
    "### GRADED\n",
    "body_measurement = [[168, 55.4],\n",
    "                    [155, 47.7],\n",
    "                    [175, 69.5],\n",
    "                    [189, 90.2]]\n",
    "\n",
    "### YOUR SOLUTION HERE\n",
    "# Convert the list into a 2-D NumPy array\n",
    "np_body_measurement = np.array(body_measurement)\n",
    "\n",
    "# YOUR CODE HERE\n"
   ]
  },
  {
   "cell_type": "code",
   "execution_count": null,
   "metadata": {
    "deletable": false,
    "editable": false,
    "nbgrader": {
     "cell_type": "code",
     "checksum": "157c46e0559e2e15c5cd6fb9193eb155",
     "grade": true,
     "grade_id": "cell-4508948ab53285eb",
     "locked": true,
     "points": 4,
     "schema_version": 3,
     "solution": false
    }
   },
   "outputs": [],
   "source": []
  },
  {
   "cell_type": "markdown",
   "metadata": {
    "deletable": false,
    "editable": false,
    "nbgrader": {
     "cell_type": "markdown",
     "checksum": "b25384bfe8224548d13b6b1776913556",
     "grade": false,
     "grade_id": "cell-eb1a40d27e0b317e",
     "locked": true,
     "schema_version": 3,
     "solution": false
    }
   },
   "source": [
    "### Question 6\n",
    "\n",
    "*3 points*\n",
    "\n",
    "Use the correct *function* to get the shape of *`np_body_measurement`*. Assign the result to the variable *`ans6`*."
   ]
  },
  {
   "cell_type": "code",
   "execution_count": 7,
   "metadata": {
    "deletable": false,
    "nbgrader": {
     "cell_type": "code",
     "checksum": "923a5a060a336a8c1e0bb460ab2601fe",
     "grade": false,
     "grade_id": "cell-b1711da93f8dd089",
     "locked": false,
     "schema_version": 3,
     "solution": true
    }
   },
   "outputs": [],
   "source": [
    "### GRADED\n",
    "### YOUR SOLUTION HERE\n",
    "# Get the shape of np_body_measurement\n",
    "ans6 = np_body_measurement.shape\n",
    "\n",
    "# YOUR CODE HERE\n"
   ]
  },
  {
   "cell_type": "code",
   "execution_count": null,
   "metadata": {
    "deletable": false,
    "editable": false,
    "nbgrader": {
     "cell_type": "code",
     "checksum": "fb4e5eb7232546a1151ab86886762d2f",
     "grade": true,
     "grade_id": "cell-a100cbf8775baa44",
     "locked": true,
     "points": 3,
     "schema_version": 3,
     "solution": false
    }
   },
   "outputs": [],
   "source": []
  },
  {
   "cell_type": "markdown",
   "metadata": {
    "deletable": false,
    "editable": false,
    "nbgrader": {
     "cell_type": "markdown",
     "checksum": "4e335bd7f0686725a822c5362e330704",
     "grade": false,
     "grade_id": "cell-cb0503a45f1c4ea7",
     "locked": true,
     "schema_version": 3,
     "solution": false
    }
   },
   "source": [
    "### Question 7\n",
    "\n",
    "*4 points*\n",
    "\n",
    "Select the body measurements of the second student (the one with index one) in *`np_body_measurement`* and assign them to *`ans7`*."
   ]
  },
  {
   "cell_type": "code",
   "execution_count": 8,
   "metadata": {
    "deletable": false,
    "nbgrader": {
     "cell_type": "code",
     "checksum": "d53e400bf5941fdfaa7c68119345e690",
     "grade": false,
     "grade_id": "cell-6239473a144f827e",
     "locked": false,
     "schema_version": 3,
     "solution": true
    }
   },
   "outputs": [],
   "source": [
    "### GRADED\n",
    "### YOUR SOLUTION HERE\n",
    "ans7 = np_body_measurement[1]\n",
    "\n",
    "# YOUR CODE HERE\n"
   ]
  },
  {
   "cell_type": "code",
   "execution_count": null,
   "metadata": {
    "deletable": false,
    "editable": false,
    "nbgrader": {
     "cell_type": "code",
     "checksum": "c34407097a49bbe9b9d455a1a1ae1f11",
     "grade": true,
     "grade_id": "cell-905c8b9f21a388fa",
     "locked": true,
     "points": 4,
     "schema_version": 3,
     "solution": false
    }
   },
   "outputs": [],
   "source": []
  },
  {
   "cell_type": "markdown",
   "metadata": {
    "deletable": false,
    "editable": false,
    "nbgrader": {
     "cell_type": "markdown",
     "checksum": "b421da8d266ed6837e6c4cc94666549f",
     "grade": false,
     "grade_id": "cell-d478e93c7c5b1d5d",
     "locked": true,
     "schema_version": 3,
     "solution": false
    }
   },
   "source": [
    "### Question 8\n",
    "\n",
    "*3 points*\n",
    "\n",
    "Select the weight of the third student (the one with index two) in *`np_body_measurement`* and assign it to *`ans8`*."
   ]
  },
  {
   "cell_type": "code",
   "execution_count": 9,
   "metadata": {
    "deletable": false,
    "nbgrader": {
     "cell_type": "code",
     "checksum": "18fd0182ceb15eac991109edb4d8de25",
     "grade": false,
     "grade_id": "cell-8d00281a191d047e",
     "locked": false,
     "schema_version": 3,
     "solution": true
    }
   },
   "outputs": [
    {
     "data": {
      "text/plain": [
       "69.5"
      ]
     },
     "execution_count": 9,
     "metadata": {},
     "output_type": "execute_result"
    }
   ],
   "source": [
    "### GRADED\n",
    "### YOUR SOLUTION HERE\n",
    "# Select the weight of the third student\n",
    "ans8 = np_body_measurement[2, 1]\n",
    "# YOUR CODE HERE\n",
    "ans8"
   ]
  },
  {
   "cell_type": "code",
   "execution_count": null,
   "metadata": {
    "deletable": false,
    "editable": false,
    "nbgrader": {
     "cell_type": "code",
     "checksum": "2a461daf33574ede05f008b03de1e5c3",
     "grade": true,
     "grade_id": "cell-90608c40055a7328",
     "locked": true,
     "points": 3,
     "schema_version": 3,
     "solution": false
    }
   },
   "outputs": [],
   "source": []
  },
  {
   "cell_type": "markdown",
   "metadata": {
    "deletable": false,
    "editable": false,
    "nbgrader": {
     "cell_type": "markdown",
     "checksum": "bf033c5dd86e795c4612c0d4bd6bb1d1",
     "grade": false,
     "grade_id": "cell-b7aa847b64117cb2",
     "locked": true,
     "schema_version": 3,
     "solution": false
    }
   },
   "source": [
    "### Question 9\n",
    "\n",
    "*5 points*\n",
    "\n",
    "Define `array_9a` with two dimension, shape *`(5,2),`* and elements *`[0,0],[1,11],[2,22],[3,33],[4,44]`*, and an *array, `array_9b`* with elements *`[-1,-1]`*.\n",
    "\n",
    "Subtract *`array_9b`* from *`array_9a`* and assign the result to *`ans9a`*."
   ]
  },
  {
   "cell_type": "code",
   "execution_count": 10,
   "metadata": {
    "deletable": false,
    "nbgrader": {
     "cell_type": "code",
     "checksum": "c6c12f690e52734e814c40bdbf3447c6",
     "grade": false,
     "grade_id": "cell-62d711c8871d28ed",
     "locked": false,
     "schema_version": 3,
     "solution": true
    }
   },
   "outputs": [
    {
     "data": {
      "text/plain": [
       "array([[ 1,  1],\n",
       "       [ 2, 12],\n",
       "       [ 3, 23],\n",
       "       [ 4, 34],\n",
       "       [ 5, 45]])"
      ]
     },
     "execution_count": 10,
     "metadata": {},
     "output_type": "execute_result"
    }
   ],
   "source": [
    "### GRADED\n",
    "\n",
    "### YOUR SOLUTION HERE\n",
    "# Define array_9a with shape (5, 2)\n",
    "array_9a = np.array([[0, 0],\n",
    "                     [1, 11],\n",
    "                     [2, 22],\n",
    "                     [3, 33],\n",
    "                     [4, 44]])\n",
    "\n",
    "# Define array_9b with elements [-1, -1]\n",
    "array_9b = np.array([-1, -1])\n",
    "\n",
    "# Subtract array_9b from array_9a\n",
    "ans9a = array_9a - array_9b\n",
    "# YOUR CODE HERE\n",
    "ans9a"
   ]
  },
  {
   "cell_type": "code",
   "execution_count": null,
   "metadata": {
    "deletable": false,
    "editable": false,
    "nbgrader": {
     "cell_type": "code",
     "checksum": "51f262bca3222a1ffeb62c3c3bfcdfed",
     "grade": true,
     "grade_id": "cell-24b64dd11314e5d2",
     "locked": true,
     "points": 5,
     "schema_version": 3,
     "solution": false
    }
   },
   "outputs": [],
   "source": []
  },
  {
   "cell_type": "markdown",
   "metadata": {
    "deletable": false,
    "editable": false,
    "nbgrader": {
     "cell_type": "markdown",
     "checksum": "36ba7a69f1d6c583ccf76789f6a85c22",
     "grade": false,
     "grade_id": "cell-a55c9510b194fd3f",
     "locked": true,
     "schema_version": 3,
     "solution": false
    }
   },
   "source": [
    "### Question 10\n",
    "*8 points*\n",
    "\n",
    "Define `array_10a` with two dimension, shape *`(3,4)`*, and elements *`[0,0,0,0],[1,2,3,4],[5,6,7,8]`*, and an *array, `array_10b`* with elements *`[-2,-2,-1, 0]`*.\n",
    "\n",
    "Subtract *`array_10b`* from each row of *`array_10a`* and assign the result to *`ans10a`*."
   ]
  },
  {
   "cell_type": "code",
   "execution_count": 11,
   "metadata": {
    "deletable": false,
    "nbgrader": {
     "cell_type": "code",
     "checksum": "e78a953173cfdee49a0c4cd84f64907a",
     "grade": false,
     "grade_id": "cell-0b599e9608251d5b",
     "locked": false,
     "schema_version": 3,
     "solution": true
    }
   },
   "outputs": [],
   "source": [
    "### GRADED\n",
    "\n",
    "### YOUR SOLUTION HERE\n",
    "# Define array_10a with shape (3, 4)\n",
    "array_10a = np.array([[0, 0, 0, 0],\n",
    "                      [1, 2, 3, 4],\n",
    "                      [5, 6, 7, 8]])\n",
    "\n",
    "# Define array_10b with elements [-2, -2, -1, 0]\n",
    "array_10b = np.array([-2, -2, -1, 0])\n",
    "\n",
    "# Subtract array_10b from each row of array_10a\n",
    "ans10a = array_10a - array_10b\n",
    "# YOUR CODE HERE\n"
   ]
  },
  {
   "cell_type": "code",
   "execution_count": null,
   "metadata": {
    "deletable": false,
    "editable": false,
    "nbgrader": {
     "cell_type": "code",
     "checksum": "c3bdf44546c2f03db596c923772e627a",
     "grade": true,
     "grade_id": "cell-bc41ad0c6e5c456d",
     "locked": true,
     "points": 8,
     "schema_version": 3,
     "solution": false
    }
   },
   "outputs": [],
   "source": []
  },
  {
   "cell_type": "markdown",
   "metadata": {
    "deletable": false,
    "editable": false,
    "nbgrader": {
     "cell_type": "markdown",
     "checksum": "9f09114ed9b9ce7ed9a8c3d6f2254361",
     "grade": false,
     "grade_id": "cell-68e2b8411b5bf1e2",
     "locked": true,
     "schema_version": 3,
     "solution": false
    }
   },
   "source": [
    "### Question 11\n",
    "*4 points*\n",
    "\n",
    "Define an *array, `array_11`* with two dimension, shape *`(4,2),`* and elements *`[-1,-2,-3,-4],[0,1,-1, 2],[2,-2,2,-1]`*.\n",
    "\n",
    "Extract the *indexes* of the elements of *`array_11`* that are less than -1. Assign the result to *`ans11a`*."
   ]
  },
  {
   "cell_type": "code",
   "execution_count": 12,
   "metadata": {
    "deletable": false,
    "nbgrader": {
     "cell_type": "code",
     "checksum": "5c4e785406ec54800b6117b19a4ded1b",
     "grade": false,
     "grade_id": "cell-b3c273b69146f29a",
     "locked": false,
     "schema_version": 3,
     "solution": true
    }
   },
   "outputs": [
    {
     "data": {
      "text/plain": [
       "array([[0, 1],\n",
       "       [1, 0],\n",
       "       [1, 1],\n",
       "       [4, 1]])"
      ]
     },
     "execution_count": 12,
     "metadata": {},
     "output_type": "execute_result"
    }
   ],
   "source": [
    "### GRADED\n",
    "\n",
    "### YOUR SOLUTION HERE\n",
    "# Define array_11 with shape (4, 2)\n",
    "array_11 = np.array([[-1, -2],\n",
    "                     [-3, -4],\n",
    "                     [0, 1],\n",
    "                     [-1, 2],\n",
    "                     [2, -2],\n",
    "                     [2, -1]])\n",
    "\n",
    "# Extract the indexes of elements less than -1\n",
    "ans11a = np.argwhere(array_11 < -1)\n",
    "\n",
    "# YOUR CODE HERE\n",
    "ans11a"
   ]
  },
  {
   "cell_type": "code",
   "execution_count": null,
   "metadata": {
    "deletable": false,
    "editable": false,
    "nbgrader": {
     "cell_type": "code",
     "checksum": "2653022fd7a22663be26bea1a5cf3362",
     "grade": true,
     "grade_id": "cell-c8623bf6c0bf374b",
     "locked": true,
     "points": 4,
     "schema_version": 3,
     "solution": false
    }
   },
   "outputs": [],
   "source": []
  },
  {
   "cell_type": "markdown",
   "metadata": {
    "deletable": false,
    "editable": false,
    "nbgrader": {
     "cell_type": "markdown",
     "checksum": "ee3d0c030063a2827c493beb4f29e4df",
     "grade": false,
     "grade_id": "cell-3240a1ba4e671475",
     "locked": true,
     "schema_version": 3,
     "solution": false
    }
   },
   "source": [
    "### Question 12\n",
    "*4 points*\n",
    "\n",
    "Define an *array, `ans12a`*, with elements *`16, -25, -36`*, and *`1`*. Compute the absolute value of *`ans12a`* and assign it to *`ans12b`*."
   ]
  },
  {
   "cell_type": "code",
   "execution_count": 13,
   "metadata": {
    "deletable": false,
    "nbgrader": {
     "cell_type": "code",
     "checksum": "0f9eb0a43afcc72362695c7ae65c1d99",
     "grade": false,
     "grade_id": "cell-309a796ce11755a6",
     "locked": false,
     "schema_version": 3,
     "solution": true
    }
   },
   "outputs": [],
   "source": [
    "### GRADED\n",
    "\n",
    "### YOUR SOLUTION HERE\n",
    "# Define the array ans12a\n",
    "ans12a = np.array([16, -25, -36, 1])\n",
    "\n",
    "# Compute the absolute value of ans12a\n",
    "ans12b = np.abs(ans12a)\n",
    "\n",
    "# YOUR CODE HERE\n"
   ]
  },
  {
   "cell_type": "code",
   "execution_count": null,
   "metadata": {
    "deletable": false,
    "editable": false,
    "nbgrader": {
     "cell_type": "code",
     "checksum": "ea26f7722fd1a593d53f820636bad82c",
     "grade": true,
     "grade_id": "cell-251d6a4f6fce7656",
     "locked": true,
     "points": 4,
     "schema_version": 3,
     "solution": false
    }
   },
   "outputs": [],
   "source": []
  },
  {
   "cell_type": "markdown",
   "metadata": {
    "deletable": false,
    "editable": false,
    "nbgrader": {
     "cell_type": "markdown",
     "checksum": "f3ae8020e358a4f066c5c61501835749",
     "grade": false,
     "grade_id": "cell-36b68486e090b50b",
     "locked": true,
     "schema_version": 3,
     "solution": false
    }
   },
   "source": [
    "### Question 13\n",
    "*6 points*\n",
    "\n",
    "In the code cell below, define a *variable, `ans13a`*, that contains the probability value of getting heads or tail  when tossing a coin.\n",
    "\n",
    "Next, generate the random variable values for this experiment by using the *`bernoulli()` function* imported above. Assign this result to *`ans13b`*.\n",
    "\n",
    "Finally, generate 150 samples for this experiment. Assign this result to *`ans3c`*."
   ]
  },
  {
   "cell_type": "code",
   "execution_count": 14,
   "metadata": {
    "deletable": false,
    "nbgrader": {
     "cell_type": "code",
     "checksum": "3c689a452f848e34c182401a1af9f74a",
     "grade": false,
     "grade_id": "cell-badebb0cf28f61e7",
     "locked": false,
     "schema_version": 3,
     "solution": true
    }
   },
   "outputs": [],
   "source": [
    "### GRADED\n",
    "\n",
    "#importing the function\n",
    "from scipy.stats import bernoulli \n",
    "#random seed for reproducibility\n",
    "np.random.seed(0)\n",
    "### YOUR SOLUTION HERE\n",
    "# Define the probability of getting heads or tails\n",
    "ans13a = 0.5\n",
    "\n",
    "# Generate the random variable values for this experiment\n",
    "ans13b = bernoulli(ans13a)\n",
    "\n",
    "# Generate 150 samples for this experiment\n",
    "ans13c = ans13b.rvs(150)\n",
    "\n",
    "\n",
    "# YOUR CODE HERE\n"
   ]
  },
  {
   "cell_type": "code",
   "execution_count": null,
   "metadata": {
    "deletable": false,
    "editable": false,
    "nbgrader": {
     "cell_type": "code",
     "checksum": "6aa562326f4f42055483cc734b81c010",
     "grade": true,
     "grade_id": "cell-520091d1a8847bee",
     "locked": true,
     "points": 6,
     "schema_version": 3,
     "solution": false
    }
   },
   "outputs": [],
   "source": []
  },
  {
   "cell_type": "markdown",
   "metadata": {
    "deletable": false,
    "editable": false,
    "nbgrader": {
     "cell_type": "markdown",
     "checksum": "343e465b465bf34396214f165ce7ff68",
     "grade": false,
     "grade_id": "cell-d929973fe7d6983e",
     "locked": true,
     "schema_version": 3,
     "solution": false
    }
   },
   "source": [
    "### Question 14\n",
    "*6 points*\n",
    "\n",
    "Generate 500 uniform random variable values distributed between 10 and 30 by using the *`uniform.rvs()` function* imported above. \n",
    "\n",
    "Assign the result to *`ans14`*."
   ]
  },
  {
   "cell_type": "code",
   "execution_count": 15,
   "metadata": {
    "deletable": false,
    "nbgrader": {
     "cell_type": "code",
     "checksum": "cc3268e2113509910d9139f3f2cba935",
     "grade": false,
     "grade_id": "cell-e2a24db6107f3271",
     "locked": false,
     "schema_version": 3,
     "solution": true
    }
   },
   "outputs": [],
   "source": [
    "### GRADED\n",
    "#Importing the library\n",
    "from scipy.stats import uniform\n",
    "#Setting random seed\n",
    "np.random.seed(10)\n",
    "\n",
    "### YOUR SOLUTION HERE\n",
    "# Generate 500 uniform random variable values between 10 and 30\n",
    "ans14 = uniform.rvs(loc=10, scale=20, size=500)\n",
    "# YOUR CODE HERE\n"
   ]
  },
  {
   "cell_type": "code",
   "execution_count": null,
   "metadata": {
    "deletable": false,
    "editable": false,
    "nbgrader": {
     "cell_type": "code",
     "checksum": "463e77e23eeecaf01951f46faa4911e9",
     "grade": true,
     "grade_id": "cell-e7c65d0c2049ae5c",
     "locked": true,
     "points": 6,
     "schema_version": 3,
     "solution": false
    }
   },
   "outputs": [],
   "source": []
  },
  {
   "cell_type": "markdown",
   "metadata": {
    "deletable": false,
    "editable": false,
    "nbgrader": {
     "cell_type": "markdown",
     "checksum": "2744f4f8806cd2136c0bc10a60a63753",
     "grade": false,
     "grade_id": "cell-d3a654266bede889",
     "locked": true,
     "schema_version": 3,
     "solution": false
    }
   },
   "source": [
    "### Question 15\n",
    "*4 points*\n",
    "\n",
    "Generate 2,000 normally distributed samples of data with mean and standard deviation equal to 1. Assign your points to the variable *`ans15`*."
   ]
  },
  {
   "cell_type": "code",
   "execution_count": 16,
   "metadata": {
    "deletable": false,
    "nbgrader": {
     "cell_type": "code",
     "checksum": "96da375bc1ffe645adb45bbb48748617",
     "grade": false,
     "grade_id": "cell-acc5fc085dbf7d21",
     "locked": false,
     "schema_version": 3,
     "solution": true
    }
   },
   "outputs": [],
   "source": [
    "### GRADED\n",
    "\n",
    "#Setting random seed\n",
    "np.random.seed(10)\n",
    "\n",
    "### YOUR SOLUTION HERE\n",
    "# Generate 2,000 normally distributed samples with mean 1 and standard deviation 1\n",
    "ans15 = np.random.normal(loc=1, scale=1, size=2000)\n",
    "# YOUR CODE HERE\n"
   ]
  },
  {
   "cell_type": "code",
   "execution_count": null,
   "metadata": {
    "deletable": false,
    "editable": false,
    "nbgrader": {
     "cell_type": "code",
     "checksum": "e0bbeb6c2e349318c0213bdb715d72f7",
     "grade": true,
     "grade_id": "cell-8697bc48749d5152",
     "locked": true,
     "points": 4,
     "schema_version": 3,
     "solution": false
    }
   },
   "outputs": [],
   "source": []
  },
  {
   "cell_type": "markdown",
   "metadata": {
    "deletable": false,
    "editable": false,
    "nbgrader": {
     "cell_type": "markdown",
     "checksum": "8dc57417d71eff030ec21ee5dd5cd474",
     "grade": false,
     "grade_id": "cell-03a3e0287a3c465e",
     "locked": true,
     "schema_version": 3,
     "solution": false
    }
   },
   "source": [
    "### Question 16\n",
    "*8 points*\n",
    "\n",
    "    \n",
    "The  *array `t`* has been defined in the code cell below. \n",
    "\n",
    "On the same graph, plot *`t`*, $\\sqrt(t)$, and *`t^3`*.\n",
    "\n",
    "Save your *plot* as a *`png`* with the name *`plot1.png`* in the folder *`results`*.\n",
    "\n"
   ]
  },
  {
   "cell_type": "code",
   "execution_count": null,
   "metadata": {
    "deletable": false,
    "editable": false,
    "nbgrader": {
     "cell_type": "code",
     "checksum": "b9195423e02dc560e0be300f1ca6eac7",
     "grade": false,
     "grade_id": "cell-9afc4fad07422eb5",
     "locked": true,
     "schema_version": 3,
     "solution": false
    }
   },
   "outputs": [],
   "source": [
    "import matplotlib.pyplot as plt"
   ]
  },
  {
   "cell_type": "code",
   "execution_count": 17,
   "metadata": {
    "deletable": false,
    "nbgrader": {
     "cell_type": "code",
     "checksum": "9d67778c1984363ea2e4f7230f1d4f94",
     "grade": false,
     "grade_id": "cell-273cc875910c7cd2",
     "locked": false,
     "schema_version": 3,
     "solution": true
    }
   },
   "outputs": [
    {
     "data": {
      "image/png": "[encoded data removed]",
      "text/plain": [
       "<Figure size 432x288 with 1 Axes>"
      ]
     },
     "metadata": {
      "needs_background": "light"
     },
     "output_type": "display_data"
    }
   ],
   "source": [
    "### GRADED\n",
    "import numpy as np\n",
    "import matplotlib.pyplot as plt\n",
    "\n",
    "# Data\n",
    "t = np.arange(0., 10., 0.5)\n",
    "\n",
    "### YOUR SOLUTION HERE\n",
    "\n",
    "# Calculate sqrt(t) and t^3\n",
    "sqrt_t = np.sqrt(t)\n",
    "t_cubed = t**3\n",
    "\n",
    "# Create the plot\n",
    "plt.figure()\n",
    "plt.plot(t, t, label='t')\n",
    "plt.plot(t, sqrt_t, label=r'$\\sqrt{t}$')\n",
    "plt.plot(t, t_cubed, label=r'$t^3$')\n",
    "\n",
    "# Add labels and legend\n",
    "plt.xlabel('t')\n",
    "plt.ylabel('Values')\n",
    "plt.title('Plot of t, sqrt(t), and t^3')\n",
    "plt.legend()\n",
    "\n",
    "# Save the plot as a PNG file in the results folder\n",
    "plt.savefig('results/plot1.png')\n",
    "\n",
    "# Show the plot\n",
    "plt.show()\n",
    "\n",
    "# YOUR CODE HERE\n"
   ]
  },
  {
   "cell_type": "code",
   "execution_count": null,
   "metadata": {
    "deletable": false,
    "editable": false,
    "nbgrader": {
     "cell_type": "code",
     "checksum": "bbf156d7de1821874a982ea1a8b58735",
     "grade": true,
     "grade_id": "cell-77c064a5cd5b2f26",
     "locked": true,
     "points": 8,
     "schema_version": 3,
     "solution": false
    }
   },
   "outputs": [],
   "source": []
  },
  {
   "cell_type": "markdown",
   "metadata": {
    "deletable": false,
    "editable": false,
    "nbgrader": {
     "cell_type": "markdown",
     "checksum": "148eeae1b31d18307784f058e989c73b",
     "grade": false,
     "grade_id": "cell-3b4f44b0987c8cd7",
     "locked": true,
     "schema_version": 3,
     "solution": false
    }
   },
   "source": [
    "### Question 17\n",
    "*10 points*\n",
    "\n",
    "\n",
    "\n",
    "On the same graph, *plot* the *functions* $\\sin(t)$, $\\cos(t)$, and $\\tan^{-1}(t)$, where *`t`* is an *array* from $-10\\pi$ to $10\\pi$ with spacing $0.02$.\n",
    "\n",
    "Label the x-axis and the y-axis `x-coordinate` and `y-coordinate`, respectively, and set the title of the graph to  `Some trigonometric functions`.\n",
    "\n",
    "\n",
    "Save your *plot* as a *`png`* with the name *`plot2.png`* in the folder *`results`*."
   ]
  },
  {
   "cell_type": "code",
   "execution_count": 18,
   "metadata": {
    "deletable": false,
    "nbgrader": {
     "cell_type": "code",
     "checksum": "097f5edd64fc0d2ae2cacf206e9c0181",
     "grade": false,
     "grade_id": "cell-26cc96ab6725feca",
     "locked": false,
     "schema_version": 3,
     "solution": true
    }
   },
   "outputs": [
    {
     "data": {
      "image/png": "[encoded data removed]",
      "text/plain": [
       "<Figure size 432x288 with 1 Axes>"
      ]
     },
     "metadata": {
      "needs_background": "light"
     },
     "output_type": "display_data"
    }
   ],
   "source": [
    "### GRADED\n",
    "\n",
    "### YOUR SOLUTION HERE\n",
    "import numpy as np\n",
    "import matplotlib.pyplot as plt\n",
    "\n",
    "# Data\n",
    "t = np.arange(-10 * np.pi, 10 * np.pi, 0.02)\n",
    "\n",
    "# Calculate sin(t), cos(t), and tan^(-1)(t)\n",
    "sin_t = np.sin(t)\n",
    "cos_t = np.cos(t)\n",
    "tan_inv_t = np.arctan(t)\n",
    "\n",
    "# Create the plot\n",
    "plt.figure()\n",
    "plt.plot(t, sin_t, label='sin(t)')\n",
    "plt.plot(t, cos_t, label='cos(t)')\n",
    "plt.plot(t, tan_inv_t, label=r'$\\tan^{-1}(t)$')\n",
    "\n",
    "# Add labels and title\n",
    "plt.xlabel('x-coordinate')\n",
    "plt.ylabel('y-coordinate')\n",
    "plt.title('Some trigonometric functions')\n",
    "plt.legend()\n",
    "\n",
    "# Save the plot as a PNG file in the results folder\n",
    "plt.savefig('results/plot2.png')\n",
    "\n",
    "# Show the plot\n",
    "plt.show()\n",
    "\n",
    "# YOUR CODE HERE\n"
   ]
  },
  {
   "cell_type": "code",
   "execution_count": null,
   "metadata": {
    "deletable": false,
    "editable": false,
    "nbgrader": {
     "cell_type": "code",
     "checksum": "ce897ca323a32561de4f36012651b790",
     "grade": true,
     "grade_id": "cell-2a030ac21fd71ec7",
     "locked": true,
     "points": 10,
     "schema_version": 3,
     "solution": false
    }
   },
   "outputs": [],
   "source": []
  },
  {
   "cell_type": "markdown",
   "metadata": {
    "deletable": false,
    "editable": false,
    "nbgrader": {
     "cell_type": "markdown",
     "checksum": "a275967d70384b5f3b2035c6300e4d03",
     "grade": false,
     "grade_id": "cell-8c8705547a1e400f",
     "locked": true,
     "schema_version": 3,
     "solution": false
    }
   },
   "source": [
    "### Question 18\n",
    "*10 points*\n",
    "\n",
    "Below, we set a random seed equal to `38472`.\n",
    "\n",
    "Generate two *arrays `x`* and *`y`*, each with 15 random entries.\n",
    "\n",
    "Create two *scatter plots*, one beside the other, displaying the data defined above. Set the marker for the first plot to be a \"filled circle\" and for the second plot to be a \"plus sign\".  Set the size of the marker `s` equal to $90$.\n",
    "\n",
    "\n",
    "Save your *plot* as a *`png`* with the name *`plot3.png`* in the folder *`results`*."
   ]
  },
  {
   "cell_type": "code",
   "execution_count": 19,
   "metadata": {
    "deletable": false,
    "nbgrader": {
     "cell_type": "code",
     "checksum": "14b41b11d2d4384e5c54d44b4f8daf24",
     "grade": false,
     "grade_id": "cell-2c75dc1182f20a58",
     "locked": false,
     "schema_version": 3,
     "solution": true
    }
   },
   "outputs": [
    {
     "data": {
      "image/png": "[encoded data removed]",
      "text/plain": [
       "<Figure size 864x432 with 2 Axes>"
      ]
     },
     "metadata": {
      "needs_background": "light"
     },
     "output_type": "display_data"
    }
   ],
   "source": [
    "### GRADED\n",
    "\n",
    "### YOUR SOLUTION HERE\n",
    "np.random.seed(38472)\n",
    "\n",
    "import numpy as np\n",
    "import matplotlib.pyplot as plt\n",
    "\n",
    "# Set the random seed\n",
    "np.random.seed(38472)\n",
    "\n",
    "# Generate two arrays x and y, each with 15 random entries\n",
    "x = np.random.rand(15)\n",
    "y = np.random.rand(15)\n",
    "\n",
    "# Create the scatter plots\n",
    "plt.figure(figsize=(12, 6))\n",
    "\n",
    "# First scatter plot with filled circles\n",
    "plt.subplot(1, 2, 1)\n",
    "plt.scatter(x, y, marker='o', s=90)\n",
    "plt.title('Scatter Plot 1')\n",
    "plt.xlabel('x')\n",
    "plt.ylabel('y')\n",
    "\n",
    "# Second scatter plot with plus signs\n",
    "plt.subplot(1, 2, 2)\n",
    "plt.scatter(x, y, marker='+', s=90)\n",
    "plt.title('Scatter Plot 2')\n",
    "plt.xlabel('x')\n",
    "plt.ylabel('y')\n",
    "\n",
    "# Save the plot as a PNG file in the results folder\n",
    "plt.savefig('results/plot3.png')\n",
    "\n",
    "# Show the plot\n",
    "plt.show()\n",
    "\n",
    "\n",
    "# YOUR CODE HERE"
   ]
  },
  {
   "cell_type": "code",
   "execution_count": null,
   "metadata": {
    "deletable": false,
    "editable": false,
    "nbgrader": {
     "cell_type": "code",
     "checksum": "1a45ee5e97d0ec586e537fb188eccaf5",
     "grade": true,
     "grade_id": "cell-de04e0763b062e07",
     "locked": true,
     "points": 10,
     "schema_version": 3,
     "solution": false
    }
   },
   "outputs": [],
   "source": []
  },
  {
   "cell_type": "markdown",
   "metadata": {
    "deletable": false,
    "editable": false,
    "nbgrader": {
     "cell_type": "markdown",
     "checksum": "dad89f48a17f983c6197df7c8392fd50",
     "grade": false,
     "grade_id": "cell-e8ee43b3fe7c2fe2",
     "locked": true,
     "schema_version": 3,
     "solution": false
    }
   },
   "source": [
    "### Question 19\n",
    "*6 points*\n",
    "\n",
    "\n",
    "In the code cell below, all the necessary data to reproduce the following *plot* has been defined.\n",
    "\n",
    "\n",
    "Create a *histogram* using the data *`x`* and the number of bins given *`num_bins`*. Additionally, set the arguments *`density=1`, `facecolor=red`*, and *`alpha=0.6`*.\n",
    "\n",
    "Save your *plot* as a *`png`* with the name *`plot4.png`* in the folder *`results`*."
   ]
  },
  {
   "cell_type": "code",
   "execution_count": 20,
   "metadata": {
    "deletable": false,
    "nbgrader": {
     "cell_type": "code",
     "checksum": "ff751754222ee302549fac6890be937e",
     "grade": false,
     "grade_id": "cell-ec8ba2cdf6a745ec",
     "locked": false,
     "schema_version": 3,
     "solution": true
    }
   },
   "outputs": [
    {
     "data": {
      "image/png": "[encoded data removed]",
      "text/plain": [
       "<Figure size 432x288 with 1 Axes>"
      ]
     },
     "metadata": {
      "needs_background": "light"
     },
     "output_type": "display_data"
    }
   ],
   "source": [
    "### GRADED\n",
    "\n",
    "# Data\n",
    "np.random.seed(123)\n",
    "mu = 10\n",
    "sigma = 2\n",
    "x = mu + sigma * np.random.randn(10000)\n",
    "num_bins = 20\n",
    "\n",
    "### YOUR SOLUTION HERE\n",
    "\n",
    "# Create the histogram\n",
    "plt.figure()\n",
    "plt.hist(x, bins=num_bins, density=1, facecolor='red', alpha=0.6)\n",
    "\n",
    "# Add labels and title\n",
    "plt.xlabel('Value')\n",
    "plt.ylabel('Probability')\n",
    "plt.title('Histogram of Normally Distributed Data')\n",
    "\n",
    "# Save the plot as a PNG file in the results folder\n",
    "plt.savefig('results/plot4.png')\n",
    "\n",
    "# Show the plot\n",
    "plt.show()\n",
    "\n",
    "# YOUR CODE HERE\n"
   ]
  },
  {
   "cell_type": "code",
   "execution_count": null,
   "metadata": {
    "deletable": false,
    "editable": false,
    "nbgrader": {
     "cell_type": "code",
     "checksum": "83962a1ddfe010972c516b7d3723ea8b",
     "grade": true,
     "grade_id": "cell-d25ef858b0d5b638",
     "locked": true,
     "points": 6,
     "schema_version": 3,
     "solution": false
    }
   },
   "outputs": [],
   "source": []
  },
  {
   "cell_type": "code",
   "execution_count": null,
   "metadata": {},
   "outputs": [],
   "source": []
  }
 ],
 "metadata": {
  "kernelspec": {
   "display_name": "Python 3",
   "language": "python",
   "name": "python3"
  },
  "language_info": {
   "codemirror_mode": {
    "name": "ipython",
    "version": 3
   },
   "file_extension": ".py",
   "mimetype": "text/x-python",
   "name": "python",
   "nbconvert_exporter": "python",
   "pygments_lexer": "ipython3",
   "version": "3.6.9"
  }
 },
 "nbformat": 4,
 "nbformat_minor": 4
}
