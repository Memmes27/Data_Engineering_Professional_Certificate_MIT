{
 "cells": [
  {
   "cell_type": "markdown",
   "metadata": {
    "deletable": false,
    "editable": false,
    "nbgrader": {
     "checksum": "7267dde086a25e702e788d0b8b546882",
     "grade": false,
     "grade_id": "cell-5a50b3bd255350e9",
     "locked": true,
     "schema_version": 1,
     "solution": false
    }
   },
   "source": [
    "# Codio Coding Activity 2.3: Discrete and Continuous Distributions in Python\n",
    "\n",
    "### Learning Outcome Addressed\n",
    "\n",
    "- 8. Implement discrete and continuous distributions\n",
    "\n",
    "\n",
    "## Index:\n",
    "\n",
    "- [Question 1](#Question-1)\n",
    "- [Question 2](#Question-2)\n",
    "- [Question 3](#Question-3)\n",
    "- [Question 4](#Question-4)\n",
    "- [Question 5](#Question-5)\n",
    "- [Question 6](#Question-6)\n",
    "- [Question 7](#Question-7)"
   ]
  },
  {
   "cell_type": "markdown",
   "metadata": {
    "deletable": false,
    "editable": false,
    "nbgrader": {
     "checksum": "ea5d402dd5ea267b021a456bef1b8a75",
     "grade": false,
     "grade_id": "cell-7803dd6463f0781d",
     "locked": true,
     "schema_version": 1,
     "solution": false
    }
   },
   "source": [
    "## Discrete Distributions in Python\n",
    "\n",
    "Distributions in *Python* can be *plotted* by using the *library* [SciPy](https://www.scipy.org/scipylib/index.html), which include a module for statistics.\n",
    "\n",
    "This activity is designed to give you a gentle introduction to the *library* syntax.\n",
    "\n",
    "### Discrete Distributions\n",
    "\n",
    "As you have learned, if a random variable can take on only a finite number of distinct values, then the corresponding distribution must be discrete.\n",
    "\n",
    "For example, experiments like tossing a coin or rolling a die only have a finite number of outcomes. Therefore, the distribution that represents these outcomes will be discrete.\n",
    "\n",
    "\n"
   ]
  },
  {
   "cell_type": "markdown",
   "metadata": {
    "deletable": false,
    "editable": false,
    "nbgrader": {
     "checksum": "89b2b950f92a27908ed77a563f5f6ff4",
     "grade": false,
     "grade_id": "cell-d33ced98e1b6476d",
     "locked": true,
     "schema_version": 1,
     "solution": false
    }
   },
   "source": [
    "### Tossing a Coin\n",
    "\n",
    "As you have learned, the two possible outcomes of tossing a coin can be mapped to zeros (for tails) and ones (for heads).\n",
    "\n",
    "The distribution that represents this experiment is the Bernoulli distribution.\n",
    "\n",
    "In the code cell below, we import the *function* to generate the values for this distribution."
   ]
  },
  {
   "cell_type": "code",
   "execution_count": 1,
   "metadata": {
    "deletable": false,
    "editable": false,
    "nbgrader": {
     "checksum": "ef47714a278a9307ae0b258cb2cb9b90",
     "grade": false,
     "grade_id": "cell-cff0cfaf7579dad1",
     "locked": true,
     "schema_version": 1,
     "solution": false
    }
   },
   "outputs": [],
   "source": [
    "from scipy.stats import bernoulli \n",
    "import numpy as np"
   ]
  },
  {
   "cell_type": "markdown",
   "metadata": {
    "deletable": false,
    "editable": false,
    "nbgrader": {
     "checksum": "64b314a2c3ef9c59c3c295ba40e09efb",
     "grade": false,
     "grade_id": "cell-907f79ffc125cf11",
     "locked": true,
     "schema_version": 1,
     "solution": false
    }
   },
   "source": [
    "### Question 1\n",
    "*3 points*\n",
    "\n",
    "In the code cell below, define a *variable, `ans1a`*, that contains the probability value of getting a head or tail when tossing a coin.\n",
    "\n",
    "Next, generate the random variable values for this experiment by using the *`bernoulli()` function* imported above. Pass the probability value defined above to this *function*. Assign this result to *`ans1b`*.\n",
    "\n",
    "Finally, use the code *`ans2b.rvs()`* with argument equal to *`100`* to generate the samples. Assign this result to *`ans1c`*.\n",
    "\n",
    "Feel free to print *`ans1c`* to your screen to visualize the result."
   ]
  },
  {
   "cell_type": "code",
   "execution_count": 2,
   "metadata": {
    "deletable": false,
    "nbgrader": {
     "checksum": "21bc37bd503170921a8ed5a83e175326",
     "grade": false,
     "grade_id": "cell-33b08152084b6ab8",
     "locked": false,
     "schema_version": 1,
     "solution": true
    }
   },
   "outputs": [
    {
     "data": {
      "text/plain": [
       "array([1, 1, 1, 1, 0, 1, 0, 1, 1, 0, 1, 1, 1, 1, 0, 0, 0, 1, 1, 1, 1, 1,\n",
       "       0, 1, 0, 1, 0, 1, 1, 0, 0, 1, 0, 1, 0, 1, 1, 1, 1, 1, 0, 0, 1, 0,\n",
       "       1, 1, 0, 0, 0, 0, 1, 0, 1, 0, 0, 0, 1, 0, 0, 0, 0, 0, 1, 0, 0, 0,\n",
       "       1, 0, 1, 0, 1, 0, 1, 1, 1, 0, 0, 0, 0, 0, 0, 0, 0, 1, 1, 0, 1, 0,\n",
       "       1, 1, 0, 1, 0, 1, 0, 0, 1, 0, 1, 0])"
      ]
     },
     "execution_count": 2,
     "metadata": {},
     "output_type": "execute_result"
    }
   ],
   "source": [
    "### GRADED\n",
    "\n",
    "#random seed for reproducibility\n",
    "np.random.seed(0)\n",
    "### YOUR SOLUTION HERE\n",
    "ans1a = 0.5\n",
    "ans1b = bernoulli(ans1a)\n",
    "ans1c = ans1b.rvs(100)\n",
    "\n",
    "# YOUR CODE HERE\n",
    "ans1c"
   ]
  },
  {
   "cell_type": "code",
   "execution_count": null,
   "metadata": {
    "deletable": false,
    "editable": false,
    "nbgrader": {
     "checksum": "ce798eaaf79935ce411460c14a60fa79",
     "grade": true,
     "grade_id": "cell-749b3e51a50dadcd",
     "locked": true,
     "points": 3,
     "schema_version": 1,
     "solution": false
    }
   },
   "outputs": [],
   "source": []
  },
  {
   "cell_type": "markdown",
   "metadata": {
    "deletable": false,
    "editable": false,
    "nbgrader": {
     "checksum": "cb7ec47b2e7660c7e3ac58c9e4cb5a98",
     "grade": false,
     "grade_id": "cell-0519b74b0d571bbf",
     "locked": true,
     "schema_version": 1,
     "solution": false
    }
   },
   "source": [
    "Below is a plotted example of the histogram graph of this distribution.\n",
    "\n",
    "You will learn how to do this on your own in the next Codio activity.\n",
    "\n"
   ]
  },
  {
   "cell_type": "code",
   "execution_count": 3,
   "metadata": {
    "deletable": false,
    "editable": false,
    "nbgrader": {
     "checksum": "d482ed16d93ce602909e97b5791df29b",
     "grade": false,
     "grade_id": "cell-bc4b3784bd214bd6",
     "locked": true,
     "schema_version": 1,
     "solution": false
    }
   },
   "outputs": [
    {
     "data": {
      "text/plain": [
       "<Figure size 640x480 with 1 Axes>"
      ]
     },
     "metadata": {},
     "output_type": "display_data"
    }
   ],
   "source": [
    "from matplotlib import pyplot as plt\n",
    "\n",
    "# Plot the distribution of `xs`\n",
    "plt.hist(ans1c)\n",
    "plt.show()"
   ]
  },
  {
   "cell_type": "markdown",
   "metadata": {
    "deletable": false,
    "editable": false,
    "nbgrader": {
     "checksum": "c8942f89326f495e1873e91b3fba5e57",
     "grade": false,
     "grade_id": "cell-0eb2ec59ae9c3588",
     "locked": true,
     "schema_version": 1,
     "solution": false
    }
   },
   "source": [
    "### Rolling a Die\n",
    "\n",
    "When rolling a fair die, the possible outcomes are all the integers from one to six.\n",
    "\n",
    "The distribution that represents this experiment is the uniform distribution.\n",
    "\n",
    "In the code cell below, we create a random variable to store the result of the roll.\n"
   ]
  },
  {
   "cell_type": "code",
   "execution_count": 4,
   "metadata": {
    "deletable": false,
    "editable": false,
    "nbgrader": {
     "checksum": "f106e46ee2bfdef97504a39ebf78c403",
     "grade": false,
     "grade_id": "cell-266f42e7961df030",
     "locked": true,
     "schema_version": 1,
     "solution": false
    }
   },
   "outputs": [
    {
     "data": {
      "text/plain": [
       "2"
      ]
     },
     "execution_count": 4,
     "metadata": {},
     "output_type": "execute_result"
    }
   ],
   "source": [
    "from random import randint\n",
    "one_die_roll = randint(1,6)\n",
    "one_die_roll"
   ]
  },
  {
   "cell_type": "markdown",
   "metadata": {
    "deletable": false,
    "editable": false,
    "nbgrader": {
     "checksum": "6bea03e654240e5ca8f06a66ff99c544",
     "grade": false,
     "grade_id": "cell-ea5fe150f13c001a",
     "locked": true,
     "schema_version": 1,
     "solution": false
    }
   },
   "source": [
    "To visualize the distribution, we need to roll more than one die.\n",
    "\n",
    "### Question 2\n",
    "*3 points*\n",
    "\n",
    "In the code cell below, create a *list* containing the results from ten rolls. Assign it to *`ans2a`*. You can use a *list comprehension* for this.\n",
    "\n",
    "Feel free to print *`ans2a`* to your screen to visualize the result."
   ]
  },
  {
   "cell_type": "code",
   "execution_count": 5,
   "metadata": {
    "deletable": false,
    "nbgrader": {
     "checksum": "9c1324686e4b20eb969caef90d09c771",
     "grade": false,
     "grade_id": "cell-9a62d504d94cc002",
     "locked": false,
     "schema_version": 1,
     "solution": true
    }
   },
   "outputs": [
    {
     "data": {
      "text/plain": [
       "[4, 4, 1, 3, 5, 4, 4, 3, 4, 3]"
      ]
     },
     "execution_count": 5,
     "metadata": {},
     "output_type": "execute_result"
    }
   ],
   "source": [
    "### GRADED\n",
    "\n",
    "#random seed for reproducibility\n",
    "import random\n",
    "random.seed(0)\n",
    "### YOUR SOLUTION HERE\n",
    "ans2a = [random.randint(1, 6) for _ in range(10)]\n",
    "\n",
    "\n",
    "# YOUR CODE HERE\n",
    "ans2a"
   ]
  },
  {
   "cell_type": "code",
   "execution_count": null,
   "metadata": {
    "deletable": false,
    "editable": false,
    "nbgrader": {
     "checksum": "45bb26b754ef3bc756642181c7b4d97f",
     "grade": true,
     "grade_id": "cell-ba3b8ba1fb204733",
     "locked": true,
     "points": 3,
     "schema_version": 1,
     "solution": false
    }
   },
   "outputs": [],
   "source": []
  },
  {
   "cell_type": "markdown",
   "metadata": {
    "deletable": false,
    "editable": false,
    "nbgrader": {
     "checksum": "ce18cfb710356bafc3829f5b2a74dcd1",
     "grade": false,
     "grade_id": "cell-63df410bf84c9611",
     "locked": true,
     "schema_version": 1,
     "solution": false
    }
   },
   "source": [
    "Below, we have plotted for you the histogram graph of the distribution for this experiment.\n",
    "\n",
    "You will learn how to do this on your own in the next Codio activity."
   ]
  },
  {
   "cell_type": "code",
   "execution_count": 6,
   "metadata": {
    "deletable": false,
    "editable": false,
    "nbgrader": {
     "checksum": "2a47931dd03ee09fe96f0c2e3b755ef0",
     "grade": false,
     "grade_id": "cell-f7ac9bd1485f8725",
     "locked": true,
     "schema_version": 1,
     "solution": false
    }
   },
   "outputs": [
    {
     "data": {
      "image/png": "[encoded data removed]",
      "text/plain": [
       "<Figure size 432x288 with 1 Axes>"
      ]
     },
     "metadata": {
      "needs_background": "light"
     },
     "output_type": "display_data"
    }
   ],
   "source": [
    "plt.hist(ans2a,bins=20)\n",
    "plt.show()"
   ]
  },
  {
   "cell_type": "markdown",
   "metadata": {
    "deletable": false,
    "editable": false,
    "nbgrader": {
     "checksum": "0ab3b338fba167ce56318139239d4f7a",
     "grade": false,
     "grade_id": "cell-9ec388d15ac5eafa",
     "locked": true,
     "schema_version": 1,
     "solution": false
    }
   },
   "source": [
    "As you can see, the distribution does not appear uniform. This is because we haven't rolled the die enough times."
   ]
  },
  {
   "cell_type": "markdown",
   "metadata": {
    "deletable": false,
    "editable": false,
    "nbgrader": {
     "checksum": "88dbbba495b3cf7ade08797390350dae",
     "grade": false,
     "grade_id": "cell-1ada7cc56c65cdd7",
     "locked": true,
     "schema_version": 1,
     "solution": false
    }
   },
   "source": [
    "### Question 3\n",
    "*2 points*\n",
    "\n",
    "In the code cell below, create a *list* containing the results from 10,000 rolls. Assign it to *`ans3a`*. You can use a *list comprehension* for this.\n",
    "\n",
    "Feel free to print *`ans3a`* to your screen to visualize the result."
   ]
  },
  {
   "cell_type": "code",
   "execution_count": 7,
   "metadata": {
    "deletable": false,
    "nbgrader": {
     "checksum": "9856a1ef6fbd61045f51ac82831ca106",
     "grade": false,
     "grade_id": "cell-27cc59866683ace5",
     "locked": false,
     "schema_version": 1,
     "solution": true
    }
   },
   "outputs": [
    {
     "data": {
      "text/plain": [
       "[4, 4, 1, 3, 5, 4, 4, 3, 4, 3]"
      ]
     },
     "execution_count": 7,
     "metadata": {},
     "output_type": "execute_result"
    }
   ],
   "source": [
    "### GRADED\n",
    "\n",
    "#random seed for reproducibility\n",
    "import random\n",
    "random.seed(0)\n",
    "### YOUR SOLUTION HERE\n",
    "ans3a = [random.randint(1, 6) for _ in range(10000)]\n",
    "\n",
    "\n",
    "# YOUR CODE HERE\n",
    "# Print the result to visualize the first 10 rolls\n",
    "ans3a[:10]  # Printing only the first 10 results for brevity"
   ]
  },
  {
   "cell_type": "code",
   "execution_count": null,
   "metadata": {
    "deletable": false,
    "editable": false,
    "nbgrader": {
     "checksum": "198dc28d2b6fa390bf00cbb8dbf2f471",
     "grade": true,
     "grade_id": "cell-c3bed7f4c5e5b82a",
     "locked": true,
     "points": 2,
     "schema_version": 1,
     "solution": false
    }
   },
   "outputs": [],
   "source": []
  },
  {
   "cell_type": "markdown",
   "metadata": {
    "deletable": false,
    "editable": false,
    "nbgrader": {
     "checksum": "693bfee272715af3ae7490fb2def67fb",
     "grade": false,
     "grade_id": "cell-430912365f45388f",
     "locked": true,
     "schema_version": 1,
     "solution": false
    }
   },
   "source": [
    "Now, let's have a look at the new distribution."
   ]
  },
  {
   "cell_type": "code",
   "execution_count": 8,
   "metadata": {
    "deletable": false,
    "editable": false,
    "nbgrader": {
     "checksum": "e0cd61fcf63813f98bc03fc22706f7c4",
     "grade": false,
     "grade_id": "cell-8c3a7a2780eef9cd",
     "locked": true,
     "schema_version": 1,
     "solution": false
    }
   },
   "outputs": [
    {
     "data": {
      "image/png": "[encoded data removed]",
      "text/plain": [
       "<Figure size 432x288 with 1 Axes>"
      ]
     },
     "metadata": {
      "needs_background": "light"
     },
     "output_type": "display_data"
    }
   ],
   "source": [
    "plt.hist(ans3a,bins=20)\n",
    "plt.show()"
   ]
  },
  {
   "cell_type": "markdown",
   "metadata": {
    "deletable": false,
    "editable": false,
    "nbgrader": {
     "checksum": "4e29da7b3050afcfb3c09573fae35397",
     "grade": false,
     "grade_id": "cell-9551cb973b377220",
     "locked": true,
     "schema_version": 1,
     "solution": false
    }
   },
   "source": [
    "As you can see the distribution looks more uniform now because we have increased the amount of sample data.\n",
    "\n",
    "### Rolling Two Dice\n",
    "\n",
    "The distribution changes its shape when adding the results of rolling two dice. \n",
    "\n",
    "In the code cell below, we have defined a *function `roll_two`* that accepts, as input, the argument *`rolls`* to describe the total number of rolls in our experiment.\n",
    "\n",
    "The *function* returns the sum, *`total`*, of the outcomes of each roll.\n"
   ]
  },
  {
   "cell_type": "code",
   "execution_count": 9,
   "metadata": {
    "deletable": false,
    "editable": false,
    "nbgrader": {
     "checksum": "cc5d01262bc0ea9811e620a07e72c910",
     "grade": false,
     "grade_id": "cell-1c886ae52a8c3d28",
     "locked": true,
     "schema_version": 1,
     "solution": false
    }
   },
   "outputs": [],
   "source": [
    "def roll_two(rolls):\n",
    "    total = []\n",
    "    \n",
    "    for _ in range(rolls):\n",
    "        roll_1 = randint(1,6)\n",
    "        roll_2 = randint(1,6)\n",
    "        total += [(roll_1 + roll_2)]\n",
    "        \n",
    "    return total"
   ]
  },
  {
   "cell_type": "markdown",
   "metadata": {
    "deletable": false,
    "editable": false,
    "nbgrader": {
     "checksum": "f9a45b2ca4495fa9f0596f9437f426ca",
     "grade": false,
     "grade_id": "cell-85a48ecc33dd5063",
     "locked": true,
     "schema_version": 1,
     "solution": false
    }
   },
   "source": [
    "Below, we create a *list* containing the result from adding 1,000 die rolls."
   ]
  },
  {
   "cell_type": "code",
   "execution_count": 10,
   "metadata": {
    "deletable": false,
    "editable": false,
    "nbgrader": {
     "checksum": "c8705caaadc773fd49f188a5257f83c1",
     "grade": false,
     "grade_id": "cell-17568f4335124669",
     "locked": true,
     "schema_version": 1,
     "solution": false
    }
   },
   "outputs": [],
   "source": [
    "rolls = 1000\n",
    "new_roll = roll_two(rolls)"
   ]
  },
  {
   "cell_type": "markdown",
   "metadata": {
    "deletable": false,
    "editable": false,
    "nbgrader": {
     "checksum": "115528761f9375e5635111c20d871af9",
     "grade": false,
     "grade_id": "cell-949fadf4dc3c8c13",
     "locked": true,
     "schema_version": 1,
     "solution": false
    }
   },
   "source": [
    "Next, we *plot* for you the histogram graph of the distribution for this experiment."
   ]
  },
  {
   "cell_type": "code",
   "execution_count": 11,
   "metadata": {
    "deletable": false,
    "editable": false,
    "nbgrader": {
     "checksum": "f54de249f9044eda63db5348a32453f6",
     "grade": false,
     "grade_id": "cell-c42f0d6e64bee82c",
     "locked": true,
     "schema_version": 1,
     "solution": false
    }
   },
   "outputs": [
    {
     "data": {
      "image/png": "[encoded data removed]",
      "text/plain": [
       "<Figure size 432x288 with 1 Axes>"
      ]
     },
     "metadata": {
      "needs_background": "light"
     },
     "output_type": "display_data"
    }
   ],
   "source": [
    "plt.hist(new_roll, bins=20)\n",
    "plt.show()"
   ]
  },
  {
   "cell_type": "markdown",
   "metadata": {
    "deletable": false,
    "editable": false,
    "nbgrader": {
     "checksum": "c30073002660ab866bbd28c32a19ce82",
     "grade": false,
     "grade_id": "cell-5b7343418234a15e",
     "locked": true,
     "schema_version": 1,
     "solution": false
    }
   },
   "source": [
    "Can you think about why the distribution has this shape? Which distribution does it remind you of?"
   ]
  },
  {
   "cell_type": "markdown",
   "metadata": {
    "deletable": false,
    "editable": false,
    "nbgrader": {
     "checksum": "c6bdad1ee9fd42c75c3e87fdff8bf9de",
     "grade": false,
     "grade_id": "cell-9d03c68635329dd0",
     "locked": true,
     "schema_version": 1,
     "solution": false
    }
   },
   "source": [
    "### The Uniform Distribution \n",
    "\n",
    "You can visualize uniform distribution in *Python* with the help of a random number generator acting over an interval of numbers *`(a,b)`*. You need to import the *`uniform()` function* from *`scipy.stats` module*."
   ]
  },
  {
   "cell_type": "code",
   "execution_count": 12,
   "metadata": {
    "deletable": false,
    "editable": false,
    "nbgrader": {
     "checksum": "33a85049733ad398a2818939b6fcdf54",
     "grade": false,
     "grade_id": "cell-1c55d3de6ff0282d",
     "locked": true,
     "schema_version": 1,
     "solution": false
    }
   },
   "outputs": [],
   "source": [
    "from scipy.stats import uniform"
   ]
  },
  {
   "cell_type": "markdown",
   "metadata": {
    "deletable": false,
    "editable": false,
    "nbgrader": {
     "checksum": "d0511dfd19bb39108540121a4b2df5bb",
     "grade": false,
     "grade_id": "cell-868d64f46484be5c",
     "locked": true,
     "schema_version": 1,
     "solution": false
    }
   },
   "source": [
    "The *`uniform()` function* generates a uniform continuous variable between the specified interval. If you want to maintain reproducibility, include a random_state argument assigned to a number.\n",
    "\n",
    "### Question 4\n",
    "*3 points*\n",
    "\n",
    "In the code cell below, assign the values *`1000, 10`* and *`20`* to *`ans4a, ans4b,`* and *`ans4c`*, respectively.\n",
    "\n",
    "Next, generate the random variable values for this experiment by using the *`uniform.rvs()` function* imported above. \n",
    "\n",
    "Inside the *function*, set *`size = ans4a`*, *`loc = ans4b`*, and *`scale = ans4c`*. Assign the result to *`ans4d`*.\n",
    "Pass the probability value defined above to this *function*. Assign this result to *`ans1b`*."
   ]
  },
  {
   "cell_type": "code",
   "execution_count": 14,
   "metadata": {
    "deletable": false,
    "nbgrader": {
     "checksum": "210f9b846c0d519f6c19ccddb6e054db",
     "grade": false,
     "grade_id": "cell-e6e242a27570f43b",
     "locked": false,
     "schema_version": 1,
     "solution": true
    }
   },
   "outputs": [
    {
     "data": {
      "text/plain": [
       "array([20.97627008, 24.30378733, 22.05526752, 20.89766366, 18.47309599,\n",
       "       22.91788226, 18.75174423, 27.83546002, 29.27325521, 17.66883038])"
      ]
     },
     "execution_count": 14,
     "metadata": {},
     "output_type": "execute_result"
    }
   ],
   "source": [
    "### GRADED\n",
    "\n",
    "### YOUR SOLUTION HERE\n",
    "# Assign the values to ans4a, ans4b, and ans4c\n",
    "ans4a = 1000  # Number of random values to generate\n",
    "ans4b = 10    # Starting point of the interval (loc parameter)\n",
    "ans4c = 20    # The range of the interval (scale parameter)\n",
    "\n",
    "# Generate the random variable values for the uniform distribution\n",
    "ans4d = uniform.rvs(size=ans4a, loc=ans4b, scale=ans4c, random_state=0)\n",
    "\n",
    "# Show the first 10 generated values for visualization\n",
    "ans4d[:10]  # Showing only the first 10 for brevity\n"
   ]
  },
  {
   "cell_type": "code",
   "execution_count": null,
   "metadata": {
    "deletable": false,
    "editable": false,
    "nbgrader": {
     "checksum": "e96a1e0c5a5ab2b5c4c8eaa30c204da4",
     "grade": true,
     "grade_id": "cell-145ad0bcabecf5c8",
     "locked": true,
     "points": 3,
     "schema_version": 1,
     "solution": false
    }
   },
   "outputs": [],
   "source": []
  },
  {
   "cell_type": "markdown",
   "metadata": {
    "deletable": false,
    "editable": false,
    "nbgrader": {
     "checksum": "879585b0a15b2645d8da91750023821f",
     "grade": false,
     "grade_id": "cell-0a998ca3f2f4c759",
     "locked": true,
     "schema_version": 1,
     "solution": false
    }
   },
   "source": [
    "Below, we use [Seaborn](https://seaborn.pydata.org)  to plot the histogram of the distribution you just created. \n",
    "\n",
    "Seaborn is a more advanced visualization library than Matplotlib. It was designed specifically for data science and statistics, and it offers many more capabilities than Matplotlib for plotting data from these fields."
   ]
  },
  {
   "cell_type": "code",
   "execution_count": 15,
   "metadata": {
    "deletable": false,
    "editable": false,
    "nbgrader": {
     "checksum": "0d37c335ac2304d8aaa0ffdc379f9c10",
     "grade": false,
     "grade_id": "cell-04d934da59ce26d9",
     "locked": true,
     "schema_version": 1,
     "solution": false
    }
   },
   "outputs": [
    {
     "name": "stderr",
     "output_type": "stream",
     "text": [
      "/usr/local/lib/python3.6/dist-packages/seaborn/distributions.py:2557: FutureWarning: `distplot` is a deprecated function and will be removed in a future version. Please adapt your code to use either `displot` (a figure-level function with similar flexibility) or `histplot` (an axes-level function for histograms).\n",
      "  warnings.warn(msg, FutureWarning)\n",
      "/usr/local/lib/python3.6/dist-packages/matplotlib/cbook/__init__.py:1377: FutureWarning: Support for multi-dimensional indexing (e.g. `obj[:, None]`) is deprecated and will be removed in a future version.  Convert to a numpy array before indexing instead.\n",
      "  x[:, None]\n",
      "/usr/local/lib/python3.6/dist-packages/matplotlib/axes/_base.py:237: FutureWarning: Support for multi-dimensional indexing (e.g. `obj[:, None]`) is deprecated and will be removed in a future version.  Convert to a numpy array before indexing instead.\n",
      "  x = x[:, np.newaxis]\n",
      "/usr/local/lib/python3.6/dist-packages/matplotlib/axes/_base.py:239: FutureWarning: Support for multi-dimensional indexing (e.g. `obj[:, None]`) is deprecated and will be removed in a future version.  Convert to a numpy array before indexing instead.\n",
      "  y = y[:, np.newaxis]\n"
     ]
    },
    {
     "data": {
      "text/plain": [
       "[Text(0, 0.5, 'Frequency'), Text(0.5, 0, 'Uniform Distribution ')]"
      ]
     },
     "execution_count": 15,
     "metadata": {},
     "output_type": "execute_result"
    },
    {
     "data": {
      "image/png": "[encoded data removed]",
      "text/plain": [
       "<Figure size 360x360 with 1 Axes>"
      ]
     },
     "metadata": {},
     "output_type": "display_data"
    }
   ],
   "source": [
    "# import seaborn\n",
    "import seaborn as sns\n",
    "# settings for seaborn plot sizes\n",
    "sns.set(rc={'figure.figsize':(5,5)})\n",
    "\n",
    "ax = sns.distplot(ans4d,\n",
    "                  bins=100,\n",
    "                  kde=True,\n",
    "                  color='skyblue',\n",
    "                  hist_kws={\"linewidth\": 15,'alpha':1})\n",
    "ax.set(xlabel='Uniform Distribution ', ylabel='Frequency')"
   ]
  },
  {
   "cell_type": "markdown",
   "metadata": {
    "deletable": false,
    "editable": false,
    "nbgrader": {
     "checksum": "308e2b6e37b68905b01f7a96c213c232",
     "grade": false,
     "grade_id": "cell-39ba5291291ae9c2",
     "locked": true,
     "schema_version": 1,
     "solution": false
    }
   },
   "source": [
    "## Continuous Distributions in Python \n",
    "\n",
    "A continuous random variable is one that takes an infinite number of possible values. Continuous random variables are usually measurements. Examples include height and weight, because these types of measurements can assume any value within a specified range.\n",
    "\n",
    "### The Normal Distribution\n",
    "\n",
    "The normal distribution, also known as Gaussian distribution, is arguably the most popular distribution in data science.\n",
    "\n",
    "A normal distribution has a bell-shaped  curve defined by its mean $\\mu$ and standard deviation $\\sigma$. The curve is symmetrical, centered about its mean, with its spread determined by its standard deviation.\n",
    "\n",
    "\n",
    "### Question 5\n",
    "*3 points*\n",
    "\n",
    "A normal sample can be generated by using the *function `norm.rvs()`* from the module *`scipy.stats()`*. Import the necessary *libraries* in the code cell below.\n",
    "\n",
    "Next, generate the sample data points by using the *function* above. Set the argument *`size = 10000`*, *`loc = 0`*, and *`scale = 1`*. Assign your points to the variable *`ans5a`*."
   ]
  },
  {
   "cell_type": "code",
   "execution_count": 16,
   "metadata": {
    "deletable": false,
    "nbgrader": {
     "checksum": "2cedbdf67574767e48cecbc67f8f74c0",
     "grade": false,
     "grade_id": "cell-5fc9cfc0ffc73c9e",
     "locked": false,
     "schema_version": 1,
     "solution": true
    }
   },
   "outputs": [
    {
     "data": {
      "text/plain": [
       "array([ 1.76405235,  0.40015721,  0.97873798,  2.2408932 ,  1.86755799,\n",
       "       -0.97727788,  0.95008842, -0.15135721, -0.10321885,  0.4105985 ])"
      ]
     },
     "execution_count": 16,
     "metadata": {},
     "output_type": "execute_result"
    }
   ],
   "source": [
    "### GRADED\n",
    "\n",
    "\n",
    "### YOUR SOLUTION HERE\n",
    "from scipy.stats import norm\n",
    "\n",
    "# Generate sample data points for a normal distribution\n",
    "# size = 10000, loc = 0 (mean), scale = 1 (standard deviation)\n",
    "ans5a = norm.rvs(size=10000, loc=0, scale=1, random_state=0)\n",
    "\n",
    "# Show the first 10 values to visualize the result\n",
    "ans5a[:10]  # Printing first 10 values for brevity\n",
    "# YOUR CODE HERE\n"
   ]
  },
  {
   "cell_type": "code",
   "execution_count": null,
   "metadata": {
    "deletable": false,
    "editable": false,
    "nbgrader": {
     "checksum": "12dd211c29e2d9687e778d24b8ae768d",
     "grade": true,
     "grade_id": "cell-c34f261403e54917",
     "locked": true,
     "points": 3,
     "schema_version": 1,
     "solution": false
    }
   },
   "outputs": [],
   "source": []
  },
  {
   "cell_type": "markdown",
   "metadata": {
    "deletable": false,
    "editable": false,
    "nbgrader": {
     "checksum": "8fa9dfdef5320d4610ac70d432d6885c",
     "grade": false,
     "grade_id": "cell-ce10508372410825",
     "locked": true,
     "schema_version": 1,
     "solution": false
    }
   },
   "source": [
    "Below, we use [Seaborn](https://seaborn.pydata.org)  to plot the histogram of the distribution you just created. "
   ]
  },
  {
   "cell_type": "code",
   "execution_count": 17,
   "metadata": {
    "deletable": false,
    "editable": false,
    "nbgrader": {
     "checksum": "380e0047b0ddeadeaf4371262a221424",
     "grade": false,
     "grade_id": "cell-f930bac6036b82f9",
     "locked": true,
     "schema_version": 1,
     "solution": false
    }
   },
   "outputs": [
    {
     "name": "stderr",
     "output_type": "stream",
     "text": [
      "/usr/local/lib/python3.6/dist-packages/seaborn/distributions.py:2557: FutureWarning: `distplot` is a deprecated function and will be removed in a future version. Please adapt your code to use either `displot` (a figure-level function with similar flexibility) or `histplot` (an axes-level function for histograms).\n",
      "  warnings.warn(msg, FutureWarning)\n",
      "/usr/local/lib/python3.6/dist-packages/matplotlib/cbook/__init__.py:1377: FutureWarning: Support for multi-dimensional indexing (e.g. `obj[:, None]`) is deprecated and will be removed in a future version.  Convert to a numpy array before indexing instead.\n",
      "  x[:, None]\n",
      "/usr/local/lib/python3.6/dist-packages/matplotlib/axes/_base.py:237: FutureWarning: Support for multi-dimensional indexing (e.g. `obj[:, None]`) is deprecated and will be removed in a future version.  Convert to a numpy array before indexing instead.\n",
      "  x = x[:, np.newaxis]\n",
      "/usr/local/lib/python3.6/dist-packages/matplotlib/axes/_base.py:239: FutureWarning: Support for multi-dimensional indexing (e.g. `obj[:, None]`) is deprecated and will be removed in a future version.  Convert to a numpy array before indexing instead.\n",
      "  y = y[:, np.newaxis]\n"
     ]
    },
    {
     "data": {
      "text/plain": [
       "[Text(0, 0.5, 'Frequency'), Text(0.5, 0, 'Normal Distribution')]"
      ]
     },
     "execution_count": 17,
     "metadata": {},
     "output_type": "execute_result"
    },
    {
     "data": {
      "image/png": "[encoded data removed]",
      "text/plain": [
       "<Figure size 360x360 with 1 Axes>"
      ]
     },
     "metadata": {},
     "output_type": "display_data"
    }
   ],
   "source": [
    "ax = sns.distplot(ans5a,\n",
    "                  bins=100,\n",
    "                  kde=True,\n",
    "                  color='skyblue',\n",
    "                  hist_kws={\"linewidth\": 15,'alpha':1})\n",
    "ax.set(xlabel='Normal Distribution', ylabel='Frequency')"
   ]
  },
  {
   "cell_type": "markdown",
   "metadata": {
    "deletable": false,
    "editable": false,
    "nbgrader": {
     "checksum": "78aeff506bb10f90dcfe43a0c64073f4",
     "grade": false,
     "grade_id": "cell-caf6f001c2fa4934",
     "locked": true,
     "schema_version": 1,
     "solution": false
    }
   },
   "source": [
    "### Poisson Distribution\n",
    "\n",
    "A Poisson random variable is typically used to model the number of times an event happened in a time interval. For example, the number of times costumers visited a store in an interval can be thought of as a Poisson process.\n",
    "\n",
    "You can generate a Poisson distributed random variable using *`scipy.stats` module's `poisson.rvs()` method* which takes *`mu`* as a shape parameter. This parameter is the equivalent to the parameter $\\lambda$ in the equation on the Poisson distribution you saw in Mini-Lesson 2.5."
   ]
  },
  {
   "cell_type": "markdown",
   "metadata": {
    "deletable": false,
    "editable": false,
    "nbgrader": {
     "checksum": "1c5ff08c2f9c1d25c3dabee583f45a4c",
     "grade": false,
     "grade_id": "cell-91c40fe908171b77",
     "locked": true,
     "schema_version": 1,
     "solution": false
    }
   },
   "source": [
    "### Question 6\n",
    "*3 points*\n",
    "\n",
    "A Poisson sample can be generated by using the *function `poisson.rvs()`* from the module *`scipy.stats()`*. Import the necessary *libraries* in the code cell below.\n",
    "\n",
    "Next, generate the sample data points by using the *function* above. Set the argument *`mu = 3.54`* and *`size = 10000`*. Assign your points to the variable *`ans6a`*."
   ]
  },
  {
   "cell_type": "code",
   "execution_count": 18,
   "metadata": {
    "deletable": false,
    "nbgrader": {
     "checksum": "f926cfca6ebc478bd4e3572cb7619159",
     "grade": false,
     "grade_id": "cell-cbbb87db0438c3c2",
     "locked": false,
     "schema_version": 1,
     "solution": true
    }
   },
   "outputs": [
    {
     "data": {
      "text/plain": [
       "array([6, 7, 1, 7, 4, 4, 6, 2, 2, 3])"
      ]
     },
     "execution_count": 18,
     "metadata": {},
     "output_type": "execute_result"
    }
   ],
   "source": [
    "### GRADED\n",
    "\n",
    "\n",
    "### YOUR SOLUTION HERE\n",
    "from scipy.stats import poisson\n",
    "\n",
    "# Generate sample data points for a Poisson distribution\n",
    "# mu = 3.54 (mean rate), size = 10000\n",
    "ans6a = poisson.rvs(mu=3.54, size=10000, random_state=0)\n",
    "\n",
    "# Show the first 10 values to visualize the result\n",
    "ans6a[:10]  # Printing first 10 values for brevity\n",
    "# YOUR CODE HERE\n"
   ]
  },
  {
   "cell_type": "code",
   "execution_count": null,
   "metadata": {
    "deletable": false,
    "editable": false,
    "nbgrader": {
     "checksum": "b1d35fe88b440a037ff9f0b25d0c1998",
     "grade": true,
     "grade_id": "cell-53a7da2bbba725e8",
     "locked": true,
     "points": 3,
     "schema_version": 1,
     "solution": false
    }
   },
   "outputs": [],
   "source": []
  },
  {
   "cell_type": "markdown",
   "metadata": {
    "deletable": false,
    "editable": false,
    "nbgrader": {
     "checksum": "8e8342ee38a750140129c00a702f7d43",
     "grade": false,
     "grade_id": "cell-b73fc48d4018676b",
     "locked": true,
     "schema_version": 1,
     "solution": false
    }
   },
   "source": [
    "Below, we use [Seaborn](https://seaborn.pydata.org)  to plot the histogram of the distribution you just created. "
   ]
  },
  {
   "cell_type": "code",
   "execution_count": 19,
   "metadata": {
    "deletable": false,
    "editable": false,
    "nbgrader": {
     "checksum": "0cfb64c31a19c6c7ac769b676d29f59f",
     "grade": false,
     "grade_id": "cell-4d7128255ca2da61",
     "locked": true,
     "schema_version": 1,
     "solution": false
    }
   },
   "outputs": [
    {
     "name": "stderr",
     "output_type": "stream",
     "text": [
      "/usr/local/lib/python3.6/dist-packages/seaborn/distributions.py:2557: FutureWarning: `distplot` is a deprecated function and will be removed in a future version. Please adapt your code to use either `displot` (a figure-level function with similar flexibility) or `histplot` (an axes-level function for histograms).\n",
      "  warnings.warn(msg, FutureWarning)\n"
     ]
    },
    {
     "data": {
      "text/plain": [
       "[Text(0, 0.5, 'Frequency'), Text(0.5, 0, 'Poisson Distribution')]"
      ]
     },
     "execution_count": 19,
     "metadata": {},
     "output_type": "execute_result"
    },
    {
     "data": {
      "image/png": "[encoded data removed]",
      "text/plain": [
       "<Figure size 360x360 with 1 Axes>"
      ]
     },
     "metadata": {},
     "output_type": "display_data"
    }
   ],
   "source": [
    "ax = sns.distplot(ans6a,\n",
    "                  bins=30,\n",
    "                  kde = False,\n",
    "                  color='skyblue',\n",
    "                  hist_kws={\"linewidth\": 15,'alpha':1})\n",
    "ax.set(xlabel='Poisson Distribution', ylabel='Frequency')"
   ]
  },
  {
   "cell_type": "markdown",
   "metadata": {
    "deletable": false,
    "editable": false,
    "nbgrader": {
     "checksum": "25b8ab098a24bfdec50e25cb8821e8e7",
     "grade": false,
     "grade_id": "cell-b505a3f6e4ff6a5a",
     "locked": true,
     "schema_version": 1,
     "solution": false
    }
   },
   "source": [
    "### Exponential Distribution Function\n",
    "\n",
    "The exponential distribution describes the time between events in a Poisson process.\n",
    "\n",
    "You can generate an exponentially distributed random variable using *`scipy.stats` module's `expon.rvs()` method,* which takes *`scale`* as a shape parameter. This parameter is the equivalent to the parameter $1/\\lambda$ in the equation on the Poisson distribution you saw in Mini-Lesson 2.5.\n",
    "\n",
    "The *`loc`* argument shift distribution and *`size`* decides the number of random samples in the distribution."
   ]
  },
  {
   "cell_type": "markdown",
   "metadata": {
    "deletable": false,
    "editable": false,
    "nbgrader": {
     "checksum": "53466c3b04ee926bcf0b2ab4b4647e50",
     "grade": false,
     "grade_id": "cell-df20a5e9f9eb2f53",
     "locked": true,
     "schema_version": 1,
     "solution": false
    }
   },
   "source": [
    "### Question 7\n",
    "*3 points*\n",
    "\n",
    "An exponential sample can be generated by using the *function `expon.rvs()`* from the module *`scipy.stats()`*. Import the necessary *libraries* in the code cell below.\n",
    "\n",
    "Next, generate the sample data points by using the *function* above. Set the argument *`scale = 4.67`*, *`loc = 1`*, and *`size = 10000`*. Assign your points to the variable *`ans7a`*."
   ]
  },
  {
   "cell_type": "code",
   "execution_count": 20,
   "metadata": {
    "deletable": false,
    "nbgrader": {
     "checksum": "7fd803f48755e65bc955bb5160ada1f1",
     "grade": false,
     "grade_id": "cell-18c08985d8663e5c",
     "locked": false,
     "schema_version": 1,
     "solution": true
    }
   },
   "outputs": [
    {
     "data": {
      "text/plain": [
       "array([ 4.71673395,  6.86519666,  5.31145209,  4.67622938,  3.57339645,\n",
       "        5.84820391,  3.68767466, 11.38385901, 16.48063989,  3.25842181])"
      ]
     },
     "execution_count": 20,
     "metadata": {},
     "output_type": "execute_result"
    }
   ],
   "source": [
    "### GRADED\n",
    "\n",
    "### YOUR SOLUTION HERE\n",
    "from scipy.stats import expon\n",
    "\n",
    "# Generate sample data points for an exponential distribution\n",
    "# scale = 4.67 (mean), loc = 1 (starting point), size = 10000\n",
    "ans7a = expon.rvs(scale=4.67, loc=1, size=10000, random_state=0)\n",
    "\n",
    "# Show the first 10 values to visualize the result\n",
    "ans7a[:10]  # Printing first 10 values for brevity\n",
    "# YOUR CODE HERE\n"
   ]
  },
  {
   "cell_type": "code",
   "execution_count": null,
   "metadata": {
    "deletable": false,
    "editable": false,
    "nbgrader": {
     "checksum": "d3183d4abaf057272e4568119cf63d97",
     "grade": true,
     "grade_id": "cell-fc3fc076593a381e",
     "locked": true,
     "points": 3,
     "schema_version": 1,
     "solution": false
    }
   },
   "outputs": [],
   "source": []
  },
  {
   "cell_type": "code",
   "execution_count": null,
   "metadata": {},
   "outputs": [],
   "source": []
  }
 ],
 "metadata": {
  "kernelspec": {
   "display_name": "Python 3",
   "language": "python",
   "name": "python3"
  },
  "language_info": {
   "codemirror_mode": {
    "name": "ipython",
    "version": 3
   },
   "file_extension": ".py",
   "mimetype": "text/x-python",
   "name": "python",
   "nbconvert_exporter": "python",
   "pygments_lexer": "ipython3",
   "version": "3.6.9"
  }
 },
 "nbformat": 4,
 "nbformat_minor": 4
}
