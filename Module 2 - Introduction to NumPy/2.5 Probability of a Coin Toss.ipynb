{
 "cells": [
  {
   "cell_type": "markdown",
   "metadata": {},
   "source": [
    "### Probability of a Coin Toss"
   ]
  },
  {
   "cell_type": "code",
   "execution_count": 1,
   "metadata": {},
   "outputs": [],
   "source": [
    "import numpy as np\n",
    "import matplotlib.pyplot as plt"
   ]
  },
  {
   "cell_type": "markdown",
   "metadata": {},
   "source": [
    "#####   Key Differences:\n",
    "    - Type of numbers:\n",
    "        - np.random.rand() generates floating-point numbers in the range [0, 1).\n",
    "        - np.random.randint() generates integer numbers in a specified range.\n",
    "    - Input:\n",
    "        - np.random.rand() takes the shape of the array as input.\n",
    "        - np.random.randint() takes the low and high values along with the shape.\n",
    "    - In Summary:\n",
    "        - Use np.random.rand() when you need random float numbers between 0 and 1.\n",
    "        - Use np.random.randint() when you need random integer numbers within a specified range."
   ]
  },
  {
   "cell_type": "code",
   "execution_count": 24,
   "metadata": {},
   "outputs": [
    {
     "data": {
      "text/plain": [
       "(array([0.4, 0.6]), array([0., 1., 2.]), <BarContainer object of 2 artists>)"
      ]
     },
     "execution_count": 24,
     "metadata": {},
     "output_type": "execute_result"
    },
    {
     "data": {
      "image/png": "[encoded data removed]",
      "text/plain": [
       "<Figure size 432x288 with 1 Axes>"
      ]
     },
     "metadata": {
      "needs_background": "light"
     },
     "output_type": "display_data"
    }
   ],
   "source": [
    "tosses = []\n",
    "for i in range(1,11):\n",
    "    tosses.append(np.random.randint(0,2))\n",
    "plt.hist(tosses, bins = 2, range= [0,2],density = True)\n",
    "#tosses"
   ]
  },
  {
   "cell_type": "code",
   "execution_count": null,
   "metadata": {},
   "outputs": [],
   "source": []
  }
 ],
 "metadata": {
  "kernelspec": {
   "display_name": "Python 3",
   "language": "python",
   "name": "python3"
  },
  "language_info": {
   "codemirror_mode": {
    "name": "ipython",
    "version": 3
   },
   "file_extension": ".py",
   "mimetype": "text/x-python",
   "name": "python",
   "nbconvert_exporter": "python",
   "pygments_lexer": "ipython3",
   "version": "3.8.5"
  }
 },
 "nbformat": 4,
 "nbformat_minor": 4
}
