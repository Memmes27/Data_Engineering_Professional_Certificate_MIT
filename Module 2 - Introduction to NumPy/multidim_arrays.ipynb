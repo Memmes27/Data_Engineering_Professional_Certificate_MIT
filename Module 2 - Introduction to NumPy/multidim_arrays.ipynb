{
 "cells": [
  {
   "cell_type": "markdown",
   "metadata": {
    "deletable": false,
    "editable": false,
    "nbgrader": {
     "cell_type": "markdown",
     "checksum": "c14d3ad98544a3d5ca7b0b292d4d99e6",
     "grade": false,
     "grade_id": "cell-95d351b463ce1aa6",
     "locked": true,
     "schema_version": 3,
     "solution": false
    }
   },
   "source": [
    "# Codio Coding Activity 2.2: Multidimensional NumPy Arrays\n",
    "\n",
    "### Learning Outcome Addressed\n",
    "\n",
    "- 2. Implement NumPy arrays, functions, and multidimensional arrays.\n",
    "\n",
    "\n",
    "## Index:\n",
    "\n",
    "- [Question 1](#Question-1)\n",
    "- [Question 2](#Question-2)\n",
    "- [Question 3](#Question-3)\n",
    "- [Question 4](#Question-4)\n",
    "- [Question 5](#Question-5)\n",
    "- [Question 6](#Question-6)\n",
    "- [Question 7](#Question-7)\n",
    "- [Question 8](#Question-8)\n",
    "- [Question 9](#Question-9)\n",
    "- [Question 10](#Question-10)\n",
    "- [Question 11](#Question-11)"
   ]
  },
  {
   "cell_type": "markdown",
   "metadata": {
    "deletable": false,
    "editable": false,
    "nbgrader": {
     "cell_type": "markdown",
     "checksum": "e1d74c950cf8f3f54abb1fbdb6802c3c",
     "grade": false,
     "grade_id": "cell-8205b17c99b91d8c",
     "locked": true,
     "schema_version": 3,
     "solution": false
    }
   },
   "source": [
    "### Multidimensional NumPy Arrays\n",
    "\n",
    "*NumPy* multidimensional *arrays* are designed to store data in more than one dimension.\n",
    "\n",
    "\n",
    "In general, *NumPy arrays* can have more than one dimension. One way to create such an *array* is to start with a one-dimensional *array* and use the *NumPy `reshape()`* *function* to rearrange elements of that *array* into a new shape.\n",
    "\n",
    "The code:\n",
    "\n",
    "```Python\n",
    "a = np.array([1,2,3,4])\n",
    "b = np.reshape(a, (2,2))\n",
    "\n",
    "```\n",
    "\n",
    "returns: *`b = ([[1, 2],[3, 4]])`*.\n",
    "\n",
    "Note that the product of the dimension of the new *array* must be equal to the length of the original *array*.\n",
    "\n",
    "Before beginning the activity, we need to import the library. Run the code cell below.\n"
   ]
  },
  {
   "cell_type": "code",
   "execution_count": 19,
   "metadata": {
    "deletable": false,
    "editable": false,
    "nbgrader": {
     "cell_type": "code",
     "checksum": "3cc457a9241fb9ec4834b41aa39c6637",
     "grade": false,
     "grade_id": "cell-ff8d66944d6ce540",
     "locked": true,
     "schema_version": 3,
     "solution": false
    }
   },
   "outputs": [],
   "source": [
    "import numpy as np"
   ]
  },
  {
   "cell_type": "markdown",
   "metadata": {
    "deletable": false,
    "editable": false,
    "nbgrader": {
     "cell_type": "markdown",
     "checksum": "1f4a54b70689a70ce11469746f146a3f",
     "grade": false,
     "grade_id": "cell-5169e331ce5f1992",
     "locked": true,
     "schema_version": 3,
     "solution": false
    }
   },
   "source": [
    "\n",
    "### Question 1\n",
    "*2 points*\n",
    "\n",
    "In the code cell below, create a *NumPy array*, *`ans1a`*, with elements *`1,2,3,4,5` and `6`*.\n",
    "\n",
    "Reshape *`ans1a`* into an *array* with two rows and three columns. Assign the result to *`ans1b`*."
   ]
  },
  {
   "cell_type": "code",
   "execution_count": 20,
   "metadata": {
    "deletable": false,
    "nbgrader": {
     "cell_type": "code",
     "checksum": "14338a4c9127d06056df8429cbde62bc",
     "grade": false,
     "grade_id": "cell-fc22785c6593a96d",
     "locked": false,
     "schema_version": 3,
     "solution": true
    }
   },
   "outputs": [],
   "source": [
    "### GRADED\n",
    "\n",
    "### YOUR SOLUTION HERE\n",
    "ans1a = np.array([1,2,3,4,5,6])\n",
    "ans1b = np.reshape(ans1a,(2,3))\n",
    "\n",
    "# YOUR CODE HERE"
   ]
  },
  {
   "cell_type": "code",
   "execution_count": null,
   "metadata": {
    "deletable": false,
    "editable": false,
    "nbgrader": {
     "cell_type": "code",
     "checksum": "681b78846ff6def6b547a7d9806ba980",
     "grade": true,
     "grade_id": "cell-7050abcce39c271c",
     "locked": true,
     "points": 2,
     "schema_version": 3,
     "solution": false
    }
   },
   "outputs": [],
   "source": []
  },
  {
   "cell_type": "markdown",
   "metadata": {
    "deletable": false,
    "editable": false,
    "nbgrader": {
     "cell_type": "markdown",
     "checksum": "57e802d7a5a4ce8bdf16f502c43a00d5",
     "grade": false,
     "grade_id": "cell-870cec5b041b09b0",
     "locked": true,
     "schema_version": 3,
     "solution": false
    }
   },
   "source": [
    "You can  define a *NumPy array* directly by using the *function `np.array()`*.\n",
    "\n",
    "\n",
    "### Question 2\n",
    "*2 points*\n",
    "\n",
    "Define a *NumPy* *array*, *`ans2a`*, with elements in the first row equal to *`10,20,` and `30`* and  elements in the second row equal to *`5,10` and `15`*.\n",
    "\n",
    "Reshape *`ans2a`* into a one-dimensional *array* with one row and six columns. Assign the result to *`ans2b`*."
   ]
  },
  {
   "cell_type": "code",
   "execution_count": 21,
   "metadata": {
    "deletable": false,
    "nbgrader": {
     "cell_type": "code",
     "checksum": "71c2a98bc2c5883a146ac56da48e1d38",
     "grade": false,
     "grade_id": "cell-d43540ba27a5db9f",
     "locked": false,
     "schema_version": 3,
     "solution": true
    }
   },
   "outputs": [
    {
     "data": {
      "text/plain": [
       "array([[10, 20, 30,  5, 10, 15]])"
      ]
     },
     "execution_count": 21,
     "metadata": {},
     "output_type": "execute_result"
    }
   ],
   "source": [
    "### GRADED\n",
    "\n",
    "### YOUR SOLUTION HERE\n",
    "ans2a = np.array([[10,20,30],[5,10,15]])\n",
    "ans2b = ans2a.reshape(1,6)\n",
    "\n",
    "# YOUR CODE HERE\n",
    "ans2b"
   ]
  },
  {
   "cell_type": "code",
   "execution_count": null,
   "metadata": {
    "deletable": false,
    "editable": false,
    "nbgrader": {
     "cell_type": "code",
     "checksum": "cdc5682b903823558a86463806841635",
     "grade": true,
     "grade_id": "cell-490da39a2f50152c",
     "locked": true,
     "points": 2,
     "schema_version": 3,
     "solution": false
    }
   },
   "outputs": [],
   "source": []
  },
  {
   "cell_type": "markdown",
   "metadata": {
    "deletable": false,
    "editable": false,
    "nbgrader": {
     "cell_type": "markdown",
     "checksum": "db0d99fad4ac93bb2bc5403336b1ff29",
     "grade": false,
     "grade_id": "cell-87a1f7d7d5b99e37",
     "locked": true,
     "schema_version": 3,
     "solution": false
    }
   },
   "source": [
    "### Indexing Arrays\n",
    "\n",
    "Indexing *NumPy arrays* is very  similar to *indexing lists* and can be achieved by using the square brackets notation.\n",
    "\n",
    "In a one-dimensional *array*, a single element can be accessed by specifying the *index* of the element within square brackets."
   ]
  },
  {
   "cell_type": "code",
   "execution_count": 22,
   "metadata": {
    "deletable": false,
    "editable": false,
    "nbgrader": {
     "cell_type": "code",
     "checksum": "2207445d67189ac25584892393c99b7a",
     "grade": false,
     "grade_id": "cell-d957cc67b9564954",
     "locked": true,
     "schema_version": 3,
     "solution": false
    }
   },
   "outputs": [
    {
     "data": {
      "text/plain": [
       "10"
      ]
     },
     "execution_count": 22,
     "metadata": {},
     "output_type": "execute_result"
    }
   ],
   "source": [
    "a = np.array([10,20,30,40])\n",
    "a[0]"
   ]
  },
  {
   "cell_type": "markdown",
   "metadata": {
    "deletable": false,
    "editable": false,
    "nbgrader": {
     "cell_type": "markdown",
     "checksum": "65e88bd26c93d9f9cdb71fb11818f9fb",
     "grade": false,
     "grade_id": "cell-20a3396202691234",
     "locked": true,
     "schema_version": 3,
     "solution": false
    }
   },
   "source": [
    "*Indexing* becomes a little more tricky when dealing with two-dimensional *arrays*. \n",
    "\n",
    "#### Accessing a Single Row or Column\n",
    "\n",
    "A row in a 2-D *array* can be accessed by using a single *index* corresponding to the row you want to refer to.\n",
    "\n",
    "\n",
    "### Question 3\n",
    "*1 point*\n",
    "\n",
    "The *array `my_array`* has been defined below.\n",
    "\n",
    "Access the second row of *`my_array`* and assign it to *`ans3a`*."
   ]
  },
  {
   "cell_type": "code",
   "execution_count": 23,
   "metadata": {
    "deletable": false,
    "editable": false,
    "nbgrader": {
     "cell_type": "code",
     "checksum": "7b5e722484271b395d54aacb994141c9",
     "grade": false,
     "grade_id": "cell-91ae52c9e810b5f9",
     "locked": true,
     "schema_version": 3,
     "solution": false
    }
   },
   "outputs": [],
   "source": [
    "my_array = np.array([[1,2,3], [4,5,6], [7,8,9]])"
   ]
  },
  {
   "cell_type": "code",
   "execution_count": 24,
   "metadata": {
    "deletable": false,
    "nbgrader": {
     "cell_type": "code",
     "checksum": "f30c87fe2921d4f26bb2f8ca842f6f47",
     "grade": false,
     "grade_id": "cell-4f56dbfac050fd12",
     "locked": false,
     "schema_version": 3,
     "solution": true
    }
   },
   "outputs": [
    {
     "data": {
      "text/plain": [
       "array([4, 5, 6])"
      ]
     },
     "execution_count": 24,
     "metadata": {},
     "output_type": "execute_result"
    }
   ],
   "source": [
    "### GRADED\n",
    "\n",
    "### YOUR SOLUTION HERE\n",
    "ans3a = my_array[1]\n",
    "\n",
    "# YOUR CODE HERE\n",
    "ans3a"
   ]
  },
  {
   "cell_type": "code",
   "execution_count": null,
   "metadata": {
    "deletable": false,
    "editable": false,
    "nbgrader": {
     "cell_type": "code",
     "checksum": "57dff50e7a6668a0b8178cba3cc8f4e7",
     "grade": true,
     "grade_id": "cell-7f3390ea3ff58215",
     "locked": true,
     "points": 1,
     "schema_version": 3,
     "solution": false
    }
   },
   "outputs": [],
   "source": []
  },
  {
   "cell_type": "markdown",
   "metadata": {
    "deletable": false,
    "editable": false,
    "nbgrader": {
     "cell_type": "markdown",
     "checksum": "e802de038008c4bf8bfea7ccf87b98bc",
     "grade": false,
     "grade_id": "cell-7a2ffbe80f318a07",
     "locked": true,
     "schema_version": 3,
     "solution": false
    }
   },
   "source": [
    "A column in a 2-D *array* can be accessed by using *slicing* notation.\n",
    "\n",
    "For example,\n",
    "\n",
    "```Python\n",
    "x = np.array([[1,2,3],[4,5,6]])\n",
    "y = x[:,1]\n",
    "```\n",
    "returns *`[2,5]`*. In the syntax above, the *`:`* symbol refers to all the rows of *`x,`* and the *index* *`1`* refers to the elements with *index* one in each row."
   ]
  },
  {
   "cell_type": "markdown",
   "metadata": {
    "deletable": false,
    "editable": false,
    "nbgrader": {
     "cell_type": "markdown",
     "checksum": "20d7f02725259b665142ca50740f1afa",
     "grade": false,
     "grade_id": "cell-d3bc09ba470c6a05",
     "locked": true,
     "schema_version": 3,
     "solution": false
    }
   },
   "source": [
    "### Question 4\n",
    "*2 points*\n",
    "\n",
    "Consider the *array `my_array`* defined above. \n",
    "\n",
    "Access the last column of *`my_array`* and assign it to *`ans4a`*."
   ]
  },
  {
   "cell_type": "code",
   "execution_count": 25,
   "metadata": {
    "deletable": false,
    "nbgrader": {
     "cell_type": "code",
     "checksum": "35cc5521f393be46efd7a6f9f57f746c",
     "grade": false,
     "grade_id": "cell-2c9fa324e7063edd",
     "locked": false,
     "schema_version": 3,
     "solution": true
    }
   },
   "outputs": [
    {
     "data": {
      "text/plain": [
       "array([3, 6, 9])"
      ]
     },
     "execution_count": 25,
     "metadata": {},
     "output_type": "execute_result"
    }
   ],
   "source": [
    "### GRADED\n",
    "\n",
    "### YOUR SOLUTION HERE\n",
    "ans4a = my_array[:, -1]\n",
    "\n",
    "# YOUR CODE HERE\n",
    "ans4a"
   ]
  },
  {
   "cell_type": "code",
   "execution_count": null,
   "metadata": {
    "deletable": false,
    "editable": false,
    "nbgrader": {
     "cell_type": "code",
     "checksum": "f9380e99293a6ebb9027a5f8809ed717",
     "grade": true,
     "grade_id": "cell-2d92d36ce2278e5f",
     "locked": true,
     "points": 2,
     "schema_version": 3,
     "solution": false
    }
   },
   "outputs": [],
   "source": []
  },
  {
   "cell_type": "markdown",
   "metadata": {
    "deletable": false,
    "editable": false,
    "nbgrader": {
     "cell_type": "markdown",
     "checksum": "be925a6fd8e003885f87c511fd4249fb",
     "grade": false,
     "grade_id": "cell-e769d82f590cfcac",
     "locked": true,
     "schema_version": 3,
     "solution": false
    }
   },
   "source": [
    "#### Accessing a Single Element\n",
    "\n",
    "A single element in an *array* can be accessed by specifying the row and column *index* of the desired element within square brackets.\n",
    "\n",
    "### Question 5\n",
    "*1 point*\n",
    "\n",
    "Consider the *array `my_array`* defined above. \n",
    "\n",
    "Access the element with value *`5`* and assign it to *`ans5a`*."
   ]
  },
  {
   "cell_type": "code",
   "execution_count": 26,
   "metadata": {
    "deletable": false,
    "nbgrader": {
     "cell_type": "code",
     "checksum": "377b8a345f6be2c100b0b9da2c9fcdee",
     "grade": false,
     "grade_id": "cell-026c1893a85e3711",
     "locked": false,
     "schema_version": 3,
     "solution": true
    }
   },
   "outputs": [
    {
     "data": {
      "text/plain": [
       "5"
      ]
     },
     "execution_count": 26,
     "metadata": {},
     "output_type": "execute_result"
    }
   ],
   "source": [
    "#my_array = np.array([[1,2,3], [4,5,6], [7,8,9]])\n",
    "### GRADED\n",
    "\n",
    "### YOUR SOLUTION HERE\n",
    "ans5a = my_array[1,1]\n",
    "\n",
    "# YOUR CODE HERE\n",
    "ans5a"
   ]
  },
  {
   "cell_type": "code",
   "execution_count": null,
   "metadata": {
    "deletable": false,
    "editable": false,
    "nbgrader": {
     "cell_type": "code",
     "checksum": "1caa84daa8d441f60cd3e45cd52a0789",
     "grade": true,
     "grade_id": "cell-2a782eaf46454183",
     "locked": true,
     "points": 1,
     "schema_version": 3,
     "solution": false
    }
   },
   "outputs": [],
   "source": []
  },
  {
   "cell_type": "markdown",
   "metadata": {
    "deletable": false,
    "editable": false,
    "nbgrader": {
     "cell_type": "markdown",
     "checksum": "68e8b18aea925325ad36cfdcc7e99ad4",
     "grade": false,
     "grade_id": "cell-540195cb14e4a5be",
     "locked": true,
     "schema_version": 3,
     "solution": false
    }
   },
   "source": [
    "### Slicing *Arrays*\n",
    "\n",
    "Like to Python *lists*, *NumPy arrays* can be *sliced*. When *slicing* multidimensional *arrays*, you must specify a *slice* for each dimension of the *array*.\n",
    "\n",
    "The *array `a`* is defined below with dimension 2 and shape `(3, 4)`."
   ]
  },
  {
   "cell_type": "code",
   "execution_count": 27,
   "metadata": {
    "deletable": false,
    "editable": false,
    "nbgrader": {
     "cell_type": "code",
     "checksum": "bdbf91e6511e3cd19d45a8fca5617839",
     "grade": false,
     "grade_id": "cell-d897b748b9982d22",
     "locked": true,
     "schema_version": 3,
     "solution": false
    }
   },
   "outputs": [],
   "source": [
    "a = np.array([[1,2,3,4], [5,6,7,8], [9,10,11,12]])\n",
    "# [[ 1  2  3  4]\n",
    "#  [ 5  6  7  8]\n",
    "#  [ 9 10 11 12]]"
   ]
  },
  {
   "cell_type": "markdown",
   "metadata": {
    "deletable": false,
    "editable": false,
    "nbgrader": {
     "cell_type": "markdown",
     "checksum": "b1dfcd29fd284b7a08487081948892c0",
     "grade": false,
     "grade_id": "cell-9310ac6a6c928677",
     "locked": true,
     "schema_version": 3,
     "solution": false
    }
   },
   "source": [
    "### Question 6\n",
    "*2 points*\n",
    "\n",
    "Use *slicing* to pull out the *subarray* consisting of the first two rows and columns with indexes 1 and 2 of *`a`*. Assign the result to *`ans6a`*.\n",
    "\n",
    "**HINT:** *`ans6a`* is the following *array* of shape (2, 2):\n",
    "```Python\n",
    "[[2 3]\n",
    "[6 7]]\n",
    "```"
   ]
  },
  {
   "cell_type": "code",
   "execution_count": 28,
   "metadata": {
    "deletable": false,
    "nbgrader": {
     "cell_type": "code",
     "checksum": "5803a0fa38720f6ab1fe1c146e8607d4",
     "grade": false,
     "grade_id": "cell-7da22e3aa3a93e1a",
     "locked": false,
     "schema_version": 3,
     "solution": true
    }
   },
   "outputs": [
    {
     "data": {
      "text/plain": [
       "array([[2, 3],\n",
       "       [6, 7]])"
      ]
     },
     "execution_count": 28,
     "metadata": {},
     "output_type": "execute_result"
    }
   ],
   "source": [
    "### GRADED\n",
    "\n",
    "### YOUR SOLUTION HERE\n",
    "ans6a = a[:2,1:3 ]\n",
    "\n",
    "# YOUR CODE HERE\n",
    "ans6a"
   ]
  },
  {
   "cell_type": "code",
   "execution_count": null,
   "metadata": {
    "deletable": false,
    "editable": false,
    "nbgrader": {
     "cell_type": "code",
     "checksum": "dc7ea5f7bb2fdbc070a8378a3a278731",
     "grade": true,
     "grade_id": "cell-f6bc582f1c1d5ac0",
     "locked": true,
     "points": 2,
     "schema_version": 3,
     "solution": false
    }
   },
   "outputs": [],
   "source": []
  },
  {
   "cell_type": "markdown",
   "metadata": {
    "deletable": false,
    "editable": false,
    "nbgrader": {
     "cell_type": "markdown",
     "checksum": "0d4d8fa0f7759e4301db0d428e86bb13",
     "grade": false,
     "grade_id": "cell-1dc8276167f6ff6c",
     "locked": true,
     "schema_version": 3,
     "solution": false
    }
   },
   "source": [
    "A slice of an *array* is a view into the same data, so modifying it will modify the original *array*.\n",
    "\n",
    "### Question 7\n",
    "*1 point*\n",
    "\n",
    "Consider again the *array `ans6a`* above.\n",
    "\n",
    "What is the value of the element in *`ans6a[0][1]`*? Assign the result to *`ans7a`*."
   ]
  },
  {
   "cell_type": "code",
   "execution_count": 29,
   "metadata": {
    "deletable": false,
    "nbgrader": {
     "cell_type": "code",
     "checksum": "ff97515616593cf8d33d01484fd988af",
     "grade": false,
     "grade_id": "cell-99bb1a0eb0393ba7",
     "locked": false,
     "schema_version": 3,
     "solution": true
    }
   },
   "outputs": [
    {
     "data": {
      "text/plain": [
       "3"
      ]
     },
     "execution_count": 29,
     "metadata": {},
     "output_type": "execute_result"
    }
   ],
   "source": [
    "### GRADED\n",
    "\n",
    "### YOUR SOLUTION HERE\n",
    "ans7a = 3\n",
    "\n",
    "# YOUR CODE HERE\n",
    "ans7a"
   ]
  },
  {
   "cell_type": "code",
   "execution_count": null,
   "metadata": {
    "deletable": false,
    "editable": false,
    "nbgrader": {
     "cell_type": "code",
     "checksum": "4a7901512109cd34e13fbbc229008e87",
     "grade": true,
     "grade_id": "cell-46b3224cc01d82da",
     "locked": true,
     "points": 1,
     "schema_version": 3,
     "solution": false
    }
   },
   "outputs": [],
   "source": []
  },
  {
   "cell_type": "markdown",
   "metadata": {
    "deletable": false,
    "editable": false,
    "nbgrader": {
     "cell_type": "markdown",
     "checksum": "07a465b783de076ac6ee7609fe525fb4",
     "grade": false,
     "grade_id": "cell-f20d5346c0c03856",
     "locked": true,
     "schema_version": 3,
     "solution": false
    }
   },
   "source": [
    "### Broadcasting\n",
    "\n",
    "Broadcasting is a powerful mechanism that allows *NumPy* to work with *arrays* of different shapes when performing arithmetic operations. \n",
    "\n",
    "Frequently, we have a smaller *array* and a larger *array*, and want to use the smaller *array* multiple times to perform some operation on the larger *array*.\n",
    "\n",
    "Broadcasting typically makes your code faster and more concise, so you should strive to use it wherever possible.\n",
    "\n",
    "### Question 8\n",
    "*1 point*\n",
    "\n",
    "Define an *array, `array_8a`* with dimension 2 and shape *`(4,3)`* and elements *`[0,0,0],[10,10,10],[20,20,20],[30,30,30]`*, and an *array, `array_8b` with elements `[0,1,0]`*.\n",
    "\n",
    "Add *`array_8a`* and *`array_8b`* and assign the result to *`ans8a`*.\n",
    "\n",
    "Print your result on the screen to visualize *`ans8a`*."
   ]
  },
  {
   "cell_type": "code",
   "execution_count": 30,
   "metadata": {
    "deletable": false,
    "nbgrader": {
     "cell_type": "code",
     "checksum": "a2b483d317712efa48230ae3aef8a861",
     "grade": false,
     "grade_id": "cell-d7733edbdd4187c2",
     "locked": false,
     "schema_version": 3,
     "solution": true
    }
   },
   "outputs": [
    {
     "data": {
      "text/plain": [
       "array([[ 0,  1,  0],\n",
       "       [10, 11, 10],\n",
       "       [20, 21, 20],\n",
       "       [30, 31, 30]])"
      ]
     },
     "execution_count": 30,
     "metadata": {},
     "output_type": "execute_result"
    }
   ],
   "source": [
    "### GRADED\n",
    "\n",
    "### YOUR SOLUTION HERE\n",
    "array_8a = np.array([[0,0,0],[10,10,10],[20,20,20],[30,30,30]])\n",
    "array_8b = [0,1,0]\n",
    "# YOUR CODE HERE\n",
    "ans8a = array_8a+array_8b\n",
    "ans8a"
   ]
  },
  {
   "cell_type": "code",
   "execution_count": null,
   "metadata": {
    "deletable": false,
    "editable": false,
    "nbgrader": {
     "cell_type": "code",
     "checksum": "800b371dfbc5a1c6cba0b468250fb8dc",
     "grade": true,
     "grade_id": "cell-a5ee6b8d34848654",
     "locked": true,
     "points": 1,
     "schema_version": 3,
     "solution": false
    }
   },
   "outputs": [],
   "source": []
  },
  {
   "cell_type": "markdown",
   "metadata": {
    "deletable": false,
    "editable": false,
    "nbgrader": {
     "cell_type": "markdown",
     "checksum": "164ac7b58fe4fc8703b1f18bd69cc551",
     "grade": false,
     "grade_id": "cell-b969e04cdd8a1566",
     "locked": true,
     "schema_version": 3,
     "solution": false
    }
   },
   "source": [
    "### Question 9\n",
    "*3 points*\n",
    "\n",
    "Define an *array, `array_9a,`* with dimension 2 and shape *`(3,4)`* and elements *`[0,0,0],[1,1,1],[2,2,2],[3,3,3]`*, and an *array, `array_9b`* with elements *`[1,1,-1]`*.\n",
    "\n",
    "Add  *`array_9b`* to each row of *`array_9a`* and assign the result to *`ans9a`*.\n",
    "\n",
    "**HINT:** For this question, start by creating an empty *array, `ans9a,`* with the same shape as *`array_9a`* by using the *function `empty_like(),`* and then use a *for* loop and *slicing* to add *`array_9b`* to *`array_9a`*."
   ]
  },
  {
   "cell_type": "code",
   "execution_count": 31,
   "metadata": {
    "deletable": false,
    "nbgrader": {
     "cell_type": "code",
     "checksum": "a6fb31d514966c08c9bf53a72160c9e5",
     "grade": false,
     "grade_id": "cell-e5a61fcc5aed2572",
     "locked": false,
     "schema_version": 3,
     "solution": true
    }
   },
   "outputs": [],
   "source": [
    "### GRADED\n",
    "\n",
    "### YOUR SOLUTION HERE\n",
    "array_9a = np.array([[0,0,0],[1,1,1],[2,2,2],[3,3,3]])\n",
    "array_9b = np.array([1,1,-1])\n",
    "ans9a = np.empty_like(array_9a)\n",
    "for i in range(4):\n",
    "    ans9a[i,:]= array_9a[i, :] + array_9b\n",
    "\n",
    "# YOUR CODE HERE\n"
   ]
  },
  {
   "cell_type": "code",
   "execution_count": null,
   "metadata": {
    "deletable": false,
    "editable": false,
    "nbgrader": {
     "cell_type": "code",
     "checksum": "d76661439b0c8ae076c31c8a865db940",
     "grade": true,
     "grade_id": "cell-5ea035379e239357",
     "locked": true,
     "points": 3,
     "schema_version": 3,
     "solution": false
    }
   },
   "outputs": [],
   "source": []
  },
  {
   "cell_type": "markdown",
   "metadata": {
    "deletable": false,
    "editable": false,
    "nbgrader": {
     "cell_type": "markdown",
     "checksum": "39790e11c5cbd4a153452e22740b667d",
     "grade": false,
     "grade_id": "cell-3682a66fd1a7a7ae",
     "locked": true,
     "schema_version": 3,
     "solution": false
    }
   },
   "source": [
    "### More NumPy Functions\n",
    "\n",
    "In the last section of this activity, you will practice some more advanced *NumPy functions*.\n",
    "\n",
    "#### The Where Function\n",
    "\n",
    "The *NumPy `where()` function* returns the *index* of the element in the *array* that satisfies a certain condition directly on the code.\n",
    "\n",
    "For example:\n",
    "\n",
    "```Python\n",
    "a = np.array([2,4,5])\n",
    "b = np.where(a>3)\n",
    "```\n",
    "returns *`[1,2]`*.\n"
   ]
  },
  {
   "cell_type": "markdown",
   "metadata": {
    "deletable": false,
    "editable": false,
    "nbgrader": {
     "cell_type": "markdown",
     "checksum": "96e203ebd1a811e99b8cae5c922f27cd",
     "grade": false,
     "grade_id": "cell-0e1f2889d35851b1",
     "locked": true,
     "schema_version": 3,
     "solution": false
    }
   },
   "source": [
    "### Question 10\n",
    "*2 points*\n",
    "\n",
    "Define an *array, `array_10`* with dimension 2 and shape *`(3,3)`* and elements *`[0,0,0],[-1,1,-1],[2,-2,2]`*.\n",
    "\n",
    "Extract the *indexes* of the elements of *`array_10`* that are greater than two. Assign the result to *`ans10a`*."
   ]
  },
  {
   "cell_type": "code",
   "execution_count": 32,
   "metadata": {
    "deletable": false,
    "nbgrader": {
     "cell_type": "code",
     "checksum": "619647e83af39fc28fecb79aebb8ed72",
     "grade": false,
     "grade_id": "cell-5997cefe35fa5d84",
     "locked": false,
     "schema_version": 3,
     "solution": true
    }
   },
   "outputs": [
    {
     "data": {
      "text/plain": [
       "(array([], dtype=int64), array([], dtype=int64))"
      ]
     },
     "execution_count": 32,
     "metadata": {},
     "output_type": "execute_result"
    }
   ],
   "source": [
    "### GRADED\n",
    "\n",
    "### YOUR SOLUTION HERE\n",
    "array_10 = np.array([[0,0,0],[-1,1,-1],[2,-2,2]])\n",
    "ans10a = np.where(array_10 > 2)\n",
    "\n",
    "# YOUR CODE HERE\n",
    "ans10a"
   ]
  },
  {
   "cell_type": "code",
   "execution_count": null,
   "metadata": {
    "deletable": false,
    "editable": false,
    "nbgrader": {
     "cell_type": "code",
     "checksum": "db7ef56fe48eb0211639b746a4bf7781",
     "grade": true,
     "grade_id": "cell-98dd80d70179bbcd",
     "locked": true,
     "points": 2,
     "schema_version": 3,
     "solution": false
    }
   },
   "outputs": [],
   "source": []
  },
  {
   "cell_type": "markdown",
   "metadata": {
    "deletable": false,
    "editable": false,
    "nbgrader": {
     "cell_type": "markdown",
     "checksum": "ae0b0571f00216504e2319b1ba0010e2",
     "grade": false,
     "grade_id": "cell-89e233965296305d",
     "locked": true,
     "schema_version": 3,
     "solution": false
    }
   },
   "source": [
    "#### The Extract Function\n",
    "\n",
    "The *NumPy `extract()` function* returns the element that satisfies the condition, not the element *index*.\n",
    "\n",
    "For example\n",
    "\n",
    "```Python\n",
    "a = np.array([2,4,5])\n",
    "b = np.extract(a>3,a)\n",
    "```\n",
    "returns *`[4,5]`*.\n",
    "\n",
    "### Question 11\n",
    "*3 points*\n",
    "\n",
    "Define an *array, `array_11,`* with dimension 2 and shape *`(3,3)`* and elements *`[0,0,0],[2,4,6],[3,6,9]`*.\n",
    "\n",
    "Extract  the elements where the  modulo two division equals zero element from *`array_11`*. Assign the result to *`ans11a`*.\n",
    "Delete the entries equal to zero in *`ans11a,`* and assign the result to *`ans11b`*."
   ]
  },
  {
   "cell_type": "code",
   "execution_count": 33,
   "metadata": {
    "deletable": false,
    "nbgrader": {
     "cell_type": "code",
     "checksum": "43ea43f055c533b19dc5d0ba1727a86b",
     "grade": false,
     "grade_id": "cell-51d8d2372c1d9202",
     "locked": false,
     "schema_version": 3,
     "solution": true
    }
   },
   "outputs": [],
   "source": [
    "### GRADED\n",
    "\n",
    "### YOUR SOLUTION HERE\n",
    "array_11 = np.array([[0,0,0],[2,4,6],[3,6,9]])\n",
    "ans11a = np.extract(array_11 % 2 == 0, array_11)\n",
    "ans11b = ans11a[ans11a != 0]\n",
    "\n",
    "# YOUR CODE HERE"
   ]
  },
  {
   "cell_type": "code",
   "execution_count": null,
   "metadata": {
    "deletable": false,
    "editable": false,
    "nbgrader": {
     "cell_type": "code",
     "checksum": "2d54e6b2020971a98d442598159ac355",
     "grade": true,
     "grade_id": "cell-ef95be7bee88cddc",
     "locked": true,
     "points": 3,
     "schema_version": 3,
     "solution": false
    }
   },
   "outputs": [],
   "source": []
  },
  {
   "cell_type": "code",
   "execution_count": null,
   "metadata": {},
   "outputs": [],
   "source": []
  }
 ],
 "metadata": {
  "kernelspec": {
   "display_name": "Python 3",
   "language": "python",
   "name": "python3"
  },
  "language_info": {
   "codemirror_mode": {
    "name": "ipython",
    "version": 3
   },
   "file_extension": ".py",
   "mimetype": "text/x-python",
   "name": "python",
   "nbconvert_exporter": "python",
   "pygments_lexer": "ipython3",
   "version": "3.6.9"
  }
 },
 "nbformat": 4,
 "nbformat_minor": 4
}
