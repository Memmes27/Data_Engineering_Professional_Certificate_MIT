{
 "cells": [
  {
   "cell_type": "markdown",
   "metadata": {
    "deletable": false,
    "editable": false,
    "nbgrader": {
     "cell_type": "markdown",
     "checksum": "06b7183d57b2fc0b73802a3ee811d516",
     "grade": false,
     "grade_id": "cell-65199597d6e13074",
     "locked": true,
     "schema_version": 3,
     "solution": false
    }
   },
   "source": [
    "# Codio Coding Assignment 1.1:  Data Types, Flow Control Statements, *Functions*, and Objects\n",
    "\n",
    "\n",
    "### Learning Outcomes Addressed\n",
    "\n",
    "- 2. Implement Python basic data types in a coding environment.\n",
    "- 4. Implement Python *lists, tuples, sets*, and *dictionaries* in a coding environment.\n",
    "- 5. Use *indexing* and *slicing* in Python.\n",
    "- 8. Integrate *loops* and *conditionals* in a Python coding environment.\n",
    "- 10. Use Python *functions* in a coding environment.\n",
    "\n",
    "\n",
    "\n",
    "## Index:\n",
    "\n",
    "- [Question 1](#Question-1)\n",
    "- [Question 2](#Question-2)\n",
    "- [Question 3](#Question-3)\n",
    "- [Question 4](#Question-4)\n",
    "- [Question 5](#Question-5)\n",
    "- [Question 6](#Question-6)\n",
    "- [Question 7](#Question-7)\n",
    "- [Question 8](#Question-8)\n",
    "- [Question 9](#Question-9)\n",
    "- [Question 10](#Question-10)\n",
    "- [Question 11](#Question-11)\n",
    "- [Question 12](#Question-12)\n",
    "- [Question 13](#Question-13)\n",
    "- [Question 14](#Question-14)\n",
    "- [Question 15](#Question-15)\n",
    "- [Question 16](#Question-16)\n",
    "- [Question 17](#Question-17)\n",
    "- [Question 18](#Question-18)\n",
    "- [Question 19](#Question-19)\n",
    "- [Question 20](#Question-20)"
   ]
  },
  {
   "cell_type": "markdown",
   "metadata": {
    "deletable": false,
    "editable": false,
    "nbgrader": {
     "cell_type": "markdown",
     "checksum": "c7cd6a5d69654f86c1a7711e4c293199",
     "grade": false,
     "grade_id": "cell-ab126bbd4adbe92a",
     "locked": true,
     "schema_version": 3,
     "solution": false
    }
   },
   "source": [
    "### Question 1\n",
    "*3 points*\n",
    "\n",
    "In the code cell below, assign *`My name is`* to *`ans1a`* and *` Alex`* to *`ans1b`*. Concatenate the two *strings* into a single one: *`ans1c`*.\n",
    "\n",
    "Replace the word *`Alex`* with *`Mary`*. Assign the new *string* to *`ans1d`*.\n"
   ]
  },
  {
   "cell_type": "code",
   "execution_count": 2,
   "metadata": {
    "deletable": false,
    "nbgrader": {
     "cell_type": "code",
     "checksum": "238b3af2d9e8ecffd2a2a0b41f71d806",
     "grade": false,
     "grade_id": "cell-af624aa4b0968516",
     "locked": false,
     "schema_version": 3,
     "solution": true
    }
   },
   "outputs": [
    {
     "name": "stdout",
     "output_type": "stream",
     "text": [
      "My name is Alex My name is Mary\n"
     ]
    }
   ],
   "source": [
    "### GRADED\n",
    "\n",
    "### YOUR SOLUTION HERE\n",
    "ans1a = 'My name is '\n",
    "ans1b = 'Alex'\n",
    "ans1c = ans1a + ans1b\n",
    "ans1d = ans1c.replace('Alex', 'Mary')\n",
    "\n",
    "# YOUR CODE HERE\n",
    "print(ans1c, ans1d)"
   ]
  },
  {
   "cell_type": "code",
   "execution_count": null,
   "metadata": {
    "deletable": false,
    "editable": false,
    "nbgrader": {
     "cell_type": "code",
     "checksum": "4de1ec2bfa9e7273aac470b4bc83329b",
     "grade": true,
     "grade_id": "cell-383e32e69a650d20",
     "locked": true,
     "points": 3,
     "schema_version": 3,
     "solution": false
    }
   },
   "outputs": [],
   "source": []
  },
  {
   "cell_type": "markdown",
   "metadata": {
    "deletable": false,
    "editable": false,
    "nbgrader": {
     "cell_type": "markdown",
     "checksum": "6b6f2a54a59478ffe2ec903c42225651",
     "grade": false,
     "grade_id": "cell-03e53cf8b7cbae03",
     "locked": true,
     "schema_version": 3,
     "solution": false
    }
   },
   "source": [
    "### Question 2\n",
    "\n",
    "*3 points*\n",
    "\n",
    "In the code cell below, assign the result of 24 x 13 to *`ans2a`*. Take the square root of *`ans2a`* and assign it to  *`ans2b`*.\n",
    "\n",
    "Cast  *`ans2b`* to an *integer* and assign it to  *`ans2c`*."
   ]
  },
  {
   "cell_type": "code",
   "execution_count": 5,
   "metadata": {
    "deletable": false,
    "nbgrader": {
     "cell_type": "code",
     "checksum": "c4ce0bcf30fb984d7a43d1075906052f",
     "grade": false,
     "grade_id": "cell-cef9aaa007b8d9ad",
     "locked": false,
     "schema_version": 3,
     "solution": true
    }
   },
   "outputs": [
    {
     "name": "stdout",
     "output_type": "stream",
     "text": [
      "17.663521732655695 17\n"
     ]
    }
   ],
   "source": [
    "import math\n",
    "### GRADED\n",
    "\n",
    "### YOUR SOLUTION HERE\n",
    "ans2a = 24 * 13\n",
    "ans2b = math.sqrt(ans2a)\n",
    "ans2c = int(ans2b)\n",
    "\n",
    "\n",
    "# YOUR CODE HERE\n",
    "print(ans2b, ans2c)"
   ]
  },
  {
   "cell_type": "code",
   "execution_count": null,
   "metadata": {
    "deletable": false,
    "editable": false,
    "nbgrader": {
     "cell_type": "code",
     "checksum": "ef25b613925cdb19fa5d4dc3e600591c",
     "grade": true,
     "grade_id": "cell-2896c5111faea910",
     "locked": true,
     "points": 3,
     "schema_version": 3,
     "solution": false
    }
   },
   "outputs": [],
   "source": []
  },
  {
   "cell_type": "markdown",
   "metadata": {
    "deletable": false,
    "editable": false,
    "nbgrader": {
     "cell_type": "markdown",
     "checksum": "1918b2aea5ed50a3f6b18da3feaf53c6",
     "grade": false,
     "grade_id": "cell-63828dba594dc564",
     "locked": true,
     "schema_version": 3,
     "solution": false
    }
   },
   "source": [
    "### Question 3\n",
    "\n",
    "*2 points*\n",
    "\n",
    "Convert the *string `1000`* to the number *1000*. Assign your response to  *`ans3a`*."
   ]
  },
  {
   "cell_type": "code",
   "execution_count": 7,
   "metadata": {
    "deletable": false,
    "nbgrader": {
     "cell_type": "code",
     "checksum": "e840e5f6d23d347ba6335b64d2df80b4",
     "grade": false,
     "grade_id": "cell-89469ea47c0c1584",
     "locked": false,
     "schema_version": 3,
     "solution": true
    }
   },
   "outputs": [
    {
     "name": "stdout",
     "output_type": "stream",
     "text": [
      "1000\n"
     ]
    }
   ],
   "source": [
    "### GRADED\n",
    "\n",
    "### YOUR SOLUTION HERE\n",
    "ans3a = int('1000')\n",
    "\n",
    "\n",
    "# YOUR CODE HERE\n",
    "print(ans3a)"
   ]
  },
  {
   "cell_type": "code",
   "execution_count": null,
   "metadata": {
    "deletable": false,
    "editable": false,
    "nbgrader": {
     "cell_type": "code",
     "checksum": "83ee26fabdfb436874caf23c90329da1",
     "grade": true,
     "grade_id": "cell-ff2cecdc3672b57a",
     "locked": true,
     "points": 2,
     "schema_version": 3,
     "solution": false
    }
   },
   "outputs": [],
   "source": []
  },
  {
   "cell_type": "markdown",
   "metadata": {
    "deletable": false,
    "editable": false,
    "nbgrader": {
     "cell_type": "markdown",
     "checksum": "73094b456c0715c0307dec1202c991a8",
     "grade": false,
     "grade_id": "cell-42ca9d48c4c69b23",
     "locked": true,
     "schema_version": 3,
     "solution": false
    }
   },
   "source": [
    "### Question 4\n",
    "\n",
    "*2 points*\n",
    "\n",
    "Record the output of the expression *`type([])`* and assign it to *`ans4a`*."
   ]
  },
  {
   "cell_type": "code",
   "execution_count": 8,
   "metadata": {
    "deletable": false,
    "nbgrader": {
     "cell_type": "code",
     "checksum": "0f0e4a88bdf5521373a5cbb687d7f692",
     "grade": false,
     "grade_id": "cell-957a24db909f2d16",
     "locked": false,
     "schema_version": 3,
     "solution": true
    }
   },
   "outputs": [
    {
     "name": "stdout",
     "output_type": "stream",
     "text": [
      "<class 'list'>\n"
     ]
    }
   ],
   "source": [
    "### GRADED\n",
    "\n",
    "### YOUR SOLUTION HERE\n",
    "ans4a = type([])\n",
    "\n",
    "\n",
    "# YOUR CODE HERE\n",
    "print(ans4a)"
   ]
  },
  {
   "cell_type": "code",
   "execution_count": null,
   "metadata": {
    "deletable": false,
    "editable": false,
    "nbgrader": {
     "cell_type": "code",
     "checksum": "bb4383546fad2e44955a50af2cd9ac40",
     "grade": true,
     "grade_id": "cell-0338dfa56daef3ec",
     "locked": true,
     "points": 2,
     "schema_version": 3,
     "solution": false
    }
   },
   "outputs": [],
   "source": []
  },
  {
   "cell_type": "markdown",
   "metadata": {
    "deletable": false,
    "editable": false,
    "nbgrader": {
     "cell_type": "markdown",
     "checksum": "06f69802dd5cf530efd6a8f5961b54a1",
     "grade": false,
     "grade_id": "cell-1e37295850b2684b",
     "locked": true,
     "schema_version": 3,
     "solution": false
    }
   },
   "source": [
    "### Question 5\n",
    "\n",
    "*4 point*\n",
    "\n",
    "Assign the *string `xylophone`* to *`ans5a`*. Check whether the letter *`y`* is in *`ans5a`* and assign the result to *`ans5b`*.\n",
    "\n",
    "**HINT:** Use the *`find()` string* method."
   ]
  },
  {
   "cell_type": "code",
   "execution_count": 9,
   "metadata": {
    "deletable": false,
    "nbgrader": {
     "cell_type": "code",
     "checksum": "435a20df8f98733a6cc25ae114b9803c",
     "grade": false,
     "grade_id": "cell-31da2f9f35ca6d8a",
     "locked": false,
     "schema_version": 3,
     "solution": true
    }
   },
   "outputs": [
    {
     "data": {
      "text/plain": [
       "True"
      ]
     },
     "execution_count": 9,
     "metadata": {},
     "output_type": "execute_result"
    }
   ],
   "source": [
    "### GRADED\n",
    "\n",
    "### YOUR SOLUTION HERE\n",
    "ans5a = 'xylophone'\n",
    "ans5b = ans5a.find('y') != -1\n",
    "\n",
    "\n",
    "# YOUR CODE HERE\n",
    "ans5b"
   ]
  },
  {
   "cell_type": "code",
   "execution_count": null,
   "metadata": {
    "deletable": false,
    "editable": false,
    "nbgrader": {
     "cell_type": "code",
     "checksum": "dc882ae72dcb2b46669d6e9b65952375",
     "grade": true,
     "grade_id": "cell-72fe5b51d00bac36",
     "locked": true,
     "points": 4,
     "schema_version": 3,
     "solution": false
    }
   },
   "outputs": [],
   "source": []
  },
  {
   "cell_type": "markdown",
   "metadata": {
    "deletable": false,
    "editable": false,
    "nbgrader": {
     "cell_type": "markdown",
     "checksum": "790c700602953468d398e977d2805fca",
     "grade": false,
     "grade_id": "cell-cc0d3cadff03d21f",
     "locked": true,
     "schema_version": 3,
     "solution": false
    }
   },
   "source": [
    "### Question 6\n",
    "\n",
    "*5 points*\n",
    "\n",
    "Define a *list `ans6a`* with elements *`1,2,3`*. Add the element *`4`* to *`ans6a`* and assign the result to *`ans6b`*.\n",
    "\n",
    "Finally, append another *list `[5,6,7]`* and flatten it so there is not a *list* inside of a *list*. Assign the result to *`ans6c`*.\n",
    "\n",
    "For example, given:\n",
    "\n",
    "```Python\n",
    "list1 = [4,7,9]\n",
    "list1.extend([10,11,17])\n",
    "```\n",
    "\n",
    "returns *`[4, 7, 9, 10, 11, 17]`*\n",
    "\n",
    "**HINT:** For this final step, use the *function `extend()`*."
   ]
  },
  {
   "cell_type": "code",
   "execution_count": 15,
   "metadata": {
    "deletable": false,
    "nbgrader": {
     "cell_type": "code",
     "checksum": "3b832405d59c7f7f404094a248d8f81e",
     "grade": false,
     "grade_id": "cell-d815e678d409363b",
     "locked": false,
     "schema_version": 3,
     "solution": true
    }
   },
   "outputs": [
    {
     "data": {
      "text/plain": [
       "[1, 2, 3, 4, 5, 6, 7]"
      ]
     },
     "execution_count": 15,
     "metadata": {},
     "output_type": "execute_result"
    }
   ],
   "source": [
    "### GRADED\n",
    "\n",
    "### YOUR SOLUTION HERE\n",
    "ans6a = [1,2,3]\n",
    "ans6a.append(4)\n",
    "ans6b = ans6a.copy()\n",
    "ans6b.extend([5,6,7])\n",
    "ans6c = ans6b.copy()\n",
    "\n",
    "# YOUR CODE HERE\n",
    "ans6c"
   ]
  },
  {
   "cell_type": "code",
   "execution_count": null,
   "metadata": {
    "deletable": false,
    "editable": false,
    "nbgrader": {
     "cell_type": "code",
     "checksum": "3a687c692ce131e9b519cab117945550",
     "grade": true,
     "grade_id": "cell-8913fd5a11b92e63",
     "locked": true,
     "points": 5,
     "schema_version": 3,
     "solution": false
    }
   },
   "outputs": [],
   "source": []
  },
  {
   "cell_type": "markdown",
   "metadata": {
    "deletable": false,
    "editable": false,
    "nbgrader": {
     "cell_type": "markdown",
     "checksum": "168b4a8ad45a78be89880a0fb7372f1d",
     "grade": false,
     "grade_id": "cell-4559086b7b5dd291",
     "locked": true,
     "schema_version": 3,
     "solution": false
    }
   },
   "source": [
    "### Question 7\n",
    "\n",
    "*4 points*\n",
    "\n",
    "Define a *tuple `ans7a`* with elements *`7, 8, 9, 1, 10, 7`*.\n",
    "\n",
    "Use *`Python`* built-in *functions* to add the elements in the *tuple*. Assign the result to *`ans7b`*."
   ]
  },
  {
   "cell_type": "code",
   "execution_count": 21,
   "metadata": {
    "deletable": false,
    "nbgrader": {
     "cell_type": "code",
     "checksum": "769ddb33ccc92aedf0cfdff42cdf7b38",
     "grade": false,
     "grade_id": "cell-ed5c2720121142ea",
     "locked": false,
     "schema_version": 3,
     "solution": true
    }
   },
   "outputs": [
    {
     "data": {
      "text/plain": [
       "42"
      ]
     },
     "execution_count": 21,
     "metadata": {},
     "output_type": "execute_result"
    }
   ],
   "source": [
    "### GRADED\n",
    "\n",
    "### YOUR SOLUTION HERE\n",
    "ans7a = (7,8,9,1,10,7)\n",
    "ans7b = sum(ans7a)\n",
    "\n",
    "# YOUR CODE HERE\n",
    "ans7b"
   ]
  },
  {
   "cell_type": "code",
   "execution_count": null,
   "metadata": {
    "deletable": false,
    "editable": false,
    "nbgrader": {
     "cell_type": "code",
     "checksum": "e05a5595836720d5e5d87169c55c262d",
     "grade": true,
     "grade_id": "cell-45c4f14b8cd11790",
     "locked": true,
     "points": 4,
     "schema_version": 3,
     "solution": false
    }
   },
   "outputs": [],
   "source": []
  },
  {
   "cell_type": "markdown",
   "metadata": {
    "deletable": false,
    "editable": false,
    "nbgrader": {
     "cell_type": "markdown",
     "checksum": "f4a7c5adc005f17d0f1368f62846df53",
     "grade": false,
     "grade_id": "cell-75765d99dafb04d0",
     "locked": true,
     "schema_version": 3,
     "solution": false
    }
   },
   "source": [
    "### Question 8\n",
    "\n",
    "*7 points*\n",
    "\n",
    "This question is about *lists comprehension*.\n",
    "\n",
    "Define a *tuple `ans8a`* with elements *`4,5`* and a *tuple `ans8b`* with elements *`7,8`*.\n",
    "\n",
    "Use *`Python` list comprehension* to extract all of the possible combinations of the two arguments from the defined *tuples*. Assign the result to *`ans8c`*."
   ]
  },
  {
   "cell_type": "code",
   "execution_count": 23,
   "metadata": {
    "deletable": false,
    "nbgrader": {
     "cell_type": "code",
     "checksum": "76b81bbb3ccd5f58ca145bdb3779627c",
     "grade": false,
     "grade_id": "cell-3e24b20fdd8e60fc",
     "locked": false,
     "schema_version": 3,
     "solution": true
    }
   },
   "outputs": [
    {
     "data": {
      "text/plain": [
       "[(4, 7), (4, 8), (5, 7), (5, 8)]"
      ]
     },
     "execution_count": 23,
     "metadata": {},
     "output_type": "execute_result"
    }
   ],
   "source": [
    "### GRADED\n",
    "\n",
    "### YOUR SOLUTION HERE\n",
    "ans8a = tuple([4,5])\n",
    "ans8b = tuple([7,8])\n",
    "ans8c = [(x,y) for x in ans8a for y in ans8b]\n",
    "\n",
    "# YOUR CODE HERE\n",
    "ans8c"
   ]
  },
  {
   "cell_type": "code",
   "execution_count": null,
   "metadata": {
    "deletable": false,
    "editable": false,
    "nbgrader": {
     "cell_type": "code",
     "checksum": "8150ed31d5e149ee6882f5285df386fb",
     "grade": true,
     "grade_id": "cell-6f4d7e1b33424050",
     "locked": true,
     "points": 7,
     "schema_version": 3,
     "solution": false
    }
   },
   "outputs": [],
   "source": []
  },
  {
   "cell_type": "markdown",
   "metadata": {
    "deletable": false,
    "editable": false,
    "nbgrader": {
     "cell_type": "markdown",
     "checksum": "9ecd019431e7f7dc6c939a00f4050ace",
     "grade": false,
     "grade_id": "cell-df4921cbf29fac05",
     "locked": true,
     "schema_version": 3,
     "solution": false
    }
   },
   "source": [
    "### Question 9\n",
    "\n",
    "*4 points*\n",
    "\n",
    "\n",
    "Write a *`Python`* script to generate a *dictionary* where the *keys* are *integers* from 1 to 7 and the corresponding values are those *integers* squared.\n",
    "\n",
    "Assign your result to *`ans9a`*."
   ]
  },
  {
   "cell_type": "code",
   "execution_count": 30,
   "metadata": {
    "deletable": false,
    "nbgrader": {
     "cell_type": "code",
     "checksum": "78f49d3d7c634e1111b474bf907a7716",
     "grade": false,
     "grade_id": "cell-bc3331b0ab1385b7",
     "locked": false,
     "schema_version": 3,
     "solution": true
    }
   },
   "outputs": [
    {
     "data": {
      "text/plain": [
       "{1: 1, 2: 4, 3: 9, 4: 16, 5: 25, 6: 36, 7: 49}"
      ]
     },
     "execution_count": 30,
     "metadata": {},
     "output_type": "execute_result"
    }
   ],
   "source": [
    "### GRADED\n",
    "\n",
    "### YOUR SOLUTION HERE\n",
    "ans9a = dict((x,x**2) for x in range(1,8))\n",
    "\n",
    "# YOUR CODE HERE\n",
    "ans9a"
   ]
  },
  {
   "cell_type": "code",
   "execution_count": null,
   "metadata": {
    "deletable": false,
    "editable": false,
    "nbgrader": {
     "cell_type": "code",
     "checksum": "2eeb924c7a81a115b6960d470062d82e",
     "grade": true,
     "grade_id": "cell-a5eb43a01d914b1b",
     "locked": true,
     "points": 4,
     "schema_version": 3,
     "solution": false
    }
   },
   "outputs": [],
   "source": []
  },
  {
   "cell_type": "markdown",
   "metadata": {
    "deletable": false,
    "editable": false,
    "nbgrader": {
     "cell_type": "markdown",
     "checksum": "e02cca6946689fc8ca6fa66a76058595",
     "grade": false,
     "grade_id": "cell-1f0149d7ac20f7e2",
     "locked": true,
     "schema_version": 3,
     "solution": false
    }
   },
   "source": [
    "### Question 10\n",
    "\n",
    "*6 points*\n",
    "\n",
    "Given the *dictionary `my_dict`* defined for you below, write a *`Python`* script to multiply all the items in a *dictionary*.\n",
    "\n",
    "Assign your result to *`ans10a`*."
   ]
  },
  {
   "cell_type": "code",
   "execution_count": 33,
   "metadata": {
    "deletable": false,
    "nbgrader": {
     "cell_type": "code",
     "checksum": "6b2e7ba86664ddd21942ff054fb1c07b",
     "grade": false,
     "grade_id": "cell-257e52179d865057",
     "locked": false,
     "schema_version": 3,
     "solution": true
    }
   },
   "outputs": [
    {
     "data": {
      "text/plain": [
       "-1333800"
      ]
     },
     "execution_count": 33,
     "metadata": {},
     "output_type": "execute_result"
    }
   ],
   "source": [
    "### GRADED\n",
    "my_dict = {'data1':100,'data2':-54,'data3':247}\n",
    "\n",
    "\n",
    "### YOUR SOLUTION HERE\n",
    "ans10a = 1\n",
    "for value in my_dict.values():\n",
    "    ans10a *= value\n",
    "\n",
    "# YOUR CODE HERE\n",
    "ans10a"
   ]
  },
  {
   "cell_type": "code",
   "execution_count": null,
   "metadata": {
    "deletable": false,
    "editable": false,
    "nbgrader": {
     "cell_type": "code",
     "checksum": "e6219b23d960c0a7bcc3aa2d40e58eaf",
     "grade": true,
     "grade_id": "cell-780db81758dc45e5",
     "locked": true,
     "points": 6,
     "schema_version": 3,
     "solution": false
    }
   },
   "outputs": [],
   "source": []
  },
  {
   "cell_type": "markdown",
   "metadata": {
    "deletable": false,
    "editable": false,
    "nbgrader": {
     "cell_type": "markdown",
     "checksum": "01a11139df90e91a2c654af24e26f30d",
     "grade": false,
     "grade_id": "cell-e71568819b695bdf",
     "locked": true,
     "schema_version": 3,
     "solution": false
    }
   },
   "source": [
    "### Question 11\n",
    "\n",
    "*7 points*\n",
    "\n",
    "Given the *dictionary `my_dict`* defined for you below, write a *`Python`* script to sort the *list* values inside the *dictionary*.\n",
    "\n",
    "Assign your result to *`ans11a`*.\n"
   ]
  },
  {
   "cell_type": "code",
   "execution_count": 35,
   "metadata": {
    "deletable": false,
    "nbgrader": {
     "cell_type": "code",
     "checksum": "50ba33317f222e1e289c8399bf4a5e68",
     "grade": false,
     "grade_id": "cell-9166cafc82c3d1f8",
     "locked": false,
     "schema_version": 3,
     "solution": true
    }
   },
   "outputs": [
    {
     "data": {
      "text/plain": [
       "{'n1': [1, 2, 3], 'n2': [1, 2, 5], 'n3': [2, 3, 4]}"
      ]
     },
     "execution_count": 35,
     "metadata": {},
     "output_type": "execute_result"
    }
   ],
   "source": [
    "### GRADED\n",
    "my_dict = {'n1': [2, 3, 1], 'n2': [5, 1, 2], 'n3': [3, 2, 4]}\n",
    "\n",
    "\n",
    "### YOUR SOLUTION HERE\n",
    "ans10a = {}\n",
    "for key,value in my_dict.items():\n",
    "    ans10a[key] = sorted(value)\n",
    "# YOUR CODE HERE\n",
    "ans10a"
   ]
  },
  {
   "cell_type": "code",
   "execution_count": null,
   "metadata": {
    "deletable": false,
    "editable": false,
    "nbgrader": {
     "cell_type": "code",
     "checksum": "e4e9c6d9c59526e942746e4074f1c37f",
     "grade": true,
     "grade_id": "cell-f91e67733e044f41",
     "locked": true,
     "points": 7,
     "schema_version": 3,
     "solution": false
    }
   },
   "outputs": [],
   "source": []
  },
  {
   "cell_type": "markdown",
   "metadata": {
    "deletable": false,
    "editable": false,
    "nbgrader": {
     "cell_type": "markdown",
     "checksum": "6aeaa08ad0de6f55f87cb7ef6d27a8de",
     "grade": false,
     "grade_id": "cell-0d60535a204f9f11",
     "locked": true,
     "schema_version": 3,
     "solution": false
    }
   },
   "source": [
    "### Question 12\n",
    "\n",
    "*7 points*\n",
    "\n",
    "Given the *lists `list1`* and *`list2`* defined for you below, write a *`Python`* script to concatenate the two *lists* *index*-wise.\n",
    "\n",
    "For example, given:\n",
    "\n",
    "```Python\n",
    "list1 = [\"M\", \"na\", \"i\", \"Ke\"]\n",
    "list2 = [\"y\", \"me\", \"s\", \"lly\"]\n",
    "```\n",
    "\n",
    "your code should return *`['My', 'name', 'is', 'Kelly']`*\n",
    "\n",
    "Assign your result to *`ans12a`*.\n",
    "\n",
    "**HINT:** Use a *list comprehension* and the *function `zip`*.\n"
   ]
  },
  {
   "cell_type": "code",
   "execution_count": 39,
   "metadata": {
    "deletable": false,
    "nbgrader": {
     "cell_type": "code",
     "checksum": "da3c5c6b44db1e192b5cea7b1a6c0daf",
     "grade": false,
     "grade_id": "cell-5821e4c151067853",
     "locked": false,
     "schema_version": 3,
     "solution": true
    }
   },
   "outputs": [
    {
     "data": {
      "text/plain": [
       "['Today', 'is', 'sunny']"
      ]
     },
     "execution_count": 39,
     "metadata": {},
     "output_type": "execute_result"
    }
   ],
   "source": [
    "### GRADED\n",
    "list1 = [\"To\",  \"i\", \"su\"]\n",
    "list2 = [\"day\", \"s\", \"nny\"]\n",
    "\n",
    "\n",
    "### YOUR SOLUTION HERE\n",
    "zipped = zip(list1, list2)\n",
    "ans12a = [x+y for x,y in zipped]\n",
    "\n",
    "# YOUR CODE HERE\n",
    "ans12a"
   ]
  },
  {
   "cell_type": "code",
   "execution_count": null,
   "metadata": {
    "deletable": false,
    "editable": false,
    "nbgrader": {
     "cell_type": "code",
     "checksum": "51f5ea9214f977045888143e5260c138",
     "grade": true,
     "grade_id": "cell-9b6bb3c29cdff52c",
     "locked": true,
     "points": 7,
     "schema_version": 3,
     "solution": false
    }
   },
   "outputs": [],
   "source": []
  },
  {
   "cell_type": "markdown",
   "metadata": {
    "deletable": false,
    "editable": false,
    "nbgrader": {
     "cell_type": "markdown",
     "checksum": "bf524331e52e8762971ba6d597f226d4",
     "grade": false,
     "grade_id": "cell-8f92878c454e821d",
     "locked": true,
     "schema_version": 3,
     "solution": false
    }
   },
   "source": [
    "### Question 13\n",
    "\n",
    "*7 points*\n",
    "\n",
    "Define an empty *list `ans13a`*.\n",
    "\n",
    "Given the *list `list1`* defined for you below, write a *`Python`* script to append every number that is divisible by five in *`list1`* to *`ans13a`*. If you find a number greater than 87, stop the *loop* iteration.\n",
    "\n",
    "\n",
    "Assign your result to *`ans13a`*."
   ]
  },
  {
   "cell_type": "code",
   "execution_count": 42,
   "metadata": {
    "deletable": false,
    "nbgrader": {
     "cell_type": "code",
     "checksum": "4ec3ddcbfe2abbb6118087c3a777cff3",
     "grade": false,
     "grade_id": "cell-df56c3afa86ba07a",
     "locked": false,
     "schema_version": 3,
     "solution": true
    }
   },
   "outputs": [
    {
     "data": {
      "text/plain": [
       "[15, 55, 75, 85]"
      ]
     },
     "execution_count": 42,
     "metadata": {},
     "output_type": "execute_result"
    }
   ],
   "source": [
    "### GRADED\n",
    "list1 = [12, 15, 32, 42, 51, 55, 75,82, 85, 88 , 132]\n",
    "\n",
    "\n",
    "### YOUR SOLUTION HERE\n",
    "ans13a = []\n",
    "for i in list1:\n",
    "    if i > 87:\n",
    "        break\n",
    "    elif i % 5 == 0:\n",
    "        ans13a.append(i)\n",
    "ans13a        \n",
    "# YOUR CODE HERE\n"
   ]
  },
  {
   "cell_type": "code",
   "execution_count": null,
   "metadata": {
    "deletable": false,
    "editable": false,
    "nbgrader": {
     "cell_type": "code",
     "checksum": "0ecf4fabc4744e268b3dc1fe982802e3",
     "grade": true,
     "grade_id": "cell-519d80b503abb0da",
     "locked": true,
     "points": 7,
     "schema_version": 3,
     "solution": false
    }
   },
   "outputs": [],
   "source": []
  },
  {
   "cell_type": "markdown",
   "metadata": {
    "deletable": false,
    "editable": false,
    "nbgrader": {
     "cell_type": "markdown",
     "checksum": "f982107e1e17dd81ae4df363ff0d984a",
     "grade": false,
     "grade_id": "cell-46c42b6a33a93868",
     "locked": true,
     "schema_version": 3,
     "solution": false
    }
   },
   "source": [
    "### Question 14\n",
    "\n",
    "*8 points*\n",
    "\n",
    "The [factorial](https://en.wikipedia.org/wiki/Factorial) of a number $n$ is the product of all positive *integers* less than or equal to $n$.\n",
    "\n",
    "\n",
    "Define a *function, `compute_factorial`*, that takes as input a number *`x`*.\n",
    "\n",
    "- If *`x`* is less than 0, your *function* should return the *string `Factorial does not exist for negative numbers.`*\n",
    "- If *`x`* is equal to 0, your *function* should return the *string `The factorial of 0 is 1.`*\n",
    "- If *`x`* is greater to 0, your *function* should return the factorial of *`x`*."
   ]
  },
  {
   "cell_type": "code",
   "execution_count": 44,
   "metadata": {
    "deletable": false,
    "nbgrader": {
     "cell_type": "code",
     "checksum": "292730065142a7fb55bbd8b527f521ac",
     "grade": false,
     "grade_id": "cell-43d9999beb90d9d8",
     "locked": false,
     "schema_version": 3,
     "solution": true
    }
   },
   "outputs": [],
   "source": [
    "### GRADED\n",
    "\n",
    "### YOUR SOLUTION HERE\n",
    "def compute_factorial(x):\n",
    "    if x < 0:\n",
    "        return \"Factorial does not exist for negative numbers.\"\n",
    "    elif x == 0:\n",
    "        return \"The factorial of 0 is 1.\"\n",
    "    else:\n",
    "        factorial = 1\n",
    "        for i in range(1, x+1):\n",
    "            factorial *= i\n",
    "        return factorial\n",
    "\n",
    "# YOUR CODE HERE\n"
   ]
  },
  {
   "cell_type": "code",
   "execution_count": null,
   "metadata": {
    "deletable": false,
    "editable": false,
    "nbgrader": {
     "cell_type": "code",
     "checksum": "69d844ffbfccdf55d5fe22d7b5fd120b",
     "grade": true,
     "grade_id": "cell-7e2122da722aae9f",
     "locked": true,
     "points": 8,
     "schema_version": 3,
     "solution": false
    }
   },
   "outputs": [],
   "source": []
  },
  {
   "cell_type": "markdown",
   "metadata": {
    "deletable": false,
    "editable": false,
    "nbgrader": {
     "cell_type": "markdown",
     "checksum": "d8ebc8460ed48a68c634115315ba2f8f",
     "grade": false,
     "grade_id": "cell-cd510af70e1bc30a",
     "locked": true,
     "schema_version": 3,
     "solution": false
    }
   },
   "source": [
    "### Question 15\n",
    "*5 points*\n",
    "    \n",
    "The *dictionary `my_dict`* contains two other *dictionaries* inside it. Change the *key* \"nme\" to \"name\" for each of those inner *dictionaries*. \n",
    "\n",
    "Remember, you can get the name of the first entry in the *dictionary* by using *`my_dict[1][\"nme\"]`*.\n",
    "\n",
    "**Hint: Consider using a for loop**."
   ]
  },
  {
   "cell_type": "code",
   "execution_count": 49,
   "metadata": {
    "deletable": false,
    "nbgrader": {
     "cell_type": "code",
     "checksum": "2ea0687d38cfdf9aba23d095d5e2cbbf",
     "grade": false,
     "grade_id": "cell-c69a22e65e6ee062",
     "locked": false,
     "schema_version": 3,
     "solution": true
    }
   },
   "outputs": [
    {
     "data": {
      "text/plain": [
       "{1: {'age': '27', 'sex': 'Male', 'name': 'John'},\n",
       " 2: {'age': '22', 'sex': 'Female', 'name': 'Mary'}}"
      ]
     },
     "execution_count": 49,
     "metadata": {},
     "output_type": "execute_result"
    }
   ],
   "source": [
    "### GRADED\n",
    "my_dict = {1: {'nme': 'John', 'age': '27', 'sex': 'Male'},\n",
    "           2: {'nme': 'Mary', 'age': '22', 'sex': 'Female'}}\n",
    "\n",
    "### YOUR SOLUTION HERE\n",
    "for key in my_dict:\n",
    "    inner_dict = my_dict[key]\n",
    "    inner_dict['name'] = inner_dict.pop('nme')\n",
    "    \n",
    "# YOUR CODE HERE\n",
    "my_dict"
   ]
  },
  {
   "cell_type": "code",
   "execution_count": null,
   "metadata": {
    "deletable": false,
    "editable": false,
    "nbgrader": {
     "cell_type": "code",
     "checksum": "88b1be58ac42ceb9a5cea1c52db3885f",
     "grade": true,
     "grade_id": "cell-7d10acf63dc7d600",
     "locked": true,
     "points": 5,
     "schema_version": 3,
     "solution": false
    }
   },
   "outputs": [],
   "source": []
  },
  {
   "cell_type": "markdown",
   "metadata": {
    "deletable": false,
    "editable": false,
    "nbgrader": {
     "cell_type": "markdown",
     "checksum": "8a3b5286d87beb9948e1d1bb14982411",
     "grade": false,
     "grade_id": "cell-9cb3d14f37c9e27e",
     "locked": true,
     "schema_version": 3,
     "solution": false
    }
   },
   "source": [
    "### Question 16\n",
    "*5 points*\n",
    "\n",
    "[Factors](https://en.wikipedia.org/wiki/Divisor) are the numbers you multiply to get another number, including 1 and the number itself. \n",
    "\n",
    "Create a *function, `factors`* that accepts one argument `num`. Your *function* should return a *list* with all the factors of *`num`*.\n"
   ]
  },
  {
   "cell_type": "code",
   "execution_count": 52,
   "metadata": {
    "deletable": false,
    "nbgrader": {
     "cell_type": "code",
     "checksum": "1f03368713b9f7acff8aae4b3974729a",
     "grade": false,
     "grade_id": "cell-c970517dda7eaecc",
     "locked": false,
     "schema_version": 3,
     "solution": true
    }
   },
   "outputs": [],
   "source": [
    "### GRADED\n",
    "\n",
    "### YOUR SOLUTION HERE\n",
    "def factors(num):\n",
    "    factorList = []\n",
    "    for i in range(1,num+1):\n",
    "        if num % i == 0:\n",
    "            factorList.append(i)\n",
    "    return factorList\n",
    "\n",
    "# YOUR CODE HERE"
   ]
  },
  {
   "cell_type": "code",
   "execution_count": null,
   "metadata": {
    "deletable": false,
    "editable": false,
    "nbgrader": {
     "cell_type": "code",
     "checksum": "8eaa53d8e7d5df68f10799039f5023a6",
     "grade": true,
     "grade_id": "cell-22d302af4bfda897",
     "locked": true,
     "points": 5,
     "schema_version": 3,
     "solution": false
    }
   },
   "outputs": [],
   "source": []
  },
  {
   "cell_type": "markdown",
   "metadata": {
    "deletable": false,
    "editable": false,
    "nbgrader": {
     "cell_type": "markdown",
     "checksum": "5edf9f124913672d22655ce91bd78f61",
     "grade": false,
     "grade_id": "cell-4281c2301b2c1c71",
     "locked": true,
     "schema_version": 3,
     "solution": false
    }
   },
   "source": [
    "### Question 17\n",
    "*8 points*\n",
    "\n",
    "Create a *function, `check_prime`* that checks whether a number is prime or not. The *function* must return the *Boolean* `True` if the number is prime and `False` otherwise.\n",
    "\n",
    "Remember that a number is prime if it can only be divided without remainder by 1 and itself. Also remember that negative numbers, 0, and 1 are not considered prime by definition.\n",
    "\n",
    "**Hint: Except for two, all prime numbers are odd. The module [*`math`*](https://docs.python.org/3/library/math.html) has been imported below for your convenience.**"
   ]
  },
  {
   "cell_type": "code",
   "execution_count": 73,
   "metadata": {
    "deletable": false,
    "nbgrader": {
     "cell_type": "code",
     "checksum": "34352c65271010f70fa4ec224384cb7e",
     "grade": false,
     "grade_id": "cell-375a405c21ce2a50",
     "locked": false,
     "schema_version": 3,
     "solution": true
    }
   },
   "outputs": [],
   "source": [
    "### GRADED\n",
    "import math\n",
    "\n",
    "\n",
    "### YOUR SOLUTION HERE\n",
    "def check_prime(num):\n",
    "    if num <= 1:\n",
    "        return False\n",
    "    if num == 2:\n",
    "        return True\n",
    "    if num % 2 == 0:\n",
    "        return False\n",
    "    for i in range(3, int(math.sqrt(num)) + 1, 2):\n",
    "        if num % i == 0:\n",
    "            return False  \n",
    "    return True\n",
    "\n",
    "# YOUR CODE HERE\n"
   ]
  },
  {
   "cell_type": "code",
   "execution_count": null,
   "metadata": {
    "deletable": false,
    "editable": false,
    "nbgrader": {
     "cell_type": "code",
     "checksum": "b1e67e207d484552d314a206eb51951b",
     "grade": true,
     "grade_id": "cell-2921f8e7e85707f7",
     "locked": true,
     "points": 8,
     "schema_version": 3,
     "solution": false
    }
   },
   "outputs": [],
   "source": []
  },
  {
   "cell_type": "markdown",
   "metadata": {
    "deletable": false,
    "editable": false,
    "nbgrader": {
     "cell_type": "markdown",
     "checksum": "eca0e952d041226e6b7aef4fda3ef81e",
     "grade": false,
     "grade_id": "cell-c29c76f9d44311e6",
     "locked": true,
     "schema_version": 3,
     "solution": false
    }
   },
   "source": [
    "### Question 18\n",
    "\n",
    "*5 Points*\n",
    "\n",
    "Create a *function`dictionary_builder`* that accepts two parameters and returns a *dictionary*, where the *keys* are *strings* from the parameter *`col_names`* and the values are the respective *list* from *`list_of_lists`*.\n",
    "\n",
    "    Parameters:\n",
    "    list_of_lists -- a list of elements, which themselves are lists.\n",
    "    col_names -- list of strings; the name label for each respective list inside of `list_of_lists`\n",
    "    \n",
    "    Returns: dict; a dictionary with column names as keys and corresponding list as the value.\n",
    "    \n",
    "    Example:\n",
    "    \n",
    "    >>> col_names = ['col_1', 'col_2', 'col_3',]\n",
    "    >>> Your result:\t{'col_1' : [\n",
    "            [ 0,  1,  2,  3,  4],\n",
    "            [ 5,  6,  7,  8,  9],\n",
    "            [10, 11, 12, 13, 14],\n",
    "        ]}\n",
    "    \n",
    "    >>> 'Expected_result': {\n",
    "        {'col_1': [0, 1, 2, 3, 4],\n",
    "         'col_2': [5, 6, 7, 8, 9],\n",
    "         'col_3': [10, 11, 12, 13, 14]}\n",
    "    \n",
    "\n",
    "**HINT:** To iterate through two objects at once, see the built-in [*`zip()`*](https://docs.python.org/3/library/functions.html#zip) *function*."
   ]
  },
  {
   "cell_type": "code",
   "execution_count": 74,
   "metadata": {
    "deletable": false,
    "nbgrader": {
     "cell_type": "code",
     "checksum": "e3ac370c1cf02afa80aff74153ca6290",
     "grade": false,
     "grade_id": "cell-051f14876b2d13ad",
     "locked": false,
     "schema_version": 3,
     "solution": true
    }
   },
   "outputs": [
    {
     "name": "stdout",
     "output_type": "stream",
     "text": [
      "Your result:\t\t{'col_1': [0, 1, 2, 3, 4], 'col_2': [5, 6, 7, 8, 9], 'col_3': [10, 11, 12, 13, 14]}\n",
      "Expected result:\t{'col_1': [0, 1, 2, 3, 4], 'col_2': [5, 6, 7, 8, 9], 'col_3': [10, 11, 12, 13, 14]}\n"
     ]
    }
   ],
   "source": [
    "### GRADED\n",
    "\n",
    "### YOUR SOLUTION HERE\n",
    "def dictionary_builder(list_of_lists, col_names):\n",
    "    return {col_names[i]: list_of_lists[i] for i in range(len(col_names))}\n",
    "\n",
    "# YOUR CODE HERE\n",
    "\n",
    "### Code to verify your answer\n",
    "sample_names = ['col_1', 'col_2', 'col_3',]\n",
    "sample_lst = [\n",
    "    [ 0,  1,  2,  3,  4],\n",
    "    [ 5,  6,  7,  8,  9],\n",
    "    [10, 11, 12, 13, 14],\n",
    "]\n",
    "result = {\n",
    "    'col_1': [0, 1, 2, 3, 4],\n",
    "    'col_2': [5, 6, 7, 8, 9],\n",
    "    'col_3': [10, 11, 12, 13, 14]\n",
    "}\n",
    "print(\"Your result:\\t\\t{}\".format(dictionary_builder(sample_lst, sample_names)))\n",
    "print(\"Expected result:\\t{}\".format(result))"
   ]
  },
  {
   "cell_type": "code",
   "execution_count": null,
   "metadata": {
    "deletable": false,
    "editable": false,
    "nbgrader": {
     "cell_type": "code",
     "checksum": "94e01b72c6fda86db68aecaf65bffa11",
     "grade": true,
     "grade_id": "cell-b5117b6ca1473e48",
     "locked": true,
     "points": 5,
     "schema_version": 3,
     "solution": false
    }
   },
   "outputs": [],
   "source": []
  },
  {
   "cell_type": "markdown",
   "metadata": {
    "deletable": false,
    "editable": false,
    "nbgrader": {
     "cell_type": "markdown",
     "checksum": "0812ebd42a01031f6577134fd3588a72",
     "grade": false,
     "grade_id": "cell-c60a1d47a962b6d1",
     "locked": true,
     "schema_version": 3,
     "solution": false
    }
   },
   "source": [
    "### Question 19\n",
    "*5 points*\n",
    "\n",
    "Define a *function `exce_sub`* that takes two arguments, *`a`* and *`b`*.\n",
    "\n",
    "If both arguments are  1, the *function* should raise a *`ValueError`* exception saying *`Invalid numbers`*. Otherwise, your *function* should return the difference of *`a`* and *`b`*.\n",
    "\n",
    "Please review the psuedocode for the *function* to help you get started:\n",
    "\n",
    "```Python\n",
    "def exce_sub(arguments):\n",
    "    if both numbers are one\n",
    "        raise ValueError(\"Some error message\")\n",
    "    return difference of arguments\n",
    "```"
   ]
  },
  {
   "cell_type": "code",
   "execution_count": 80,
   "metadata": {
    "deletable": false,
    "nbgrader": {
     "cell_type": "code",
     "checksum": "ab1f71b8f2798d469ac470af582831ef",
     "grade": false,
     "grade_id": "cell-13417e28929f1fe9",
     "locked": false,
     "schema_version": 3,
     "solution": true
    }
   },
   "outputs": [],
   "source": [
    "### GRADED\n",
    "\n",
    "### YOUR SOLUTION HERE\n",
    "def exce_sub(a,b):\n",
    "    if a == 1 and b == 1:\n",
    "        raise ValueError(\"Invalid numbers\")\n",
    "    return a - b\n",
    "\n",
    "# YOUR CODE HERE"
   ]
  },
  {
   "cell_type": "code",
   "execution_count": null,
   "metadata": {
    "deletable": false,
    "editable": false,
    "nbgrader": {
     "cell_type": "code",
     "checksum": "5b0b2233a53f1f8b831f26cf9d615776",
     "grade": true,
     "grade_id": "cell-7ba72d7914f6755b",
     "locked": true,
     "points": 5,
     "schema_version": 3,
     "solution": false
    }
   },
   "outputs": [],
   "source": []
  },
  {
   "cell_type": "markdown",
   "metadata": {
    "deletable": false,
    "editable": false,
    "nbgrader": {
     "cell_type": "markdown",
     "checksum": "7dddeb0348246f5801e874cce9289e0e",
     "grade": false,
     "grade_id": "cell-756b12d06bb77bc7",
     "locked": true,
     "schema_version": 3,
     "solution": false
    }
   },
   "source": [
    "### Question 20\n",
    "*3 points*\n",
    "\n",
    "Define a *function `global_multiplication`* that takes two *integers* *`a`* and *`b`*. \n",
    "Inside the *function*, create a global variable *`number`* to store the result.\n",
    "Assign to *`number`* the result of the product of *`a`* and *`b`*.\n",
    "\n",
    "**NOTE: Because `number` is defined globally, you can access its values without a return statement.**"
   ]
  },
  {
   "cell_type": "code",
   "execution_count": 85,
   "metadata": {
    "deletable": false,
    "nbgrader": {
     "cell_type": "code",
     "checksum": "2e8fef11b5e96053887f2ffd5cc4aa18",
     "grade": false,
     "grade_id": "cell-1eada1132f24995a",
     "locked": false,
     "schema_version": 3,
     "solution": true
    }
   },
   "outputs": [
    {
     "name": "stdout",
     "output_type": "stream",
     "text": [
      "18\n"
     ]
    }
   ],
   "source": [
    "### GRADED\n",
    "\n",
    "### YOUR SOLUTION HERE\n",
    "def global_multiplication(a,b):\n",
    "    global number\n",
    "    number = a * b\n",
    "\n",
    "# YOUR CODE HERE\n",
    "global_multiplication(3,6)\n",
    "print(number)"
   ]
  },
  {
   "cell_type": "code",
   "execution_count": null,
   "metadata": {
    "deletable": false,
    "editable": false,
    "nbgrader": {
     "cell_type": "code",
     "checksum": "b57d58e5d41708ae5a9e00bdedc3c239",
     "grade": true,
     "grade_id": "cell-27b489f894381de5",
     "locked": true,
     "points": 3,
     "schema_version": 3,
     "solution": false
    }
   },
   "outputs": [],
   "source": []
  },
  {
   "cell_type": "code",
   "execution_count": null,
   "metadata": {},
   "outputs": [],
   "source": []
  }
 ],
 "metadata": {
  "kernelspec": {
   "display_name": "Python 3",
   "language": "python",
   "name": "python3"
  },
  "language_info": {
   "codemirror_mode": {
    "name": "ipython",
    "version": 3
   },
   "file_extension": ".py",
   "mimetype": "text/x-python",
   "name": "python",
   "nbconvert_exporter": "python",
   "pygments_lexer": "ipython3",
   "version": "3.6.9"
  }
 },
 "nbformat": 4,
 "nbformat_minor": 4
}
