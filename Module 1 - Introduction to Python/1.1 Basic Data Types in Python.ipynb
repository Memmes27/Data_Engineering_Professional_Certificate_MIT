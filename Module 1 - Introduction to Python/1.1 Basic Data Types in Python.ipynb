{
 "cells": [
  {
   "cell_type": "markdown",
   "metadata": {},
   "source": [
    "### Str, Int, Float, Complex, boolean: \n",
    "    - Sequences/Collections (lists, tuple, range)\n",
    "    - Maps (dict)"
   ]
  },
  {
   "cell_type": "code",
   "execution_count": 20,
   "metadata": {},
   "outputs": [
    {
     "name": "stdout",
     "output_type": "stream",
     "text": [
      "Hello World\n",
      "The data type for variable a is <class 'str'>\n",
      "True\n",
      "Does a equal b? True\n",
      "Hello WorldHello World\n",
      "Hello World\n",
      "H\n",
      "ell\n"
     ]
    }
   ],
   "source": [
    "#variables, values and types\n",
    "a = 'Hello World'\n",
    "print(a)\n",
    "\n",
    "#type of a variable\n",
    "print(f\"The data type for variable a is {type(a)}\")\n",
    "\n",
    "#Double quotes str\n",
    "b = \"Hello World\"\n",
    "print(a==b)\n",
    "print(f\"Does a equal b? {a==b}\")\n",
    "\n",
    "# str addition\n",
    "print(a + b)\n",
    "\n",
    "a = 'Hello '\n",
    "b= 'World'\n",
    "print(a+b)\n",
    "\n",
    "#Access different characters in a str\n",
    "#In almost all computer languages, strings, arrays, and lists are all zero-based index\n",
    "\n",
    "print(a[0])\n",
    "\n",
    "#To access a range the syntax is \"variable[start:end:step]\" Note* by end, it doesn't include the end\n",
    "c= a[1:4]\n",
    "print(c)\n"
   ]
  },
  {
   "cell_type": "code",
   "execution_count": 29,
   "metadata": {},
   "outputs": [
    {
     "name": "stdout",
     "output_type": "stream",
     "text": [
      "The data type for the variable a is: <class 'int'>\n",
      "The data type for 3 is: <class 'str'>\n",
      "<class 'float'>\n",
      "<class 'int'>\n",
      "7\n"
     ]
    }
   ],
   "source": [
    "#int, float, type\n",
    "a = 3\n",
    "print(f\"The data type for the variable a is: {type(a)}\")\n",
    "\n",
    "b = str(a)\n",
    "print(f\"The data type for {b} is: {type(b)}\")\n",
    "\n",
    "c = 7.6\n",
    "print(type(c))\n",
    "\n",
    "#Casting a float to an int, int() always rounds down\n",
    "d = int(c)\n",
    "print(type(d))\n",
    "print(d)"
   ]
  },
  {
   "cell_type": "code",
   "execution_count": 30,
   "metadata": {},
   "outputs": [],
   "source": [
    "# Camel case, Pascal case, Snake case\n",
    "temperature = 37.3\n",
    "\n",
    "myVariableName = 43 #camel case\n",
    "\n",
    "MyVariableName = 22 #Pascal case\n",
    "\n",
    "my_variable_name = 33 #snake case"
   ]
  },
  {
   "cell_type": "code",
   "execution_count": 32,
   "metadata": {},
   "outputs": [
    {
     "name": "stdout",
     "output_type": "stream",
     "text": [
      "False\n",
      "True\n"
     ]
    }
   ],
   "source": [
    "# boolean True False\n",
    "a = True\n",
    "b = False\n",
    "print(a==b)\n",
    "print(a != b) \n"
   ]
  },
  {
   "cell_type": "code",
   "execution_count": 40,
   "metadata": {},
   "outputs": [
    {
     "name": "stdout",
     "output_type": "stream",
     "text": [
      "3\n"
     ]
    }
   ],
   "source": [
    "# If statements\n",
    "a = 3\n",
    "if a < 4:\n",
    "    print(a)\n",
    "elif a > 4:\n",
    "    print(\"a is greater than 4\")\n",
    "else:\n",
    "    print(\"a is equals 4\")"
   ]
  },
  {
   "cell_type": "code",
   "execution_count": 52,
   "metadata": {},
   "outputs": [
    {
     "name": "stdout",
     "output_type": "stream",
     "text": [
      "3\n",
      "3\n",
      "16\n"
     ]
    },
    {
     "data": {
      "text/plain": [
       "17"
      ]
     },
     "execution_count": 52,
     "metadata": {},
     "output_type": "execute_result"
    }
   ],
   "source": [
    "# Defining functions and calling them\n",
    "#Global Variables, declared globally and not locally in a function\n",
    "b = 3\n",
    "def myFunc():\n",
    "    a = 7\n",
    "    print(b)\n",
    "    \n",
    "myFunc()\n",
    "\n",
    "#Calling a local variable in a global environment will return an error\n",
    "print(a)\n",
    "\n",
    "#Defining functions and passing variables into a function\n",
    "\n",
    "def myFunc(x):\n",
    "    g = 7\n",
    "    print(x+g)\n",
    "    \n",
    "myFunc(9)\n",
    "\n",
    "# Defining, Passing an arguments(s), calling the functions\n",
    "\n",
    "def myFunc(x, y):\n",
    "    return x + y #Return value from a function and assign it to a new variable\n",
    "myResult = myFunc(9,8)\n",
    "myResult"
   ]
  }
 ],
 "metadata": {
  "kernelspec": {
   "display_name": "Python 3",
   "language": "python",
   "name": "python3"
  },
  "language_info": {
   "codemirror_mode": {
    "name": "ipython",
    "version": 3
   },
   "file_extension": ".py",
   "mimetype": "text/x-python",
   "name": "python",
   "nbconvert_exporter": "python",
   "pygments_lexer": "ipython3",
   "version": "3.8.5"
  }
 },
 "nbformat": 4,
 "nbformat_minor": 4
}
