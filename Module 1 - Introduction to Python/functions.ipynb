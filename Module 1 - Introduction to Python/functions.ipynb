{
 "cells": [
  {
   "cell_type": "markdown",
   "metadata": {
    "deletable": false,
    "editable": false,
    "nbgrader": {
     "cell_type": "markdown",
     "checksum": "c3a79820354e3880f2acdaa08e2c64ad",
     "grade": false,
     "grade_id": "cell-c90abbea2c54f049",
     "locked": true,
     "schema_version": 3,
     "solution": false
    }
   },
   "source": [
    "# Codio Coding Activity 1.6: *Functions* in Python\n",
    "\n",
    "### Learning Outcome Addressed\n",
    "\n",
    "- 10. Use Python *functions* in a coding environment.\n",
    "\n",
    "\n",
    "\n",
    "## Index:\n",
    "\n",
    "- [Question 1](#Question-1)\n",
    "- [Question 2](#Question-2)\n",
    "- [Question 3](#Question-3)\n",
    "- [Question 4](#Question-4)\n",
    "- [Question 5](#Question-5)\n",
    "- [Question 6](#Question-6)\n",
    "- [Question 7](#Question-7)\n",
    "- [Question 8](#Question-8)"
   ]
  },
  {
   "cell_type": "markdown",
   "metadata": {
    "deletable": false,
    "editable": false,
    "nbgrader": {
     "cell_type": "markdown",
     "checksum": "3d75c0cf892ecf3d1a8eca13a3256299",
     "grade": false,
     "grade_id": "cell-b0655c5ad9269459",
     "locked": true,
     "schema_version": 3,
     "solution": false
    }
   },
   "source": [
    "## Python User-Defined *Functions*\n",
    "\n",
    "So far, you’ve seen many examples demonstrating the use of built-in *`Python` functions*. In this tutorial, you’ll learn how to define your own *`Python` functions*. \n",
    "\n",
    "You may be familiar with the mathematical concept of a *function*. A *function* is a relationship or mapping between one or more inputs and a set of outputs. In mathematics, a *function* is typically represented like this:\n",
    "\n",
    "$$ z = f(x,y)$$\n",
    "\n",
    "Here, $f$ is a *function* that operates on the inputs $x$ and $y$. The output of the *function* is $z$. \n",
    "\n",
    "\n",
    "You will begin this activity with a review of how to write *functions* to refresh your memory of the basics. Every *function* definition in *`Python`* starts with the keyword *`def`* followed by the name of the *function*.\n",
    "The name of the *function* is followed by parentheses that should include `<arguments>`, if there are any.\n",
    "\n",
    "The header of the *function* is followed by the body of the *function*. This is meant to be an indented\n",
    "block of code containing the instructions that the *function* is supposed to perform.\n",
    "\n",
    "Sometimes a *function* ends with a *`return`* statement. A return statement is used to end the execution of the *function* call and returns the result (value of the expression following the return keyword) to the caller. \n",
    "\n",
    "The pseudocode below displays the general structure of a *function*.\n",
    " \n",
    " \n",
    " ``` Python\n",
    "def name_of_function(args):\n",
    "    body of the function\n",
    "    return var\n",
    "```"
   ]
  },
  {
   "cell_type": "markdown",
   "metadata": {
    "deletable": false,
    "editable": false,
    "nbgrader": {
     "cell_type": "markdown",
     "checksum": "416f3b3c677cf179a8a32adc48ce8792",
     "grade": false,
     "grade_id": "cell-35e4bd60e54409c3",
     "locked": true,
     "schema_version": 3,
     "solution": false
    }
   },
   "source": [
    "\n",
    "### Question 1\n",
    "\n",
    "*2 points* \n",
    "\n",
    "Create a *function* called *`validate`* that takes a number as an argument and checks whether it's even. If it's even, return the *string `even`*; if it's odd, return the *string `odd`*.\n",
    "\n"
   ]
  },
  {
   "cell_type": "code",
   "execution_count": 1,
   "metadata": {
    "deletable": false,
    "nbgrader": {
     "cell_type": "code",
     "checksum": "6930fe39623ce41ddb0112c866667a12",
     "grade": false,
     "grade_id": "cell-57dc0370b48ad0c8",
     "locked": false,
     "schema_version": 3,
     "solution": true
    }
   },
   "outputs": [],
   "source": [
    "### GRADED\n",
    "### YOUR ANSWER BELOW\n",
    "\n",
    "### YOUR SOLUTION HERE\n",
    "def validate(x):\n",
    "    if x % 2 == 0:\n",
    "        return 'even'\n",
    "    else:\n",
    "        return 'odd'\n",
    "\n",
    "# YOUR CODE HERE\n"
   ]
  },
  {
   "cell_type": "code",
   "execution_count": null,
   "metadata": {
    "deletable": false,
    "editable": false,
    "nbgrader": {
     "cell_type": "code",
     "checksum": "6f8b260541809233da5aacb738a89fa7",
     "grade": true,
     "grade_id": "cell-6786f22837dd4d09",
     "locked": true,
     "points": 2,
     "schema_version": 3,
     "solution": false
    }
   },
   "outputs": [],
   "source": []
  },
  {
   "cell_type": "markdown",
   "metadata": {
    "deletable": false,
    "editable": false,
    "nbgrader": {
     "cell_type": "markdown",
     "checksum": "fc85fbf411e8d8762f166ae4a77b6ad6",
     "grade": false,
     "grade_id": "cell-d5c70f535f78014d",
     "locked": true,
     "schema_version": 3,
     "solution": false
    }
   },
   "source": [
    "### Question 2\n",
    "\n",
    "*3 points*  \n",
    "\n",
    "Create a *function* called *`abs_value`* that takes a number as an argument and returns its absolute value.\n",
    "\n",
    "Remember that the absolute value is defined as:\n",
    "\n",
    "$$|x| = \\begin{cases} \n",
    "      x \\text{ if } x >= 0 \\\\\n",
    "      - \\text{ if } x < 0 \\\\\n",
    "   \\end{cases}\n",
    "$$\n",
    "\n"
   ]
  },
  {
   "cell_type": "code",
   "execution_count": 2,
   "metadata": {
    "deletable": false,
    "nbgrader": {
     "cell_type": "code",
     "checksum": "8c62818c7c1aef00bc56865085cbe235",
     "grade": false,
     "grade_id": "cell-267912c2b6654576",
     "locked": false,
     "schema_version": 3,
     "solution": true
    }
   },
   "outputs": [],
   "source": [
    "### GRADED\n",
    "### YOUR ANSWER BELOW\n",
    "\n",
    "### YOUR SOLUTION HERE\n",
    "def abs_value(x):\n",
    "    return abs(x)\n",
    "\n",
    "# YOUR CODE HERE\n"
   ]
  },
  {
   "cell_type": "code",
   "execution_count": null,
   "metadata": {
    "deletable": false,
    "editable": false,
    "nbgrader": {
     "cell_type": "code",
     "checksum": "a600b1de3f86a5d6903eaa9d6503df5e",
     "grade": true,
     "grade_id": "cell-1bca4442637ebc84",
     "locked": true,
     "points": 3,
     "schema_version": 3,
     "solution": false
    }
   },
   "outputs": [],
   "source": []
  },
  {
   "cell_type": "markdown",
   "metadata": {
    "deletable": false,
    "editable": false,
    "nbgrader": {
     "cell_type": "markdown",
     "checksum": "07ff56431d24fb5f1e9138d4190e47ab",
     "grade": false,
     "grade_id": "cell-c5c3a154c2705053",
     "locked": true,
     "schema_version": 3,
     "solution": false
    }
   },
   "source": [
    "### Question 3\n",
    "*2 points*\n",
    "\n",
    "Define a *function* called *`square_cond`* that takes takes the variable *`x`* as input, which should be a \n",
    "number.  Your *function* should check whether *`x`* is even  and, if so, returns *`x`* squared. Otherwise, your *function* should return the *string `Odd number`*."
   ]
  },
  {
   "cell_type": "code",
   "execution_count": 3,
   "metadata": {
    "deletable": false,
    "nbgrader": {
     "cell_type": "code",
     "checksum": "1e182fd54d8cacfa5c1397ab55c5bb37",
     "grade": false,
     "grade_id": "cell-11c2710f304e47f3",
     "locked": false,
     "schema_version": 3,
     "solution": true
    }
   },
   "outputs": [],
   "source": [
    "### GRADED\n",
    "\n",
    "### YOUR SOLUTION HERE\n",
    "def square_cond(x):\n",
    "    if isinstance(x, int):\n",
    "        if x % 2 ==0:\n",
    "            return x**2\n",
    "        else:\n",
    "            return 'Odd number'\n",
    "# YOUR CODE HERE\n"
   ]
  },
  {
   "cell_type": "code",
   "execution_count": null,
   "metadata": {
    "deletable": false,
    "editable": false,
    "nbgrader": {
     "cell_type": "code",
     "checksum": "dd4ef1a5e8d0ffc6fe5c7ba584eb5a0e",
     "grade": true,
     "grade_id": "cell-c76782fa1da097ee",
     "locked": true,
     "points": 2,
     "schema_version": 3,
     "solution": false
    }
   },
   "outputs": [],
   "source": []
  },
  {
   "cell_type": "markdown",
   "metadata": {
    "deletable": false,
    "editable": false,
    "nbgrader": {
     "cell_type": "markdown",
     "checksum": "9439da196f312a083fd307d622170841",
     "grade": false,
     "grade_id": "cell-36bf2dfd8a187ab1",
     "locked": true,
     "schema_version": 3,
     "solution": false
    }
   },
   "source": [
    "*Functions* can also accept multiple arguments and return multiple variables at once by separating them with a comma.\n",
    "\n",
    "### Question 4\n",
    "*4 points*\n",
    "\n",
    "Create a *`Python` function* called *`multi_operation`* that takes, as input, two floats, *`a`* and *`b`*.\n",
    "\n",
    "Your *function* should:\n",
    "- Compute the product of *`a`* and *`b`* and assign the result to *`multi`*\n",
    "- Compute the integer division between *`a`* and *`b`* and assign the result to *`div`*\n",
    "\n",
    "The *function* should return both the *`multi`* and the *`div`* variables.\n",
    "\n",
    "**Hint: Remember integer division is perfomed by the `//` *operator*.**"
   ]
  },
  {
   "cell_type": "code",
   "execution_count": 4,
   "metadata": {
    "deletable": false,
    "nbgrader": {
     "cell_type": "code",
     "checksum": "37fb79fee07f6c9ddfe864b687977201",
     "grade": false,
     "grade_id": "cell-58b79f433fb78492",
     "locked": false,
     "schema_version": 3,
     "solution": true
    }
   },
   "outputs": [],
   "source": [
    "### GRADED\n",
    "\n",
    "### YOUR SOLUTION HERE\n",
    "def multi_operation(a,b):\n",
    "    multi = a * b\n",
    "    div = a // b\n",
    "    return multi, div\n",
    "\n",
    "# YOUR CODE HERE\n"
   ]
  },
  {
   "cell_type": "code",
   "execution_count": null,
   "metadata": {
    "deletable": false,
    "editable": false,
    "nbgrader": {
     "cell_type": "code",
     "checksum": "37437761606953449295b7704152f827",
     "grade": true,
     "grade_id": "cell-d93733810a2071ba",
     "locked": true,
     "points": 4,
     "schema_version": 3,
     "solution": false
    }
   },
   "outputs": [],
   "source": []
  },
  {
   "cell_type": "markdown",
   "metadata": {
    "deletable": false,
    "editable": false,
    "nbgrader": {
     "cell_type": "markdown",
     "checksum": "8aa7f4dde361cb4f63f23776824a4f9d",
     "grade": false,
     "grade_id": "cell-64f24e365d4d046c",
     "locked": true,
     "schema_version": 3,
     "solution": false
    }
   },
   "source": [
    "## A Note on Functions Arguments\n",
    "\n",
    "*`Python`* *functions* can contain two types of arguments: positional arguments and keyword arguments. Positional arguments must be included in the correct order. Keyword arguments are included with a keyword and equals sign.\n",
    "\n",
    "### Positional Arguments\n",
    "\n",
    "An argument is a variable, value or object passed to a *function* or method as input. Positional arguments are arguments that need to be included in the proper position or order.\n",
    "\n",
    "The first positional argument always needs to be listed first when the *function* is called. The second positional argument needs to be listed second and the third positional argument listed third, etc.\n",
    "\n",
    "An example of positional arguments can be seen in *`Python`'s `complex()` function*. This *function* returns a complex number with a real term and an imaginary term. The order that numbers are passed to the *`complex()`* *function* determines which number is the real term and which number is the imaginary term.\n",
    "\n",
    "If the complex number *`3 + 5j`* is created, the two positional arguments are the numbers 3 and 5. As positional arguments, 3 must be listed first, and 5 must be listed second.\n",
    "\n",
    "Run the code cell below."
   ]
  },
  {
   "cell_type": "code",
   "execution_count": 5,
   "metadata": {},
   "outputs": [
    {
     "data": {
      "text/plain": [
       "(3+5j)"
      ]
     },
     "execution_count": 5,
     "metadata": {},
     "output_type": "execute_result"
    }
   ],
   "source": [
    "complex(3,5)"
   ]
  },
  {
   "cell_type": "markdown",
   "metadata": {
    "deletable": false,
    "editable": false,
    "nbgrader": {
     "cell_type": "markdown",
     "checksum": "bf058563abd95d42a2f87a39ca38bbc9",
     "grade": false,
     "grade_id": "cell-0eb806580dae53ec",
     "locked": true,
     "schema_version": 3,
     "solution": false
    }
   },
   "source": [
    "### Local vs. Global Scope\n",
    "\n",
    "In this section, you will test your knowledge about the different scopes in *`Python`*. Remember:\n",
    "\n",
    "- Variables have global scope in the main body of the script.\n",
    "- Variables defined within a *function* have local scope by default.\n",
    "- You can define global variables within a *function* by using the keyword global.\n",
    "\n",
    "Observe the code below:\n",
    "\n",
    "```Python\n",
    "\n",
    "a = \"Data science is awesome!\"\n",
    "\n",
    "def my_fun(x)\n",
    "    global result\n",
    "    result = x**3\n",
    "    result_squared = result**2\n",
    "    \n",
    "```\n",
    "\n",
    "In the code above, the variable *`a`* is defined in the main body. Therefore, *`a`* can be used everywhere in my code.\n",
    "\n",
    "In the *function `my_fun`*, the variable *`result`* is defined to be global. This means that, after calling the *function*, you can access the value of *`result`* from the main body of your code without returning the variable with the *function*. However, *`result_squared`* is defined locally inside the *function*. Therefore, you can only use that variable within *`my_fun`*."
   ]
  },
  {
   "cell_type": "markdown",
   "metadata": {
    "deletable": false,
    "editable": false,
    "nbgrader": {
     "cell_type": "markdown",
     "checksum": "9a6021f65bc33fe4466b56d2ae89057d",
     "grade": false,
     "grade_id": "cell-39207d6376cdb8f9",
     "locked": true,
     "schema_version": 3,
     "solution": false
    }
   },
   "source": [
    "Variables that are defined inside a *function* body have a local scope, and those defined outside have a global scope. However, you can make variables inside a *function* global by declaring them using the *`global`* keyword.\n",
    "\n",
    "\n",
    "### Question 5\n",
    "*4 points*\n",
    "\n",
    "Define a *function* called *`global_sum`* that takes two integers, *`a`* and *`b`*. \n",
    "Inside the *function*, create a global variable *`number`* to store the result.\n",
    "Assign to *`number`* the result of the sum between *`a`* and *`b`*.\n",
    "\n",
    "**NOTE:** Because *`number`* is defined globally, you can access its values without a return statement."
   ]
  },
  {
   "cell_type": "code",
   "execution_count": 10,
   "metadata": {
    "deletable": false,
    "nbgrader": {
     "cell_type": "code",
     "checksum": "828b92c1a0097e85e0593367db52b88a",
     "grade": false,
     "grade_id": "cell-926584bb7c2db148",
     "locked": false,
     "schema_version": 3,
     "solution": true
    }
   },
   "outputs": [
    {
     "data": {
      "text/plain": [
       "7"
      ]
     },
     "execution_count": 10,
     "metadata": {},
     "output_type": "execute_result"
    }
   ],
   "source": [
    "### GRADED\n",
    "\n",
    "### YOUR SOLUTION HERE\n",
    "def global_sum(a,b):\n",
    "    global number\n",
    "    number = a + b\n",
    "\n",
    "# YOUR CODE HERE\n",
    "global_sum(4,3)\n",
    "number"
   ]
  },
  {
   "cell_type": "code",
   "execution_count": null,
   "metadata": {
    "deletable": false,
    "editable": false,
    "nbgrader": {
     "cell_type": "code",
     "checksum": "969cccb156dfdd50b75e559a11d29a27",
     "grade": true,
     "grade_id": "cell-866408fd9c3336ec",
     "locked": true,
     "points": 4,
     "schema_version": 3,
     "solution": false
    }
   },
   "outputs": [],
   "source": []
  },
  {
   "cell_type": "markdown",
   "metadata": {
    "deletable": false,
    "editable": false,
    "nbgrader": {
     "cell_type": "markdown",
     "checksum": "1661f3d08d4666e215dc95f1bb8c2bef",
     "grade": false,
     "grade_id": "cell-fc41fff29b9faf5d",
     "locked": true,
     "schema_version": 3,
     "solution": false
    }
   },
   "source": [
    "\n",
    "### Question 6\n",
    "*1 point*\n",
    "\n",
    "In the code cell below, the variable *`x`* is defined for you.\n",
    "\n",
    "Create a *function* called *`i_print`* that takes one argument, *`x`*. The *function* should return the value *`x`* as an integer."
   ]
  },
  {
   "cell_type": "code",
   "execution_count": 13,
   "metadata": {
    "deletable": false,
    "nbgrader": {
     "cell_type": "code",
     "checksum": "67e6005b2978b646447c72c70ec659a8",
     "grade": false,
     "grade_id": "cell-79e854a6ccef9480",
     "locked": false,
     "schema_version": 3,
     "solution": true
    }
   },
   "outputs": [],
   "source": [
    "### GRADED\n",
    "\n",
    "### YOUR SOLUTION HERE\n",
    "# Definition of x\n",
    "x = 10.0\n",
    "\n",
    "def i_print(x):\n",
    "    return int(x)\n",
    "\n",
    "# YOUR CODE HERE"
   ]
  },
  {
   "cell_type": "code",
   "execution_count": null,
   "metadata": {
    "deletable": false,
    "editable": false,
    "nbgrader": {
     "cell_type": "code",
     "checksum": "922e4a98521853d756377dcc570b31d0",
     "grade": true,
     "grade_id": "cell-899259e6f9e6baca",
     "locked": true,
     "points": 1,
     "schema_version": 3,
     "solution": false
    }
   },
   "outputs": [],
   "source": []
  },
  {
   "cell_type": "markdown",
   "metadata": {
    "deletable": false,
    "editable": false,
    "nbgrader": {
     "cell_type": "markdown",
     "checksum": "de387987ad0ce5ac09ba64b20f2bdec8",
     "grade": false,
     "grade_id": "cell-ff19126f60dd50c1",
     "locked": true,
     "schema_version": 3,
     "solution": false
    }
   },
   "source": [
    "### Question 7\n",
    "\n",
    "*1 point*\n",
    "\n",
    "A *function* is defined as:\n",
    "\n",
    "```python\n",
    "\n",
    "a = 10\n",
    "\n",
    "def h():     \n",
    "    global a \n",
    "    a = 3\n",
    "    return a\n",
    "```\n",
    "\n",
    "What will the *function `h()`* return? Store your solution in the variable *`ans7`*."
   ]
  },
  {
   "cell_type": "code",
   "execution_count": 14,
   "metadata": {
    "deletable": false,
    "nbgrader": {
     "cell_type": "code",
     "checksum": "05c813cfd9f2277c63f81868caf852d4",
     "grade": false,
     "grade_id": "cell-956322b562ef1faa",
     "locked": false,
     "schema_version": 3,
     "solution": true
    }
   },
   "outputs": [],
   "source": [
    "### GRADED\n",
    "\n",
    "### YOUR SOLUTION HERE\n",
    "ans7 = 3\n",
    "\n",
    "# YOUR CODE HERE\n"
   ]
  },
  {
   "cell_type": "code",
   "execution_count": null,
   "metadata": {
    "deletable": false,
    "editable": false,
    "nbgrader": {
     "cell_type": "code",
     "checksum": "5650475a89337cd4e3605243a2b7afff",
     "grade": true,
     "grade_id": "cell-694b1b9f47d3a3be",
     "locked": true,
     "points": 1,
     "schema_version": 3,
     "solution": false
    }
   },
   "outputs": [],
   "source": []
  },
  {
   "cell_type": "markdown",
   "metadata": {
    "deletable": false,
    "editable": false,
    "nbgrader": {
     "cell_type": "markdown",
     "checksum": "336e9864ec60f2fceaaff46c675cc88b",
     "grade": false,
     "grade_id": "cell-d51883cd5ca89dfa",
     "locked": true,
     "schema_version": 3,
     "solution": false
    }
   },
   "source": [
    "### Handling Exceptions\n",
    "\n",
    "In this section you will test your knowledge on how to handle different types of exceptions and raise errors in *`Python`*.\n",
    "\n",
    "- You can use *`try`* and *`except`* to print a customized error message. \n",
    "- Remember to specify the error type after *`except`* to ensure that error messages are specific to potential errors. \n",
    "- You can use an *`if`* statement to create more refined error messages. "
   ]
  },
  {
   "cell_type": "markdown",
   "metadata": {
    "deletable": false,
    "editable": false,
    "nbgrader": {
     "cell_type": "markdown",
     "checksum": "032d240e7bb19c85e07695fd334b2464",
     "grade": false,
     "grade_id": "cell-92d31c4ed6f2492b",
     "locked": true,
     "schema_version": 3,
     "solution": false
    }
   },
   "source": [
    "### Question 8\n",
    "*3 points*\n",
    "\n",
    "Define a *function* called *`exce_sum`* that takes two arguments, *`a`* and *`b`*.\n",
    "\n",
    "If both arguments are  0, the *function* should raise an *`ValueError`* exception saying *`Invalid numbers`*. Otherwise, your *function* should return the sum of two arguments.\n",
    "\n",
    "Please review the psuedocode for the *function* to help you get started:\n",
    "\n",
    "```Python\n",
    "def exce_sum(arguments):\n",
    "    try:\n",
    "        if both numbers are zero\n",
    "            raise ValueError(\"Some error message\")\n",
    "        return  sum of arguments\n",
    "    except ValueError as err\n",
    "        return str(err)\n",
    "```"
   ]
  },
  {
   "cell_type": "code",
   "execution_count": 15,
   "metadata": {
    "deletable": false,
    "nbgrader": {
     "cell_type": "code",
     "checksum": "3adae6273aa7521b99a8fc3937af3ca4",
     "grade": false,
     "grade_id": "cell-9df404adc0cf40b6",
     "locked": false,
     "schema_version": 3,
     "solution": true
    }
   },
   "outputs": [],
   "source": [
    "### GRADED\n",
    "\n",
    "### YOUR SOLUTION HERE\n",
    "def exce_sum(a,b):\n",
    "    try:\n",
    "        if a == 0 and b == 0:\n",
    "            raise ValueError(\"Invalid numbers\")\n",
    "        return a + b\n",
    "    except ValueError as err:\n",
    "        return str(err)\n",
    "\n",
    "# YOUR CODE HERE\n"
   ]
  },
  {
   "cell_type": "code",
   "execution_count": null,
   "metadata": {
    "deletable": false,
    "editable": false,
    "nbgrader": {
     "cell_type": "code",
     "checksum": "ab87d1cae2e521de131f4afcfbf8e68f",
     "grade": true,
     "grade_id": "cell-2adab035acb98b28",
     "locked": true,
     "points": 3,
     "schema_version": 3,
     "solution": false
    }
   },
   "outputs": [],
   "source": []
  },
  {
   "cell_type": "code",
   "execution_count": null,
   "metadata": {},
   "outputs": [],
   "source": []
  }
 ],
 "metadata": {
  "kernelspec": {
   "display_name": "Python 3",
   "language": "python",
   "name": "python3"
  },
  "language_info": {
   "codemirror_mode": {
    "name": "ipython",
    "version": 3
   },
   "file_extension": ".py",
   "mimetype": "text/x-python",
   "name": "python",
   "nbconvert_exporter": "python",
   "pygments_lexer": "ipython3",
   "version": "3.6.9"
  }
 },
 "nbformat": 4,
 "nbformat_minor": 4
}
