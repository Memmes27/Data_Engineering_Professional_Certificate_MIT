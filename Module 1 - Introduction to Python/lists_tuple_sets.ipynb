{
 "cells": [
  {
   "cell_type": "markdown",
   "metadata": {
    "deletable": false,
    "editable": false,
    "nbgrader": {
     "cell_type": "markdown",
     "checksum": "1e68c77765ff4e22add86f26d8f83996",
     "grade": false,
     "grade_id": "cell-b0d946fbacdfc242",
     "locked": true,
     "schema_version": 3,
     "solution": false
    }
   },
   "source": [
    "# Codio Activity 1.2 : *Lists, Tuples*, and *Sets* \n",
    "\n",
    "### Learning Outcome Addressed\n",
    "\n",
    "- 4. Implement Python *lists, tuples, sets*, and *dictionaries* in a coding environment.\n",
    "\n",
    "\n",
    "\n",
    "## Index:\n",
    "\n",
    "- [Question 1](#Question-1)\n",
    "- [Question 2](#Question-2)\n",
    "- [Question 3](#Question-3)\n",
    "- [Question 4](#Question-4)\n",
    "- [Question 5](#Question-5)\n",
    "- [Question 6](#Question-6)\n",
    "- [Question 7](#Question-7)\n",
    "- [Question 8](#Question-8)\n",
    "- [Question 9](#Question-9)\n",
    "- [Question 10](#Question-10)\n",
    "- [Question 11](#Question-11)\n",
    "- [Question 12](#Question-12)\n",
    "- [Question 13](#Question-13)\n",
    "- [Question 14](#Question-14)\n",
    "\n"
   ]
  },
  {
   "cell_type": "markdown",
   "metadata": {
    "deletable": false,
    "editable": false,
    "nbgrader": {
     "cell_type": "markdown",
     "checksum": "09aa697dc5be48c9a583e427c7581ea8",
     "grade": false,
     "grade_id": "cell-c4a4ab35b5a4a254",
     "locked": true,
     "schema_version": 3,
     "solution": false
    }
   },
   "source": [
    "## Collection Data Types\n",
    "\n",
    "*Lists* are one of four built-in data types in *`Python`* used to store unlimited collections of data. The other three are *tuples*, *sets*, and *dictionaries*, all with different qualities and usage.\n",
    "\n",
    "In this Codio activity, you will test your coding skills on *lists*, *tuples*, and *sets*.\n",
    "\n",
    "\n",
    "\n",
    "## Lists\n",
    "\n",
    "*Lists* are used to store multiple items in a single variable.\n",
    "\n",
    "*Lists* can be created using square brackets.\n",
    "\n",
    "### Question 1\n",
    "*1 point*\n",
    "\n",
    "In the code cell below, assign the elements *`Data`, `Analyst`, `Python`*, and *`3.14`* to the variable *`ans1a`*. \n",
    "\n",
    "Can *lists* contain elements of different types? Assign your answer (*`yes`* or *`no`*) as a *string* to *`ans1b`*.\n",
    "\n"
   ]
  },
  {
   "cell_type": "code",
   "execution_count": 1,
   "metadata": {
    "deletable": false,
    "nbgrader": {
     "cell_type": "code",
     "checksum": "a4fb4759c4f7ce681ac01e35ac474539",
     "grade": false,
     "grade_id": "cell-db72045ee59b963d",
     "locked": false,
     "schema_version": 3,
     "solution": true
    }
   },
   "outputs": [],
   "source": [
    "### GRADED\n",
    "\n",
    "### YOUR SOLUTION HERE\n",
    "ans1a = None\n",
    "ans1b = None\n",
    "\n",
    "# YOUR CODE HERE\n",
    "ans1a = ['Data', 'Analyst', 'Python', 3.14]\n",
    "ans1b = 'yes'"
   ]
  },
  {
   "cell_type": "code",
   "execution_count": null,
   "metadata": {
    "deletable": false,
    "editable": false,
    "nbgrader": {
     "cell_type": "code",
     "checksum": "183dfeb6d13880dd5ba360906a4429d7",
     "grade": true,
     "grade_id": "cell-9c485bd732be52f7",
     "locked": true,
     "points": 1,
     "schema_version": 3,
     "solution": false
    }
   },
   "outputs": [],
   "source": []
  },
  {
   "cell_type": "markdown",
   "metadata": {
    "deletable": false,
    "editable": false,
    "nbgrader": {
     "cell_type": "markdown",
     "checksum": "dce4136019ca4c74b1839b1e294c8672",
     "grade": false,
     "grade_id": "cell-40f0a886f8d37d3c",
     "locked": true,
     "schema_version": 3,
     "solution": false
    }
   },
   "source": [
    "*Lists* are:\n",
    "\n",
    "- Mutable, meaning that you can change, add, and remove items in a *list* after it has been created.\n",
    "- Ordered, meaning that the items have a defined order and that the order will not change.\n",
    "\n",
    "\n",
    "### Changing a *List*\n",
    "\n",
    "To change an element in a *list*, you can access the element you want to change with its *index* and assign a new value to it. \n",
    "\n",
    "For example, to change the first element in a *list*, which has *index* 0, you would do the following:\n",
    "```Python\n",
    "list1[0] = new_value\n",
    "```\n",
    "\n",
    "\n",
    "### Question 2\n",
    "*2 points*\n",
    "\n",
    "In the code cell below, assign the elements *`False`, `Apple`, `1`,* and *`3.14`* to the variable *`ans2a`*. \n",
    "\n",
    "Change the value of the first element to *`True`.* Assign the new *list* to *`ans2b`*."
   ]
  },
  {
   "cell_type": "code",
   "execution_count": 5,
   "metadata": {
    "deletable": false,
    "nbgrader": {
     "cell_type": "code",
     "checksum": "1fb7c5d947ecfdc8468941ec1a0653ac",
     "grade": false,
     "grade_id": "cell-1c892610f2f21eff",
     "locked": false,
     "schema_version": 3,
     "solution": true
    }
   },
   "outputs": [],
   "source": [
    "### GRADED\n",
    "\n",
    "### YOUR SOLUTION HERE\n",
    "ans2a = None\n",
    "ans2b = None\n",
    "\n",
    "# YOUR CODE HERE\n",
    "ans2a = [False, 'Apple', 1, 3.14]\n",
    "ans2a[0] = True\n",
    "\n",
    "ans2b = ans2a"
   ]
  },
  {
   "cell_type": "code",
   "execution_count": null,
   "metadata": {
    "deletable": false,
    "editable": false,
    "nbgrader": {
     "cell_type": "code",
     "checksum": "8677146a5b106fd67cd9b32ba3bd9763",
     "grade": true,
     "grade_id": "cell-c3ddbb15167fe2a4",
     "locked": true,
     "points": 2,
     "schema_version": 3,
     "solution": false
    }
   },
   "outputs": [],
   "source": []
  },
  {
   "cell_type": "markdown",
   "metadata": {
    "deletable": false,
    "editable": false,
    "nbgrader": {
     "cell_type": "markdown",
     "checksum": "cf956f4cefd7f774f15956987b8c47e8",
     "grade": false,
     "grade_id": "cell-19135e09284f3e68",
     "locked": true,
     "schema_version": 3,
     "solution": false
    }
   },
   "source": [
    "### Adding an Item to a *List*\n",
    "\n",
    "To add an element to a *list*, you can use the *function* *`append()`*.\n",
    "\n",
    "\n",
    "### Question 3\n",
    "*2 points*\n",
    "\n",
    "In the code cell below, assign the elements *`False`, `Apple`, `1`*, and *`3.14`* to the variable *`ans3a`*. \n",
    "\n",
    "Add the value *`pop`* to *`ans3a`*.  Assign the new *list* to *`ans3b`*."
   ]
  },
  {
   "cell_type": "code",
   "execution_count": 6,
   "metadata": {
    "deletable": false,
    "nbgrader": {
     "cell_type": "code",
     "checksum": "5ef318a03ab7f3055c543af3a6606565",
     "grade": false,
     "grade_id": "cell-2642d7b3b308884b",
     "locked": false,
     "schema_version": 3,
     "solution": true
    }
   },
   "outputs": [],
   "source": [
    "### GRADED\n",
    "\n",
    "### YOUR SOLUTION HERE\n",
    "ans3a = None\n",
    "ans3b = None\n",
    "\n",
    "# YOUR CODE HERE\n",
    "ans3a = [False, 'Apple', 1, 3.14]\n",
    "ans3a.append('pop')\n",
    "ans3b = ans3a"
   ]
  },
  {
   "cell_type": "code",
   "execution_count": null,
   "metadata": {
    "deletable": false,
    "editable": false,
    "nbgrader": {
     "cell_type": "code",
     "checksum": "ed033d6552e1f6d4242bcfc73d3b2156",
     "grade": true,
     "grade_id": "cell-cdbccd8ae11f5b7d",
     "locked": true,
     "points": 2,
     "schema_version": 3,
     "solution": false
    }
   },
   "outputs": [],
   "source": []
  },
  {
   "cell_type": "markdown",
   "metadata": {
    "deletable": false,
    "editable": false,
    "nbgrader": {
     "cell_type": "markdown",
     "checksum": "b6588c8b7eb91a73bb9a962276b887f0",
     "grade": false,
     "grade_id": "cell-cc8cfb3fda9d4d6b",
     "locked": true,
     "schema_version": 3,
     "solution": false
    }
   },
   "source": [
    "### Removing an Item from a *List*\n",
    "\n",
    "To remove an element from a *list*, you can use the *function* *`pop()`*.\n",
    "\n",
    "For example, to remove the first element in a *list*, which has *index* 0, you would do the following:\n",
    "```Python\n",
    "list1.pop(0)\n",
    "```\n",
    "\n",
    "### Question 4\n",
    "*2 points*\n",
    "\n",
    "In the code cell below, assign the elements *`False`, `Apple`, `2`*, and *`2.14`* to the variable *`ans4a`*. \n",
    "\n",
    "Remove the value *`Apple`* from *`ans4a`*.  Assign the new *list* to *`ans4b`*.\n",
    "\n",
    "Remember that *`Python`* is 0-indexed; therefore, you have to pay attention to using the correct *index*."
   ]
  },
  {
   "cell_type": "code",
   "execution_count": 8,
   "metadata": {
    "deletable": false,
    "nbgrader": {
     "cell_type": "code",
     "checksum": "e08166c41919c75d78f12a7b723e5499",
     "grade": false,
     "grade_id": "cell-36512b4b754082fa",
     "locked": false,
     "schema_version": 3,
     "solution": true
    }
   },
   "outputs": [],
   "source": [
    "### GRADED\n",
    "\n",
    "### YOUR SOLUTION HERE\n",
    "ans4a = None\n",
    "ans4b = None\n",
    "\n",
    "# YOUR CODE HERE\n",
    "ans4a = [False, 'Apple', 2, 2.14]\n",
    "ans4a.pop(1)\n",
    "ans4b = ans4a"
   ]
  },
  {
   "cell_type": "code",
   "execution_count": null,
   "metadata": {
    "deletable": false,
    "editable": false,
    "nbgrader": {
     "cell_type": "code",
     "checksum": "2c492bb7a76290fe4200ea9a57b03469",
     "grade": true,
     "grade_id": "cell-72e42dd4b754cbf0",
     "locked": true,
     "points": 2,
     "schema_version": 3,
     "solution": false
    }
   },
   "outputs": [],
   "source": []
  },
  {
   "cell_type": "markdown",
   "metadata": {
    "deletable": false,
    "editable": false,
    "nbgrader": {
     "cell_type": "markdown",
     "checksum": "14aef9fb2778500e86c00e79f92d6477",
     "grade": false,
     "grade_id": "cell-a3acdd8ffc6ff0ca",
     "locked": true,
     "schema_version": 3,
     "solution": false
    }
   },
   "source": [
    "## Constructing *Lists*\n",
    "\n",
    "\n",
    "It is also possible to use the *`list()`* constructor when creating a new *list*.\n",
    "\n",
    "The syntax for this is given by:\n",
    "\n",
    "```Python\n",
    "list1 = list((item_1, item_2, item_3)) # note the double round-brackets\n",
    "```\n",
    "\n",
    "### Question 5\n",
    "*2 points*\n",
    "\n",
    "In the code cell below, use the *`list()`* constructor to create a list with elements *`Python`, `list`, `container`*, and *`11`* to the variable *`ans5`*."
   ]
  },
  {
   "cell_type": "code",
   "execution_count": 9,
   "metadata": {
    "deletable": false,
    "nbgrader": {
     "cell_type": "code",
     "checksum": "43a393a51a0ca7ce02e1f570dafcb780",
     "grade": false,
     "grade_id": "cell-e4d8dff292399534",
     "locked": false,
     "schema_version": 3,
     "solution": true
    }
   },
   "outputs": [],
   "source": [
    "### GRADED\n",
    "\n",
    "### YOUR SOLUTION HERE\n",
    "ans5 = None\n",
    "\n",
    "# YOUR CODE HERE\n",
    "ans5 = list(('Python', 'list', 'container', 11))"
   ]
  },
  {
   "cell_type": "code",
   "execution_count": null,
   "metadata": {
    "deletable": false,
    "editable": false,
    "nbgrader": {
     "cell_type": "code",
     "checksum": "f0647af989986575739b11f140dbe8ff",
     "grade": true,
     "grade_id": "cell-b0f05ef84e77c47d",
     "locked": true,
     "points": 2,
     "schema_version": 3,
     "solution": false
    }
   },
   "outputs": [],
   "source": []
  },
  {
   "cell_type": "markdown",
   "metadata": {
    "deletable": false,
    "editable": false,
    "nbgrader": {
     "cell_type": "markdown",
     "checksum": "735dec3128a06aec4f79f56f542e50ac",
     "grade": false,
     "grade_id": "cell-b55dae2c40620b3a",
     "locked": true,
     "schema_version": 3,
     "solution": false
    }
   },
   "source": [
    "## *List* Length\n",
    "\n",
    "To determine how many items a *list* has, you can use the *`len()`* *function*:\n",
    "\n",
    "### Question 6\n",
    "*1 point*\n",
    "\n",
    "Create a *list* with elements *`Python`, `list`, `container`* and *`11`* the variable *`ans6a`*.\n",
    "Assign the length of *`ans6a`* to *`ans6b`*."
   ]
  },
  {
   "cell_type": "code",
   "execution_count": 11,
   "metadata": {
    "deletable": false,
    "nbgrader": {
     "cell_type": "code",
     "checksum": "534936c15599abd7ec671e962bd7870b",
     "grade": false,
     "grade_id": "cell-8e0afb65101c489e",
     "locked": false,
     "schema_version": 3,
     "solution": true
    }
   },
   "outputs": [],
   "source": [
    "### GRADED\n",
    "\n",
    "### YOUR SOLUTION HERE\n",
    "ans6a = None\n",
    "ans6b = None\n",
    "\n",
    "# YOUR CODE HERE\n",
    "ans6a = ['Python', 'list', 'container', 11]\n",
    "ans6b = len(ans6a)"
   ]
  },
  {
   "cell_type": "code",
   "execution_count": null,
   "metadata": {
    "deletable": false,
    "editable": false,
    "nbgrader": {
     "cell_type": "code",
     "checksum": "f3180a82a5188f6ab52bb2d563a4c61c",
     "grade": true,
     "grade_id": "cell-b7ef611b1abe78cf",
     "locked": true,
     "points": 1,
     "schema_version": 3,
     "solution": false
    }
   },
   "outputs": [],
   "source": []
  },
  {
   "cell_type": "markdown",
   "metadata": {
    "deletable": false,
    "editable": false,
    "nbgrader": {
     "cell_type": "markdown",
     "checksum": "e116e61efadf7a5b9cbceff0e81ed862",
     "grade": false,
     "grade_id": "cell-f6544df95908c9aa",
     "locked": true,
     "schema_version": 3,
     "solution": false
    }
   },
   "source": [
    "## *Tuples*\n",
    "\n",
    "*Tuples* are written by enclosing the items in the *tuple* using parenthesis. The items in the *tuple* are separated by using commas.\n",
    "\n",
    "### Question 7\n",
    "*1 point*\n",
    "\n",
    "Create a *tuple* with elements *`Hello`, `world`, `Python`*, *`Assignment`* and assign to *`ans7a`*.\n",
    "\n",
    "Assign the length of *`ans7a`* to *`ans7b`*."
   ]
  },
  {
   "cell_type": "code",
   "execution_count": 12,
   "metadata": {
    "deletable": false,
    "nbgrader": {
     "cell_type": "code",
     "checksum": "d9acd174b244be29875c694b5c3737ce",
     "grade": false,
     "grade_id": "cell-2d7ce37ae265b22b",
     "locked": false,
     "schema_version": 3,
     "solution": true
    }
   },
   "outputs": [],
   "source": [
    "### GRADED\n",
    "\n",
    "### YOUR SOLUTION HERE\n",
    "ans7a = None\n",
    "ans7b = None\n",
    "\n",
    "# YOUR CODE HERE\n",
    "ans7a = ('Hello', 'world', 'Python', 'Assignment')\n",
    "ans7b = len(ans7a)"
   ]
  },
  {
   "cell_type": "code",
   "execution_count": null,
   "metadata": {
    "deletable": false,
    "editable": false,
    "nbgrader": {
     "cell_type": "code",
     "checksum": "887239fc12d6fc89569ea927ddb55f91",
     "grade": true,
     "grade_id": "cell-123283fc1ebf8be7",
     "locked": true,
     "points": 1,
     "schema_version": 3,
     "solution": false
    }
   },
   "outputs": [],
   "source": []
  },
  {
   "cell_type": "markdown",
   "metadata": {
    "deletable": false,
    "editable": false,
    "nbgrader": {
     "cell_type": "markdown",
     "checksum": "a86d8299acd99a9e94ab5675ca0ba822",
     "grade": false,
     "grade_id": "cell-df73be8013d0b136",
     "locked": true,
     "schema_version": 3,
     "solution": false
    }
   },
   "source": [
    "*Tuples* are immutable.\n",
    "\n",
    "### Question 8\n",
    "*1 point*\n",
    "\n",
    "Would an error be raised if you tried to change an element in a *tuple*?\n",
    "\n",
    "Assign your response as a *string* (*`yes`* or *`no`*) to *`ans8`*."
   ]
  },
  {
   "cell_type": "code",
   "execution_count": 20,
   "metadata": {
    "deletable": false,
    "nbgrader": {
     "cell_type": "code",
     "checksum": "ab8e1e3ada5d8b361a7fa517f7a1a5ac",
     "grade": false,
     "grade_id": "cell-0b8692fd6aba4427",
     "locked": false,
     "schema_version": 3,
     "solution": true
    }
   },
   "outputs": [],
   "source": [
    "### GRADED\n",
    "\n",
    "### YOUR SOLUTION HERE\n",
    "ans8 = None\n",
    "\n",
    "\n",
    "# YOUR CODE HERE\n",
    "ans8 = 'yes'"
   ]
  },
  {
   "cell_type": "code",
   "execution_count": null,
   "metadata": {
    "deletable": false,
    "editable": false,
    "nbgrader": {
     "cell_type": "code",
     "checksum": "a39686a603deca3d95774353c14b8fec",
     "grade": true,
     "grade_id": "cell-96abb7fd149b0fb9",
     "locked": true,
     "points": 1,
     "schema_version": 3,
     "solution": false
    }
   },
   "outputs": [],
   "source": []
  },
  {
   "cell_type": "markdown",
   "metadata": {
    "deletable": false,
    "editable": false,
    "nbgrader": {
     "cell_type": "markdown",
     "checksum": "44df7a58e1f5096ae0db785f09e24d9a",
     "grade": false,
     "grade_id": "cell-1139a349e4462c65",
     "locked": true,
     "schema_version": 3,
     "solution": false
    }
   },
   "source": [
    "## Constructing *Tuples*\n",
    "\n",
    "It is also possible to use the *`tuple()`* constructor to create a *tuple*.\n",
    "\n",
    "### Question 9\n",
    "*2 points*\n",
    "\n",
    "In the code cell below, use the *`tuple()`* constructor to create a *tuple* with elements *`Python`, `list`, `tuple`*, and *`14.67`* to the variable *`ans9`*.\n",
    "\n",
    "**HINT:** Define all the elements in *`ans9`* as *`strings`*."
   ]
  },
  {
   "cell_type": "code",
   "execution_count": 14,
   "metadata": {
    "deletable": false,
    "nbgrader": {
     "cell_type": "code",
     "checksum": "b58e9d8529b9fb97bcab204b175c4434",
     "grade": false,
     "grade_id": "cell-98ab4cb2dd9ed2dd",
     "locked": false,
     "schema_version": 3,
     "solution": true
    }
   },
   "outputs": [],
   "source": [
    "### GRADED\n",
    "\n",
    "### YOUR SOLUTION HERE\n",
    "ans9 = None\n",
    "\n",
    "\n",
    "# YOUR CODE HERE\n",
    "ans9 = tuple(('Python', 'list', 'tuple', '14.67'))"
   ]
  },
  {
   "cell_type": "code",
   "execution_count": null,
   "metadata": {
    "deletable": false,
    "editable": false,
    "nbgrader": {
     "cell_type": "code",
     "checksum": "98e9aacf9009f183188afce37ec52c14",
     "grade": true,
     "grade_id": "cell-b9a15a9ca15f17b6",
     "locked": true,
     "points": 2,
     "schema_version": 3,
     "solution": false
    }
   },
   "outputs": [],
   "source": []
  },
  {
   "cell_type": "markdown",
   "metadata": {
    "deletable": false,
    "editable": false,
    "nbgrader": {
     "cell_type": "markdown",
     "checksum": "383429861fe92b7d40b2d861ecb92c11",
     "grade": false,
     "grade_id": "cell-2051664a6fc0e824",
     "locked": true,
     "schema_version": 3,
     "solution": false
    }
   },
   "source": [
    "### Question 10\n",
    "*1 point*\n",
    "\n",
    "Can you define a *tuple* that contains a *list* as one of its elements?\n",
    "\n",
    "Assign the your response as a *string* (*`yes`* or *`no`*) to *`ans10`*. Feel free to practice your answer in the code cell below."
   ]
  },
  {
   "cell_type": "code",
   "execution_count": 15,
   "metadata": {
    "deletable": false,
    "nbgrader": {
     "cell_type": "code",
     "checksum": "f492db7ec73e888937d5371bb5d7eea2",
     "grade": false,
     "grade_id": "cell-f71d7807b07ee078",
     "locked": false,
     "schema_version": 3,
     "solution": true
    }
   },
   "outputs": [],
   "source": [
    "### GRADED\n",
    "\n",
    "### YOUR SOLUTION HERE\n",
    "ans10 = None\n",
    "\n",
    "\n",
    "# YOUR CODE HERE\n",
    "ans10 = 'yes'"
   ]
  },
  {
   "cell_type": "code",
   "execution_count": null,
   "metadata": {
    "deletable": false,
    "editable": false,
    "nbgrader": {
     "cell_type": "code",
     "checksum": "b4e48d780f7e00230e4a0ff1d68ad39f",
     "grade": true,
     "grade_id": "cell-7d74478fa3eb99a7",
     "locked": true,
     "points": 1,
     "schema_version": 3,
     "solution": false
    }
   },
   "outputs": [],
   "source": []
  },
  {
   "cell_type": "markdown",
   "metadata": {
    "deletable": false,
    "editable": false,
    "nbgrader": {
     "cell_type": "markdown",
     "checksum": "d732e1a84d765ca0f3d7494cae45ef64",
     "grade": false,
     "grade_id": "cell-04ca9fb85bf674d8",
     "locked": true,
     "schema_version": 3,
     "solution": false
    }
   },
   "source": [
    "## *Sets*\n",
    "\n",
    "*Sets* are written using curly brackets.\n",
    "\n",
    "### Question 11\n",
    "*1 point*\n",
    "\n",
    "Define a *set* with elements *`1`, `2`, `3`*, and *`4`*.\n",
    "\n",
    "Assign your response to *`ans11a`*. What is the length of *`ans11a`*? Assign your response to *`ans11b`*."
   ]
  },
  {
   "cell_type": "code",
   "execution_count": 16,
   "metadata": {
    "deletable": false,
    "nbgrader": {
     "cell_type": "code",
     "checksum": "c5cabe19797b2b0b766ed3df38c2a434",
     "grade": false,
     "grade_id": "cell-51ab865c5fb531a1",
     "locked": false,
     "schema_version": 3,
     "solution": true
    }
   },
   "outputs": [],
   "source": [
    "### GRADED\n",
    "\n",
    "### YOUR SOLUTION HERE\n",
    "ans11a = None\n",
    "ans11b = None\n",
    "\n",
    "\n",
    "# YOUR CODE HERE\n",
    "ans11a = {1,2,3,4}\n",
    "ans11b = len(ans11a)"
   ]
  },
  {
   "cell_type": "code",
   "execution_count": null,
   "metadata": {
    "deletable": false,
    "editable": false,
    "nbgrader": {
     "cell_type": "code",
     "checksum": "32942765c54f8f9164822132f07f7cf6",
     "grade": true,
     "grade_id": "cell-84f30b0f4d84f277",
     "locked": true,
     "points": 1,
     "schema_version": 3,
     "solution": false
    }
   },
   "outputs": [],
   "source": []
  },
  {
   "cell_type": "markdown",
   "metadata": {
    "deletable": false,
    "editable": false,
    "nbgrader": {
     "cell_type": "markdown",
     "checksum": "08da9a0e9c553f763f79a914badcf817",
     "grade": false,
     "grade_id": "cell-f42b82ea780323b1",
     "locked": true,
     "schema_version": 3,
     "solution": false
    }
   },
   "source": [
    "## Constructing *Sets*\n",
    "\n",
    "It is also possible to use the *`set()`* constructor to define a *set*.\n",
    "\n",
    "### Question 12\n",
    "*2 points*\n",
    "\n",
    "In the code cell below, use the *`set()`* constructor to create a *set* with elements *`Python`, `list`, `tuple`*, and *`14.67`* to the variable *`ans12`*.\n",
    "\n",
    "**HINT:** Define any number in *`ans12`* as floats."
   ]
  },
  {
   "cell_type": "code",
   "execution_count": 18,
   "metadata": {
    "deletable": false,
    "nbgrader": {
     "cell_type": "code",
     "checksum": "f0f194828a7861d532016831f570837e",
     "grade": false,
     "grade_id": "cell-531b81f03d0c2db0",
     "locked": false,
     "schema_version": 3,
     "solution": true
    }
   },
   "outputs": [],
   "source": [
    "### GRADED\n",
    "\n",
    "### YOUR SOLUTION HERE\n",
    "ans12 = None\n",
    "\n",
    "\n",
    "# YOUR CODE HERE\n",
    "ans12 = set(['Python', 'list', 'tuple', 14.67])"
   ]
  },
  {
   "cell_type": "code",
   "execution_count": null,
   "metadata": {
    "deletable": false,
    "editable": false,
    "nbgrader": {
     "cell_type": "code",
     "checksum": "9ad8f6ab47071dc386796bbbe21a76d3",
     "grade": true,
     "grade_id": "cell-699a1c17a58d86b5",
     "locked": true,
     "points": 2,
     "schema_version": 3,
     "solution": false
    }
   },
   "outputs": [],
   "source": []
  },
  {
   "cell_type": "markdown",
   "metadata": {
    "deletable": false,
    "editable": false,
    "nbgrader": {
     "cell_type": "markdown",
     "checksum": "9e81618e1313b466b205113135786bbd",
     "grade": false,
     "grade_id": "cell-eded0dc24cfc04e0",
     "locked": true,
     "schema_version": 3,
     "solution": false
    }
   },
   "source": [
    "*Sets* are immutable  and do not allow duplicate values.\n",
    "\n",
    "Although *sets* cannot be changed, you can remove and add elements to it.\n",
    "\n",
    "## Removing an Element from a *Set*\n",
    "\n",
    "The *`remove()`* method removes the specified element from a *set*.\n",
    "\n",
    "For example, to remove the first element in a *set*, you would do the following:\n",
    "```Python\n",
    "set1.remove(element)\n",
    "```\n",
    "\n",
    "### Question 13\n",
    "*1 point*\n",
    "\n",
    "In the code cell below, assign the elements *`False`, `Apple`, `2`*, and *`2.14`* to the variable *`ans13a`*. \n",
    "\n",
    "Remove the value *`Apple`* from *`ans13a`*.  Assign the new *set* to *`ans13b`*."
   ]
  },
  {
   "cell_type": "code",
   "execution_count": 21,
   "metadata": {
    "deletable": false,
    "nbgrader": {
     "cell_type": "code",
     "checksum": "3a6ac8c6964e2cc253516345177d405a",
     "grade": false,
     "grade_id": "cell-e70faf7d1fd14b7f",
     "locked": false,
     "schema_version": 3,
     "solution": true
    }
   },
   "outputs": [],
   "source": [
    "### GRADED\n",
    "\n",
    "### YOUR SOLUTION HERE\n",
    "ans13a = None\n",
    "ans13b = None\n",
    "\n",
    "# YOUR CODE HERE\n",
    "ans13a = set([False, 'Apple', 2, 2.14])\n",
    "ans13a.remove('Apple')\n",
    "ans13b = ans13a"
   ]
  },
  {
   "cell_type": "code",
   "execution_count": null,
   "metadata": {
    "deletable": false,
    "editable": false,
    "nbgrader": {
     "cell_type": "code",
     "checksum": "d17add8e0c192e945c1e64b402f15bdb",
     "grade": true,
     "grade_id": "cell-370516465c5692b1",
     "locked": true,
     "points": 1,
     "schema_version": 3,
     "solution": false
    }
   },
   "outputs": [],
   "source": []
  },
  {
   "cell_type": "markdown",
   "metadata": {
    "deletable": false,
    "editable": false,
    "nbgrader": {
     "cell_type": "markdown",
     "checksum": "26b10360d73eeb74110763a9bd318eda",
     "grade": false,
     "grade_id": "cell-390dbfa2b4db12d6",
     "locked": true,
     "schema_version": 3,
     "solution": false
    }
   },
   "source": [
    "## Adding an Element to a *Set*\n",
    "\n",
    "The *`add()` function* adds the specified element to the *set*.\n",
    "\n",
    "For example, to add the first element to a *set*, you would do the following:\n",
    "```Python\n",
    "set1.add(element)\n",
    "```\n",
    "\n",
    "### Question 14\n",
    "*1 point*\n",
    "\n",
    "In the code cell below, assign the elements *`True`, `Peach`*, and *`3.14`* to the variable *`ans14a`*. \n",
    "\n",
    "Add the value *`Tree`* to *`ans14a`*.  Assign the new *set* to *`ans14b`*."
   ]
  },
  {
   "cell_type": "code",
   "execution_count": 22,
   "metadata": {
    "deletable": false,
    "nbgrader": {
     "cell_type": "code",
     "checksum": "5e5f715be240fc7bb67aad11efd9c088",
     "grade": false,
     "grade_id": "cell-1900911c8f3da4db",
     "locked": false,
     "schema_version": 3,
     "solution": true
    }
   },
   "outputs": [],
   "source": [
    "### GRADED\n",
    "\n",
    "### YOUR SOLUTION HERE\n",
    "ans14a = None\n",
    "ans14b = None\n",
    "\n",
    "# YOUR CODE HERE\n",
    "ans14a = set([True, 'Peach', 3.14])\n",
    "ans14a.add('Tree')\n",
    "ans14b = ans14a"
   ]
  },
  {
   "cell_type": "code",
   "execution_count": null,
   "metadata": {
    "deletable": false,
    "editable": false,
    "nbgrader": {
     "cell_type": "code",
     "checksum": "880bd39d7e1d1fbc64f54f5c4ab25828",
     "grade": true,
     "grade_id": "cell-16a11f21849fdf69",
     "locked": true,
     "points": 1,
     "schema_version": 3,
     "solution": false
    }
   },
   "outputs": [],
   "source": []
  },
  {
   "cell_type": "code",
   "execution_count": null,
   "metadata": {},
   "outputs": [],
   "source": []
  }
 ],
 "metadata": {
  "kernelspec": {
   "display_name": "Python 3",
   "language": "python",
   "name": "python3"
  },
  "language_info": {
   "codemirror_mode": {
    "name": "ipython",
    "version": 3
   },
   "file_extension": ".py",
   "mimetype": "text/x-python",
   "name": "python",
   "nbconvert_exporter": "python",
   "pygments_lexer": "ipython3",
   "version": "3.6.9"
  }
 },
 "nbformat": 4,
 "nbformat_minor": 4
}
