{
 "cells": [
  {
   "cell_type": "code",
   "execution_count": 4,
   "metadata": {},
   "outputs": [],
   "source": [
    "#open a file\n",
    "file1 = open(\"Greetings.txt\",\"x\")"
   ]
  },
  {
   "cell_type": "code",
   "execution_count": 8,
   "metadata": {},
   "outputs": [
    {
     "name": "stdout",
     "output_type": "stream",
     "text": [
      "Hello World\n"
     ]
    }
   ],
   "source": [
    "#write to a file\n",
    "file1 = open(\"Greetings.txt\", \"w\")\n",
    "s = \"Hello World\"\n",
    "file1.write(s)\n",
    "file1.close()\n",
    "\n",
    "file1 = open(\"Greetings.txt\",'r+')\n",
    "print(file1.read())\n",
    "file1.close()"
   ]
  },
  {
   "cell_type": "code",
   "execution_count": 9,
   "metadata": {},
   "outputs": [],
   "source": [
    "#delete file\n",
    "import os \n",
    "if os.path.exists(\"Greetings.txt\"):\n",
    "    os.remove(\"Greetings.txt\")\n",
    "else:\n",
    "    print(\"The file does not exist\")"
   ]
  },
  {
   "cell_type": "code",
   "execution_count": 26,
   "metadata": {},
   "outputs": [
    {
     "name": "stdout",
     "output_type": "stream",
     "text": [
      "['Hello World \\n', 'Your spaceship has arrived \\n', 'Greetings from Mars \\n']\n"
     ]
    }
   ],
   "source": [
    "# Read and write a file\n",
    "file1 = open('Greetings.txt', 'w')\n",
    "list = [\"Hello World \\n\",'Your spaceship has arrived \\n', \"Greetings from Mars \\n\"]\n",
    "file1.writelines(list)\n",
    "file1.close()\n",
    "file1 = open(\"Greetings.txt\", \"r+\")\n",
    "#print(file1.readline())\n",
    "print(file1.readlines())\n",
    "file1.close()"
   ]
  },
  {
   "cell_type": "code",
   "execution_count": 28,
   "metadata": {},
   "outputs": [
    {
     "name": "stdout",
     "output_type": "stream",
     "text": [
      "The file does not exist\n"
     ]
    }
   ],
   "source": [
    "# Delete the file\n",
    "if os.path.exists(\"Greetings.txt\"):\n",
    "    os.remove(\"Greetings.txt\")\n",
    "else:\n",
    "    print(\"The file does not exist\")\n"
   ]
  },
  {
   "cell_type": "markdown",
   "metadata": {},
   "source": [
    "#### Exercise:\n",
    "    - Write into a file called myContact.txt\n",
    "    - Your full name on one line\n",
    "    - Your email address on the next line\n",
    "    - Close and then open the file and read and print the content\n",
    "    - Finally, delete the file"
   ]
  },
  {
   "cell_type": "code",
   "execution_count": 31,
   "metadata": {},
   "outputs": [
    {
     "name": "stdout",
     "output_type": "stream",
     "text": [
      "['Mohammed Abdin \\n', 'moh.yasser27@gmail.com \\n']\n"
     ]
    }
   ],
   "source": [
    "file2 = open(\"myContact.txt\", \"w\")\n",
    "list2 = [\"Mohammed Abdin \\n\", \"moh.yasser27@gmail.com \\n\"]\n",
    "file2.writelines(list2)\n",
    "file2.close()\n",
    "\n",
    "file2 = open(\"myContact.txt\", \"r+\")\n",
    "print(file2.readlines())\n",
    "file2.close()"
   ]
  },
  {
   "cell_type": "code",
   "execution_count": 32,
   "metadata": {},
   "outputs": [],
   "source": [
    "if os.path.exists(\"myContact.txt\"):\n",
    "    os.remove(\"myContact.txt\")\n",
    "else:\n",
    "    print(\"The file does not exist\")"
   ]
  },
  {
   "cell_type": "code",
   "execution_count": null,
   "metadata": {},
   "outputs": [],
   "source": []
  }
 ],
 "metadata": {
  "kernelspec": {
   "display_name": "Python 3",
   "language": "python",
   "name": "python3"
  },
  "language_info": {
   "codemirror_mode": {
    "name": "ipython",
    "version": 3
   },
   "file_extension": ".py",
   "mimetype": "text/x-python",
   "name": "python",
   "nbconvert_exporter": "python",
   "pygments_lexer": "ipython3",
   "version": "3.8.5"
  }
 },
 "nbformat": 4,
 "nbformat_minor": 4
}
