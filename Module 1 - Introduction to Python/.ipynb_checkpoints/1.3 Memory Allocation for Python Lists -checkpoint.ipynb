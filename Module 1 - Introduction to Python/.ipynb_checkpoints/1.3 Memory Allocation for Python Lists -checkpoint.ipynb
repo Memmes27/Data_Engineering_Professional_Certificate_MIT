{
 "cells": [
  {
   "cell_type": "code",
   "execution_count": 1,
   "metadata": {},
   "outputs": [],
   "source": [
    "import numpy as np"
   ]
  },
  {
   "cell_type": "code",
   "execution_count": 4,
   "metadata": {},
   "outputs": [
    {
     "name": "stdout",
     "output_type": "stream",
     "text": [
      "[-9, 2.2, 3, 'cat'] [-9, 2.2, 3, 'cat']\n",
      "[1, 2.2, 3, 'cat'] [-9, 2.2, 3, 'cat']\n"
     ]
    }
   ],
   "source": [
    "# memory allocation for variables\n",
    "a = [1,2.2,3, 'cat']\n",
    "b = a\n",
    "b[0] = -9\n",
    "print(a,b)\n",
    "\n",
    "# memory allocation for variables with a .copy() method\n",
    "a = [1,2.2,3, 'cat']\n",
    "b = a.copy()\n",
    "b[0] = -9\n",
    "print(a,b)"
   ]
  },
  {
   "cell_type": "code",
   "execution_count": 7,
   "metadata": {},
   "outputs": [
    {
     "name": "stdout",
     "output_type": "stream",
     "text": [
      "[1, 2.2, 3, 'cat'] [-9, 2.2, 3, 'cat']\n"
     ]
    }
   ],
   "source": [
    "a = [1,2.2,3, 'cat']\n",
    "#slicing creates a copy in lists\n",
    "b = a[:]\n",
    "b[0] = -9\n",
    "print(a,b)"
   ]
  },
  {
   "cell_type": "code",
   "execution_count": null,
   "metadata": {},
   "outputs": [],
   "source": []
  }
 ],
 "metadata": {
  "kernelspec": {
   "display_name": "Python 3",
   "language": "python",
   "name": "python3"
  },
  "language_info": {
   "codemirror_mode": {
    "name": "ipython",
    "version": 3
   },
   "file_extension": ".py",
   "mimetype": "text/x-python",
   "name": "python",
   "nbconvert_exporter": "python",
   "pygments_lexer": "ipython3",
   "version": "3.8.5"
  }
 },
 "nbformat": 4,
 "nbformat_minor": 4
}
