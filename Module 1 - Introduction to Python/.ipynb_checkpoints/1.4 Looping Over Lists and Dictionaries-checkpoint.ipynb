{
 "cells": [
  {
   "cell_type": "code",
   "execution_count": 5,
   "metadata": {},
   "outputs": [
    {
     "name": "stdout",
     "output_type": "stream",
     "text": [
      "value: 1\n",
      "value: 2\n",
      "value: 3\n",
      "[2, 4, 6]\n"
     ]
    }
   ],
   "source": [
    "# looping over values in a list\n",
    "a = [1,2,3]\n",
    "b = []\n",
    "for i in a:\n",
    "    print(f\"value: {i}\")\n",
    "    b.append(i * 2)\n",
    "print(b)"
   ]
  },
  {
   "cell_type": "code",
   "execution_count": 6,
   "metadata": {},
   "outputs": [
    {
     "name": "stdout",
     "output_type": "stream",
     "text": [
      "index: 0\n",
      "index: 1\n",
      "index: 2\n",
      "[2, 4, 6]\n"
     ]
    }
   ],
   "source": [
    "#looping over a list using index\n",
    "a = [1,2,3]\n",
    "b = []\n",
    "for index in range(0, len(a)):\n",
    "    print(f\"index: {index}\")\n",
    "    b.append(a[index] * 2)\n",
    "print(b)"
   ]
  },
  {
   "cell_type": "code",
   "execution_count": 9,
   "metadata": {},
   "outputs": [
    {
     "name": "stdout",
     "output_type": "stream",
     "text": [
      "index: 0, value: 1\n",
      "index: 1, value: 2\n",
      "index: 2, value: 3\n",
      "[2, 4, 6]\n"
     ]
    }
   ],
   "source": [
    "# Enumerate over a list, append to a list\n",
    "a = [1,2,3]\n",
    "b = []\n",
    "for index, i in enumerate(a):\n",
    "    print(f\"index: {index}, value: {i}\")\n",
    "    b.append(a[index] * 2)\n",
    "    #b.append(i * 2)\n",
    "print(b)"
   ]
  },
  {
   "cell_type": "code",
   "execution_count": 17,
   "metadata": {},
   "outputs": [
    {
     "name": "stdout",
     "output_type": "stream",
     "text": [
      "index: 0, value: 1\n",
      "index: 1, value: 2\n",
      "index: 2, value: 3\n",
      "{0: 2, 1: 4, 2: 6}\n"
     ]
    }
   ],
   "source": [
    "# Enumerate over a list, append to a dictionary\n",
    "a = [1,2,3]\n",
    "b = {}\n",
    "for index,i in enumerate(a):\n",
    "    print(f\"index: {index}, value: {i}\")\n",
    "    b[index] = i *2\n",
    "print(b)"
   ]
  },
  {
   "cell_type": "code",
   "execution_count": 20,
   "metadata": {},
   "outputs": [
    {
     "name": "stdout",
     "output_type": "stream",
     "text": [
      "key: 0, value: 1\n",
      "key: 1, value: 2\n",
      "key: 2, value: 3\n",
      "{1: 14}\n"
     ]
    }
   ],
   "source": [
    "#looping over dictionary key:value pairs\n",
    "c = {0:1, 1:2, 2:3}\n",
    "d = {}\n",
    "for key, value in c.items():\n",
    "    print(f\"key: {key}, value: {value}\")\n",
    "    if (key == 1):\n",
    "        d[key] = value * 7\n",
    "print(d)"
   ]
  },
  {
   "cell_type": "code",
   "execution_count": null,
   "metadata": {},
   "outputs": [],
   "source": []
  }
 ],
 "metadata": {
  "kernelspec": {
   "display_name": "Python 3",
   "language": "python",
   "name": "python3"
  },
  "language_info": {
   "codemirror_mode": {
    "name": "ipython",
    "version": 3
   },
   "file_extension": ".py",
   "mimetype": "text/x-python",
   "name": "python",
   "nbconvert_exporter": "python",
   "pygments_lexer": "ipython3",
   "version": "3.8.5"
  }
 },
 "nbformat": 4,
 "nbformat_minor": 4
}
