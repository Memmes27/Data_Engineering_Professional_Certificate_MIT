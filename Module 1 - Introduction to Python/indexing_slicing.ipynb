{
 "cells": [
  {
   "cell_type": "markdown",
   "metadata": {
    "deletable": false,
    "editable": false,
    "nbgrader": {
     "cell_type": "markdown",
     "checksum": "c3cda1a4275176a5814b30fe64c9e9b3",
     "grade": false,
     "grade_id": "cell-31443a278e222292",
     "locked": true,
     "schema_version": 3,
     "solution": false
    }
   },
   "source": [
    "# Codio Coding Activity 1.4: *Indexing* and *Slicing*\n",
    "\n",
    "### Learning Outcome Addressed\n",
    "\n",
    "- 4. Implement Python *lists, tuples, sets*, and *dictionaries* in a coding environment.\n",
    "\n",
    "\n",
    "\n",
    "## Index:\n",
    "\n",
    "- [Question 1](#Question-1)\n",
    "- [Question 2](#Question-2)\n",
    "- [Question 3](#Question-3)\n",
    "- [Question 4](#Question-4)\n",
    "- [Question 5](#Question-5)\n",
    "- [Question 6](#Question-6)\n",
    "- [Question 7](#Question-7)\n",
    "- [Question 8](#Question-8)\n",
    "- [Question 9](#Question-9)\n",
    "- [Question 10](#Question-10)\n",
    "- [Question 11](#Question-11)\n",
    "- [Question 12](#Question-12)"
   ]
  },
  {
   "cell_type": "markdown",
   "metadata": {
    "deletable": false,
    "editable": false,
    "nbgrader": {
     "cell_type": "markdown",
     "checksum": "8ffd8ce86ed29984d005b2075d689b9a",
     "grade": false,
     "grade_id": "cell-00b5923690a36cbd",
     "locked": true,
     "schema_version": 3,
     "solution": false
    }
   },
   "source": [
    "## *Indexing*\n",
    "\n",
    "Having familiarized yourself with collection data types, it is now time to learn how to access the elements.\n",
    "\n",
    "This operation is called *indexing*, and it can be only be performed on collection data types where the order of the elements matters. Data types with this *property* are described as ordered.\n",
    "\n",
    "*Indexing* can be performed by enclosing the *index* of the element you want to access in square brackets. After accessing \n",
    "the desired element, you can perform various operations on it.\n",
    "\n",
    "It is important to remember that *`Python`* is 0-indexed, meaning that the first elements in an ordered container data type has always *index* 0."
   ]
  },
  {
   "cell_type": "markdown",
   "metadata": {
    "deletable": false,
    "editable": false,
    "nbgrader": {
     "cell_type": "markdown",
     "checksum": "a64846b6fa3b56764738f217efcefbfa",
     "grade": false,
     "grade_id": "cell-8fc18747589d8fa2",
     "locked": true,
     "schema_version": 3,
     "solution": false
    }
   },
   "source": [
    "## *Indexing Lists*\n",
    "\n",
    "*`Python` lists* are ordered, therefore, we can access any element using *indexing*.\n",
    "\n",
    "### Question 1\n",
    "\n",
    "*2 points* \n",
    "\n",
    "Define a *list, `ans1a`*, with values *`1`,`3.14`, `0`*, and *`45`*. Assign the first element of *`ans1a`* to *`ans1b`*."
   ]
  },
  {
   "cell_type": "code",
   "execution_count": 1,
   "metadata": {
    "deletable": false,
    "nbgrader": {
     "cell_type": "code",
     "checksum": "8850a0f7f30bf3304fdcc73353070dfc",
     "grade": false,
     "grade_id": "cell-6067cf9b517c9cf3",
     "locked": false,
     "schema_version": 3,
     "solution": true
    }
   },
   "outputs": [],
   "source": [
    "### GRADED\n",
    "\n",
    "### YOUR SOLUTION HERE\n",
    "ans1a = None\n",
    "ans1b = None\n",
    "\n",
    "# YOUR CODE HERE\n",
    "ans1a = [1, 3.14, 0, 45]\n",
    "ans1b = ans1a[0]"
   ]
  },
  {
   "cell_type": "code",
   "execution_count": null,
   "metadata": {
    "deletable": false,
    "editable": false,
    "nbgrader": {
     "cell_type": "code",
     "checksum": "f8a3145ada6856aab64e4add23d88ccd",
     "grade": true,
     "grade_id": "cell-a37243a1807ad1d0",
     "locked": true,
     "points": 2,
     "schema_version": 3,
     "solution": false
    }
   },
   "outputs": [],
   "source": []
  },
  {
   "cell_type": "markdown",
   "metadata": {
    "deletable": false,
    "editable": false,
    "nbgrader": {
     "cell_type": "markdown",
     "checksum": "6717aa9d86b83fe90e3d1349b5e51301",
     "grade": false,
     "grade_id": "cell-df3c0e3f09d5fabe",
     "locked": true,
     "schema_version": 3,
     "solution": false
    }
   },
   "source": [
    "Elements can also be accessed from right to left by using negative *indexing*. For example, the last element in a *list* can be accessed with:\n",
    "\n",
    "```Python\n",
    "last_elem = list1[-1]\n",
    "```\n",
    "\n",
    "### Question 2\n",
    "*1 point*\n",
    "\n",
    "Consider the *list `ans1a`* again. In the code cell below, assign the value of the second to last element to *`ans2a`* by using negative *indexing*."
   ]
  },
  {
   "cell_type": "code",
   "execution_count": 2,
   "metadata": {
    "deletable": false,
    "nbgrader": {
     "cell_type": "code",
     "checksum": "6c608e69fc8682d6682eb3c3016d4ebb",
     "grade": false,
     "grade_id": "cell-6e4d3a4aacdb91a6",
     "locked": false,
     "schema_version": 3,
     "solution": true
    }
   },
   "outputs": [],
   "source": [
    "### GRADED\n",
    "\n",
    "### YOUR SOLUTION HERE\n",
    "ans2a = None\n",
    "\n",
    "# YOUR CODE HERE\n",
    "ans1a = [1, 3.14, 0, 45]\n",
    "ans2a = ans1a[-2]"
   ]
  },
  {
   "cell_type": "code",
   "execution_count": null,
   "metadata": {
    "deletable": false,
    "editable": false,
    "nbgrader": {
     "cell_type": "code",
     "checksum": "ee57a243e6a529b717af95694e71a88e",
     "grade": true,
     "grade_id": "cell-2d382ee9bc18dcec",
     "locked": true,
     "points": 1,
     "schema_version": 3,
     "solution": false
    }
   },
   "outputs": [],
   "source": []
  },
  {
   "cell_type": "markdown",
   "metadata": {
    "deletable": false,
    "editable": false,
    "nbgrader": {
     "cell_type": "markdown",
     "checksum": "24ecfdc5876575e12c2e637f8986392f",
     "grade": false,
     "grade_id": "cell-7b340dacd641b2e9",
     "locked": true,
     "schema_version": 3,
     "solution": false
    }
   },
   "source": [
    "When you are dealing with nested *lists*, you can access any element by using double *indexing*. The first *index* refers to the outermost *list*, the second one to the elements in the nested *list* you want to access:\n",
    "\n",
    "```Python\n",
    "#nested list\n",
    "nested_list = [[elem1, elem2, elem2], [item1, item2, item]]\n",
    "\n",
    "#accessing the second element in the first nested list\n",
    "a = nested_list[0][1]\n",
    "```\n",
    "### Question 3\n",
    "*2 points*\n",
    "\n",
    "Define a *list, `ans3a`*, where the first elements a *list* with elements *`a`,`b`*, and *`c`* and the second element is a *list* with elements *`z`, `w`*, and *`x`*.\n",
    "\n",
    "Access the second element in the second nested *list* and assign that to *`ans3b`*."
   ]
  },
  {
   "cell_type": "code",
   "execution_count": 4,
   "metadata": {
    "deletable": false,
    "nbgrader": {
     "cell_type": "code",
     "checksum": "805da7f1d41c0682d07aa9e72a7949f9",
     "grade": false,
     "grade_id": "cell-440327a5aed39ff2",
     "locked": false,
     "schema_version": 3,
     "solution": true
    }
   },
   "outputs": [],
   "source": [
    "### GRADED\n",
    "\n",
    "### YOUR SOLUTION HERE\n",
    "ans3a = None\n",
    "ans3b = None\n",
    "\n",
    "# YOUR CODE HERE\n",
    "ans3a = [['a','b','c'],['z','w','x']]\n",
    "ans3b = ans3a[1][1]"
   ]
  },
  {
   "cell_type": "code",
   "execution_count": null,
   "metadata": {
    "deletable": false,
    "editable": false,
    "nbgrader": {
     "cell_type": "code",
     "checksum": "04927ceaab9c5267dcf11165d4eb012e",
     "grade": true,
     "grade_id": "cell-b1ff104699de1277",
     "locked": true,
     "points": 2,
     "schema_version": 3,
     "solution": false
    }
   },
   "outputs": [],
   "source": []
  },
  {
   "cell_type": "markdown",
   "metadata": {
    "deletable": false,
    "editable": false,
    "nbgrader": {
     "cell_type": "markdown",
     "checksum": "5fda5afc5c4b287dad99151a9a347495",
     "grade": false,
     "grade_id": "cell-334c2af8bc4a12dc",
     "locked": true,
     "schema_version": 3,
     "solution": false
    }
   },
   "source": [
    "## *Indexing Tuples*\n",
    "\n",
    "Like *lists, tuples* are ordered and an element can be accessed following the same rules.\n",
    "\n",
    "### Question 4\n",
    "*1 point*\n",
    "\n",
    "Define a *tuple, `ans4a`*, with elements  *`Python`,`Hello`*, and *`world`*.\n",
    "\n",
    "Access the second element and assign it to *`ans4b`*."
   ]
  },
  {
   "cell_type": "code",
   "execution_count": 7,
   "metadata": {
    "deletable": false,
    "nbgrader": {
     "cell_type": "code",
     "checksum": "a03ff2aca90cfbcc73d284a4a7fe18d8",
     "grade": false,
     "grade_id": "cell-e9f330bd86d8bf32",
     "locked": false,
     "schema_version": 3,
     "solution": true
    }
   },
   "outputs": [],
   "source": [
    "### GRADED\n",
    "\n",
    "### YOUR SOLUTION HERE\n",
    "ans4a = None\n",
    "ans4b = None\n",
    "\n",
    "# YOUR CODE HERE\n",
    "ans4a = tuple(['Python', 'Hello', 'world'])\n",
    "ans4b = ans4a[1]"
   ]
  },
  {
   "cell_type": "code",
   "execution_count": null,
   "metadata": {
    "deletable": false,
    "editable": false,
    "nbgrader": {
     "cell_type": "code",
     "checksum": "611aafac4569220cf43ce7be2ca4d973",
     "grade": true,
     "grade_id": "cell-4bc9e47115825fb5",
     "locked": true,
     "points": 1,
     "schema_version": 3,
     "solution": false
    }
   },
   "outputs": [],
   "source": []
  },
  {
   "cell_type": "markdown",
   "metadata": {
    "deletable": false,
    "editable": false,
    "nbgrader": {
     "cell_type": "markdown",
     "checksum": "9113be0c24f86f68aa2e8f3826150ced",
     "grade": false,
     "grade_id": "cell-856e04dade010957",
     "locked": true,
     "schema_version": 3,
     "solution": false
    }
   },
   "source": [
    "### Question 5\n",
    "*1 point*\n",
    "\n",
    "Define a *tuple, `ans5a`*, with first element equal to *`Python`* and second element a *list* with elements *`Data`*, and *`engineering`*.\n",
    "\n",
    "Access the value *`Data`* and assign it to *`ans5b`*."
   ]
  },
  {
   "cell_type": "code",
   "execution_count": 10,
   "metadata": {
    "deletable": false,
    "nbgrader": {
     "cell_type": "code",
     "checksum": "bab0fced4c634c9acccfa2f259772327",
     "grade": false,
     "grade_id": "cell-93050c5f1a270dc9",
     "locked": false,
     "schema_version": 3,
     "solution": true
    }
   },
   "outputs": [],
   "source": [
    "### GRADED\n",
    "\n",
    "### YOUR SOLUTION HERE\n",
    "ans5a = None\n",
    "ans5b = None\n",
    "\n",
    "# YOUR CODE HERE\n",
    "ans5a = tuple(['Python', ['Data', 'engineering']])\n",
    "ans5b = ans5a[1][0]"
   ]
  },
  {
   "cell_type": "code",
   "execution_count": null,
   "metadata": {
    "deletable": false,
    "editable": false,
    "nbgrader": {
     "cell_type": "code",
     "checksum": "d68d28e142649e9000ba458e831b7cbf",
     "grade": true,
     "grade_id": "cell-ddb0127be1f65fc1",
     "locked": true,
     "points": 1,
     "schema_version": 3,
     "solution": false
    }
   },
   "outputs": [],
   "source": []
  },
  {
   "cell_type": "markdown",
   "metadata": {
    "deletable": false,
    "editable": false,
    "nbgrader": {
     "cell_type": "markdown",
     "checksum": "8f3dc6fb87e654fd1643d0db34502055",
     "grade": false,
     "grade_id": "cell-3973d122d30164ef",
     "locked": true,
     "schema_version": 3,
     "solution": false
    }
   },
   "source": [
    "## *Indexing Sets*\n",
    "\n",
    "\n",
    "### Question 6\n",
    "*1 point*\n",
    "\n",
    "Are *sets* ordered? Assign your answer as a *string* (*`yes`* or *`no`*) to *`ans6`*.\n",
    "\n"
   ]
  },
  {
   "cell_type": "code",
   "execution_count": 11,
   "metadata": {
    "deletable": false,
    "nbgrader": {
     "cell_type": "code",
     "checksum": "9180d18102756c3d7a760f22a484fd2a",
     "grade": false,
     "grade_id": "cell-40d56fdee4ea6c25",
     "locked": false,
     "schema_version": 3,
     "solution": true
    }
   },
   "outputs": [],
   "source": [
    "### GRADED\n",
    "\n",
    "### YOUR SOLUTION HERE\n",
    "ans6 = None\n",
    "\n",
    "# YOUR CODE HERE\n",
    "ans6 = 'no'"
   ]
  },
  {
   "cell_type": "code",
   "execution_count": null,
   "metadata": {
    "deletable": false,
    "editable": false,
    "nbgrader": {
     "cell_type": "code",
     "checksum": "72260d9085ea4de4e121eba0ad89174f",
     "grade": true,
     "grade_id": "cell-6c49256e9a23ff64",
     "locked": true,
     "points": 1,
     "schema_version": 3,
     "solution": false
    }
   },
   "outputs": [],
   "source": []
  },
  {
   "cell_type": "markdown",
   "metadata": {
    "deletable": false,
    "editable": false,
    "nbgrader": {
     "cell_type": "markdown",
     "checksum": "3f0e871d0c56fa4be4d6c8900e710b0b",
     "grade": false,
     "grade_id": "cell-39f7d74bdfbda0df",
     "locked": true,
     "schema_version": 3,
     "solution": false
    }
   },
   "source": [
    "## *Indexing Dictionaries*\n",
    "\n",
    "Like *sets, `Python` dictionaries* are unordered. This means that you cannot access a value using numerical *indexes* as shown above for *lists* and *tuples*.\n",
    "\n",
    "However, a value corresponding to a certain *key* can be specified by using its corresponding *key*.\n",
    "\n",
    "### Question 7\n",
    "*2 points*\n",
    "\n",
    "Define a *dictionary, `ans7a`*, with *keys* *`Doctor`, `Clinic`*, and *`Specialization`* and corresponding values *`Dr. Smith`, `RUH`*, and *`Cardiology`*.\n",
    "\n",
    "Assign the value of the last *key* to *`ans7b`*."
   ]
  },
  {
   "cell_type": "code",
   "execution_count": 13,
   "metadata": {
    "deletable": false,
    "nbgrader": {
     "cell_type": "code",
     "checksum": "9f3ed3c8d6bdbdddb70181f1914474da",
     "grade": false,
     "grade_id": "cell-ae094ed7b59f74d8",
     "locked": false,
     "schema_version": 3,
     "solution": true
    }
   },
   "outputs": [],
   "source": [
    "### GRADED\n",
    "\n",
    "### YOUR SOLUTION HERE\n",
    "ans7a = None\n",
    "ans7b = None\n",
    "\n",
    "# YOUR CODE HERE\n",
    "ans7a = {'Doctor':'Dr. Smith', 'Clinic':'RUH', 'Specialization':'Cardiology'}\n",
    "ans7b = ans7a['Specialization']"
   ]
  },
  {
   "cell_type": "code",
   "execution_count": null,
   "metadata": {
    "deletable": false,
    "editable": false,
    "nbgrader": {
     "cell_type": "code",
     "checksum": "daca17019ebd3fe90c549e311aa3888e",
     "grade": true,
     "grade_id": "cell-2538415c3b890fbc",
     "locked": true,
     "points": 2,
     "schema_version": 3,
     "solution": false
    }
   },
   "outputs": [],
   "source": []
  },
  {
   "cell_type": "markdown",
   "metadata": {
    "deletable": false,
    "editable": false,
    "nbgrader": {
     "cell_type": "markdown",
     "checksum": "c2f8f6e627642a00256ce988c5712e5b",
     "grade": false,
     "grade_id": "cell-0dbdf59021cd4c36",
     "locked": true,
     "schema_version": 3,
     "solution": false
    }
   },
   "source": [
    "## *Slicing*\n",
    "\n",
    "*Slicing* is *indexing* syntax that extracts a portion from an ordered collection data type. \n",
    "\n",
    "If *`a`* is a *list*, then *`a[m:n]`* returns the portion of *`a`*:\n",
    "\n",
    "- Starting with position *m*\n",
    "- Up to but not including *n*\n",
    "\n",
    "### Question 8\n",
    "*2 points*\n",
    "\n",
    "Consider a *list, `ans8a`*, with integer elements from 1 to 8.\n",
    "\n",
    "Assign the value of of the first six elements to *`ans8b`*."
   ]
  },
  {
   "cell_type": "code",
   "execution_count": 23,
   "metadata": {
    "deletable": false,
    "nbgrader": {
     "cell_type": "code",
     "checksum": "3984e48e22862fa4cc01211d6429dfe3",
     "grade": false,
     "grade_id": "cell-57af90394dc0daf2",
     "locked": false,
     "schema_version": 3,
     "solution": true
    }
   },
   "outputs": [],
   "source": [
    "### GRADED\n",
    "\n",
    "### YOUR SOLUTION HERE\n",
    "ans8a = None\n",
    "ans8b = None\n",
    "\n",
    "# YOUR CODE HERE\n",
    "ans8a = list(range(1,9))\n",
    "ans8b = ans8a[:6]"
   ]
  },
  {
   "cell_type": "code",
   "execution_count": null,
   "metadata": {
    "deletable": false,
    "editable": false,
    "nbgrader": {
     "cell_type": "code",
     "checksum": "9084bcf067cf0b27d72c2d3b66833d7b",
     "grade": true,
     "grade_id": "cell-777bcbb443c61d3a",
     "locked": true,
     "points": 2,
     "schema_version": 3,
     "solution": false
    }
   },
   "outputs": [],
   "source": []
  },
  {
   "cell_type": "markdown",
   "metadata": {
    "deletable": false,
    "editable": false,
    "nbgrader": {
     "cell_type": "markdown",
     "checksum": "97c39e56c6dbb7d0a0ca555554a554fe",
     "grade": false,
     "grade_id": "cell-91bef781e8b53db9",
     "locked": true,
     "schema_version": 3,
     "solution": false
    }
   },
   "source": [
    "Because *tuples* are ordered, *slicing* can be also performed on a *tuple*.\n",
    "\n",
    "### Question 9\n",
    "*2 points*\n",
    "\n",
    "Consider a *tuple, `ans9a`*, with *string* elements in alphabetical order from *`a`* to *`i`*.\n",
    "\n",
    "Assign the value of the four to last of *`ans9a`* elements to *`ans9b`*.\n",
    "\n",
    "Use negative *indexing*.\n",
    "\n"
   ]
  },
  {
   "cell_type": "code",
   "execution_count": 26,
   "metadata": {
    "deletable": false,
    "nbgrader": {
     "cell_type": "code",
     "checksum": "f22d29fa8c8ba669a8997ef68b784ff4",
     "grade": false,
     "grade_id": "cell-7e6087a272e600c4",
     "locked": false,
     "schema_version": 3,
     "solution": true
    }
   },
   "outputs": [
    {
     "name": "stdout",
     "output_type": "stream",
     "text": [
      "('a', 'b', 'c', 'd', 'e', 'f', 'g', 'h', 'i') ('f', 'g', 'h', 'i')\n"
     ]
    }
   ],
   "source": [
    "### GRADED\n",
    "\n",
    "### YOUR SOLUTION HERE\n",
    "ans9a = None\n",
    "ans9b = None\n",
    "# YOUR CODE HERE\n",
    "ans9a = tuple(['a', 'b', 'c', 'd', 'e', 'f', 'g', 'h', 'i'])\n",
    "ans9b = ans9a[-4:]\n",
    "print(ans9a, ans9b)"
   ]
  },
  {
   "cell_type": "code",
   "execution_count": null,
   "metadata": {
    "deletable": false,
    "editable": false,
    "nbgrader": {
     "cell_type": "code",
     "checksum": "b034b66bc01caf26be63a9794b7d4fa0",
     "grade": true,
     "grade_id": "cell-11eb78552a121c51",
     "locked": true,
     "points": 2,
     "schema_version": 3,
     "solution": false
    }
   },
   "outputs": [],
   "source": []
  },
  {
   "cell_type": "markdown",
   "metadata": {
    "deletable": false,
    "editable": false,
    "nbgrader": {
     "cell_type": "markdown",
     "checksum": "6da5f9d1093261545e62723fc16fcf6d",
     "grade": false,
     "grade_id": "cell-23443ea02dc97fe9",
     "locked": true,
     "schema_version": 3,
     "solution": false
    }
   },
   "source": [
    "Of course, you cannot perform *slicing* on *sets* and *dictionaries* because they are not ordered."
   ]
  },
  {
   "cell_type": "markdown",
   "metadata": {
    "deletable": false,
    "editable": false,
    "nbgrader": {
     "cell_type": "markdown",
     "checksum": "f624b3ec31f72416c837d2a56054a58a",
     "grade": false,
     "grade_id": "cell-995fd0e78920d5ce",
     "locked": true,
     "schema_version": 3,
     "solution": false
    }
   },
   "source": [
    "###### Strides\n",
    "\n",
    "A *stride* can be added to your *slice* notation. Using an additional `:` and a third *index* designates a *stride* (also called a step) in your *slice* notation. A *stride* can be either positive or negative.\n",
    "\n",
    "For example, to extract every other element in a *list* you would write:\n",
    "\n",
    "```Python\n",
    "my_list = [1,2,3,4,5,6]\n",
    "even_elements = my_list[1:6:2]\n",
    "```\n",
    "\n",
    "which returns *`[2,4,6]`*."
   ]
  },
  {
   "cell_type": "markdown",
   "metadata": {
    "deletable": false,
    "editable": false,
    "nbgrader": {
     "cell_type": "markdown",
     "checksum": "cac3549088af0f8b990db1d5d951f957",
     "grade": false,
     "grade_id": "cell-cad9dd499c964f84",
     "locked": true,
     "schema_version": 3,
     "solution": false
    }
   },
   "source": [
    "### Question 10\n",
    "*3 points*\n",
    "\n",
    "Consider a *list, `ans10a`*, with *integer* elements from `1` to `10`.\n",
    "\n",
    "Extract all the even numbers in *`ans10a`* and assign them as elements to a new *list `ans10b`*.\n",
    "\n",
    "Extract all the even elements in *`ans10a`* in reversed order and assign them as elements to a new *list `ans10c`*.\n",
    "\n",
    "Extract all the odd elements in *`ans10a`* in reversed order and assign them as elements to a new *list `ans10d`*."
   ]
  },
  {
   "cell_type": "code",
   "execution_count": 42,
   "metadata": {
    "deletable": false,
    "nbgrader": {
     "cell_type": "code",
     "checksum": "b95cf997b47b81abc600441a7ab7a09c",
     "grade": false,
     "grade_id": "cell-62745032639dea1e",
     "locked": false,
     "schema_version": 3,
     "solution": true
    }
   },
   "outputs": [
    {
     "data": {
      "text/plain": [
       "[9, 7, 5, 3, 1]"
      ]
     },
     "execution_count": 42,
     "metadata": {},
     "output_type": "execute_result"
    }
   ],
   "source": [
    "### GRADED\n",
    "\n",
    "### YOUR SOLUTION HERE\n",
    "ans10a = list(range(1,11))\n",
    "ans10b = ans10a[1:11:2]\n",
    "ans10c = ans10a[-1::-2]\n",
    "ans10d = ans10a[-2::-2]\n",
    "\n",
    "# YOUR CODE HERE\n",
    "ans10d"
   ]
  },
  {
   "cell_type": "code",
   "execution_count": null,
   "metadata": {
    "deletable": false,
    "editable": false,
    "nbgrader": {
     "cell_type": "code",
     "checksum": "1378a29037410416cd9c2628d49c157e",
     "grade": true,
     "grade_id": "cell-6ece19d6dc997b4f",
     "locked": true,
     "points": 3,
     "schema_version": 3,
     "solution": false
    }
   },
   "outputs": [],
   "source": []
  },
  {
   "cell_type": "markdown",
   "metadata": {
    "deletable": false,
    "editable": false,
    "nbgrader": {
     "cell_type": "markdown",
     "checksum": "b7e207972d6a8507b082c14f719e1ac9",
     "grade": false,
     "grade_id": "cell-5a7b98e7e4794e53",
     "locked": true,
     "schema_version": 3,
     "solution": false
    }
   },
   "source": [
    "### Question 11\n",
    "*2 points*\n",
    "\n",
    "Consider a *list, `ans11a`*, with elements *`['spam', 'egg', 'bacon', 'tomato', 'ham', 'lobster']`*.\n",
    "\n",
    "Revert the elements in the *list* using *striding*. Assign the result to *`ans11b`*."
   ]
  },
  {
   "cell_type": "code",
   "execution_count": 49,
   "metadata": {
    "deletable": false,
    "nbgrader": {
     "cell_type": "code",
     "checksum": "d7c1eca15446a3a0592c827d29003039",
     "grade": false,
     "grade_id": "cell-c1216698ec88c892",
     "locked": false,
     "schema_version": 3,
     "solution": true
    }
   },
   "outputs": [
    {
     "data": {
      "text/plain": [
       "['lobster', 'ham', 'tomato', 'bacon', 'egg', 'spam']"
      ]
     },
     "execution_count": 49,
     "metadata": {},
     "output_type": "execute_result"
    }
   ],
   "source": [
    "### GRADED\n",
    "\n",
    "### YOUR SOLUTION HERE\n",
    "ans11a = None\n",
    "ans11b = None\n",
    "\n",
    "# YOUR CODE HERE\n",
    "ans11a = ['spam', 'egg', 'bacon', 'tomato', 'ham', 'lobster']\n",
    "ans11b = ans11a[::-1]\n",
    "ans11b"
   ]
  },
  {
   "cell_type": "code",
   "execution_count": null,
   "metadata": {
    "deletable": false,
    "editable": false,
    "nbgrader": {
     "cell_type": "code",
     "checksum": "a6ba5128998eb51f34f80b33258c8bf3",
     "grade": true,
     "grade_id": "cell-96b1f7403f1a0708",
     "locked": true,
     "points": 2,
     "schema_version": 3,
     "solution": false
    }
   },
   "outputs": [],
   "source": []
  },
  {
   "cell_type": "markdown",
   "metadata": {},
   "source": [
    "### Question 12\n",
    "*1 point*\n",
    "\n",
    "Consider a *tuple, `ans12a`*, with the same elements as *`ans11a`* defined above.\n",
    "\n",
    "Extract every third element in the *tuple* using *striding*. Assign the result to *`ans12b`*."
   ]
  },
  {
   "cell_type": "code",
   "execution_count": 54,
   "metadata": {
    "deletable": false,
    "nbgrader": {
     "cell_type": "code",
     "checksum": "b89c1cd7e1635d91ac590c61d0b931d0",
     "grade": false,
     "grade_id": "cell-3c872c01d8eb5c15",
     "locked": false,
     "schema_version": 3,
     "solution": true
    }
   },
   "outputs": [
    {
     "data": {
      "text/plain": [
       "('bacon', 'lobster')"
      ]
     },
     "execution_count": 54,
     "metadata": {},
     "output_type": "execute_result"
    }
   ],
   "source": [
    "### GRADED\n",
    "\n",
    "### YOUR SOLUTION HERE\n",
    "ans12a = None\n",
    "ans12b = None\n",
    "\n",
    "# YOUR CODE HERE\n",
    "ans11a = ['spam', 'egg', 'bacon', 'tomato', 'ham', 'lobster']\n",
    "ans12a = tuple(ans11a)\n",
    "ans12b = ans12a[2::3]\n",
    "ans12b"
   ]
  },
  {
   "cell_type": "code",
   "execution_count": null,
   "metadata": {
    "deletable": false,
    "editable": false,
    "nbgrader": {
     "cell_type": "code",
     "checksum": "9f231d586e81e17115eb400d858d29e9",
     "grade": true,
     "grade_id": "cell-8e9271352d836bd4",
     "locked": true,
     "points": 1,
     "schema_version": 3,
     "solution": false
    }
   },
   "outputs": [],
   "source": []
  },
  {
   "cell_type": "code",
   "execution_count": null,
   "metadata": {},
   "outputs": [],
   "source": []
  }
 ],
 "metadata": {
  "kernelspec": {
   "display_name": "Python 3",
   "language": "python",
   "name": "python3"
  },
  "language_info": {
   "codemirror_mode": {
    "name": "ipython",
    "version": 3
   },
   "file_extension": ".py",
   "mimetype": "text/x-python",
   "name": "python",
   "nbconvert_exporter": "python",
   "pygments_lexer": "ipython3",
   "version": "3.6.9"
  }
 },
 "nbformat": 4,
 "nbformat_minor": 4
}
