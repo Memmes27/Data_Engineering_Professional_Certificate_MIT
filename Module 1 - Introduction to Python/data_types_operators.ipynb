{
 "cells": [
  {
   "cell_type": "markdown",
   "metadata": {
    "deletable": false,
    "editable": false,
    "nbgrader": {
     "checksum": "5d15fca987d3876158b9beede7358ebd",
     "grade": false,
     "grade_id": "cell-db6d78c6b211780d",
     "locked": true,
     "schema_version": 1,
     "solution": false
    }
   },
   "source": [
    "# Codio Coding Activity 1.1: Data Types and Operators\n",
    "\n",
    "### Learning Outcome Addressed\n",
    "\n",
    "- 2. Implement Python basic data types in a coding environment.\n",
    " \n",
    "\n"
   ]
  },
  {
   "cell_type": "markdown",
   "metadata": {
    "deletable": false,
    "editable": false,
    "nbgrader": {
     "checksum": "27ebae038620a952fc7bee6e29067672",
     "grade": false,
     "grade_id": "cell-d1a29ca2b5c7bb6f",
     "locked": true,
     "schema_version": 1,
     "solution": false
    }
   },
   "source": [
    "\n",
    "\n",
    "## Index:\n",
    "\n",
    "- [Question 1](#Question-1)\n",
    "- [Question 2](#Question-2)\n",
    "- [Question 3](#Question-3)\n",
    "- [Question 4](#Question-4)\n",
    "- [Question 5](#Question-5)\n",
    "- [Question 6](#Question-6)\n",
    "- [Question 7](#Question-7)\n",
    "- [Question 8](#Question-8)\n",
    "- [Question 9](#Question-9)\n",
    "- [Question 10](#Question-10)\n",
    "- [Question 11](#Question-11)\n",
    "- [Question 12](#Question-12)\n"
   ]
  },
  {
   "cell_type": "markdown",
   "metadata": {
    "deletable": false,
    "editable": false,
    "nbgrader": {
     "checksum": "bacca763bc2c9894bb8059c805927f9c",
     "grade": false,
     "grade_id": "cell-72de1825f1a068a7",
     "locked": true,
     "schema_version": 1,
     "solution": false
    }
   },
   "source": [
    "### Variable Assignment\n",
    "\n",
    "\n",
    "\n",
    "A variable as a name attached to a particular object.\n",
    "\n",
    "To create a variable in *`Python`*, we can just assign it a value and then start using it. Assignment is done with the assignment operator (*`=`*).\n",
    "\n",
    "Officially, variable names in *`Python`* can be any length and can consist of uppercase and lowercase letters, digits, and the underscore character `_`. An additional restriction is that, although a variable name can contain digits, the first character of a variable name cannot be a digit.\n",
    "\n",
    "\n",
    "### Strings, Floats, Integers, and Booleans\n",
    "\n",
    "In the first part of this assignment, we will be testing your knowledge of the basic *`Python`* data types: *strings, floats, integers*, and *Booleans*."
   ]
  },
  {
   "cell_type": "markdown",
   "metadata": {
    "deletable": false,
    "editable": false,
    "nbgrader": {
     "checksum": "4a73c85ef546556d679e6436348f76ef",
     "grade": false,
     "grade_id": "cell-f4d5143c8bc3826f",
     "locked": true,
     "schema_version": 1,
     "solution": false
    }
   },
   "source": [
    "### Python Strings\n",
    "\n",
    "A *string* is a sequence of characters.\n",
    "\n",
    "*Strings* in *`Python`* can be created by enclosing characters inside a single quote or double-quotes. \n",
    "\n",
    "To measure the length of a *string*, we can use the *`len()`*function.\n",
    "\n",
    "[Back to top](#Index:) \n",
    "\n",
    "### Question 1\n",
    "*1 point*\n",
    "\n",
    "In the code cell below, assign the *string `Welcome to Week 1 of the course`* to the variable *`ans1a`*. \n",
    "\n",
    "Assign the length of *`ans1a`* to *`ans1b`*.\n"
   ]
  },
  {
   "cell_type": "code",
   "execution_count": 2,
   "metadata": {
    "deletable": false,
    "nbgrader": {
     "checksum": "ac0525c09f69ea61e8c7f8155aa7b416",
     "grade": false,
     "grade_id": "cell-e70d74ea620739d1",
     "locked": false,
     "schema_version": 1,
     "solution": true
    }
   },
   "outputs": [],
   "source": [
    "### GRADED\n",
    "\n",
    "### YOUR SOLUTION HERE\n",
    "ans1a = None\n",
    "ans1b = None\n",
    "\n",
    "# YOUR CODE HERE\n",
    "ans1a = \"Welcome to Week 1 of the course\"\n",
    "ans1b = len(ans1a)"
   ]
  },
  {
   "cell_type": "code",
   "execution_count": null,
   "metadata": {
    "deletable": false,
    "editable": false,
    "nbgrader": {
     "checksum": "0255e10ed692a1ee7a4dfbc013368989",
     "grade": true,
     "grade_id": "cell-6e9985030bc2ecfb",
     "locked": true,
     "points": 1,
     "schema_version": 1,
     "solution": false
    }
   },
   "outputs": [],
   "source": []
  },
  {
   "cell_type": "markdown",
   "metadata": {
    "deletable": false,
    "editable": false,
    "nbgrader": {
     "checksum": "519a09566cc3db82942d5024ad73b7a9",
     "grade": false,
     "grade_id": "cell-21dbd267de7947e3",
     "locked": true,
     "schema_version": 1,
     "solution": false
    }
   },
   "source": [
    "### Concatenation of Two or More Strings\n",
    "\n",
    "Joining two or more *strings* into a single one is called concatenation.\n",
    "\n",
    "The *`+`* operator does this in *`Python`*. Simply writing two *string* literals together also concatenates them.\n",
    "\n",
    "The *`*`* operator can be used to repeat the *string* for a given number of times."
   ]
  },
  {
   "cell_type": "markdown",
   "metadata": {
    "deletable": false,
    "editable": false,
    "nbgrader": {
     "checksum": "921ca395a76cf1fec742a824836aea10",
     "grade": false,
     "grade_id": "cell-838d6d395eeeb7de",
     "locked": true,
     "schema_version": 1,
     "solution": false
    }
   },
   "source": [
    "[Back to top](#Index:) \n",
    "\n",
    "### Question 2\n",
    "*1 point*\n",
    "\n",
    "In the code cell below, assign the *string `Hello`* to *`ans2a`* and *` world!`* to *`ans2b`*. Concatenate the two *strings* into a single one: *`ans2c`*.\n",
    "\n",
    "\n",
    "**HINT:** Make sure to add a *string* with a space between the words `Hello` and `world!`."
   ]
  },
  {
   "cell_type": "code",
   "execution_count": 3,
   "metadata": {
    "deletable": false,
    "nbgrader": {
     "checksum": "c495d026327b2a02c42b5c4e2c00d254",
     "grade": false,
     "grade_id": "cell-3e8ce7ec7c053739",
     "locked": false,
     "schema_version": 1,
     "solution": true
    }
   },
   "outputs": [],
   "source": [
    "### GRADED\n",
    "\n",
    "### YOUR SOLUTION HERE\n",
    "ans2a = None\n",
    "ans2b = None\n",
    "ans2c = None\n",
    "\n",
    "# YOUR CODE HERE\n",
    "ans2a = \"Hello \"\n",
    "ans2b = \"World\"\n",
    "ans2c = ans2a + ans2b"
   ]
  },
  {
   "cell_type": "code",
   "execution_count": null,
   "metadata": {
    "deletable": false,
    "editable": false,
    "nbgrader": {
     "checksum": "a87ee1ccb3ef70581dd5e4af982a2941",
     "grade": true,
     "grade_id": "cell-9f5f254689dda24e",
     "locked": true,
     "points": 1,
     "schema_version": 1,
     "solution": false
    }
   },
   "outputs": [],
   "source": []
  },
  {
   "cell_type": "markdown",
   "metadata": {
    "deletable": false,
    "editable": false,
    "nbgrader": {
     "checksum": "739410e95cc85c1f5b7b7f0063bf2447",
     "grade": false,
     "grade_id": "cell-9d15adfc62ec1cf3",
     "locked": true,
     "schema_version": 1,
     "solution": false
    }
   },
   "source": [
    "[Back to top](#Index:) \n",
    "\n",
    "### Question 3\n",
    "*1 point*\n",
    "\n",
    "In the code cell below, assign the *string `Python`* to *`ans3a`*. Concatenate the *string* that contains the word *`ans3a`* seven times. Assign this to *`ans3b`*."
   ]
  },
  {
   "cell_type": "code",
   "execution_count": 4,
   "metadata": {
    "deletable": false,
    "nbgrader": {
     "checksum": "e539a578d5eab7f35b2d8da27fdf6291",
     "grade": false,
     "grade_id": "cell-5a9c5f6c18060cda",
     "locked": false,
     "schema_version": 1,
     "solution": true
    }
   },
   "outputs": [],
   "source": [
    "### GRADED\n",
    "\n",
    "### YOUR SOLUTION HERE\n",
    "ans3a = None\n",
    "ans3b = None\n",
    "\n",
    "# YOUR CODE HERE\n",
    "ans3a = \"Python\"\n",
    "ans3b = ans3a * 7"
   ]
  },
  {
   "cell_type": "code",
   "execution_count": null,
   "metadata": {
    "deletable": false,
    "editable": false,
    "nbgrader": {
     "checksum": "45e19c4d4ca66c93b55c37a90dee6621",
     "grade": true,
     "grade_id": "cell-7cc147f865ab734c",
     "locked": true,
     "points": 1,
     "schema_version": 1,
     "solution": false
    }
   },
   "outputs": [],
   "source": []
  },
  {
   "cell_type": "markdown",
   "metadata": {
    "deletable": false,
    "editable": false,
    "nbgrader": {
     "checksum": "71c2c9385f044711dda7b3f4ca718bc6",
     "grade": false,
     "grade_id": "cell-f7c87f0de9d2307a",
     "locked": true,
     "schema_version": 1,
     "solution": false
    }
   },
   "source": [
    "### Python Numbers\n",
    "\n",
    "There are three numeric types in Python:\n",
    "\n",
    "- *integers*\n",
    "- *floats*\n",
    "- *complex*\n",
    "\n",
    "An *`int`*, or *integer*, is a whole number, positive or negative, without decimals, of unlimited length.\n",
    "\n",
    "[Back to top](#Index:) \n",
    "\n",
    "### Question 4\n",
    "*2 points*\n",
    "\n",
    "In the code cell below, assign the *integer* *`3946`* to *`ans4a`*. Next, multiply *`ans4a`* by 23 and assign the value to *`ans4b`*. Is *`ans4b`* still an *integer*? Assign your answer (*`yes`* or *`no`*) as a *string* to *`ans4c`*."
   ]
  },
  {
   "cell_type": "code",
   "execution_count": 5,
   "metadata": {
    "deletable": false,
    "nbgrader": {
     "checksum": "6febf7d264db1d50eccf2ebcfac3a9d8",
     "grade": false,
     "grade_id": "cell-54807e5b9e961928",
     "locked": false,
     "schema_version": 1,
     "solution": true
    }
   },
   "outputs": [],
   "source": [
    "### GRADED\n",
    "\n",
    "### YOUR SOLUTION HERE\n",
    "ans4a = None\n",
    "ans4b = None\n",
    "ans4c = None\n",
    "\n",
    "# YOUR CODE HERE\n",
    "ans4a = 3946\n",
    "ans4b = ans4a * 23\n",
    "ans4c = 'yes' if isinstance(ans4b, int) else 'no'"
   ]
  },
  {
   "cell_type": "code",
   "execution_count": null,
   "metadata": {
    "deletable": false,
    "editable": false,
    "nbgrader": {
     "checksum": "177e9dda44592463ce6bdcea286a338c",
     "grade": true,
     "grade_id": "cell-a42d63f2d11f4981",
     "locked": true,
     "points": 2,
     "schema_version": 1,
     "solution": false
    }
   },
   "outputs": [],
   "source": []
  },
  {
   "cell_type": "markdown",
   "metadata": {
    "deletable": false,
    "editable": false,
    "nbgrader": {
     "checksum": "2710b25a693cc41e956b221fb6161cfb",
     "grade": false,
     "grade_id": "cell-3163b71a9f3aa76a",
     "locked": true,
     "schema_version": 1,
     "solution": false
    }
   },
   "source": [
    "*Floats*, or floating point numbers, are numbers, positive or negative, containing one or more decimals. You can read more about what a floating point number is [here](https://en.wikipedia.org/wiki/Floating-point_arithmetic).\n",
    "\n",
    "**Type Conversion**\n",
    "\n",
    "You can convert from one type to another with the *`int()`* and *`float()`* functions. This operation is also called casting.\n",
    "\n",
    "\n",
    "[Back to top](#Index:) \n",
    "\n",
    "### Question 5\n",
    "*2 points*\n",
    "\n",
    "In the code cell below, assign the value `365.88` to *`ans5a`*. Next, assign the value of *`ans5a`* to *`ans5b`* and cast the value to an *integer*. Before doing so, please think about the result you expect for *`ans5b`*. Print *`ans5a`* and *`ans5b`* to screen to verify your guess."
   ]
  },
  {
   "cell_type": "code",
   "execution_count": 6,
   "metadata": {
    "deletable": false,
    "nbgrader": {
     "checksum": "af4ec8d0a9bc101872581b7b095a8ecb",
     "grade": false,
     "grade_id": "cell-ae554855a150d447",
     "locked": false,
     "schema_version": 1,
     "solution": true
    }
   },
   "outputs": [
    {
     "name": "stdout",
     "output_type": "stream",
     "text": [
      "365.88 365\n"
     ]
    }
   ],
   "source": [
    "### GRADED\n",
    "\n",
    "### YOUR SOLUTION HERE\n",
    "ans5a = None\n",
    "ans5b = None\n",
    "\n",
    "# YOUR CODE HERE\n",
    "ans5a = 365.88\n",
    "ans5b = int(ans5a)\n",
    "print(ans5a, ans5b)"
   ]
  },
  {
   "cell_type": "code",
   "execution_count": null,
   "metadata": {
    "deletable": false,
    "editable": false,
    "nbgrader": {
     "checksum": "94a97f3f11b48dc184379e53e317c4a9",
     "grade": true,
     "grade_id": "cell-a69a937542a41b4b",
     "locked": true,
     "points": 2,
     "schema_version": 1,
     "solution": false
    }
   },
   "outputs": [],
   "source": []
  },
  {
   "cell_type": "markdown",
   "metadata": {
    "deletable": false,
    "editable": false,
    "nbgrader": {
     "checksum": "01d783e05929c9b9562559fbeb21891f",
     "grade": false,
     "grade_id": "cell-b6485ec86855df0a",
     "locked": true,
     "schema_version": 1,
     "solution": false
    }
   },
   "source": [
    "*Booleans* represent one of two values: *`True`* or *`False`*.\n",
    "\n",
    "For example, *Booleans* are used to compare two values: the expression is evaluated and *`Python`* returns the *Boolean* answer.\n",
    "\n",
    "The values of  *`True`* or *`False`* are also interpreted by *`Python`* as *`1`* or *`0`*, respectively. Therefore, simple arithmetic operations between *Booleans* return a result based on the values above.\n",
    "\n",
    "\n",
    "[Back to top](#Index:) \n",
    "\n",
    "### Question 6\n",
    "*2 points*\n",
    "\n",
    "In the code cell below, assign the *Boolean* value for the expression *`10 < 9`* to *`ans6a`*. \n",
    "\n",
    "Next, assign the value of *`True` + `True` + `False`* to *`ans6b`*. Print *`ans6b`* to screen to verify your guess."
   ]
  },
  {
   "cell_type": "code",
   "execution_count": 7,
   "metadata": {
    "deletable": false,
    "nbgrader": {
     "checksum": "88d212b1ed18cc76395e2fdb2ca653fc",
     "grade": false,
     "grade_id": "cell-0015a58dff090c5c",
     "locked": false,
     "schema_version": 1,
     "solution": true
    }
   },
   "outputs": [
    {
     "name": "stdout",
     "output_type": "stream",
     "text": [
      "2\n"
     ]
    }
   ],
   "source": [
    "### GRADED\n",
    "\n",
    "### YOUR SOLUTION HERE\n",
    "ans6a = None\n",
    "ans6b = None\n",
    "\n",
    "# YOUR CODE HERE\n",
    "ans6a = 10 < 9\n",
    "ans6b = True + True + False\n",
    "print(ans6b)"
   ]
  },
  {
   "cell_type": "code",
   "execution_count": null,
   "metadata": {
    "deletable": false,
    "editable": false,
    "nbgrader": {
     "checksum": "24616a959a7aa7726cae9b74ae368023",
     "grade": true,
     "grade_id": "cell-7be990847bd99d39",
     "locked": true,
     "points": 2,
     "schema_version": 1,
     "solution": false
    }
   },
   "outputs": [],
   "source": []
  },
  {
   "cell_type": "markdown",
   "metadata": {
    "deletable": false,
    "editable": false,
    "nbgrader": {
     "checksum": "81642ef65cd59e80c29986ba6f62a86e",
     "grade": false,
     "grade_id": "cell-0bcd17eb4d9c7c14",
     "locked": true,
     "schema_version": 1,
     "solution": false
    }
   },
   "source": [
    "### String Methods\n",
    "\n",
    "*`Python`* has a set of built-in methods that you can use on *strings*.\n",
    "\n",
    "Here, we will review some of them. You can find a comprehensive list of them [here](https://docs.python.org/3/library/stdtypes.html).\n",
    "\n",
    "\n",
    "**The `replace()` Method**\n",
    "\n",
    "The *`replace()`* method replaces a specified phrase with another specified phrase. Its syntax is given as:\n",
    "\n",
    "`string.replace(oldvalue, newvalue, count)`.\n",
    "\n",
    "so that\n",
    "\n",
    "``` Python\n",
    "txt = \"I like bananas\"\n",
    "\n",
    "x = txt.replace(\"bananas\", \"apples\", 2)\n",
    "\n",
    "```\n",
    "returns *`I like apples`*.\n",
    "\n",
    "[Back to top](#Index:) \n",
    "\n",
    "### Question 7\n",
    "*2 points*\n",
    "\n",
    "Given the *string `txt`* defined for you below, replace all the occurrences of the word *`one`* with *`three`*. Assign the new *string* to `ans7`.\n",
    "\n",
    "**HINT:** You can replace all the instances by setting the argument *`count`* in replace equal to the number of times the word you want to replace occurs."
   ]
  },
  {
   "cell_type": "code",
   "execution_count": 1,
   "metadata": {
    "deletable": false,
    "nbgrader": {
     "checksum": "990f20b35b331d6f948773af68a231f5",
     "grade": false,
     "grade_id": "cell-ba159af26b2f9e9e",
     "locked": false,
     "schema_version": 1,
     "solution": true
    }
   },
   "outputs": [],
   "source": [
    "### GRADED\n",
    "\n",
    "txt = \"one one was a race horse, two two was one too.\"\n",
    "\n",
    "### YOUR SOLUTION HERE\n",
    "ans7 = None\n",
    "\n",
    "# YOUR CODE HERE\n",
    "ans7 = txt.replace('one', 'three')"
   ]
  },
  {
   "cell_type": "code",
   "execution_count": null,
   "metadata": {
    "deletable": false,
    "editable": false,
    "nbgrader": {
     "checksum": "26332281e9473dc5a47022cce6bf7927",
     "grade": true,
     "grade_id": "cell-d983f6cc35f1ce1d",
     "locked": true,
     "points": 2,
     "schema_version": 1,
     "solution": false
    }
   },
   "outputs": [],
   "source": []
  },
  {
   "cell_type": "markdown",
   "metadata": {
    "deletable": false,
    "editable": false,
    "nbgrader": {
     "checksum": "0b1a2573b1b6e1dafd28150d4f6bcf8d",
     "grade": false,
     "grade_id": "cell-21a33af6c8543fd8",
     "locked": true,
     "schema_version": 1,
     "solution": false
    }
   },
   "source": [
    "**The `swapcase()` Method**\n",
    "\n",
    "The *`swapcase()`* method returns a *string* where all the upper case letters are lower case and vice versa.Its syntax is given by:\n",
    "\n",
    "`string.swapcase()`\n",
    "\n",
    "so that\n",
    "\n",
    "``` Python\n",
    "txt = \"hELLo\"\n",
    "\n",
    "x = txt.swapcase()\n",
    "\n",
    "```\n",
    "returns *`HellO`*.\n",
    "\n",
    "[Back to top](#Index:) \n",
    "\n",
    "### Question 8\n",
    "*2 points*\n",
    "\n",
    "Given the *string `str1`* defined for you below, apply the *`swapcase()`* method to it. Next, concatenate your *string* three times and assign the result to *`ans8`*.\n"
   ]
  },
  {
   "cell_type": "code",
   "execution_count": 2,
   "metadata": {
    "deletable": false,
    "nbgrader": {
     "checksum": "14d7fe910a95936861d71aa86584ab1b",
     "grade": false,
     "grade_id": "cell-9f1613bf09895a84",
     "locked": false,
     "schema_version": 1,
     "solution": true
    }
   },
   "outputs": [],
   "source": [
    "### GRADED\n",
    "\n",
    "str1 = \"THis IS the FIRST AssiGNEment of the COURSe\"\n",
    "\n",
    "### YOUR SOLUTION HERE\n",
    "ans8 = None\n",
    "\n",
    "# YOUR CODE HERE\n",
    "ans8 = str1.swapcase() * 3"
   ]
  },
  {
   "cell_type": "code",
   "execution_count": null,
   "metadata": {
    "deletable": false,
    "editable": false,
    "nbgrader": {
     "checksum": "5de02cd9ca0a94a4050e56247b7c72ea",
     "grade": true,
     "grade_id": "cell-75a96fb6424497a3",
     "locked": true,
     "points": 2,
     "schema_version": 1,
     "solution": false
    }
   },
   "outputs": [],
   "source": []
  },
  {
   "cell_type": "markdown",
   "metadata": {
    "deletable": false,
    "editable": false,
    "nbgrader": {
     "checksum": "b989a312e92ad9d30f7acd4f5d2be2df",
     "grade": false,
     "grade_id": "cell-c4097ebdf7281250",
     "locked": true,
     "schema_version": 1,
     "solution": false
    }
   },
   "source": [
    "### Python Operators\n",
    "\n",
    "Operators are used to perform operations on variables and values. \n",
    "\n",
    "Here, we will overview the following *`Python`* operator groups:\n",
    "\n",
    "- Arithmetic operators\n",
    "- Comparison operators\n",
    "- Logical operators"
   ]
  },
  {
   "cell_type": "markdown",
   "metadata": {
    "deletable": false,
    "editable": false,
    "nbgrader": {
     "checksum": "94876664ad040e42d35b75acfcdc132c",
     "grade": false,
     "grade_id": "cell-3e871f8f9ac4a071",
     "locked": true,
     "schema_version": 1,
     "solution": false
    }
   },
   "source": [
    "### Arithmetic Operators\n",
    "\n",
    "| Symbol| Operation \n",
    "| --- | --- \n",
    "| + | Addition|\n",
    "| - | Subtraction|\n",
    "| * | Multiplication|\n",
    "| / | Division|\n",
    "| ** | Raise to a power|\n",
    "| // | [Floor division](https://en.wikipedia.org/wiki/Floor_and_ceiling_functions)|\n",
    "| % | [Modulo division](https://en.wikipedia.org/wiki/Modulo_operation)|\n",
    "\n",
    "*`Python`* arithmetic operations follow the standard order.\n",
    "\n",
    "[Back to top](#Index:) \n",
    "\n",
    "### Question 9\n",
    "*2 points*\n",
    "\n",
    "Divide the number *`15`* by *`5`* and raise the result to the power of 6. Assign your result to *`ans9a`*.\n",
    "\n",
    "Next, perform a modulo division by 2 on *`ans9a`* and assign your result to *`ans9b`*."
   ]
  },
  {
   "cell_type": "code",
   "execution_count": 3,
   "metadata": {
    "deletable": false,
    "nbgrader": {
     "checksum": "fdef20ec341173b53f894354ed7c40fd",
     "grade": false,
     "grade_id": "cell-bbdd14c4963d25a5",
     "locked": false,
     "schema_version": 1,
     "solution": true
    }
   },
   "outputs": [],
   "source": [
    "### GRADED\n",
    "\n",
    "### YOUR SOLUTION HERE\n",
    "ans9a = None\n",
    "ans9b = None\n",
    "\n",
    "# YOUR CODE HERE\n",
    "ans9a = (15/5) ** 6\n",
    "ans9b = ans9a % 2"
   ]
  },
  {
   "cell_type": "code",
   "execution_count": null,
   "metadata": {
    "deletable": false,
    "editable": false,
    "nbgrader": {
     "checksum": "121c9cf153a10ba82e58637d78f56ad2",
     "grade": true,
     "grade_id": "cell-b463b1d04dc835c0",
     "locked": true,
     "points": 2,
     "schema_version": 1,
     "solution": false
    }
   },
   "outputs": [],
   "source": []
  },
  {
   "cell_type": "markdown",
   "metadata": {
    "deletable": false,
    "editable": false,
    "nbgrader": {
     "checksum": "a0c7891efe233be41a546b81eadccdab",
     "grade": false,
     "grade_id": "cell-61f572eb0998c5dc",
     "locked": true,
     "schema_version": 1,
     "solution": false
    }
   },
   "source": [
    "### Comparison Operators\n",
    "\n",
    "| Symbol| Operation \n",
    "| --- | --- \n",
    "| == | Equal\n",
    "| != | Not equal|\n",
    "| > | Greater than|\n",
    "| < | Less than|\n",
    "|>=\t|Greater than or equal to|\n",
    "|<=\t|Less than or equal to|\n",
    "\n",
    "\n",
    "[Back to top](#Index:) \n",
    "\n",
    "### Question 10\n",
    "*1 point*\n",
    "\n",
    "Is 15 equal to 46? Show this and assign the result to *`ans10`*."
   ]
  },
  {
   "cell_type": "code",
   "execution_count": 4,
   "metadata": {
    "deletable": false,
    "nbgrader": {
     "checksum": "f05b126ddd45cb3c5c04e6756e434dff",
     "grade": false,
     "grade_id": "cell-c063d6b4589b9373",
     "locked": false,
     "schema_version": 1,
     "solution": true
    }
   },
   "outputs": [],
   "source": [
    "### GRADED\n",
    "\n",
    "### YOUR SOLUTION HERE\n",
    "ans10 = None\n",
    "\n",
    "# YOUR CODE HERE\n",
    "ans10 = 15 == 46"
   ]
  },
  {
   "cell_type": "code",
   "execution_count": null,
   "metadata": {
    "deletable": false,
    "editable": false,
    "nbgrader": {
     "checksum": "73077d03f2264a6aa96a8aed7a7c19ba",
     "grade": true,
     "grade_id": "cell-30c19bcf3587c2ea",
     "locked": true,
     "points": 1,
     "schema_version": 1,
     "solution": false
    }
   },
   "outputs": [],
   "source": []
  },
  {
   "cell_type": "markdown",
   "metadata": {
    "deletable": false,
    "editable": false,
    "nbgrader": {
     "checksum": "60709e003a0a2c382449d39c27c7fa9f",
     "grade": false,
     "grade_id": "cell-b1d670121a5b8daf",
     "locked": true,
     "schema_version": 1,
     "solution": false
    }
   },
   "source": [
    "### Logical Operators\n",
    "\n",
    "| Symbol| Operation \n",
    "| --- | --- \n",
    "| `and`| Returns `True` if both statements are true|\n",
    "| `or` | Returns `True` if one of the statements is true|\n",
    "| `not`| Reverses the result, returns `False` if the result is true|\n",
    "\n",
    "\n",
    "[Back to top](#Index:) \n",
    "\n",
    "### Question 11\n",
    "*2 points*\n",
    "\n",
    "Assign the result of the expression *`not(5 < 5 and 8 < 10)`* to *`ans11`*."
   ]
  },
  {
   "cell_type": "code",
   "execution_count": 5,
   "metadata": {
    "deletable": false,
    "nbgrader": {
     "checksum": "73ab3f9e4927271de9b2795e0a4eb4ef",
     "grade": false,
     "grade_id": "cell-117e6aa8ff346d17",
     "locked": false,
     "schema_version": 1,
     "solution": true
    }
   },
   "outputs": [],
   "source": [
    "### GRADED\n",
    "\n",
    "### YOUR SOLUTION HERE\n",
    "ans11  = None\n",
    "\n",
    "# YOUR CODE HERE\n",
    "ans11 = not(5 < 5 and 8 < 10)"
   ]
  },
  {
   "cell_type": "code",
   "execution_count": null,
   "metadata": {
    "deletable": false,
    "editable": false,
    "nbgrader": {
     "checksum": "37394734239e8e9a437fe53524c25bb7",
     "grade": true,
     "grade_id": "cell-a2c499a0ff903570",
     "locked": true,
     "points": 2,
     "schema_version": 1,
     "solution": false
    }
   },
   "outputs": [],
   "source": []
  },
  {
   "cell_type": "markdown",
   "metadata": {
    "deletable": false,
    "editable": false,
    "nbgrader": {
     "checksum": "4f9b2ebb5e145822e5d95d8943a82675",
     "grade": false,
     "grade_id": "cell-10d5c2ef2f5522fe",
     "locked": true,
     "schema_version": 1,
     "solution": false
    }
   },
   "source": [
    "[Back to top](#Index:) \n",
    "\n",
    "### Question 12\n",
    "*2 points*\n",
    "\n",
    "\n",
    "    \n",
    " Assign the result of the expression *`(not True == 0) and ((0.5) < True)`* to *`ans12`*."
   ]
  },
  {
   "cell_type": "code",
   "execution_count": 6,
   "metadata": {
    "deletable": false,
    "nbgrader": {
     "checksum": "e70d50fa67338fba5ba59039cd967dea",
     "grade": false,
     "grade_id": "cell-36938943d28c19b8",
     "locked": false,
     "schema_version": 1,
     "solution": true
    }
   },
   "outputs": [],
   "source": [
    "###GRADED\n",
    "\n",
    "### YOUR SOLUTION HERE\n",
    "ans12  = None\n",
    "\n",
    "# YOUR CODE HERE\n",
    "ans12 = (not True == 0) and ((0.5) < True)"
   ]
  },
  {
   "cell_type": "code",
   "execution_count": null,
   "metadata": {
    "deletable": false,
    "editable": false,
    "nbgrader": {
     "checksum": "3cf50148066aa92b37f795fa8f891c3d",
     "grade": true,
     "grade_id": "cell-fba9eab61fac9e83",
     "locked": true,
     "points": 2,
     "schema_version": 1,
     "solution": false
    }
   },
   "outputs": [],
   "source": []
  },
  {
   "cell_type": "code",
   "execution_count": null,
   "metadata": {},
   "outputs": [],
   "source": []
  }
 ],
 "metadata": {
  "kernelspec": {
   "display_name": "Python 3",
   "language": "python",
   "name": "python3"
  },
  "language_info": {
   "codemirror_mode": {
    "name": "ipython",
    "version": 3
   },
   "file_extension": ".py",
   "mimetype": "text/x-python",
   "name": "python",
   "nbconvert_exporter": "python",
   "pygments_lexer": "ipython3",
   "version": "3.6.9"
  }
 },
 "nbformat": 4,
 "nbformat_minor": 4
}
