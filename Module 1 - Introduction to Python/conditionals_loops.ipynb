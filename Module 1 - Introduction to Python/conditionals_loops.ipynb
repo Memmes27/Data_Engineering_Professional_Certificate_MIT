{
 "cells": [
  {
   "cell_type": "markdown",
   "metadata": {
    "deletable": false,
    "editable": false,
    "nbgrader": {
     "cell_type": "markdown",
     "checksum": "a85e09352b2578746ddd3d17a354a7c3",
     "grade": false,
     "grade_id": "cell-77485c135418dba9",
     "locked": true,
     "schema_version": 3,
     "solution": false
    }
   },
   "source": [
    "# Codio Coding Activity 1.5: Conditionals and Looping Over Collections\n",
    "\n",
    "\n",
    "### Learning Outcome Addressed\n",
    "\n",
    "- 8. Integrate *loops* and *conditionals* in a Python coding environment.\n",
    "\n",
    "\n",
    "\n",
    "## Index:\n",
    "\n",
    "- [Question 1](#Question-1)\n",
    "- [Question 2](#Question-2)\n",
    "- [Question 3](#Question-3)\n",
    "- [Question 4](#Question-4)\n",
    "- [Question 5](#Question-5)\n",
    "- [Question 6](#Question-6)\n",
    "- [Question 7](#Question-7)\n",
    "- [Question 8](#Question-8)\n",
    "- [Question 9](#Question-9)\n",
    "- [Question 10](#Question-10)"
   ]
  },
  {
   "cell_type": "markdown",
   "metadata": {
    "deletable": false,
    "editable": false,
    "nbgrader": {
     "cell_type": "markdown",
     "checksum": "45ce5ce8912eaf0a13d2b725819eaa12",
     "grade": false,
     "grade_id": "cell-1219f473129fc52f",
     "locked": true,
     "schema_version": 3,
     "solution": false
    }
   },
   "source": [
    "## *Conditionals*\n",
    "\n",
    "Everything you have seen so far has consisted of sequential execution, in which statements are always performed one after the other, in exactly the order specified.\n",
    "\n",
    "However, frequently, a program needs to skip over some statements, execute a series of statements repetitively, or choose between alternate sets of statements to execute.\n",
    "\n",
    "\n",
    "This is where control structures come in—a control structure directs the order of execution of the statements within a program.\n",
    "\n",
    "### If Statement\n",
    "\n",
    "The first *`Python`* control structure you will be practicing here is the *`if`* statement.\n",
    "\n",
    "In the real world, you commonly must evaluate information around yuo and then choose one course of action or another based on what you observe.\n",
    "\n",
    "The basic structure of  an *`if`* statement is:\n",
    "\n",
    "```Python\n",
    "if <expression>:\n",
    "    <statement>\n",
    "```\n",
    "\n",
    "In the form shown above:\n",
    "\n",
    "- `<expression>` is an expression evaluated in a *Boolean* context\n",
    "- `<statement>` is a valid Python statement that must be indented\n",
    "\n",
    "If `<expression>` is true, then `<statement>`  is executed. If `<statement>` is false, then `<statement>` is skipped over and not executed.\n",
    "\n",
    "Note that the colon (:) following `<expression>` is required."
   ]
  },
  {
   "cell_type": "markdown",
   "metadata": {
    "deletable": false,
    "editable": false,
    "nbgrader": {
     "cell_type": "markdown",
     "checksum": "95798bef49f3ed00e9dcd4dc9fdb803b",
     "grade": false,
     "grade_id": "cell-d0e6a5d4d183010c",
     "locked": true,
     "schema_version": 3,
     "solution": false
    }
   },
   "source": [
    "### Question 1\n",
    "*2 points*\n",
    "\n",
    "Given *`num1a`*, *`num1b`*, and the *list* *`ans1`* defined below, write a program that appends the *Boolean `True`* to *`ans1`* if *`num1a`* is less than 0 and `False` to *`ans1`* if *`num1b`* is greater than 0."
   ]
  },
  {
   "cell_type": "code",
   "execution_count": 5,
   "metadata": {
    "deletable": false,
    "nbgrader": {
     "cell_type": "code",
     "checksum": "1d00973da1527be078459b12b1470dde",
     "grade": false,
     "grade_id": "cell-21d6a1ec45a169fe",
     "locked": false,
     "schema_version": 3,
     "solution": true
    }
   },
   "outputs": [
    {
     "data": {
      "text/plain": [
       "[True, False]"
      ]
     },
     "execution_count": 5,
     "metadata": {},
     "output_type": "execute_result"
    }
   ],
   "source": [
    "### GRADED\n",
    "\n",
    "num1a = -738.9\n",
    "num1b = 11\n",
    "ans1 = []\n",
    "\n",
    "### YOUR SOLUTION HERE\n",
    "\n",
    "# YOUR CODE HERE\n",
    "if num1a <0:\n",
    "    ans1.append(True)\n",
    "if num1b > 0:\n",
    "    ans1.append(False)\n",
    "ans1"
   ]
  },
  {
   "cell_type": "code",
   "execution_count": null,
   "metadata": {
    "deletable": false,
    "editable": false,
    "nbgrader": {
     "cell_type": "code",
     "checksum": "ba28cfd0a9675a3fd4c7d6541a0363d3",
     "grade": true,
     "grade_id": "cell-ee57e49496d62474",
     "locked": true,
     "points": 2,
     "schema_version": 3,
     "solution": false
    }
   },
   "outputs": [],
   "source": []
  },
  {
   "cell_type": "markdown",
   "metadata": {
    "deletable": false,
    "editable": false,
    "nbgrader": {
     "cell_type": "markdown",
     "checksum": "11881d917167dbd6774c6570ebe6f40a",
     "grade": false,
     "grade_id": "cell-a8013ff63726eeed",
     "locked": true,
     "schema_version": 3,
     "solution": false
    }
   },
   "source": [
    "### Question 2\n",
    "*2 points*\n",
    "\n",
    "Given *`str1`* and the *list* *`ans2`* defined below, write a program that appends the *Boolean `True`* to *`ans2`* if *`str1`* contains only letters.\n",
    "\n",
    "**HINT:** You can use the method *`isalpha()`* to check whether a *string* contains only letters."
   ]
  },
  {
   "cell_type": "code",
   "execution_count": 8,
   "metadata": {
    "deletable": false,
    "nbgrader": {
     "cell_type": "code",
     "checksum": "b210597babab7c3835767100a76766ee",
     "grade": false,
     "grade_id": "cell-d29e971357bd5aba",
     "locked": false,
     "schema_version": 3,
     "solution": true
    }
   },
   "outputs": [
    {
     "data": {
      "text/plain": [
       "[]"
      ]
     },
     "execution_count": 8,
     "metadata": {},
     "output_type": "execute_result"
    }
   ],
   "source": [
    "### GRADED\n",
    "\n",
    "str1 = \"This is the 1st week of the course\"\n",
    "ans2 = []\n",
    "\n",
    "### YOUR SOLUTION HERE\n",
    "\n",
    "# YOUR CODE HERE\n",
    "if str1.replace(\" \", \"\").isalpha():\n",
    "    ans2.append(True)\n",
    "ans2"
   ]
  },
  {
   "cell_type": "code",
   "execution_count": null,
   "metadata": {
    "deletable": false,
    "editable": false,
    "nbgrader": {
     "cell_type": "code",
     "checksum": "7b01664ad0f9cf7994eea45e517c33b8",
     "grade": true,
     "grade_id": "cell-6b9aafbc0f15064c",
     "locked": true,
     "points": 2,
     "schema_version": 3,
     "solution": false
    }
   },
   "outputs": [],
   "source": []
  },
  {
   "cell_type": "markdown",
   "metadata": {
    "deletable": false,
    "editable": false,
    "nbgrader": {
     "cell_type": "markdown",
     "checksum": "0d16b0c4e516b3aee9a11a03ca50776d",
     "grade": false,
     "grade_id": "cell-a9c8a3066934027c",
     "locked": true,
     "schema_version": 3,
     "solution": false
    }
   },
   "source": [
    "### The Else and Elif *Clauses*\n",
    "\n",
    "Sometimes, you will want to evaluate a condition and take one path if the condition is true, but specify an alternate path if it is false. This is accomplished with an else *clause*:\n",
    "\n",
    "```Python\n",
    "if <expression>:\n",
    "    <statement(s)>\n",
    "else:\n",
    "    <statement(s)>\n",
    "\n",
    "```\n",
    "\n",
    "If `<expression>` is true, the first suite is executed, and the second is skipped. If `<expression>` is false, the first suite is skipped and the second is executed. Either way, execution then resumes after the second suite."
   ]
  },
  {
   "cell_type": "markdown",
   "metadata": {
    "deletable": false,
    "editable": false,
    "nbgrader": {
     "cell_type": "markdown",
     "checksum": "d7d7775af71adcfd4f36812a78193285",
     "grade": false,
     "grade_id": "cell-187cc54aea92c9b4",
     "locked": true,
     "schema_version": 3,
     "solution": false
    }
   },
   "source": [
    "### Question 3\n",
    "*2 points*\n",
    "\n",
    "Given *`num3`* and the *list* *`ans3`* defined below, write a program that appends the *Boolean `True`* to *`ans3`* if *`num3`* is greater or equal than 0 or *`False`* otherwise."
   ]
  },
  {
   "cell_type": "code",
   "execution_count": 10,
   "metadata": {
    "deletable": false,
    "nbgrader": {
     "cell_type": "code",
     "checksum": "9eab332f0fa7a591e8454e7cc9039c8f",
     "grade": false,
     "grade_id": "cell-8e2930f6a7ebce34",
     "locked": false,
     "schema_version": 3,
     "solution": true
    }
   },
   "outputs": [
    {
     "data": {
      "text/plain": [
       "[True]"
      ]
     },
     "execution_count": 10,
     "metadata": {},
     "output_type": "execute_result"
    }
   ],
   "source": [
    "### GRADED\n",
    "\n",
    "num3 = 34.67\n",
    "ans3 = []\n",
    "\n",
    "### YOUR SOLUTION HERE\n",
    "\n",
    "# YOUR CODE HERE\n",
    "if num3 >= 0:\n",
    "    ans3.append(True)\n",
    "else:\n",
    "    False\n",
    "ans3"
   ]
  },
  {
   "cell_type": "code",
   "execution_count": null,
   "metadata": {
    "deletable": false,
    "editable": false,
    "nbgrader": {
     "cell_type": "code",
     "checksum": "f0f7e09fa7d4a1beff417b90d6f93d0d",
     "grade": true,
     "grade_id": "cell-a672d7f1883d4304",
     "locked": true,
     "points": 2,
     "schema_version": 3,
     "solution": false
    }
   },
   "outputs": [],
   "source": []
  },
  {
   "cell_type": "markdown",
   "metadata": {
    "deletable": false,
    "editable": false,
    "nbgrader": {
     "cell_type": "markdown",
     "checksum": "00555d1a5183bdf0bdd4186e75dd2c4b",
     "grade": false,
     "grade_id": "cell-788e692b297d8e9a",
     "locked": true,
     "schema_version": 3,
     "solution": false
    }
   },
   "source": [
    "There is also syntax for branching execution based on several alternatives. For this, use one or more *`elif`* (short for else if) *clauses*. Python evaluates each `<expression>` in turn and executes the suite corresponding to the first true expression. If none of the expressions are true, and an else *clause* is specified, then its suite is executed:\n",
    "\n",
    "```Python\n",
    "if <expression>:\n",
    "    <statement(s)>\n",
    "elif <expression>:\n",
    "    <statement(s)>\n",
    "elif <expression>:\n",
    "    <statement(s)>\n",
    "    ...\n",
    "else:\n",
    "    <statement(s)>\n",
    "```\n",
    "\n",
    "### Question 4\n",
    "*3 points*\n",
    "\n",
    "Given *`name`* defined below, write a program that:\n",
    "- assigns the value *`True`* to *`ans4a`* if the first letter in *`name`* is equal to *`A`*, \n",
    "- assigns the value *`True`* to *`ans4b`* if the last letter in *`name`* is equal to *`b`*\n",
    "- assigns the *string `Conditions not satisfied`* to *`ans4c`* if non of the expressions above are true.\n",
    "\n"
   ]
  },
  {
   "cell_type": "code",
   "execution_count": 23,
   "metadata": {
    "deletable": false,
    "nbgrader": {
     "cell_type": "code",
     "checksum": "5f57ea2c138184367c3967305bf577d1",
     "grade": false,
     "grade_id": "cell-87209739774ff349",
     "locked": false,
     "schema_version": 3,
     "solution": true
    }
   },
   "outputs": [
    {
     "name": "stdout",
     "output_type": "stream",
     "text": [
      "True False None\n"
     ]
    }
   ],
   "source": [
    "### GRADED\n",
    "name = \"Alexander\"\n",
    "\n",
    "ans4a = True if name[0] == 'A' else False\n",
    "ans4b = True if name[-1] == 'b' else False\n",
    "ans4c = 'Conditions not satisfied' if not ans4a and not ans4b else None\n",
    "\n",
    "### YOUR SOLUTION HERE\n",
    "\n",
    "# YOUR CODE HERE\n",
    "print(ans4a, ans4b, ans4c)"
   ]
  },
  {
   "cell_type": "code",
   "execution_count": null,
   "metadata": {
    "deletable": false,
    "editable": false,
    "nbgrader": {
     "cell_type": "code",
     "checksum": "1341d11f2faa526888f0c5e55e45229d",
     "grade": true,
     "grade_id": "cell-70569cb4bc4dbda9",
     "locked": true,
     "points": 3,
     "schema_version": 3,
     "solution": false
    }
   },
   "outputs": [],
   "source": []
  },
  {
   "cell_type": "markdown",
   "metadata": {
    "deletable": false,
    "editable": false,
    "nbgrader": {
     "cell_type": "markdown",
     "checksum": "16e422569a115bc779edd70e31dd85cc",
     "grade": false,
     "grade_id": "cell-0a44d9e2ef30a9b1",
     "locked": true,
     "schema_version": 3,
     "solution": false
    }
   },
   "source": [
    "## Python For *Loops*\n",
    "A *`for` loop* is used for iterating over a sequence (that is either a *list*, a *tuple*, a *dictionary*, a *set*, or a *string*).\n",
    "\n",
    "With the for *loop* you can execute a set of statements, once for each item in a *list, tuple, set* etc.\n",
    "\n",
    "The general syntax for a *`for` loop* is given by:\n",
    "\n",
    "``` Python\n",
    "for <var> in <iterable>:\n",
    "    <statement(s)>\n",
    "```\n",
    "\n",
    "where `<iterable>` is a collection of objects - for example, a *list* or *tuple*. The `<statement(s)>` in the *loop* body are denoted by indentation and are executed once for each item in `<iterable>`. The *loop* variable `<var>` takes on the value of the next element in `<iterable>` each time through the *loop*."
   ]
  },
  {
   "cell_type": "markdown",
   "metadata": {
    "deletable": false,
    "editable": false,
    "nbgrader": {
     "cell_type": "markdown",
     "checksum": "f6685e24e8126f974de631ee727eb682",
     "grade": false,
     "grade_id": "cell-26744e26c3958375",
     "locked": true,
     "schema_version": 3,
     "solution": false
    }
   },
   "source": [
    "\n",
    "### Question 5\n",
    "\n",
    "*1 points*  \n",
    "\n",
    "Given the *list* *`fruits`* defined below, create a program that iterates over *`fruits`* and appends all the elements inside *`fruits`* to the *list* *`fruits_list`*."
   ]
  },
  {
   "cell_type": "code",
   "execution_count": 24,
   "metadata": {
    "deletable": false,
    "nbgrader": {
     "cell_type": "code",
     "checksum": "f3ebf802dd443dc20ffdbdc36c735ae7",
     "grade": false,
     "grade_id": "cell-1e284f3da19f697e",
     "locked": false,
     "schema_version": 3,
     "solution": true
    }
   },
   "outputs": [
    {
     "data": {
      "text/plain": [
       "['apple', 'lime', 'orange', 'watermelon', 'apricot', 'peach']"
      ]
     },
     "execution_count": 24,
     "metadata": {},
     "output_type": "execute_result"
    }
   ],
   "source": [
    "### GRADED\n",
    "\n",
    "fruits = ['apple', 'lime', 'orange', 'watermelon', 'apricot', 'peach']\n",
    "fruits_list = [fruit for fruit in fruits]\n",
    "\n",
    "### YOUR SOLUTION HERE\n",
    "\n",
    "# YOUR CODE HERE\n",
    "fruits_list"
   ]
  },
  {
   "cell_type": "code",
   "execution_count": null,
   "metadata": {
    "deletable": false,
    "editable": false,
    "nbgrader": {
     "cell_type": "code",
     "checksum": "dba7c9fbf20d443adb9017f20e4dc85f",
     "grade": true,
     "grade_id": "cell-25826db6fe844b8d",
     "locked": true,
     "points": 1,
     "schema_version": 3,
     "solution": false
    }
   },
   "outputs": [],
   "source": []
  },
  {
   "cell_type": "markdown",
   "metadata": {
    "deletable": false,
    "editable": false,
    "nbgrader": {
     "cell_type": "markdown",
     "checksum": "743558b05b32e20f1753ae48331d7fa4",
     "grade": false,
     "grade_id": "cell-312bf518730fd7be",
     "locked": true,
     "schema_version": 3,
     "solution": false
    }
   },
   "source": [
    "### The Break Statement\n",
    "\n",
    "\n",
    "With the break statement you can stop the *loop* before it has looped through all the items.\n",
    "\n",
    "For example, the code below\n",
    "    \n",
    "```Python    \n",
    "fruits = [item1, item2, item3]\n",
    "for x in fruits:\n",
    "  print(x) \n",
    "  if x == item2:\n",
    "    break\n",
    "```\n",
    "\n",
    "returns:\n",
    "\n",
    "```Python\n",
    "item1\n",
    "```"
   ]
  },
  {
   "cell_type": "markdown",
   "metadata": {
    "deletable": false,
    "editable": false,
    "nbgrader": {
     "cell_type": "markdown",
     "checksum": "8432c5c2ffb89231967fbbe7e1873213",
     "grade": false,
     "grade_id": "cell-b60ca1458f8adfc0",
     "locked": true,
     "schema_version": 3,
     "solution": false
    }
   },
   "source": [
    "### Question 6\n",
    "\n",
    "*1 points*  \n",
    "\n",
    "Given the list *`fruits`* defined below, create a program that iterates over *`fruits`* and assigns the first four elements in *`fruits`* to a new *list* *`new_fruits`*."
   ]
  },
  {
   "cell_type": "code",
   "execution_count": 28,
   "metadata": {
    "deletable": false,
    "nbgrader": {
     "cell_type": "code",
     "checksum": "16fc0ba39db8bd12d38301cb8b0c161f",
     "grade": false,
     "grade_id": "cell-40fd4fd1f6c81b28",
     "locked": false,
     "schema_version": 3,
     "solution": true
    }
   },
   "outputs": [
    {
     "data": {
      "text/plain": [
       "['apple', 'lime', 'orange', 'watermelon']"
      ]
     },
     "execution_count": 28,
     "metadata": {},
     "output_type": "execute_result"
    }
   ],
   "source": [
    "### GRADED\n",
    "### YOUR ANSWER BELOW\n",
    "\n",
    "fruits = ['apple', 'lime', 'orange', 'watermelon', 'apricot', 'peach']\n",
    "new_fruits = []\n",
    "\n",
    "### YOUR SOLUTION HERE\n",
    "\n",
    "# YOUR CODE HERE\n",
    "for i in range(len(fruits)):\n",
    "    new_fruits.append(fruits[i])\n",
    "    if i == 3:\n",
    "        break\n",
    "new_fruits"
   ]
  },
  {
   "cell_type": "code",
   "execution_count": null,
   "metadata": {
    "deletable": false,
    "editable": false,
    "nbgrader": {
     "cell_type": "code",
     "checksum": "319b9a3026151326fb621a69874ed0a5",
     "grade": true,
     "grade_id": "cell-902b61181461ce01",
     "locked": true,
     "points": 1,
     "schema_version": 3,
     "solution": false
    }
   },
   "outputs": [],
   "source": []
  },
  {
   "cell_type": "markdown",
   "metadata": {
    "deletable": false,
    "editable": false,
    "nbgrader": {
     "cell_type": "markdown",
     "checksum": "beb15741ddf47b2b3186a229a9b48605",
     "grade": false,
     "grade_id": "cell-ed68d0ee695830cd",
     "locked": true,
     "schema_version": 3,
     "solution": false
    }
   },
   "source": [
    "You can also combine *`for` loops* and *`if`* statements for a better control over your program.\n",
    "\n",
    "### Question 7\n",
    "\n",
    "*3 points*  \n",
    "\n",
    "Given the *list `time`*, with elements from 7 to 24 create a program that iterates over *`time`* and \n",
    "\n",
    "- appends the *string `Good morning`* to the *list `result_time`* if the element in the *list `time`* is less than or equal to 12;\n",
    "- appends *`Good afternoon`* if the element is greater than 12 and less than 20;\n",
    "- appends *`Good night`* otherwise."
   ]
  },
  {
   "cell_type": "code",
   "execution_count": 30,
   "metadata": {
    "deletable": false,
    "nbgrader": {
     "cell_type": "code",
     "checksum": "98cfbfa77b73a962e0d1c1bbf5577138",
     "grade": false,
     "grade_id": "cell-6ac3b067fd8dc0d6",
     "locked": false,
     "schema_version": 3,
     "solution": true
    }
   },
   "outputs": [
    {
     "data": {
      "text/plain": [
       "['Good morning',\n",
       " 'Good morning',\n",
       " 'Good morning',\n",
       " 'Good morning',\n",
       " 'Good morning',\n",
       " 'Good morning',\n",
       " 'Good afternoon',\n",
       " 'Good afternoon',\n",
       " 'Good afternoon',\n",
       " 'Good afternoon',\n",
       " 'Good afternoon',\n",
       " 'Good afternoon',\n",
       " 'Good afternoon',\n",
       " 'Good night',\n",
       " 'Good night',\n",
       " 'Good night',\n",
       " 'Good night',\n",
       " 'Good night']"
      ]
     },
     "execution_count": 30,
     "metadata": {},
     "output_type": "execute_result"
    }
   ],
   "source": [
    "### GRADED\n",
    "### YOUR ANSWER BELOW\n",
    "\n",
    "time = list(range(7,25))\n",
    "result_time = []\n",
    "\n",
    "### YOUR SOLUTION HERE\n",
    "\n",
    "# YOUR CODE HERE\n",
    "for i in time:\n",
    "    if i <= 12:\n",
    "        result_time.append('Good morning')\n",
    "    elif i>12 and i<20:\n",
    "        result_time.append('Good afternoon')\n",
    "    else:\n",
    "        result_time.append('Good night')\n",
    "result_time"
   ]
  },
  {
   "cell_type": "code",
   "execution_count": null,
   "metadata": {
    "deletable": false,
    "editable": false,
    "nbgrader": {
     "cell_type": "code",
     "checksum": "6187e9d0b2d4ec9cd2e71f08951b2e63",
     "grade": true,
     "grade_id": "cell-48c8e437b8b8b7c7",
     "locked": true,
     "points": 3,
     "schema_version": 3,
     "solution": false
    }
   },
   "outputs": [],
   "source": []
  },
  {
   "cell_type": "markdown",
   "metadata": {
    "deletable": false,
    "editable": false,
    "nbgrader": {
     "cell_type": "markdown",
     "checksum": "48139f2a9f7c3156b4175a08f21b8430",
     "grade": false,
     "grade_id": "cell-f050a9a731d07605",
     "locked": true,
     "schema_version": 3,
     "solution": false
    }
   },
   "source": [
    "\n",
    "### Question 8\n",
    "\n",
    "*3 points* \n",
    "\n",
    "Define a *list `list8`* with all integer values from 1 to 14 and an empty *list, `ans8`*.\n",
    "\n",
    "Create a program that iterates using a *`for` loop* over all values of `list_mod`. The program must check each value and append the *Boolean `True`* to the *list `ans8`* if the value is even or append the *Boolean `False`* to the *list* `ans8` otherwise.\n",
    "\n",
    "**HINT:** Remember that the modulo division performed by the *`%`* operator can be useful to to check if a number is even or odd."
   ]
  },
  {
   "cell_type": "code",
   "execution_count": 32,
   "metadata": {
    "deletable": false,
    "nbgrader": {
     "cell_type": "code",
     "checksum": "02ad29feccdf4ccf07243cda8345249c",
     "grade": false,
     "grade_id": "cell-98218d626652fe4c",
     "locked": false,
     "schema_version": 3,
     "solution": true
    }
   },
   "outputs": [
    {
     "data": {
      "text/plain": [
       "[False,\n",
       " True,\n",
       " False,\n",
       " True,\n",
       " False,\n",
       " True,\n",
       " False,\n",
       " True,\n",
       " False,\n",
       " True,\n",
       " False,\n",
       " True,\n",
       " False,\n",
       " True]"
      ]
     },
     "execution_count": 32,
     "metadata": {},
     "output_type": "execute_result"
    }
   ],
   "source": [
    "### GRADED\n",
    "### YOUR ANSWER BELOW\n",
    "list8 = list(range(1,15))\n",
    "ans8 = []\n",
    "\n",
    "# YOUR CODE HERE\n",
    "for num in list8:\n",
    "    if num % 2 == 0:\n",
    "        ans8.append(True)\n",
    "    else:\n",
    "        ans8.append(False)\n",
    "ans8"
   ]
  },
  {
   "cell_type": "code",
   "execution_count": null,
   "metadata": {
    "deletable": false,
    "editable": false,
    "nbgrader": {
     "cell_type": "code",
     "checksum": "3802c45f63caa3507bb748278988a6c7",
     "grade": true,
     "grade_id": "cell-d9f3e69838a117df",
     "locked": true,
     "points": 3,
     "schema_version": 3,
     "solution": false
    }
   },
   "outputs": [],
   "source": []
  },
  {
   "cell_type": "markdown",
   "metadata": {
    "deletable": false,
    "editable": false,
    "nbgrader": {
     "cell_type": "markdown",
     "checksum": "378832d5ee411791c79f7902396adbe6",
     "grade": false,
     "grade_id": "cell-a00147f2ae7fb4fc",
     "locked": true,
     "schema_version": 3,
     "solution": false
    }
   },
   "source": [
    "## The While *Loop*\n",
    "\n",
    "With the *`while` loop* you can execute a set of statements as long as a condition is true.\n",
    "\n",
    "The general syntax for  *`while` loop* is given by:\n",
    "\n",
    "```Python\n",
    "while <expression>:\n",
    "    <statement(s)>\n",
    "else:\n",
    "    <statement(s)>\n",
    "```\n",
    "\n",
    "Note that the *`else`* *clause* is not always necessary."
   ]
  },
  {
   "cell_type": "markdown",
   "metadata": {
    "deletable": false,
    "editable": false,
    "nbgrader": {
     "cell_type": "markdown",
     "checksum": "bc42497e28ae0d3acff87fc480c6bc2d",
     "grade": false,
     "grade_id": "cell-93fc9d38990a8f8e",
     "locked": true,
     "schema_version": 3,
     "solution": false
    }
   },
   "source": [
    "### Question 9\n",
    "\n",
    "*2 points* \n",
    "\n",
    "Initialize an *index* *`i`* equal to 1 and an empty *list `list9`*.\n",
    "\n",
    "Write a program that uses a *`while` loop* to append integer numbers to *`list9`* until the *index* is less than 6. You can achieve this by increasing the value of the *index* after each iteration in the *loop*.\n",
    "\n",
    "Exit the *loop* once all the necessary iterations have been performed and assign the *string `i`* is no longer less than 6 to `ans9`."
   ]
  },
  {
   "cell_type": "code",
   "execution_count": 39,
   "metadata": {
    "deletable": false,
    "nbgrader": {
     "cell_type": "code",
     "checksum": "bfa1926099f82a9524efd270149bae6b",
     "grade": false,
     "grade_id": "cell-0319a4996289b685",
     "locked": false,
     "schema_version": 3,
     "solution": true
    }
   },
   "outputs": [],
   "source": [
    "### GRADED\n",
    "\n",
    "### YOUR SOLUTION HERE\n",
    "i = 1\n",
    "list9 = []\n",
    "# YOUR CODE HERE\n",
    "while i < 6:\n",
    "    list9.append(i)\n",
    "    i +=1\n",
    "ans9 = f\"i is no longer less than 6\""
   ]
  },
  {
   "cell_type": "code",
   "execution_count": null,
   "metadata": {
    "deletable": false,
    "editable": false,
    "nbgrader": {
     "cell_type": "code",
     "checksum": "0404c9e076457c5cc9b5d9ebc62ac364",
     "grade": true,
     "grade_id": "cell-c42b77896c9b91a4",
     "locked": true,
     "points": 2,
     "schema_version": 3,
     "solution": false
    }
   },
   "outputs": [],
   "source": []
  },
  {
   "cell_type": "markdown",
   "metadata": {
    "deletable": false,
    "editable": false,
    "nbgrader": {
     "cell_type": "markdown",
     "checksum": "8b3a000e95700678cc252d9cb59941cb",
     "grade": false,
     "grade_id": "cell-4bfd15b9cfad7356",
     "locked": true,
     "schema_version": 3,
     "solution": false
    }
   },
   "source": [
    "You can also use a *`break`* statement to exit a *`while`* *loop*.\n",
    "\n",
    "### Question 10\n",
    "\n",
    "*1 point* \n",
    "\n",
    "Initialize an *index* *`i`* equal to 1 and an empty *list* *`list10`*.\n",
    "\n",
    "Write a program that uses a *`while` loop* to append integer numbers to *`list10`*. You can achieve this by increasing the value of the *index* after each iteration in the *loop*.\n",
    "\n",
    "Exit the *loop* when the *index* is equal to three."
   ]
  },
  {
   "cell_type": "code",
   "execution_count": 43,
   "metadata": {
    "deletable": false,
    "nbgrader": {
     "cell_type": "code",
     "checksum": "859854c0a992a9b957d7e9c0ad897364",
     "grade": false,
     "grade_id": "cell-a555716c4d80e77e",
     "locked": false,
     "schema_version": 3,
     "solution": true
    }
   },
   "outputs": [
    {
     "data": {
      "text/plain": [
       "[1, 2, 3]"
      ]
     },
     "execution_count": 43,
     "metadata": {},
     "output_type": "execute_result"
    }
   ],
   "source": [
    "### GRADED\n",
    "\n",
    "### YOUR SOLUTION HERE\n",
    "i = 1\n",
    "list10 = []\n",
    "# YOUR CODE HERE\n",
    "while i:\n",
    "    list10.append(i)\n",
    "    if i ==3:\n",
    "        break\n",
    "    i +=1 \n",
    "list10"
   ]
  },
  {
   "cell_type": "code",
   "execution_count": null,
   "metadata": {
    "deletable": false,
    "editable": false,
    "nbgrader": {
     "cell_type": "code",
     "checksum": "86ffc9ad031fcf37772adc8cdaf6f666",
     "grade": true,
     "grade_id": "cell-d0931b0f245d6ed9",
     "locked": true,
     "points": 1,
     "schema_version": 3,
     "solution": false
    }
   },
   "outputs": [],
   "source": []
  },
  {
   "cell_type": "code",
   "execution_count": null,
   "metadata": {},
   "outputs": [],
   "source": []
  }
 ],
 "metadata": {
  "kernelspec": {
   "display_name": "Python 3",
   "language": "python",
   "name": "python3"
  },
  "language_info": {
   "codemirror_mode": {
    "name": "ipython",
    "version": 3
   },
   "file_extension": ".py",
   "mimetype": "text/x-python",
   "name": "python",
   "nbconvert_exporter": "python",
   "pygments_lexer": "ipython3",
   "version": "3.6.9"
  }
 },
 "nbformat": 4,
 "nbformat_minor": 4
}
