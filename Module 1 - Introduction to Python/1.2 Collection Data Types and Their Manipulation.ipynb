{
 "cells": [
  {
   "cell_type": "code",
   "execution_count": 1,
   "metadata": {},
   "outputs": [],
   "source": [
    "# Lists, Dictionaries, Tuples, Sets\n",
    "# []        {:}          ()     {} "
   ]
  },
  {
   "cell_type": "code",
   "execution_count": 4,
   "metadata": {},
   "outputs": [
    {
     "name": "stdout",
     "output_type": "stream",
     "text": [
      "[]\n",
      "[]\n",
      "[1, 2, 3, 4]\n"
     ]
    },
    {
     "data": {
      "text/plain": [
       "[1, 2.23, 3, 4, 'Cat']"
      ]
     },
     "execution_count": 4,
     "metadata": {},
     "output_type": "execute_result"
    }
   ],
   "source": [
    "#Lists stores all data types, mix data types\n",
    "\n",
    "#Empty list\n",
    "a = []\n",
    "print(a)\n",
    "\n",
    "a = list()\n",
    "print(a)\n",
    "\n",
    "#List containing integers\n",
    "a = [1,2,3,4]\n",
    "print(a)\n",
    "\n",
    "#List containing different data types\n",
    "a = [1, 2.23, 3, 4, 'Cat']\n",
    "a "
   ]
  },
  {
   "cell_type": "code",
   "execution_count": 17,
   "metadata": {},
   "outputs": [
    {
     "name": "stdout",
     "output_type": "stream",
     "text": [
      "---------------\n",
      "apple\n",
      "pear\n",
      "peach\n",
      "---------------\n",
      "0\n",
      "1\n",
      "2\n",
      "3\n",
      "4\n",
      "5\n",
      "6\n",
      "7\n",
      "---------------\n",
      "1\n",
      "2\n",
      "3\n",
      "4\n",
      "5\n",
      "6\n",
      "7\n",
      "8\n",
      "---------------\n",
      "1\n",
      "3\n",
      "5\n",
      "7\n"
     ]
    }
   ],
   "source": [
    "# Loops, while, for\n",
    "\n",
    "fruits = ['apple', 'pear', 'peach']\n",
    "\n",
    "print('---------------')\n",
    "for i in fruits:\n",
    "    print (i)\n",
    "\n",
    "print('---------------')\n",
    "for i in range(8):\n",
    "    print(i)\n",
    "\n",
    "print('---------------')\n",
    "for i in range(1,9):\n",
    "    print(i)\n",
    "    \n",
    "print('---------------')\n",
    "for i in range(1,9,2):\n",
    "    print(i)"
   ]
  },
  {
   "cell_type": "code",
   "execution_count": 18,
   "metadata": {},
   "outputs": [
    {
     "name": "stdout",
     "output_type": "stream",
     "text": [
      "3\n"
     ]
    }
   ],
   "source": [
    "a = 3\n",
    "if a in range(1,9,2):\n",
    "    print(a)"
   ]
  },
  {
   "cell_type": "code",
   "execution_count": 19,
   "metadata": {},
   "outputs": [
    {
     "name": "stdout",
     "output_type": "stream",
     "text": [
      "1\n",
      "3\n",
      "5\n",
      "7\n"
     ]
    }
   ],
   "source": [
    "r = range(1,9,2)\n",
    "for i in r:\n",
    "    print(i)"
   ]
  },
  {
   "cell_type": "code",
   "execution_count": 26,
   "metadata": {},
   "outputs": [
    {
     "name": "stdout",
     "output_type": "stream",
     "text": [
      "1\n"
     ]
    }
   ],
   "source": [
    "#While statement\n",
    "i = 1\n",
    "while i in range(4):\n",
    "    print(i)\n",
    "    i += 1\n",
    "    break\n",
    "    "
   ]
  },
  {
   "cell_type": "code",
   "execution_count": 30,
   "metadata": {},
   "outputs": [
    {
     "name": "stdout",
     "output_type": "stream",
     "text": [
      "[3]\n",
      "[1, 3]\n"
     ]
    }
   ],
   "source": [
    "#Sub-lists\n",
    "#Slice listt a[start:end:step]\n",
    "a = [1,2,3,4]\n",
    "b = a[2:3]\n",
    "print(b)\n",
    "b = a[:3:2]\n",
    "print(b)"
   ]
  },
  {
   "cell_type": "code",
   "execution_count": 42,
   "metadata": {},
   "outputs": [
    {
     "name": "stdout",
     "output_type": "stream",
     "text": [
      "[1, 2, 3, 4, 5]\n",
      "[1, 2, 3, 4] 5\n",
      "[]\n",
      "[2, 3, 5, 1, 4]\n",
      "[1, 2, 3, 4, 5]\n",
      "[5, 4, 3, 2, 1]\n",
      "4\n"
     ]
    }
   ],
   "source": [
    "#Appending lists\n",
    "a = [1,2,3,4]\n",
    "a.append(5)\n",
    "print(a)\n",
    "#Popping an item and reassigning it to a variable\n",
    "b = a.pop()\n",
    "print(a, b)\n",
    "#clear a list\n",
    "a.clear()\n",
    "print(a)\n",
    "#sort a list\n",
    "a= [2,3,5,1,4]\n",
    "print(a)\n",
    "a.sort()\n",
    "print(a)\n",
    "a.reverse()\n",
    "print(a)\n",
    "print(a.index(1))"
   ]
  },
  {
   "cell_type": "code",
   "execution_count": 62,
   "metadata": {},
   "outputs": [
    {
     "name": "stdout",
     "output_type": "stream",
     "text": [
      "John\n",
      "{'name': 'John', 'email': 'jrw@mit.edu', ('A', 'B', 'C'): 999}\n",
      "999\n",
      "{'name': 'John', 'email': 'jrw@mit.edu', ('A', 'B', 'C'): 767}\n",
      "-------\n",
      "name\n",
      "email\n",
      "('A', 'B', 'C')\n",
      "-------\n",
      "John\n",
      "jrw@mit.edu\n",
      "767\n",
      "-------\n",
      "John\n",
      "jrw@mit.edu\n",
      "767\n"
     ]
    }
   ],
   "source": [
    "#Dictionary\n",
    "a = {'name':'John', 'email': 'jrw@mit.edu'}\n",
    "#The dictionary key allows us to go directly to the value\n",
    "##Getting access to the value, use square brackets LISTS\n",
    "print(a['name'])\n",
    "\n",
    "#Tuples\n",
    "#Tuples can be used as the key of a value in a dictionary, Dictionaries use hash as addresses\n",
    "p = ('A', 'B', 'C')\n",
    "a[p] = 999\n",
    "print(a)\n",
    "#Access the value\n",
    "print(a[p])\n",
    "#Change the value\n",
    "a[p] = 767\n",
    "print(a)\n",
    "print('-------')\n",
    "#for loop in a dictionary\n",
    "for key in a:\n",
    "    print(key)\n",
    "print('-------')   \n",
    "#For loop over the key, item in a dictionary\n",
    "for key, value in a.items():\n",
    "    print(value)\n",
    "print('-------')   \n",
    "#OR\n",
    "for key in a:\n",
    "    print(a[key])"
   ]
  },
  {
   "cell_type": "code",
   "execution_count": 74,
   "metadata": {},
   "outputs": [
    {
     "name": "stdout",
     "output_type": "stream",
     "text": [
      "{'kappa', 'beta', 'alpha', 'gamma'}\n",
      "{1, 2, 3, 5}\n"
     ]
    }
   ],
   "source": [
    "#sets, not ordered\n",
    "a = {'alpha', 'beta', 'kappa'}\n",
    "a.add('gamma')\n",
    "if 'beta' in a:\n",
    "    print(a)\n",
    "#create a set out of an array\n",
    "b = [1,2,3]\n",
    "b.append(5)\n",
    "c = set(b)\n",
    "print(c)"
   ]
  },
  {
   "cell_type": "code",
   "execution_count": null,
   "metadata": {},
   "outputs": [],
   "source": []
  }
 ],
 "metadata": {
  "kernelspec": {
   "display_name": "Python 3",
   "language": "python",
   "name": "python3"
  },
  "language_info": {
   "codemirror_mode": {
    "name": "ipython",
    "version": 3
   },
   "file_extension": ".py",
   "mimetype": "text/x-python",
   "name": "python",
   "nbconvert_exporter": "python",
   "pygments_lexer": "ipython3",
   "version": "3.8.5"
  }
 },
 "nbformat": 4,
 "nbformat_minor": 4
}
