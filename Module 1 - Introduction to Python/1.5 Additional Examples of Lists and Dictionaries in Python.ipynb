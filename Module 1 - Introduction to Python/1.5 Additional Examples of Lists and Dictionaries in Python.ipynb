{
 "cells": [
  {
   "cell_type": "code",
   "execution_count": 2,
   "metadata": {},
   "outputs": [
    {
     "data": {
      "text/plain": [
       "['There',\n",
       " 'were',\n",
       " 'many',\n",
       " 'people',\n",
       " 'at',\n",
       " 'the',\n",
       " 'theatre',\n",
       " 'and',\n",
       " 'the',\n",
       " 'crowd',\n",
       " 'cheered',\n",
       " 'as',\n",
       " 'the',\n",
       " 'band',\n",
       " 'started']"
      ]
     },
     "execution_count": 2,
     "metadata": {},
     "output_type": "execute_result"
    }
   ],
   "source": [
    "#List out all the words in this sentence\n",
    "a = \"There were many people at the theatre and the crowd cheered as the band started\"\n",
    "myList = a.split(' ')\n",
    "myList"
   ]
  },
  {
   "cell_type": "code",
   "execution_count": 4,
   "metadata": {},
   "outputs": [
    {
     "data": {
      "text/plain": [
       "13"
      ]
     },
     "execution_count": 4,
     "metadata": {},
     "output_type": "execute_result"
    }
   ],
   "source": [
    "#How many unique words are there. Hint usa a python set\n",
    "mySet = set(myList)\n",
    "len(mySet)"
   ]
  },
  {
   "cell_type": "code",
   "execution_count": 8,
   "metadata": {},
   "outputs": [
    {
     "data": {
      "text/plain": [
       "{'decem': 2,\n",
       " 'urnae': 2,\n",
       " 'pendent': 2,\n",
       " 'ex': 2,\n",
       " 'muro': 2,\n",
       " 'si': 1,\n",
       " 'yo': 1,\n",
       " 'tambien': 1,\n",
       " 'my': 1,\n",
       " 'gusta': 1,\n",
       " 'el': 1,\n",
       " 'juagador': 1,\n",
       " 'del': 1,\n",
       " 'real': 1,\n",
       " 'madrid': 1}"
      ]
     },
     "execution_count": 8,
     "metadata": {},
     "output_type": "execute_result"
    }
   ],
   "source": [
    "#make a dictionary so the key is every unique word in the string\n",
    "#and the value is the number of times it occurs \n",
    "#strip out the ',' commas so they don't interfere with the words\n",
    "latin = 'decem urnae pendent ex muro, decem urnae pendent ex muro, si yo tambien, my gusta el juagador del real madrid'\n",
    "words = {}\n",
    "latin = latin.replace(',', '').split(' ')\n",
    "for word in latin:\n",
    "    if word in words:\n",
    "        words[word] +=1\n",
    "    else:\n",
    "        words[word] = 1\n",
    "words\n",
    "    \n",
    "        \n"
   ]
  },
  {
   "cell_type": "code",
   "execution_count": 18,
   "metadata": {},
   "outputs": [
    {
     "name": "stdout",
     "output_type": "stream",
     "text": [
      "[0, 1, 2, 3, 4, 5, 6, 7, 8, 9, 10, 11, 12, 13, 14, 15, 16, 17, 18, 19, 20, 21, 22, 23, 24, 25, 26, 27, 28, 29, 30, 31, 32, 33, 34, 35, 36, 37, 38, 39, 40, 41, 42, 43, 44, 45, 46, 47, 48, 49, 50, 51, 52, 53, 54, 55, 56, 57, 58, 59, 60, 61, 62, 63] \n",
      "------\n",
      " [[0, 1, 2, 3, 4, 5, 6, 7], [8, 9, 10, 11, 12, 13, 14, 15], [16, 17, 18, 19, 20, 21, 22, 23], [24, 25, 26, 27, 28, 29, 30, 31], [32, 33, 34, 35, 36, 37, 38, 39], [40, 41, 42, 43, 44, 45, 46, 47], [48, 49, 50, 51, 52, 53, 54, 55], [56, 57, 58, 59, 60, 61, 62, 63]]\n"
     ]
    }
   ],
   "source": [
    "# create a 2D list so that it has the numbers 0-63 in its columns\n",
    "mat = list(range(0,64))\n",
    "def makeMatrix(a,n1,n2):\n",
    "    M = []\n",
    "    count = 0\n",
    "    for row in range(0,n1):\n",
    "        r = []\n",
    "        for col in range(0,n2):\n",
    "            r.append(a[count])  \n",
    "            count += 1\n",
    "        M.append(r)\n",
    "    return M\n",
    "    \n",
    "A = makeMatrix(mat, 8, 8)\n",
    "print(mat, \n",
    "      '\\n------\\n',\n",
    "     A)\n",
    "    \n",
    "    "
   ]
  },
  {
   "cell_type": "code",
   "execution_count": null,
   "metadata": {},
   "outputs": [],
   "source": []
  }
 ],
 "metadata": {
  "kernelspec": {
   "display_name": "Python 3",
   "language": "python",
   "name": "python3"
  },
  "language_info": {
   "codemirror_mode": {
    "name": "ipython",
    "version": 3
   },
   "file_extension": ".py",
   "mimetype": "text/x-python",
   "name": "python",
   "nbconvert_exporter": "python",
   "pygments_lexer": "ipython3",
   "version": "3.8.5"
  }
 },
 "nbformat": 4,
 "nbformat_minor": 4
}
