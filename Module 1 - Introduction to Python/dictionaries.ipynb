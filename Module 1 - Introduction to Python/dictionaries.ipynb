{
 "cells": [
  {
   "cell_type": "markdown",
   "metadata": {
    "deletable": false,
    "editable": false,
    "nbgrader": {
     "cell_type": "markdown",
     "checksum": "233155f7370baa5e8ef304beaaa5c4ac",
     "grade": false,
     "grade_id": "cell-1240ee5d0888dd82",
     "locked": true,
     "schema_version": 3,
     "solution": false
    }
   },
   "source": [
    "# Codio Coding Activity 1.3: *Dictionaries*\n",
    "\n",
    "### Learning Outcome Addressed\n",
    "\n",
    "- 4. Implement Python *lists, tuples, sets*, and *dictionaries* in a coding environment.\n",
    "\n",
    "\n",
    "\n",
    "## Index:\n",
    "\n",
    "- [Question 1](#Question-1)\n",
    "- [Question 2](#Question-2)\n",
    "- [Question 3](#Question-3)\n",
    "- [Question 4](#Question-4)\n",
    "- [Question 5](#Question-5)\n",
    "- [Question 6](#Question-6)\n",
    "- [Question 7](#Question-7)\n",
    "- [Question 8](#Question-8)\n",
    "- [Question 9](#Question-9)\n",
    "- [Question 10](#Question-10)\n",
    "- [Question 11](#Question-11)\n",
    "- [Question 12](#Question-12)"
   ]
  },
  {
   "cell_type": "markdown",
   "metadata": {
    "deletable": false,
    "editable": false,
    "nbgrader": {
     "cell_type": "markdown",
     "checksum": "0702423aef106c3418a3a9ad2836c790",
     "grade": false,
     "grade_id": "cell-1866c8e76c3fad87",
     "locked": true,
     "schema_version": 3,
     "solution": false
    }
   },
   "source": [
    "## Collection Data Types\n",
    "\n",
    "In the previous Codio activity, you practiced your ability to handle and define *lists, tuples*, and *sets*.\n",
    "\n",
    "Here, you will be tested on your coding abilities regarding *dictionaries*.\n",
    "\n",
    "In *`Python`*, *dictionaries* are used to store data values in key: value pairs, and can be defined using curly brackets.\n",
    "\n",
    "### Question 1\n",
    "*1 point*\n",
    "\n",
    "In the code cell below, define a *dictionary* with *keys* *`Name`, `Last Name`*, and *`University`* with corresponding values *`Matthew`, `Smith`*, and *`MIT`*. Assign the *dictionary* to the variable *`ans1a`*. "
   ]
  },
  {
   "cell_type": "code",
   "execution_count": 1,
   "metadata": {
    "deletable": false,
    "nbgrader": {
     "cell_type": "code",
     "checksum": "ffaaa3be29c55c41adf1546c2a0c9c8b",
     "grade": false,
     "grade_id": "cell-a9c9032acc88c5f1",
     "locked": false,
     "schema_version": 3,
     "solution": true
    }
   },
   "outputs": [],
   "source": [
    "### GRADED\n",
    "\n",
    "### YOUR SOLUTION HERE\n",
    "ans1a = None\n",
    "\n",
    "# YOUR CODE HERE\n",
    "ans1a = {'Name':'Matthew', 'Last Name':'Smith', 'University':'MIT'}"
   ]
  },
  {
   "cell_type": "code",
   "execution_count": null,
   "metadata": {
    "deletable": false,
    "editable": false,
    "nbgrader": {
     "cell_type": "code",
     "checksum": "bdf491745e2604f731aad2e5d6c2f2fc",
     "grade": true,
     "grade_id": "cell-afdf561674f42269",
     "locked": true,
     "points": 1,
     "schema_version": 3,
     "solution": false
    }
   },
   "outputs": [],
   "source": []
  },
  {
   "cell_type": "markdown",
   "metadata": {
    "deletable": false,
    "editable": false,
    "nbgrader": {
     "cell_type": "markdown",
     "checksum": "bc87b84e6f138fd17cad85e52a56446c",
     "grade": false,
     "grade_id": "cell-63fc97c423ae750e",
     "locked": true,
     "schema_version": 3,
     "solution": false
    }
   },
   "source": [
    "## Modifying *Dictionaries*\n",
    "\n",
    "*Dictionaries* are mutable. This means that you can change, add, or remove an item.\n",
    "\n",
    "The pseudocode below shows how to change the value corresponding to a certain *key*.\n",
    "\n",
    "```Python\n",
    "my_dict['my_key'] = new_value\n",
    "```\n",
    "\n",
    "### Question 2\n",
    "*1 point*\n",
    "\n",
    "In the code cell below, consider *`ans1a`*, defined in the previous question, and change the value corresponding to the *key* *`Name`* to *`Favio`*."
   ]
  },
  {
   "cell_type": "code",
   "execution_count": 2,
   "metadata": {
    "deletable": false,
    "nbgrader": {
     "cell_type": "code",
     "checksum": "1771f11ebbcd4b08eb12797417500f81",
     "grade": false,
     "grade_id": "cell-db03852f12be9934",
     "locked": false,
     "schema_version": 3,
     "solution": true
    }
   },
   "outputs": [],
   "source": [
    "### GRADED\n",
    "\n",
    "### YOUR SOLUTION HERE\n",
    "\n",
    "# YOUR CODE HERE\n",
    "ans1a['Name']='Favio'"
   ]
  },
  {
   "cell_type": "code",
   "execution_count": null,
   "metadata": {
    "deletable": false,
    "editable": false,
    "nbgrader": {
     "cell_type": "code",
     "checksum": "7f890624ec2236a6ce4727123ec3e4ed",
     "grade": true,
     "grade_id": "cell-d4cf652ef5e84a5a",
     "locked": true,
     "points": 1,
     "schema_version": 3,
     "solution": false
    }
   },
   "outputs": [],
   "source": []
  },
  {
   "cell_type": "markdown",
   "metadata": {
    "deletable": false,
    "editable": false,
    "nbgrader": {
     "cell_type": "markdown",
     "checksum": "e7b88b8ec238381732aece10a2407a78",
     "grade": false,
     "grade_id": "cell-cb3658b8999a79b9",
     "locked": true,
     "schema_version": 3,
     "solution": false
    }
   },
   "source": [
    "You can also  modify the *key* in a *dictionary* by using the *function `pop()`* or by updating the desired *key* by using the assignment *operator* followed by using the keyword *`del`* to delete the old *key*.\n",
    "\n",
    "In the next question, you will practice this by using the *function `pop()`*:\n",
    "\n",
    "```Python\n",
    "my_dict[new_key] = my_dict.pop(old_key)\n",
    "```\n",
    "\n",
    "### Question 3\n",
    "*2 points*\n",
    "\n",
    "In the code cell below, consider *`ans1a`*, defined in Question 1, and change the *key* *`Name`* to *`First Name`*.\n",
    "\n",
    "Assign the new *dictionary* to *`ans3`*."
   ]
  },
  {
   "cell_type": "code",
   "execution_count": 3,
   "metadata": {
    "deletable": false,
    "nbgrader": {
     "cell_type": "code",
     "checksum": "906b93bb34b84ff429902821fb47d645",
     "grade": false,
     "grade_id": "cell-a9bbd51ae679fff3",
     "locked": false,
     "schema_version": 3,
     "solution": true
    }
   },
   "outputs": [],
   "source": [
    "### GRADED\n",
    "\n",
    "### YOUR SOLUTION HERE\n",
    "ans3 = None\n",
    "\n",
    "# YOUR CODE HERE\n",
    "ans1a = {'Name': 'Matthew', 'Last Name': 'Smith', 'University': 'MIT'}\n",
    "ans1a['First Name'] = ans1a.pop('Name')\n",
    "ans3 = ans1a"
   ]
  },
  {
   "cell_type": "code",
   "execution_count": null,
   "metadata": {
    "deletable": false,
    "editable": false,
    "nbgrader": {
     "cell_type": "code",
     "checksum": "53ae6173b46c24bbc82cc6164c6f0cec",
     "grade": true,
     "grade_id": "cell-799325a307bf3fa9",
     "locked": true,
     "points": 2,
     "schema_version": 3,
     "solution": false
    }
   },
   "outputs": [],
   "source": []
  },
  {
   "cell_type": "markdown",
   "metadata": {
    "deletable": false,
    "editable": false,
    "nbgrader": {
     "cell_type": "markdown",
     "checksum": "cc439de4c2747d62479df752168c2945",
     "grade": false,
     "grade_id": "cell-3388c6e68420823e",
     "locked": true,
     "schema_version": 3,
     "solution": false
    }
   },
   "source": [
    "You can add a new item to a *dictionary* by specifying a new *key* with the corresponding value by using the assignment *operator*.\n",
    "\n",
    "### Question 4\n",
    "*1 point*\n",
    "\n",
    "In the code cell below, define a *dictionary* with *keys* *`StudentID`, `Grade`*, and *`Late`* with corresponding values *`123456`, `75`*, and *`False`*. Assign the *dictionary* to the variable *`ans4`*. \n",
    "\n",
    "Add a new item to the *dictionary* with *key* equal to *`Updated Average`* and value `79`.\n",
    "\n"
   ]
  },
  {
   "cell_type": "code",
   "execution_count": 4,
   "metadata": {
    "deletable": false,
    "nbgrader": {
     "cell_type": "code",
     "checksum": "e1aa4d3b7d671fb056889f092ad1e793",
     "grade": false,
     "grade_id": "cell-3138fde8ea1bcbd7",
     "locked": false,
     "schema_version": 3,
     "solution": true
    }
   },
   "outputs": [
    {
     "name": "stdout",
     "output_type": "stream",
     "text": [
      "{'StudentID': 123456, 'Grade': 75, 'Late': False, 'Updated Average': 79}\n"
     ]
    }
   ],
   "source": [
    "### GRADED\n",
    "\n",
    "### YOUR SOLUTION HERE\n",
    "ans4 = None\n",
    "\n",
    "# YOUR CODE HERE\n",
    "ans4 = {'StudentID':123456 , 'Grade':75 , 'Late':False}\n",
    "ans4['Updated Average'] = 79\n",
    "print(ans4)"
   ]
  },
  {
   "cell_type": "code",
   "execution_count": null,
   "metadata": {
    "deletable": false,
    "editable": false,
    "nbgrader": {
     "cell_type": "code",
     "checksum": "90ee563c4f768243114b2e3456336744",
     "grade": true,
     "grade_id": "cell-40f2cb774eac801e",
     "locked": true,
     "points": 1,
     "schema_version": 3,
     "solution": false
    }
   },
   "outputs": [],
   "source": []
  },
  {
   "cell_type": "markdown",
   "metadata": {
    "deletable": false,
    "editable": false,
    "nbgrader": {
     "cell_type": "markdown",
     "checksum": "cd996e4d53933dbe2712a5a52512fa38",
     "grade": false,
     "grade_id": "cell-063f82cb3274e229",
     "locked": true,
     "schema_version": 3,
     "solution": false
    }
   },
   "source": [
    "You can remove an item from a *dictionary* by using the keyword *`del`*.\n",
    "\n",
    "This can also be accomplished using the *function `pop()`*, like this:\n",
    "\n",
    "```Python\n",
    "new_dict = old_dict.pop('key_to_be_deleted')\n",
    "```\n",
    "\n",
    "### Question 5\n",
    "*1 point*\n",
    "\n",
    "Consider again the *dictionary `ans4`* defined in the previous question.\n",
    "\n",
    "Remove the item *`Late`* and assign the new *dictionary* to *`ans5`*.\n",
    "\n",
    "Use your preferred method for this question.\n",
    "\n"
   ]
  },
  {
   "cell_type": "code",
   "execution_count": 5,
   "metadata": {
    "deletable": false,
    "nbgrader": {
     "cell_type": "code",
     "checksum": "93b10aa0cf2c7bda9d391bad5311b47e",
     "grade": false,
     "grade_id": "cell-70cb2f170d29e198",
     "locked": false,
     "schema_version": 3,
     "solution": true
    }
   },
   "outputs": [],
   "source": [
    "### GRADED\n",
    "\n",
    "### YOUR SOLUTION HERE\n",
    "ans5 = None\n",
    "\n",
    "# YOUR CODE HERE\n",
    "del ans4['Late']\n",
    "ans5 = ans4\n"
   ]
  },
  {
   "cell_type": "code",
   "execution_count": null,
   "metadata": {
    "deletable": false,
    "editable": false,
    "nbgrader": {
     "cell_type": "code",
     "checksum": "fc698a6afe28e6ab5877523e9e2e95ce",
     "grade": true,
     "grade_id": "cell-b5fdbb10bbd9ce81",
     "locked": true,
     "points": 1,
     "schema_version": 3,
     "solution": false
    }
   },
   "outputs": [],
   "source": []
  },
  {
   "cell_type": "markdown",
   "metadata": {
    "deletable": false,
    "editable": false,
    "nbgrader": {
     "cell_type": "markdown",
     "checksum": "1e4b4968ddcd435b0d9f4cc1462cd98d",
     "grade": false,
     "grade_id": "cell-6ea1608f4c03758c",
     "locked": true,
     "schema_version": 3,
     "solution": false
    }
   },
   "source": [
    "## Copying a Dictionary\n",
    "\n",
    "You can copy a *dictionary* by using the *function `copy()`*.\n",
    "\n",
    "\n",
    "### Question 6\n",
    "*1 point*\n",
    "\n",
    "Consider again the *dictionary `ans5`* defined in the previous question.\n",
    "\n",
    "Copy the *dictionary* to *`ans6`*."
   ]
  },
  {
   "cell_type": "code",
   "execution_count": 6,
   "metadata": {
    "deletable": false,
    "nbgrader": {
     "cell_type": "code",
     "checksum": "687ecc0b3604f56a52b88a4b566b3c6e",
     "grade": false,
     "grade_id": "cell-b20b098014db02b9",
     "locked": false,
     "schema_version": 3,
     "solution": true
    }
   },
   "outputs": [],
   "source": [
    "### GRADED\n",
    "\n",
    "### YOUR SOLUTION HERE\n",
    "ans6 = None\n",
    "\n",
    "# YOUR CODE HERE\n",
    "ans6 = ans5.copy()"
   ]
  },
  {
   "cell_type": "code",
   "execution_count": null,
   "metadata": {
    "deletable": false,
    "editable": false,
    "nbgrader": {
     "cell_type": "code",
     "checksum": "467e12c5feb868c4a558d8f4f38075e0",
     "grade": true,
     "grade_id": "cell-e13938cb558ade00",
     "locked": true,
     "points": 1,
     "schema_version": 3,
     "solution": false
    }
   },
   "outputs": [],
   "source": []
  },
  {
   "cell_type": "markdown",
   "metadata": {
    "deletable": false,
    "editable": false,
    "nbgrader": {
     "cell_type": "markdown",
     "checksum": "c46da15971aad91c0bc07bd9fd933f4e",
     "grade": false,
     "grade_id": "cell-1f2b8ebd43bee642",
     "locked": true,
     "schema_version": 3,
     "solution": false
    }
   },
   "source": [
    "## Nested *Dictionaries*\n",
    "\n",
    "\n",
    "A *dictionary* can contain other *dictionaries*;  these items are called nested *dictionaries*.\n",
    "\n",
    "\n",
    "### Question 7\n",
    "*2 points*\n",
    "\n",
    "Define a *dictionary* where the first *keys* is equal to *`Flower 1`* and *`Flower 2`*.\n",
    "\n",
    "The value of the first *key* is a *dictionary* with *keys* *`Name`* and *`Sepal length`* and values equal to *`Tulip`* and *`2.7`*, respectively.\n",
    "The value of the second *key* is a *dictionary*  with *keys* *`Name`* and *`Sepal length`* and values equal to *`Lily`* and *`3.2`*, respectively.\n",
    "\n",
    "Copy the *dictionary* to *`ans7`*."
   ]
  },
  {
   "cell_type": "code",
   "execution_count": 7,
   "metadata": {
    "deletable": false,
    "nbgrader": {
     "cell_type": "code",
     "checksum": "0f244f57219e3eadc3f8a926db9e3c12",
     "grade": false,
     "grade_id": "cell-035df193a62fd712",
     "locked": false,
     "schema_version": 3,
     "solution": true
    }
   },
   "outputs": [],
   "source": [
    "### GRADED\n",
    "\n",
    "### YOUR SOLUTION HERE\n",
    "ans7 = None\n",
    "\n",
    "# YOUR CODE HERE\n",
    "flowers = {'Flower 1': {'Name': 'Tulip', 'Sepal length': 2.7},\n",
    "           'Flower 2': {'Name': 'Lily', 'Sepal length': 3.2}          \n",
    "          }\n",
    "ans7 = flowers.copy()"
   ]
  },
  {
   "cell_type": "code",
   "execution_count": null,
   "metadata": {
    "deletable": false,
    "editable": false,
    "nbgrader": {
     "cell_type": "code",
     "checksum": "d9d03393d41195dccfe1adf30f3a448d",
     "grade": true,
     "grade_id": "cell-095ffe70f6054769",
     "locked": true,
     "points": 2,
     "schema_version": 3,
     "solution": false
    }
   },
   "outputs": [],
   "source": []
  },
  {
   "cell_type": "markdown",
   "metadata": {
    "deletable": false,
    "editable": false,
    "nbgrader": {
     "cell_type": "markdown",
     "checksum": "0ce96d7b78421dab252dec68d5c79bce",
     "grade": false,
     "grade_id": "cell-448029ba708dbf97",
     "locked": true,
     "schema_version": 3,
     "solution": false
    }
   },
   "source": [
    "## *Dictionary* Methods\n",
    "\n",
    "*`Python`* has a set of built-in methods that you can use on *dictionaries*.\n",
    "\n",
    "| Method| Action\n",
    "| --- | --- \n",
    "|`clear()`\t|Removes all the elements from the *dictionary*|\n",
    "|`fromkeys()`\t|Returns a *dictionary* with the specified *keys* and values|\n",
    "|`get()`|\tReturns the value of the specified *key*|\n",
    "|`keys()`|\tReturns a *list* containing the *dictionary's keys*|\n",
    "|`popitem()`\t|Removes the last inserted key:value pair|\n",
    "|`update()`|\tUpdates the *dictionary* with the specified key:value pairs|\n",
    "|`values()`\t|Returns a list of all the values in the *dictionary*|\n",
    "\n",
    "Note that a comprehensive list of *dictionaries* methods can be found in section [5.5 *Dictionaries*](https://docs.python.org/3/tutorial/datastructures.html).\n",
    "\n",
    "The next questions are about the use of the methods described in the table above."
   ]
  },
  {
   "cell_type": "markdown",
   "metadata": {
    "deletable": false,
    "editable": false,
    "nbgrader": {
     "cell_type": "markdown",
     "checksum": "cc5120edb0544080779d1f8c0da34e91",
     "grade": false,
     "grade_id": "cell-4660bfca098b5402",
     "locked": true,
     "schema_version": 3,
     "solution": false
    }
   },
   "source": [
    "### Question 8\n",
    "\n",
    "*2 points*\n",
    "\n",
    "Consider a *dictionary* with *keys* *`Name`, `Perennial`*, and *`Sepal width`* equal to *`Rose`, `True`*, and *`1.7`*, respectively. Assign the dictionary to *`ans8a`*.\n",
    "\n",
    "Clear all the elements in the *dictionary* and assign it to *`ans8b`*."
   ]
  },
  {
   "cell_type": "code",
   "execution_count": 8,
   "metadata": {
    "deletable": false,
    "nbgrader": {
     "cell_type": "code",
     "checksum": "224d0e0560c3ec49b9820e47c643aac6",
     "grade": false,
     "grade_id": "cell-d6f16e205b6e3abf",
     "locked": false,
     "schema_version": 3,
     "solution": true
    }
   },
   "outputs": [
    {
     "name": "stdout",
     "output_type": "stream",
     "text": [
      "None\n"
     ]
    }
   ],
   "source": [
    "### GRADED\n",
    "\n",
    "### YOUR SOLUTION HERE\n",
    "ans8a = None\n",
    "ans8b = None\n",
    "\n",
    "# YOUR CODE HERE\n",
    "ans8a = {'Name':'Rose', 'Perennial':True, 'Sepal width':1.7}\n",
    "ans8b = ans8a.clear()\n",
    "print(ans8b)"
   ]
  },
  {
   "cell_type": "code",
   "execution_count": null,
   "metadata": {
    "deletable": false,
    "editable": false,
    "nbgrader": {
     "cell_type": "code",
     "checksum": "cfc96e16043fa037be65fc0b999b8290",
     "grade": true,
     "grade_id": "cell-18784618133fb0db",
     "locked": true,
     "points": 2,
     "schema_version": 3,
     "solution": false
    }
   },
   "outputs": [],
   "source": []
  },
  {
   "cell_type": "markdown",
   "metadata": {
    "deletable": false,
    "editable": false,
    "nbgrader": {
     "cell_type": "markdown",
     "checksum": "d6979a0c24a497c82cd591276fe283b0",
     "grade": false,
     "grade_id": "cell-1a2109871e113374",
     "locked": true,
     "schema_version": 3,
     "solution": false
    }
   },
   "source": [
    "### Question 9\n",
    "\n",
    "*2 points*\n",
    "\n",
    "Consider a *dictionary* with *keys* *`Name`, `Perennial`*, and *`Sepal width`* equal to *`Geranium`, `False`*, and *`.5`*, respectively. Assign it to *`ans9a`*.\n",
    "\n",
    "Assign the value in the *key* *`Name`* to  *`ans9b`*."
   ]
  },
  {
   "cell_type": "code",
   "execution_count": 9,
   "metadata": {
    "deletable": false,
    "nbgrader": {
     "cell_type": "code",
     "checksum": "5c09fdb9f79347972da8861b98059ede",
     "grade": false,
     "grade_id": "cell-7fe2e039abb86e9c",
     "locked": false,
     "schema_version": 3,
     "solution": true
    }
   },
   "outputs": [],
   "source": [
    "### GRADED\n",
    "\n",
    "### YOUR SOLUTION HERE\n",
    "ans9a = None\n",
    "ans9b = None\n",
    "\n",
    "# YOUR CODE HERE\n",
    "ans9a = {'Name':'Geranium', 'Perennial':False, 'Sepal width':0.5}\n",
    "ans9b = ans9a['Name']"
   ]
  },
  {
   "cell_type": "code",
   "execution_count": null,
   "metadata": {
    "deletable": false,
    "editable": false,
    "nbgrader": {
     "cell_type": "code",
     "checksum": "3877b2dd6f8abd2d729b7d6d187c2347",
     "grade": true,
     "grade_id": "cell-07c7de3c5e3f9272",
     "locked": true,
     "points": 2,
     "schema_version": 3,
     "solution": false
    }
   },
   "outputs": [],
   "source": []
  },
  {
   "cell_type": "markdown",
   "metadata": {
    "deletable": false,
    "editable": false,
    "nbgrader": {
     "cell_type": "markdown",
     "checksum": "d5952fcb126bf0fd8e33d32a143aa34d",
     "grade": false,
     "grade_id": "cell-b558b322acc2f32e",
     "locked": true,
     "schema_version": 3,
     "solution": false
    }
   },
   "source": [
    "### Question 10\n",
    "\n",
    "*3 points*\n",
    "\n",
    "Consider a *dictionary* with *keys* *`Name`, `Perennial`*, and *`Height`* equal to *`Apricot Tree`, `True`*, respectively and *`8`*. Assign the *dictionary* to *`ans10a`*.\n",
    "\n",
    "Assign the value of the *keys* in *`ans10a`* to  *`ans10b`*. What is the type of *`ans10b`*? Assign your answer as a *string* to *`ans10c`*."
   ]
  },
  {
   "cell_type": "code",
   "execution_count": 10,
   "metadata": {
    "deletable": false,
    "nbgrader": {
     "cell_type": "code",
     "checksum": "21571327f1d5a6586be891de0654eba0",
     "grade": false,
     "grade_id": "cell-c54f181663646f7a",
     "locked": false,
     "schema_version": 3,
     "solution": true
    }
   },
   "outputs": [],
   "source": [
    "### GRADED\n",
    "\n",
    "### YOUR SOLUTION HERE\n",
    "ans10a = None\n",
    "ans10b = None\n",
    "ans10c = None\n",
    "\n",
    "# YOUR CODE HERE\n",
    "ans10a = {'Name':'Apricot Tree', 'Perennial':True, 'Height':8}\n",
    "ans10b = ans10a.keys()\n",
    "ans10c = str(type(ans10b))\n"
   ]
  },
  {
   "cell_type": "code",
   "execution_count": null,
   "metadata": {
    "deletable": false,
    "editable": false,
    "nbgrader": {
     "cell_type": "code",
     "checksum": "8ed81a269d4b9acdc06cf075cebef158",
     "grade": true,
     "grade_id": "cell-231ad95c81490024",
     "locked": true,
     "points": 3,
     "schema_version": 3,
     "solution": false
    }
   },
   "outputs": [],
   "source": []
  },
  {
   "cell_type": "markdown",
   "metadata": {
    "deletable": false,
    "editable": false,
    "nbgrader": {
     "cell_type": "markdown",
     "checksum": "3d9f397d6caa8f9c9430f8b7f8deb2b6",
     "grade": false,
     "grade_id": "cell-d3c0e7d67d86c963",
     "locked": true,
     "schema_version": 3,
     "solution": false
    }
   },
   "source": [
    "### Question 11\n",
    "\n",
    "*2 points*\n",
    "\n",
    "Consider a *dictionary* with *keys* *`1`* and *`2`* and corresponding  values *`one`* and *`three`*. Assign it to *`ans11a`*.\n",
    "\n",
    "Define a pair *`2: two`* and assign this new pair to *`ans11b`*.\n",
    "\n",
    "Update *`ans11a`* with *`ans11b`*.\n",
    "\n"
   ]
  },
  {
   "cell_type": "code",
   "execution_count": 11,
   "metadata": {
    "deletable": false,
    "nbgrader": {
     "cell_type": "code",
     "checksum": "44f948330f7fb6994a7ca83bc2c3f43e",
     "grade": false,
     "grade_id": "cell-747e735933f7d1ec",
     "locked": false,
     "schema_version": 3,
     "solution": true
    }
   },
   "outputs": [],
   "source": [
    "### GRADED\n",
    "\n",
    "### YOUR SOLUTION HERE\n",
    "ans11a = None\n",
    "ans11b = None\n",
    "\n",
    "# YOUR CODE HERE\n",
    "ans11a = {1:'one', 2:'three'}\n",
    "ans11b = {2:'two'}\n",
    "ans11a.update(ans11b)"
   ]
  },
  {
   "cell_type": "code",
   "execution_count": null,
   "metadata": {
    "deletable": false,
    "editable": false,
    "nbgrader": {
     "cell_type": "code",
     "checksum": "0022ec4588b75426c17aa790ca1bffff",
     "grade": true,
     "grade_id": "cell-335e4972d74376e3",
     "locked": true,
     "points": 2,
     "schema_version": 3,
     "solution": false
    }
   },
   "outputs": [],
   "source": []
  },
  {
   "cell_type": "markdown",
   "metadata": {
    "deletable": false,
    "editable": false,
    "nbgrader": {
     "cell_type": "markdown",
     "checksum": "9f07edb01f4a719588a637c7d7b80762",
     "grade": false,
     "grade_id": "cell-5eebe4b0eda77eb4",
     "locked": true,
     "schema_version": 3,
     "solution": false
    }
   },
   "source": [
    "### Question 12\n",
    "\n",
    "*2 points*\n",
    "\n",
    "Consider a *dictionary* with *keys* *`1`* and *`2`* and corresponding  values *`one`* and *`two`*. Assign the *dictionary* to *`ans12a`*.\n",
    "\n",
    "Assign the values in *`ans12a`* to *`ans12b`*. For this step, use the *function `values()`*."
   ]
  },
  {
   "cell_type": "code",
   "execution_count": 12,
   "metadata": {
    "deletable": false,
    "nbgrader": {
     "cell_type": "code",
     "checksum": "0be91a62c7e7809c92011b0568037d0d",
     "grade": false,
     "grade_id": "cell-019003938e99a1c7",
     "locked": false,
     "schema_version": 3,
     "solution": true
    }
   },
   "outputs": [],
   "source": [
    "### GRADED\n",
    "\n",
    "### YOUR SOLUTION HERE\n",
    "ans12a = None\n",
    "ans12b = None\n",
    "\n",
    "# YOUR CODE HERE\n",
    "ans12a = {1:'one', 2:'two'}\n",
    "ans12b = ans12a.values()"
   ]
  },
  {
   "cell_type": "code",
   "execution_count": null,
   "metadata": {
    "deletable": false,
    "editable": false,
    "nbgrader": {
     "cell_type": "code",
     "checksum": "63fc86dcb45e191efba75a6f7ac90474",
     "grade": true,
     "grade_id": "cell-16c2bd1d6802ea05",
     "locked": true,
     "points": 2,
     "schema_version": 3,
     "solution": false
    }
   },
   "outputs": [],
   "source": []
  },
  {
   "cell_type": "code",
   "execution_count": null,
   "metadata": {},
   "outputs": [],
   "source": []
  }
 ],
 "metadata": {
  "kernelspec": {
   "display_name": "Python 3",
   "language": "python",
   "name": "python3"
  },
  "language_info": {
   "codemirror_mode": {
    "name": "ipython",
    "version": 3
   },
   "file_extension": ".py",
   "mimetype": "text/x-python",
   "name": "python",
   "nbconvert_exporter": "python",
   "pygments_lexer": "ipython3",
   "version": "3.6.9"
  }
 },
 "nbformat": 4,
 "nbformat_minor": 4
}
